{
 "cells": [
  {
   "cell_type": "code",
   "execution_count": 5,
   "metadata": {},
   "outputs": [
    {
     "name": "stdout",
     "output_type": "stream",
     "text": [
      "Collecting pandas\n",
      "\u001b[?25l  Downloading https://files.pythonhosted.org/packages/fc/43/fd867e3347559845c8f993059d410c50a1e18709f1c4d4b3b47323a06a37/pandas-0.24.2-cp37-cp37m-macosx_10_6_intel.macosx_10_9_intel.macosx_10_9_x86_64.macosx_10_10_intel.macosx_10_10_x86_64.whl (15.9MB)\n",
      "\u001b[K    100% |████████████████████████████████| 15.9MB 2.1MB/s ta 0:00:011\n",
      "\u001b[?25hCollecting pytz>=2011k (from pandas)\n",
      "\u001b[?25l  Downloading https://files.pythonhosted.org/packages/61/28/1d3920e4d1d50b19bc5d24398a7cd85cc7b9a75a490570d5a30c57622d34/pytz-2018.9-py2.py3-none-any.whl (510kB)\n",
      "\u001b[K    100% |████████████████████████████████| 512kB 11.1MB/s ta 0:00:01\n",
      "\u001b[?25hRequirement already satisfied: numpy>=1.12.0 in /Library/Frameworks/Python.framework/Versions/3.7/lib/python3.7/site-packages (from pandas) (1.16.2)\n",
      "Requirement already satisfied: python-dateutil>=2.5.0 in /Library/Frameworks/Python.framework/Versions/3.7/lib/python3.7/site-packages (from pandas) (2.8.0)\n",
      "Requirement already satisfied: six>=1.5 in /Library/Frameworks/Python.framework/Versions/3.7/lib/python3.7/site-packages (from python-dateutil>=2.5.0->pandas) (1.12.0)\n",
      "Installing collected packages: pytz, pandas\n",
      "Successfully installed pandas-0.24.2 pytz-2018.9\n",
      "Note: you may need to restart the kernel to use updated packages.\n"
     ]
    }
   ],
   "source": [
    "#pip install pandas\n",
    "#pip install geopy"
   ]
  },
  {
   "cell_type": "code",
   "execution_count": 6,
   "metadata": {},
   "outputs": [],
   "source": [
    "import pandas as pd\n",
    "import geopy\n",
    "from geopy import distance"
   ]
  },
  {
   "cell_type": "code",
   "execution_count": 4,
   "metadata": {},
   "outputs": [],
   "source": [
    "art = pd.read_csv(\"art_gallery - art_gallery.csv\")"
   ]
  },
  {
   "cell_type": "code",
   "execution_count": 5,
   "metadata": {
    "scrolled": true
   },
   "outputs": [
    {
     "data": {
      "text/html": [
       "<div>\n",
       "<style scoped>\n",
       "    .dataframe tbody tr th:only-of-type {\n",
       "        vertical-align: middle;\n",
       "    }\n",
       "\n",
       "    .dataframe tbody tr th {\n",
       "        vertical-align: top;\n",
       "    }\n",
       "\n",
       "    .dataframe thead th {\n",
       "        text-align: right;\n",
       "    }\n",
       "</style>\n",
       "<table border=\"1\" class=\"dataframe\">\n",
       "  <thead>\n",
       "    <tr style=\"text-align: right;\">\n",
       "      <th></th>\n",
       "      <th>Unnamed: 0</th>\n",
       "      <th>Theme</th>\n",
       "      <th>Sub Theme</th>\n",
       "      <th>Feature Name</th>\n",
       "      <th>Latitude</th>\n",
       "      <th>Longitude</th>\n",
       "    </tr>\n",
       "  </thead>\n",
       "  <tbody>\n",
       "    <tr>\n",
       "      <th>0</th>\n",
       "      <td>0</td>\n",
       "      <td>Place Of Assembly</td>\n",
       "      <td>Art Gallery/Museum</td>\n",
       "      <td>Old Melbourne Gaol Crime &amp; Justice Experience</td>\n",
       "      <td>-37.807764</td>\n",
       "      <td>144.965464</td>\n",
       "    </tr>\n",
       "    <tr>\n",
       "      <th>1</th>\n",
       "      <td>1</td>\n",
       "      <td>Place Of Assembly</td>\n",
       "      <td>Art Gallery/Museum</td>\n",
       "      <td>Polly Woodside</td>\n",
       "      <td>-37.824257</td>\n",
       "      <td>144.953478</td>\n",
       "    </tr>\n",
       "    <tr>\n",
       "      <th>2</th>\n",
       "      <td>2</td>\n",
       "      <td>Place Of Assembly</td>\n",
       "      <td>Art Gallery/Museum</td>\n",
       "      <td>Australian Centre for Contemporary Art</td>\n",
       "      <td>-37.826605</td>\n",
       "      <td>144.967253</td>\n",
       "    </tr>\n",
       "    <tr>\n",
       "      <th>3</th>\n",
       "      <td>3</td>\n",
       "      <td>Place Of Assembly</td>\n",
       "      <td>Art Gallery/Museum</td>\n",
       "      <td>Victorian Arts Centre</td>\n",
       "      <td>-37.821995</td>\n",
       "      <td>144.968837</td>\n",
       "    </tr>\n",
       "    <tr>\n",
       "      <th>4</th>\n",
       "      <td>4</td>\n",
       "      <td>Place Of Assembly</td>\n",
       "      <td>Art Gallery/Museum</td>\n",
       "      <td>The Ian Potter Centre: NGV Australia</td>\n",
       "      <td>-37.817483</td>\n",
       "      <td>144.969899</td>\n",
       "    </tr>\n",
       "  </tbody>\n",
       "</table>\n",
       "</div>"
      ],
      "text/plain": [
       "   Unnamed: 0              Theme           Sub Theme  \\\n",
       "0           0  Place Of Assembly  Art Gallery/Museum   \n",
       "1           1  Place Of Assembly  Art Gallery/Museum   \n",
       "2           2  Place Of Assembly  Art Gallery/Museum   \n",
       "3           3  Place Of Assembly  Art Gallery/Museum   \n",
       "4           4  Place Of Assembly  Art Gallery/Museum   \n",
       "\n",
       "                                    Feature Name   Latitude   Longitude  \n",
       "0  Old Melbourne Gaol Crime & Justice Experience -37.807764  144.965464  \n",
       "1                                 Polly Woodside -37.824257  144.953478  \n",
       "2         Australian Centre for Contemporary Art -37.826605  144.967253  \n",
       "3                          Victorian Arts Centre -37.821995  144.968837  \n",
       "4           The Ian Potter Centre: NGV Australia -37.817483  144.969899  "
      ]
     },
     "execution_count": 5,
     "metadata": {},
     "output_type": "execute_result"
    }
   ],
   "source": [
    "art.head()"
   ]
  },
  {
   "cell_type": "code",
   "execution_count": 7,
   "metadata": {},
   "outputs": [
    {
     "name": "stdout",
     "output_type": "stream",
     "text": [
      "Out\n"
     ]
    }
   ],
   "source": [
    "coords_1 = (art[\"Latitude\"][0], art[\"Longitude\"][0])\n",
    "coords_2 = (art[\"Latitude\"][1], art[\"Longitude\"][1])\n",
    "radius = 1\n",
    "dist = geopy.distance.distance(coords_1, coords_2).km\n",
    "if dist <= radius:\n",
    "    print(\"In\")\n",
    "else: \n",
    "    print(\"Out\")"
   ]
  },
  {
   "cell_type": "code",
   "execution_count": null,
   "metadata": {},
   "outputs": [],
   "source": []
  },
  {
   "cell_type": "code",
   "execution_count": null,
   "metadata": {},
   "outputs": [],
   "source": []
  },
  {
   "cell_type": "code",
   "execution_count": 8,
   "metadata": {},
   "outputs": [],
   "source": [
    "def within(df, target, radius, g):\n",
    "    \n",
    "    temp = []\n",
    "    \n",
    "    for x in range(len(target)):\n",
    "        try:\n",
    "            coords_1 = (df[\"Latitude\"][g], df[\"Longitude\"][g])\n",
    "            coords_2 = (target[\"Latitude\"][x], target[\"Longitude\"][x])\n",
    "            dist = geopy.distance.distance(coords_1, coords_2).km\n",
    "\n",
    "            if dist <= radius:\n",
    "                temp.append(target.iloc[x])\n",
    "        except:\n",
    "            pass\n",
    "    return temp"
   ]
  },
  {
   "cell_type": "markdown",
   "metadata": {},
   "source": [
    "## For Cafe & Restaurants"
   ]
  },
  {
   "cell_type": "code",
   "execution_count": 10,
   "metadata": {},
   "outputs": [],
   "source": [
    "df1 = pd.read_csv(\"cafe_restaurant.csv\")"
   ]
  },
  {
   "cell_type": "code",
   "execution_count": 159,
   "metadata": {
    "scrolled": true
   },
   "outputs": [
    {
     "name": "stdout",
     "output_type": "stream",
     "text": [
      "Number of Seats: 9343\n",
      "Number of cafe_restaurants: 126\n"
     ]
    }
   ],
   "source": [
    "filtered_df = pd.DataFrame(within(art, df1, 0.2, 18))\n",
    "print(\"Number of Seats:\" ,df1[\"Number of seats\"].sum())\n",
    "print(\"Number of cafe_restaurants:\", len(df1))"
   ]
  },
  {
   "cell_type": "markdown",
   "metadata": {},
   "source": [
    "## For Business"
   ]
  },
  {
   "cell_type": "code",
   "execution_count": 11,
   "metadata": {},
   "outputs": [],
   "source": [
    "df2 = pd.read_csv(\"em_emp.csv\")"
   ]
  },
  {
   "cell_type": "code",
   "execution_count": 213,
   "metadata": {},
   "outputs": [
    {
     "data": {
      "text/html": [
       "<div>\n",
       "<style scoped>\n",
       "    .dataframe tbody tr th:only-of-type {\n",
       "        vertical-align: middle;\n",
       "    }\n",
       "\n",
       "    .dataframe tbody tr th {\n",
       "        vertical-align: top;\n",
       "    }\n",
       "\n",
       "    .dataframe thead th {\n",
       "        text-align: right;\n",
       "    }\n",
       "</style>\n",
       "<table border=\"1\" class=\"dataframe\">\n",
       "  <thead>\n",
       "    <tr style=\"text-align: right;\">\n",
       "      <th></th>\n",
       "      <th>Unnamed: 0</th>\n",
       "      <th>Block ID</th>\n",
       "      <th>Industry (ANZSIC4) description</th>\n",
       "      <th>Longitude</th>\n",
       "      <th>Latitude</th>\n",
       "      <th>Total employment in block</th>\n",
       "    </tr>\n",
       "  </thead>\n",
       "  <tbody>\n",
       "    <tr>\n",
       "      <th>0</th>\n",
       "      <td>0</td>\n",
       "      <td>31</td>\n",
       "      <td>Health and Fitness Centres and Gymnasia Operation</td>\n",
       "      <td>144.956218</td>\n",
       "      <td>-37.818138</td>\n",
       "      <td>2058.0</td>\n",
       "    </tr>\n",
       "    <tr>\n",
       "      <th>1</th>\n",
       "      <td>1</td>\n",
       "      <td>31</td>\n",
       "      <td>Banking</td>\n",
       "      <td>144.955924</td>\n",
       "      <td>-37.817735</td>\n",
       "      <td>2058.0</td>\n",
       "    </tr>\n",
       "    <tr>\n",
       "      <th>2</th>\n",
       "      <td>2</td>\n",
       "      <td>31</td>\n",
       "      <td>Other Auxiliary Finance and Investment Services</td>\n",
       "      <td>144.955924</td>\n",
       "      <td>-37.817735</td>\n",
       "      <td>2058.0</td>\n",
       "    </tr>\n",
       "    <tr>\n",
       "      <th>3</th>\n",
       "      <td>3</td>\n",
       "      <td>31</td>\n",
       "      <td>Aluminium Smelting</td>\n",
       "      <td>144.955924</td>\n",
       "      <td>-37.817735</td>\n",
       "      <td>2058.0</td>\n",
       "    </tr>\n",
       "    <tr>\n",
       "      <th>4</th>\n",
       "      <td>4</td>\n",
       "      <td>31</td>\n",
       "      <td>Engineering Design and Engineering Consulting ...</td>\n",
       "      <td>144.955924</td>\n",
       "      <td>-37.817735</td>\n",
       "      <td>2058.0</td>\n",
       "    </tr>\n",
       "  </tbody>\n",
       "</table>\n",
       "</div>"
      ],
      "text/plain": [
       "   Unnamed: 0  Block ID                     Industry (ANZSIC4) description  \\\n",
       "0           0        31  Health and Fitness Centres and Gymnasia Operation   \n",
       "1           1        31                                            Banking   \n",
       "2           2        31    Other Auxiliary Finance and Investment Services   \n",
       "3           3        31                                 Aluminium Smelting   \n",
       "4           4        31  Engineering Design and Engineering Consulting ...   \n",
       "\n",
       "    Longitude   Latitude  Total employment in block  \n",
       "0  144.956218 -37.818138                     2058.0  \n",
       "1  144.955924 -37.817735                     2058.0  \n",
       "2  144.955924 -37.817735                     2058.0  \n",
       "3  144.955924 -37.817735                     2058.0  \n",
       "4  144.955924 -37.817735                     2058.0  "
      ]
     },
     "execution_count": 213,
     "metadata": {},
     "output_type": "execute_result"
    }
   ],
   "source": [
    "df2 = df2[pd.notnull(df2['Total employment in block'])]\n",
    "df2 = df2.rename(columns={'x coordinate': 'Longitude', 'y coordinate': 'Latitude'})\n",
    "df2.head()"
   ]
  },
  {
   "cell_type": "code",
   "execution_count": 22,
   "metadata": {
    "scrolled": true
   },
   "outputs": [
    {
     "name": "stdout",
     "output_type": "stream",
     "text": [
      "Number of employment: 998.7717948717949\n",
      "Block: [ 267  252   87   96   83  258  260   97   62 1110  219  213  606  420\n",
      "  519]\n",
      "Block num: 15\n",
      "Number of employment: 2500.4183070866143\n",
      "Block: [ 21  94 804  48 787  73]\n",
      "Block num: 6\n",
      "Number of employment: 506.47966101694914\n",
      "Block: [ 746  744  738  745  806  612  617 2385]\n",
      "Block num: 8\n",
      "Number of employment: 5309.390163934426\n",
      "Block: [ 812  802  801 1101]\n",
      "Block num: 4\n",
      "Number of employment: 2027.9338262476895\n",
      "Block: [ 17  16 214 270 804]\n",
      "Block num: 5\n",
      "Number of employment: 4131.0\n",
      "Block: [804]\n",
      "Block num: 1\n",
      "Number of employment: 1977.4217877094973\n",
      "Block: [1107  370 1108  740 1014  331  773  107  782  786  502]\n",
      "Block num: 11\n",
      "Number of employment: 5372.432989690722\n",
      "Block: [ 42 570]\n",
      "Block num: 2\n",
      "Number of employment: 4131.0\n",
      "Block: [804]\n",
      "Block num: 1\n",
      "Number of employment: 1494.0\n",
      "Block: [57]\n",
      "Block num: 1\n",
      "Number of employment: 2916.3698175787727\n",
      "Block: [ 21  94 787  73]\n",
      "Block num: 4\n",
      "Number of employment: 3261.303548910106\n",
      "Block: [ 22  23  12 230  13 234   4   5  54]\n",
      "Block num: 9\n",
      "Number of employment: 3281.0022744503412\n",
      "Block: [644  77  88  38  57]\n",
      "Block num: 5\n",
      "Number of employment: 1771.113074204947\n",
      "Block: [ 206   53   63  646  809  560 2387]\n",
      "Block num: 7\n",
      "Number of employment: 3099.826536643026\n",
      "Block: [  61   64   71 2547  559   82   86   87   62  649  651   77   72   84\n",
      " 1104  265 1105  652  107]\n",
      "Block num: 19\n",
      "Number of employment: 1494.0\n",
      "Block: [57]\n",
      "Block num: 1\n",
      "Number of employment: 5918.0\n",
      "Block: [42]\n",
      "Block num: 1\n",
      "Number of employment: 1861.4934948407358\n",
      "Block: [ 17  16 214  15 212 104 720 270 804]\n",
      "Block num: 9\n",
      "Number of employment: 2421.5776923076924\n",
      "Block: [  66   74   87   96   77   18   58  429  752  801   67  263 2524   78\n",
      "  203  215   53   52   57  507  327  504  781]\n",
      "Block num: 23\n"
     ]
    }
   ],
   "source": [
    "for i in range(len(art)):\n",
    "    df2 = pd.read_csv(\"em_emp.csv\")\n",
    "    df2 = df2[pd.notnull(df2['Total employment in block'])]\n",
    "    df2 = df2.rename(columns={'x coordinate': 'Longitude', 'y coordinate': 'Latitude'})\n",
    "    data = df2\n",
    "    \n",
    "    try:\n",
    "        filtered = pd.DataFrame(within(art, data, 0.2, i))\n",
    "        print(\"Number of employment:\" ,filtered[\"Total employment in block\"].mean())\n",
    "        print(\"Block:\", filtered[\"Block ID\"].unique())\n",
    "        print(\"Block num:\", len(filtered[\"Block ID\"].unique()))\n",
    "    except:\n",
    "        print(\"Error for:\", i)"
   ]
  },
  {
   "cell_type": "markdown",
   "metadata": {},
   "source": [
    "## Pubs"
   ]
  },
  {
   "cell_type": "code",
   "execution_count": 23,
   "metadata": {},
   "outputs": [],
   "source": [
    "df3 = pd.read_csv(\"pubs.csv\")"
   ]
  },
  {
   "cell_type": "code",
   "execution_count": 24,
   "metadata": {},
   "outputs": [
    {
     "data": {
      "text/html": [
       "<div>\n",
       "<style scoped>\n",
       "    .dataframe tbody tr th:only-of-type {\n",
       "        vertical-align: middle;\n",
       "    }\n",
       "\n",
       "    .dataframe tbody tr th {\n",
       "        vertical-align: top;\n",
       "    }\n",
       "\n",
       "    .dataframe thead th {\n",
       "        text-align: right;\n",
       "    }\n",
       "</style>\n",
       "<table border=\"1\" class=\"dataframe\">\n",
       "  <thead>\n",
       "    <tr style=\"text-align: right;\">\n",
       "      <th></th>\n",
       "      <th>Unnamed: 0</th>\n",
       "      <th>Census year</th>\n",
       "      <th>Block ID</th>\n",
       "      <th>Property ID</th>\n",
       "      <th>Base property ID</th>\n",
       "      <th>Street address</th>\n",
       "      <th>CLUE small area</th>\n",
       "      <th>Trading name</th>\n",
       "      <th>Industry (ANZSIC4) code</th>\n",
       "      <th>Industry (ANZSIC4) description</th>\n",
       "      <th>Seating type</th>\n",
       "      <th>Number of seats</th>\n",
       "      <th>Latitude</th>\n",
       "      <th>Longitude</th>\n",
       "    </tr>\n",
       "  </thead>\n",
       "  <tbody>\n",
       "    <tr>\n",
       "      <th>0</th>\n",
       "      <td>0</td>\n",
       "      <td>2015</td>\n",
       "      <td>242</td>\n",
       "      <td>104461</td>\n",
       "      <td>104461</td>\n",
       "      <td>191-197 Grattan Street</td>\n",
       "      <td>Carlton</td>\n",
       "      <td>Prince Alfred Hotel</td>\n",
       "      <td>4520</td>\n",
       "      <td>Pubs, Taverns and Bars</td>\n",
       "      <td>Seats - Indoor</td>\n",
       "      <td>40</td>\n",
       "      <td>-37.800458</td>\n",
       "      <td>144.962209</td>\n",
       "    </tr>\n",
       "    <tr>\n",
       "      <th>1</th>\n",
       "      <td>1</td>\n",
       "      <td>2015</td>\n",
       "      <td>242</td>\n",
       "      <td>104461</td>\n",
       "      <td>104461</td>\n",
       "      <td>191-197 Grattan Street</td>\n",
       "      <td>Carlton</td>\n",
       "      <td>Prince Alfred Hotel</td>\n",
       "      <td>4520</td>\n",
       "      <td>Pubs, Taverns and Bars</td>\n",
       "      <td>Seats - Outdoor</td>\n",
       "      <td>30</td>\n",
       "      <td>-37.800458</td>\n",
       "      <td>144.962209</td>\n",
       "    </tr>\n",
       "    <tr>\n",
       "      <th>2</th>\n",
       "      <td>2</td>\n",
       "      <td>2015</td>\n",
       "      <td>257</td>\n",
       "      <td>105516</td>\n",
       "      <td>105516</td>\n",
       "      <td>154-160 Leicester Street</td>\n",
       "      <td>Carlton</td>\n",
       "      <td>The Corkman Irish Pub</td>\n",
       "      <td>4520</td>\n",
       "      <td>Pubs, Taverns and Bars</td>\n",
       "      <td>Seats - Indoor</td>\n",
       "      <td>150</td>\n",
       "      <td>-37.802432</td>\n",
       "      <td>144.960916</td>\n",
       "    </tr>\n",
       "    <tr>\n",
       "      <th>3</th>\n",
       "      <td>3</td>\n",
       "      <td>2015</td>\n",
       "      <td>257</td>\n",
       "      <td>105516</td>\n",
       "      <td>105516</td>\n",
       "      <td>154-160 Leicester Street</td>\n",
       "      <td>Carlton</td>\n",
       "      <td>The Corkman Irish Pub</td>\n",
       "      <td>4520</td>\n",
       "      <td>Pubs, Taverns and Bars</td>\n",
       "      <td>Seats - Outdoor</td>\n",
       "      <td>10</td>\n",
       "      <td>-37.802432</td>\n",
       "      <td>144.960916</td>\n",
       "    </tr>\n",
       "    <tr>\n",
       "      <th>4</th>\n",
       "      <td>4</td>\n",
       "      <td>2015</td>\n",
       "      <td>266</td>\n",
       "      <td>106081</td>\n",
       "      <td>106081</td>\n",
       "      <td>27-31 Lygon Street</td>\n",
       "      <td>Carlton</td>\n",
       "      <td>John Curtin Hotel</td>\n",
       "      <td>4520</td>\n",
       "      <td>Pubs, Taverns and Bars</td>\n",
       "      <td>Seats - Indoor</td>\n",
       "      <td>71</td>\n",
       "      <td>-37.806199</td>\n",
       "      <td>144.965699</td>\n",
       "    </tr>\n",
       "  </tbody>\n",
       "</table>\n",
       "</div>"
      ],
      "text/plain": [
       "   Unnamed: 0  Census year  Block ID  Property ID  Base property ID  \\\n",
       "0           0         2015       242       104461            104461   \n",
       "1           1         2015       242       104461            104461   \n",
       "2           2         2015       257       105516            105516   \n",
       "3           3         2015       257       105516            105516   \n",
       "4           4         2015       266       106081            106081   \n",
       "\n",
       "             Street address CLUE small area           Trading name  \\\n",
       "0    191-197 Grattan Street         Carlton    Prince Alfred Hotel   \n",
       "1    191-197 Grattan Street         Carlton    Prince Alfred Hotel   \n",
       "2  154-160 Leicester Street         Carlton  The Corkman Irish Pub   \n",
       "3  154-160 Leicester Street         Carlton  The Corkman Irish Pub   \n",
       "4        27-31 Lygon Street         Carlton      John Curtin Hotel   \n",
       "\n",
       "   Industry (ANZSIC4) code Industry (ANZSIC4) description     Seating type  \\\n",
       "0                     4520         Pubs, Taverns and Bars   Seats - Indoor   \n",
       "1                     4520         Pubs, Taverns and Bars  Seats - Outdoor   \n",
       "2                     4520         Pubs, Taverns and Bars   Seats - Indoor   \n",
       "3                     4520         Pubs, Taverns and Bars  Seats - Outdoor   \n",
       "4                     4520         Pubs, Taverns and Bars   Seats - Indoor   \n",
       "\n",
       "   Number of seats   Latitude   Longitude  \n",
       "0               40 -37.800458  144.962209  \n",
       "1               30 -37.800458  144.962209  \n",
       "2              150 -37.802432  144.960916  \n",
       "3               10 -37.802432  144.960916  \n",
       "4               71 -37.806199  144.965699  "
      ]
     },
     "execution_count": 24,
     "metadata": {},
     "output_type": "execute_result"
    }
   ],
   "source": [
    "df3.head()"
   ]
  },
  {
   "cell_type": "code",
   "execution_count": 47,
   "metadata": {
    "scrolled": false
   },
   "outputs": [
    {
     "name": "stdout",
     "output_type": "stream",
     "text": [
      "Gallery  0  has: Number of employment: 2442\n",
      "Gallery  0  has: Block num: 14\n",
      "Gallery  1  has: Number of employment: 843\n",
      "Gallery  1  has: Block num: 3\n",
      "No Seats For: 2\n",
      "Gallery  3  has: Number of employment: 1083\n",
      "Gallery  3  has: Block num: 4\n",
      "Gallery  4  has: Number of employment: 2654\n",
      "Gallery  4  has: Block num: 11\n",
      "Gallery  5  has: Number of employment: 50\n",
      "Gallery  5  has: Block num: 1\n",
      "Gallery  6  has: Number of employment: 1225\n",
      "Gallery  6  has: Block num: 4\n",
      "Gallery  7  has: Number of employment: 173\n",
      "Gallery  7  has: Block num: 3\n",
      "Gallery  8  has: Number of employment: 50\n",
      "Gallery  8  has: Block num: 1\n",
      "No Seats For: 9\n",
      "Gallery  10  has: Number of employment: 1093\n",
      "Gallery  10  has: Block num: 4\n",
      "Gallery  11  has: Number of employment: 2052\n",
      "Gallery  11  has: Block num: 11\n",
      "Gallery  12  has: Number of employment: 1065\n",
      "Gallery  12  has: Block num: 3\n",
      "Gallery  13  has: Number of employment: 668\n",
      "Gallery  13  has: Block num: 5\n",
      "Gallery  14  has: Number of employment: 1774\n",
      "Gallery  14  has: Block num: 7\n",
      "No Seats For: 15\n",
      "Gallery  16  has: Number of employment: 173\n",
      "Gallery  16  has: Block num: 3\n",
      "Gallery  17  has: Number of employment: 2834\n",
      "Gallery  17  has: Block num: 12\n",
      "Gallery  18  has: Number of employment: 4415\n",
      "Gallery  18  has: Block num: 15\n"
     ]
    }
   ],
   "source": [
    "seats = []\n",
    "blocks = []\n",
    "\n",
    "for i in range(len(art)):\n",
    "    df3 = pd.read_csv(\"pubs.csv\")\n",
    "    #df3 = df3[pd.notnull(df3['Number of seats'])]\n",
    "    #df3 = df3.rename(columns={'x coordinate': 'Longitude', 'y coordinate': 'Latitude'})\n",
    "    data = df3\n",
    "    \n",
    "    try:\n",
    "        filtered = pd.DataFrame(within(art, data, 0.5, i))\n",
    "        n_seats = filtered['Number of seats'].sum()\n",
    "        n_blocks = len(filtered[\"Block ID\"].unique())\n",
    "        \n",
    "        seats.append(n_seats)\n",
    "        blocks.append(n_blocks)\n",
    "        \n",
    "        print(\"Gallery \", i, \" has:\",\"Number of employment:\" ,n_seats)\n",
    "        print(\"Gallery \", i, \" has:\",\"Block num:\", n_blocks)\n",
    "        \n",
    "    except:\n",
    "        print(\"No Seats For:\", i)"
   ]
  },
  {
   "cell_type": "code",
   "execution_count": null,
   "metadata": {},
   "outputs": [],
   "source": []
  },
  {
   "cell_type": "code",
   "execution_count": null,
   "metadata": {},
   "outputs": [],
   "source": []
  }
 ],
 "metadata": {
  "kernelspec": {
   "display_name": "Python 3",
   "language": "python",
   "name": "python3"
  },
  "language_info": {
   "codemirror_mode": {
    "name": "ipython",
    "version": 3
   },
   "file_extension": ".py",
   "mimetype": "text/x-python",
   "name": "python",
   "nbconvert_exporter": "python",
   "pygments_lexer": "ipython3",
   "version": "3.6.8"
  }
 },
 "nbformat": 4,
 "nbformat_minor": 2
}
