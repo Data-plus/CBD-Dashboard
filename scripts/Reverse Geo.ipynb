{
 "cells": [
  {
   "cell_type": "code",
   "execution_count": 6,
   "metadata": {},
   "outputs": [],
   "source": [
    "from mapbox import Geocoder"
   ]
  },
  {
   "cell_type": "code",
   "execution_count": 7,
   "metadata": {},
   "outputs": [],
   "source": [
    "geocoder = Geocoder(access_token=\"pk.eyJ1IjoicGx1c21nIiwiYSI6ImNqdGwxb3kxNjAwdmo0YW8xdjM4NG9zZWwifQ.Z9-QBnfpJDefBW7VzvC4mA\")"
   ]
  },
  {
   "cell_type": "code",
   "execution_count": 29,
   "metadata": {},
   "outputs": [
    {
     "name": "stdout",
     "output_type": "stream",
     "text": [
      "2 Swanston Street, Melbourne Victoria 3000, Australia\n"
     ]
    }
   ],
   "source": [
    "response = geocoder.reverse(lon=click[0], lat=click[1], limit=1, types=['address'])\n",
    "features = sorted(response.geojson()['features'], key=lambda x: x['place_name'])\n",
    "for f in features:\n",
    "    print('{place_name}'.format(**f))"
   ]
  },
  {
   "cell_type": "code",
   "execution_count": 38,
   "metadata": {},
   "outputs": [],
   "source": [
    "def reverse_geocoding(click):\n",
    "    response = geocoder.reverse(lon=click[0], lat=click[1], limit=1, types=['address'])\n",
    "    features = sorted(response.geojson()['features'], key=lambda x: x['place_name'])\n",
    "    return features[0]['place_name']"
   ]
  },
  {
   "cell_type": "code",
   "execution_count": 39,
   "metadata": {},
   "outputs": [
    {
     "data": {
      "text/plain": [
       "'2 Swanston Street, Melbourne Victoria 3000, Australia'"
      ]
     },
     "execution_count": 39,
     "metadata": {},
     "output_type": "execute_result"
    }
   ],
   "source": [
    "reverse_geocoding(click)"
   ]
  },
  {
   "cell_type": "code",
   "execution_count": 43,
   "metadata": {
    "scrolled": false
   },
   "outputs": [
    {
     "data": {
      "text/plain": [
       "[{'id': 'poi.1846835955292',\n",
       "  'type': 'Feature',\n",
       "  'place_type': ['poi'],\n",
       "  'relevance': 1,\n",
       "  'properties': {'landmark': True,\n",
       "   'wikidata': 'Q4616396',\n",
       "   'address': '200 queen street',\n",
       "   'category': 'coworking space, office'},\n",
       "  'text': '200 Queen Street',\n",
       "  'place_name': '200 Queen Street, 200 queen street, Melbourne, Victoria 3000, Australia',\n",
       "  'center': [144.9600445, -37.8136815],\n",
       "  'geometry': {'coordinates': [144.9600445, -37.8136815], 'type': 'Point'},\n",
       "  'context': [{'id': 'locality.5321754973111320',\n",
       "    'wikidata': 'Q6811747',\n",
       "    'text': 'Melbourne'},\n",
       "   {'id': 'postcode.12767122704801890', 'text': '3000'},\n",
       "   {'id': 'place.7068896531111320', 'wikidata': 'Q3141', 'text': 'Melbourne'},\n",
       "   {'id': 'region.10354338764038050',\n",
       "    'short_code': 'AU-VIC',\n",
       "    'wikidata': 'Q36687',\n",
       "    'text': 'Victoria'},\n",
       "   {'id': 'country.3050683007346070',\n",
       "    'short_code': 'au',\n",
       "    'wikidata': 'Q408',\n",
       "    'text': 'Australia'}]},\n",
       " {'id': 'address.4334960211180508',\n",
       "  'type': 'Feature',\n",
       "  'place_type': ['address'],\n",
       "  'relevance': 1,\n",
       "  'properties': {'accuracy': 'point'},\n",
       "  'text': 'Queen Street',\n",
       "  'place_name': '200 Queen Street, Ashfield New South Wales 2131, Australia',\n",
       "  'center': [151.127661, -33.89949],\n",
       "  'geometry': {'type': 'Point', 'coordinates': [151.127661, -33.89949]},\n",
       "  'address': '200',\n",
       "  'context': [{'id': 'locality.14149361462697720',\n",
       "    'wikidata': 'Q2157505',\n",
       "    'text': 'Ashfield'},\n",
       "   {'id': 'postcode.5523881781386840', 'text': '2131'},\n",
       "   {'id': 'place.4960085988742460', 'wikidata': 'Q3130', 'text': 'Sydney'},\n",
       "   {'id': 'region.10849457265831280',\n",
       "    'short_code': 'AU-NSW',\n",
       "    'wikidata': 'Q3224',\n",
       "    'text': 'New South Wales'},\n",
       "   {'id': 'country.3050683007346070',\n",
       "    'short_code': 'au',\n",
       "    'wikidata': 'Q408',\n",
       "    'text': 'Australia'}]},\n",
       " {'id': 'address.290706029748920',\n",
       "  'type': 'Feature',\n",
       "  'place_type': ['address'],\n",
       "  'relevance': 1,\n",
       "  'properties': {'accuracy': 'point'},\n",
       "  'text': 'Queen Street',\n",
       "  'place_name': '200 Queen Street, Colac Victoria 3250, Australia',\n",
       "  'center': [143.59066, -38.353119],\n",
       "  'geometry': {'type': 'Point', 'coordinates': [143.59066, -38.353119]},\n",
       "  'address': '200',\n",
       "  'context': [{'id': 'locality.9057823914934830',\n",
       "    'wikidata': None,\n",
       "    'text': 'Colac'},\n",
       "   {'id': 'postcode.5309618501804280', 'text': '3250'},\n",
       "   {'id': 'place.12744949359934830', 'wikidata': 'Q1009509', 'text': 'Colac'},\n",
       "   {'id': 'region.10354338764038050',\n",
       "    'short_code': 'AU-VIC',\n",
       "    'wikidata': 'Q36687',\n",
       "    'text': 'Victoria'},\n",
       "   {'id': 'country.3050683007346070',\n",
       "    'short_code': 'au',\n",
       "    'wikidata': 'Q408',\n",
       "    'text': 'Australia'}]},\n",
       " {'id': 'address.1115778971761308',\n",
       "  'type': 'Feature',\n",
       "  'place_type': ['address'],\n",
       "  'relevance': 1,\n",
       "  'properties': {'accuracy': 'point'},\n",
       "  'text': 'Queen Street',\n",
       "  'place_name': '200 Queen Street, Grafton New South Wales 2460, Australia',\n",
       "  'center': [152.942116, -29.676843],\n",
       "  'geometry': {'type': 'Point', 'coordinates': [152.942116, -29.676843]},\n",
       "  'address': '200',\n",
       "  'context': [{'id': 'locality.15804128874759800', 'text': 'Grafton'},\n",
       "   {'id': 'postcode.13638759913958770', 'text': '2460'},\n",
       "   {'id': 'place.9132809757759800', 'wikidata': 'Q1025587', 'text': 'Grafton'},\n",
       "   {'id': 'region.10849457265831280',\n",
       "    'short_code': 'AU-NSW',\n",
       "    'wikidata': 'Q3224',\n",
       "    'text': 'New South Wales'},\n",
       "   {'id': 'country.3050683007346070',\n",
       "    'short_code': 'au',\n",
       "    'wikidata': 'Q408',\n",
       "    'text': 'Australia'}]},\n",
       " {'id': 'address.3520796307957866',\n",
       "  'type': 'Feature',\n",
       "  'place_type': ['address'],\n",
       "  'relevance': 1,\n",
       "  'properties': {'accuracy': 'point'},\n",
       "  'text': 'Queen Street',\n",
       "  'place_name': '200 Queen Street, St Marys New South Wales 2760, Australia',\n",
       "  'center': [150.77407, -33.768487],\n",
       "  'geometry': {'type': 'Point', 'coordinates': [150.77407, -33.768487]},\n",
       "  'address': '200',\n",
       "  'context': [{'id': 'locality.16535591371459110',\n",
       "    'wikidata': None,\n",
       "    'text': 'St Marys'},\n",
       "   {'id': 'postcode.6410005279372250', 'text': '2760'},\n",
       "   {'id': 'place.4960085988742460', 'wikidata': 'Q3130', 'text': 'Sydney'},\n",
       "   {'id': 'region.10849457265831280',\n",
       "    'short_code': 'AU-NSW',\n",
       "    'wikidata': 'Q3224',\n",
       "    'text': 'New South Wales'},\n",
       "   {'id': 'country.3050683007346070',\n",
       "    'short_code': 'au',\n",
       "    'wikidata': 'Q408',\n",
       "    'text': 'Australia'}]}]"
      ]
     },
     "execution_count": 43,
     "metadata": {},
     "output_type": "execute_result"
    }
   ],
   "source": [
    "response = geocoder.forward(\"200 queen street\")\n",
    "features = sorted(response.geojson()['features'], key=lambda x: x['place_name'])\n",
    "features"
   ]
  },
  {
   "cell_type": "code",
   "execution_count": 41,
   "metadata": {},
   "outputs": [
    {
     "data": {
      "text/plain": [
       "<Response [200]>"
      ]
     },
     "execution_count": 41,
     "metadata": {},
     "output_type": "execute_result"
    }
   ],
   "source": []
  }
 ],
 "metadata": {
  "kernelspec": {
   "display_name": "Python 3",
   "language": "python",
   "name": "python3"
  }
 },
 "nbformat": 4,
 "nbformat_minor": 2
}
