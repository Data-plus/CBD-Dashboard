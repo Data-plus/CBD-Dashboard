{
 "cells": [
  {
   "cell_type": "code",
   "execution_count": 1,
   "metadata": {},
   "outputs": [],
   "source": [
    "from mapbox import Geocoder"
   ]
  },
  {
   "cell_type": "code",
   "execution_count": 2,
   "metadata": {},
   "outputs": [],
   "source": [
    "geocoder = Geocoder(access_token=\"pk.eyJ1IjoicGx1c21nIiwiYSI6ImNqdGwxb3kxNjAwdmo0YW8xdjM4NG9zZWwifQ.Z9-QBnfpJDefBW7VzvC4mA\")"
   ]
  },
  {
   "cell_type": "code",
   "execution_count": 54,
   "metadata": {},
   "outputs": [],
   "source": [
    "click = [144.364638, -38.156703]"
   ]
  },
  {
   "cell_type": "code",
   "execution_count": 37,
   "metadata": {},
   "outputs": [
    {
     "name": "stdout",
     "output_type": "stream",
     "text": [
      "217-219 Queen Street, Melbourne Victoria 3000, Australia\n"
     ]
    }
   ],
   "source": [
    "response = geocoder.reverse(lon=click[0], lat=click[1], limit=1, types=['address'])\n",
    "features = sorted(response.geojson()['features'], key=lambda x: x['place_name'])\n",
    "for f in features:\n",
    "    print('{place_name}'.format(**f))"
   ]
  },
  {
   "cell_type": "code",
   "execution_count": 63,
   "metadata": {},
   "outputs": [],
   "source": [
    "def reverse_geocoding(click):\n",
    "    response = geocoder.reverse(lon=click[0], lat=click[1], limit=1, types=['address'])\n",
    "    features = sorted(response.geojson()['features'], key=lambda x: x['place_name'])\n",
    "    return features[0]['place_name'].replace(', Australia', '')"
   ]
  },
  {
   "cell_type": "code",
   "execution_count": 64,
   "metadata": {
    "scrolled": true
   },
   "outputs": [
    {
     "data": {
      "text/plain": [
       "'100 Swanston Street, Geelong Victoria 3220'"
      ]
     },
     "execution_count": 64,
     "metadata": {},
     "output_type": "execute_result"
    }
   ],
   "source": [
    "reverse_geocoding(click)"
   ]
  },
  {
   "cell_type": "code",
   "execution_count": 53,
   "metadata": {
    "scrolled": false
   },
   "outputs": [
    {
     "data": {
      "text/plain": [
       "[{'id': 'address.8499587867409004',\n",
       "  'type': 'Feature',\n",
       "  'place_type': ['address'],\n",
       "  'relevance': 1,\n",
       "  'properties': {'accuracy': 'point'},\n",
       "  'text': 'Swanston Street',\n",
       "  'place_name': '100 Swanston Street, Geelong Victoria 3220, Australia',\n",
       "  'center': [144.364638, -38.156703],\n",
       "  'geometry': {'type': 'Point', 'coordinates': [144.364638, -38.156703]},\n",
       "  'address': '100',\n",
       "  'context': [{'id': 'locality.17690333370884890',\n",
       "    'wikidata': None,\n",
       "    'text': 'Geelong'},\n",
       "   {'id': 'postcode.5473414098384360', 'text': '3220'},\n",
       "   {'id': 'place.7689701983884890', 'wikidata': 'Q231765', 'text': 'Geelong'},\n",
       "   {'id': 'region.10354338764038050',\n",
       "    'short_code': 'AU-VIC',\n",
       "    'wikidata': 'Q36687',\n",
       "    'text': 'Victoria'},\n",
       "   {'id': 'country.3050683007346070',\n",
       "    'short_code': 'au',\n",
       "    'wikidata': 'Q408',\n",
       "    'text': 'Australia'}]},\n",
       " {'id': 'address.2000140406760582',\n",
       "  'type': 'Feature',\n",
       "  'place_type': ['address'],\n",
       "  'relevance': 1,\n",
       "  'properties': {'accuracy': 'interpolated'},\n",
       "  'text': 'Swanston Street',\n",
       "  'place_name': '100 Swanston Street, Heidelberg Heights Victoria 3081, Australia',\n",
       "  'center': [145.050577, -37.737301],\n",
       "  'geometry': {'type': 'Point',\n",
       "   'coordinates': [145.050577, -37.737301],\n",
       "   'interpolated': True},\n",
       "  'address': '100',\n",
       "  'context': [{'id': 'locality.9231041886145590',\n",
       "    'wikidata': 'Q5698660',\n",
       "    'text': 'Heidelberg Heights'},\n",
       "   {'id': 'postcode.6391084408959580', 'text': '3081'},\n",
       "   {'id': 'place.7068896531111320', 'wikidata': 'Q3141', 'text': 'Melbourne'},\n",
       "   {'id': 'region.10354338764038050',\n",
       "    'short_code': 'AU-VIC',\n",
       "    'wikidata': 'Q36687',\n",
       "    'text': 'Victoria'},\n",
       "   {'id': 'country.3050683007346070',\n",
       "    'short_code': 'au',\n",
       "    'wikidata': 'Q408',\n",
       "    'text': 'Australia'}]},\n",
       " {'id': 'address.5675840109330190',\n",
       "  'type': 'Feature',\n",
       "  'place_type': ['address'],\n",
       "  'relevance': 1,\n",
       "  'properties': {'accuracy': 'point'},\n",
       "  'text': 'Swanston Street',\n",
       "  'place_name': '100 Swanston Street, Melbourne Victoria 3000, Australia',\n",
       "  'center': [144.966617, -37.815058],\n",
       "  'geometry': {'type': 'Point', 'coordinates': [144.966617, -37.815058]},\n",
       "  'address': '100',\n",
       "  'context': [{'id': 'locality.5321754973111320',\n",
       "    'wikidata': 'Q6811747',\n",
       "    'text': 'Melbourne'},\n",
       "   {'id': 'postcode.12767122704801890', 'text': '3000'},\n",
       "   {'id': 'place.7068896531111320', 'wikidata': 'Q3141', 'text': 'Melbourne'},\n",
       "   {'id': 'region.10354338764038050',\n",
       "    'short_code': 'AU-VIC',\n",
       "    'wikidata': 'Q36687',\n",
       "    'text': 'Victoria'},\n",
       "   {'id': 'country.3050683007346070',\n",
       "    'short_code': 'au',\n",
       "    'wikidata': 'Q408',\n",
       "    'text': 'Australia'}]},\n",
       " {'id': 'address.1974962465235744',\n",
       "  'type': 'Feature',\n",
       "  'place_type': ['address'],\n",
       "  'relevance': 1,\n",
       "  'properties': {'accuracy': 'interpolated'},\n",
       "  'text': 'Swanston Street',\n",
       "  'place_name': '100 Swanston Street, New Town Tasmania 7008, Australia',\n",
       "  'center': [147.304741, -42.85343],\n",
       "  'geometry': {'type': 'Point',\n",
       "   'coordinates': [147.304741, -42.85343],\n",
       "   'interpolated': True},\n",
       "  'address': '100',\n",
       "  'context': [{'id': 'locality.6188601028724060',\n",
       "    'wikidata': 'Q14935638',\n",
       "    'text': 'New Town'},\n",
       "   {'id': 'postcode.5684369234557820', 'text': '7008'},\n",
       "   {'id': 'place.14364898169708870', 'wikidata': 'Q40191', 'text': 'Hobart'},\n",
       "   {'id': 'region.11747144096076350',\n",
       "    'short_code': 'AU-TAS',\n",
       "    'wikidata': 'Q34366',\n",
       "    'text': 'Tasmania'},\n",
       "   {'id': 'country.3050683007346070',\n",
       "    'short_code': 'au',\n",
       "    'wikidata': 'Q408',\n",
       "    'text': 'Australia'}]},\n",
       " {'id': 'address.6034271112146732',\n",
       "  'type': 'Feature',\n",
       "  'place_type': ['address'],\n",
       "  'relevance': 1,\n",
       "  'properties': {'accuracy': 'interpolated'},\n",
       "  'text': 'Swanston Street',\n",
       "  'place_name': '100 Swanston Street, Yokine Western Australia 6060, Australia',\n",
       "  'center': [115.853994, -31.908097],\n",
       "  'geometry': {'type': 'Point',\n",
       "   'coordinates': [115.853994, -31.908097],\n",
       "   'interpolated': True},\n",
       "  'address': '100',\n",
       "  'context': [{'id': 'locality.10119027682623550',\n",
       "    'wikidata': None,\n",
       "    'text': 'Yokine'},\n",
       "   {'id': 'postcode.10083703126354680', 'text': '6060'},\n",
       "   {'id': 'place.3737670470566420', 'wikidata': 'Q3183', 'text': 'Perth'},\n",
       "   {'id': 'region.5485169866898460',\n",
       "    'short_code': 'AU-WA',\n",
       "    'wikidata': 'Q3206',\n",
       "    'text': 'Western Australia'},\n",
       "   {'id': 'country.3050683007346070',\n",
       "    'short_code': 'au',\n",
       "    'wikidata': 'Q408',\n",
       "    'text': 'Australia'}]}]"
      ]
     },
     "execution_count": 53,
     "metadata": {},
     "output_type": "execute_result"
    }
   ],
   "source": [
    "response = geocoder.forward(\"100 swanston street\")\n",
    "features = sorted(response.geojson()['features'], key=lambda x: x['place_name'])\n",
    "features"
   ]
  },
  {
   "cell_type": "code",
   "execution_count": null,
   "metadata": {},
   "outputs": [],
   "source": []
  }
 ],
 "metadata": {
  "kernelspec": {
   "display_name": "Python 3",
   "language": "python",
   "name": "python3"
  },
  "language_info": {
   "codemirror_mode": {
    "name": "ipython",
    "version": 3
   },
   "file_extension": ".py",
   "mimetype": "text/x-python",
   "name": "python",
   "nbconvert_exporter": "python",
   "pygments_lexer": "ipython3",
   "version": "3.6.8"
  }
 },
 "nbformat": 4,
 "nbformat_minor": 2
}
