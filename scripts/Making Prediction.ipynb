{
 "cells": [
  {
   "cell_type": "markdown",
   "metadata": {},
   "source": [
    "# Pedestiran Counts Virtual Sensor"
   ]
  },
  {
   "cell_type": "code",
   "execution_count": 1,
   "metadata": {},
   "outputs": [],
   "source": [
    "import pandas as pd\n",
    "import geopy\n",
    "from geopy import distance"
   ]
  },
  {
   "cell_type": "code",
   "execution_count": 2,
   "metadata": {},
   "outputs": [],
   "source": [
    "from datetime import date\n",
    "import calendar# Find Sensor information and Distance"
   ]
  },
  {
   "cell_type": "code",
   "execution_count": 158,
   "metadata": {
    "scrolled": true
   },
   "outputs": [],
   "source": [
    "gallery = pd.read_csv(\"../data/Gallery.csv\")"
   ]
  },
  {
   "cell_type": "code",
   "execution_count": 82,
   "metadata": {},
   "outputs": [],
   "source": [
    "df = pd.read_csv(\"pedestrian_temp.csv\")"
   ]
  },
  {
   "cell_type": "code",
   "execution_count": 31,
   "metadata": {},
   "outputs": [],
   "source": [
    "df2 = pd.read_csv('df2.csv')"
   ]
  },
  {
   "cell_type": "markdown",
   "metadata": {},
   "source": [
    "## Distance Functions"
   ]
  },
  {
   "cell_type": "code",
   "execution_count": 28,
   "metadata": {},
   "outputs": [],
   "source": [
    "def within(df, target, radius, g):\n",
    "    \n",
    "    temp = []\n",
    "    \n",
    "    for x in range(len(target)):\n",
    "        # Use try-except for error handling\n",
    "        try:\n",
    "            # Find coordinate1,2 calculate distance in km\n",
    "            coords_1 = (df[\"Latitude\"][g], df[\"Longitude\"][g])\n",
    "            coords_2 = (target[\"latitude\"][x], target[\"longitude\"][x])\n",
    "            dist = geopy.distance.distance(coords_1, coords_2).km\n",
    "\n",
    "            if dist <= radius:\n",
    "                temp.append(target.iloc[x])\n",
    "        except:\n",
    "            pass\n",
    "    return temp"
   ]
  },
  {
   "cell_type": "code",
   "execution_count": 29,
   "metadata": {},
   "outputs": [],
   "source": [
    "def within_d(df, target, radius, g):\n",
    "    \n",
    "    distances = []\n",
    "    \n",
    "    for x in range(len(target)):\n",
    "        # Use try-except for error handling\n",
    "        try:\n",
    "            # Find coordinate1,2 calculate distance in km\n",
    "            coords_1 = (df[\"Latitude\"][g], df[\"Longitude\"][g])\n",
    "            coords_2 = (target[\"latitude\"][x], target[\"longitude\"][x])\n",
    "            dist = geopy.distance.distance(coords_1, coords_2).km\n",
    "\n",
    "            if dist <= radius:\n",
    "                distances.append(dist)\n",
    "        except:\n",
    "            pass\n",
    "    return distances"
   ]
  },
  {
   "cell_type": "markdown",
   "metadata": {},
   "source": [
    "# <font color='red'> For Each Gallery </font>"
   ]
  },
  {
   "cell_type": "code",
   "execution_count": 14,
   "metadata": {},
   "outputs": [
    {
     "data": {
      "text/html": [
       "<div>\n",
       "<style scoped>\n",
       "    .dataframe tbody tr th:only-of-type {\n",
       "        vertical-align: middle;\n",
       "    }\n",
       "\n",
       "    .dataframe tbody tr th {\n",
       "        vertical-align: top;\n",
       "    }\n",
       "\n",
       "    .dataframe thead th {\n",
       "        text-align: right;\n",
       "    }\n",
       "</style>\n",
       "<table border=\"1\" class=\"dataframe\">\n",
       "  <thead>\n",
       "    <tr style=\"text-align: right;\">\n",
       "      <th></th>\n",
       "      <th>date_time</th>\n",
       "      <th>sensor_id</th>\n",
       "      <th>sensor_name</th>\n",
       "      <th>hourly_counts</th>\n",
       "      <th>latitude</th>\n",
       "      <th>longitude</th>\n",
       "    </tr>\n",
       "  </thead>\n",
       "  <tbody>\n",
       "    <tr>\n",
       "      <th>0</th>\n",
       "      <td>01/10/2018 0:00</td>\n",
       "      <td>5</td>\n",
       "      <td>Princes Bridge</td>\n",
       "      <td>123.0</td>\n",
       "      <td>-37.818742</td>\n",
       "      <td>144.967877</td>\n",
       "    </tr>\n",
       "    <tr>\n",
       "      <th>1</th>\n",
       "      <td>01/10/2018 1:00</td>\n",
       "      <td>5</td>\n",
       "      <td>Princes Bridge</td>\n",
       "      <td>46.0</td>\n",
       "      <td>-37.818742</td>\n",
       "      <td>144.967877</td>\n",
       "    </tr>\n",
       "    <tr>\n",
       "      <th>2</th>\n",
       "      <td>01/10/2018 2:00</td>\n",
       "      <td>5</td>\n",
       "      <td>Princes Bridge</td>\n",
       "      <td>25.0</td>\n",
       "      <td>-37.818742</td>\n",
       "      <td>144.967877</td>\n",
       "    </tr>\n",
       "    <tr>\n",
       "      <th>3</th>\n",
       "      <td>01/10/2018 3:00</td>\n",
       "      <td>5</td>\n",
       "      <td>Princes Bridge</td>\n",
       "      <td>48.0</td>\n",
       "      <td>-37.818742</td>\n",
       "      <td>144.967877</td>\n",
       "    </tr>\n",
       "    <tr>\n",
       "      <th>4</th>\n",
       "      <td>01/10/2018 4:00</td>\n",
       "      <td>5</td>\n",
       "      <td>Princes Bridge</td>\n",
       "      <td>50.0</td>\n",
       "      <td>-37.818742</td>\n",
       "      <td>144.967877</td>\n",
       "    </tr>\n",
       "  </tbody>\n",
       "</table>\n",
       "</div>"
      ],
      "text/plain": [
       "         date_time  sensor_id     sensor_name  hourly_counts   latitude  \\\n",
       "0  01/10/2018 0:00          5  Princes Bridge          123.0 -37.818742   \n",
       "1  01/10/2018 1:00          5  Princes Bridge           46.0 -37.818742   \n",
       "2  01/10/2018 2:00          5  Princes Bridge           25.0 -37.818742   \n",
       "3  01/10/2018 3:00          5  Princes Bridge           48.0 -37.818742   \n",
       "4  01/10/2018 4:00          5  Princes Bridge           50.0 -37.818742   \n",
       "\n",
       "    longitude  \n",
       "0  144.967877  \n",
       "1  144.967877  \n",
       "2  144.967877  \n",
       "3  144.967877  \n",
       "4  144.967877  "
      ]
     },
     "execution_count": 14,
     "metadata": {},
     "output_type": "execute_result"
    }
   ],
   "source": [
    "df.head()"
   ]
  },
  {
   "cell_type": "code",
   "execution_count": 15,
   "metadata": {},
   "outputs": [],
   "source": [
    "# Find weekday\n",
    "df['date_time'] = pd.to_datetime(df['date_time'])"
   ]
  },
  {
   "cell_type": "code",
   "execution_count": 16,
   "metadata": {},
   "outputs": [],
   "source": [
    "my_day_list = []\n",
    "for i in range(len(df)):\n",
    "    my_date = df['date_time'][i]\n",
    "    my_day = calendar.day_name[my_date.weekday()]\n",
    "    my_day_list.append(my_day)"
   ]
  },
  {
   "cell_type": "code",
   "execution_count": 17,
   "metadata": {},
   "outputs": [],
   "source": [
    "# Append Column\n",
    "df['Day'] = my_day_list"
   ]
  },
  {
   "cell_type": "code",
   "execution_count": 19,
   "metadata": {
    "scrolled": true
   },
   "outputs": [
    {
     "data": {
      "text/html": [
       "<div>\n",
       "<style scoped>\n",
       "    .dataframe tbody tr th:only-of-type {\n",
       "        vertical-align: middle;\n",
       "    }\n",
       "\n",
       "    .dataframe tbody tr th {\n",
       "        vertical-align: top;\n",
       "    }\n",
       "\n",
       "    .dataframe thead th {\n",
       "        text-align: right;\n",
       "    }\n",
       "</style>\n",
       "<table border=\"1\" class=\"dataframe\">\n",
       "  <thead>\n",
       "    <tr style=\"text-align: right;\">\n",
       "      <th></th>\n",
       "      <th>date_time</th>\n",
       "      <th>sensor_id</th>\n",
       "      <th>sensor_name</th>\n",
       "      <th>hourly_counts</th>\n",
       "      <th>latitude</th>\n",
       "      <th>longitude</th>\n",
       "      <th>Day</th>\n",
       "    </tr>\n",
       "  </thead>\n",
       "  <tbody>\n",
       "    <tr>\n",
       "      <th>266443</th>\n",
       "      <td>2019-03-31 19:00:00</td>\n",
       "      <td>59</td>\n",
       "      <td>Sensor 59</td>\n",
       "      <td>976.0</td>\n",
       "      <td>-37.80892</td>\n",
       "      <td>144.96634</td>\n",
       "      <td>Sunday</td>\n",
       "    </tr>\n",
       "    <tr>\n",
       "      <th>266444</th>\n",
       "      <td>2019-03-31 20:00:00</td>\n",
       "      <td>59</td>\n",
       "      <td>Sensor 59</td>\n",
       "      <td>797.0</td>\n",
       "      <td>-37.80892</td>\n",
       "      <td>144.96634</td>\n",
       "      <td>Sunday</td>\n",
       "    </tr>\n",
       "    <tr>\n",
       "      <th>266445</th>\n",
       "      <td>2019-03-31 21:00:00</td>\n",
       "      <td>59</td>\n",
       "      <td>Sensor 59</td>\n",
       "      <td>585.0</td>\n",
       "      <td>-37.80892</td>\n",
       "      <td>144.96634</td>\n",
       "      <td>Sunday</td>\n",
       "    </tr>\n",
       "    <tr>\n",
       "      <th>266446</th>\n",
       "      <td>2019-03-31 22:00:00</td>\n",
       "      <td>59</td>\n",
       "      <td>Sensor 59</td>\n",
       "      <td>364.0</td>\n",
       "      <td>-37.80892</td>\n",
       "      <td>144.96634</td>\n",
       "      <td>Sunday</td>\n",
       "    </tr>\n",
       "    <tr>\n",
       "      <th>266447</th>\n",
       "      <td>2019-03-31 23:00:00</td>\n",
       "      <td>59</td>\n",
       "      <td>Sensor 59</td>\n",
       "      <td>232.0</td>\n",
       "      <td>-37.80892</td>\n",
       "      <td>144.96634</td>\n",
       "      <td>Sunday</td>\n",
       "    </tr>\n",
       "  </tbody>\n",
       "</table>\n",
       "</div>"
      ],
      "text/plain": [
       "                 date_time  sensor_id sensor_name  hourly_counts  latitude  \\\n",
       "266443 2019-03-31 19:00:00         59   Sensor 59          976.0 -37.80892   \n",
       "266444 2019-03-31 20:00:00         59   Sensor 59          797.0 -37.80892   \n",
       "266445 2019-03-31 21:00:00         59   Sensor 59          585.0 -37.80892   \n",
       "266446 2019-03-31 22:00:00         59   Sensor 59          364.0 -37.80892   \n",
       "266447 2019-03-31 23:00:00         59   Sensor 59          232.0 -37.80892   \n",
       "\n",
       "        longitude     Day  \n",
       "266443  144.96634  Sunday  \n",
       "266444  144.96634  Sunday  \n",
       "266445  144.96634  Sunday  \n",
       "266446  144.96634  Sunday  \n",
       "266447  144.96634  Sunday  "
      ]
     },
     "execution_count": 19,
     "metadata": {},
     "output_type": "execute_result"
    }
   ],
   "source": [
    "df.tail()"
   ]
  },
  {
   "cell_type": "code",
   "execution_count": 20,
   "metadata": {},
   "outputs": [
    {
     "data": {
      "text/html": [
       "<div>\n",
       "<style scoped>\n",
       "    .dataframe tbody tr th:only-of-type {\n",
       "        vertical-align: middle;\n",
       "    }\n",
       "\n",
       "    .dataframe tbody tr th {\n",
       "        vertical-align: top;\n",
       "    }\n",
       "\n",
       "    .dataframe thead th {\n",
       "        text-align: right;\n",
       "    }\n",
       "</style>\n",
       "<table border=\"1\" class=\"dataframe\">\n",
       "  <thead>\n",
       "    <tr style=\"text-align: right;\">\n",
       "      <th></th>\n",
       "      <th>Gallery Name</th>\n",
       "      <th>Latitude</th>\n",
       "      <th>Longitude</th>\n",
       "    </tr>\n",
       "  </thead>\n",
       "  <tbody>\n",
       "    <tr>\n",
       "      <th>0</th>\n",
       "      <td>Old Melbourne Gaol Crime</td>\n",
       "      <td>-37.807764</td>\n",
       "      <td>144.965464</td>\n",
       "    </tr>\n",
       "    <tr>\n",
       "      <th>1</th>\n",
       "      <td>Victorian Arts Centre</td>\n",
       "      <td>-37.821995</td>\n",
       "      <td>144.968837</td>\n",
       "    </tr>\n",
       "    <tr>\n",
       "      <th>2</th>\n",
       "      <td>The Ian Potter Centre: NGV Australia</td>\n",
       "      <td>-37.817483</td>\n",
       "      <td>144.969899</td>\n",
       "    </tr>\n",
       "    <tr>\n",
       "      <th>3</th>\n",
       "      <td>Thoroughbred Racing Gallery</td>\n",
       "      <td>-37.818866</td>\n",
       "      <td>144.983970</td>\n",
       "    </tr>\n",
       "    <tr>\n",
       "      <th>4</th>\n",
       "      <td>Fox Classic Car Collection</td>\n",
       "      <td>-37.821374</td>\n",
       "      <td>144.948497</td>\n",
       "    </tr>\n",
       "  </tbody>\n",
       "</table>\n",
       "</div>"
      ],
      "text/plain": [
       "                           Gallery Name   Latitude   Longitude\n",
       "0              Old Melbourne Gaol Crime -37.807764  144.965464\n",
       "1                 Victorian Arts Centre -37.821995  144.968837\n",
       "2  The Ian Potter Centre: NGV Australia -37.817483  144.969899\n",
       "3           Thoroughbred Racing Gallery -37.818866  144.983970\n",
       "4            Fox Classic Car Collection -37.821374  144.948497"
      ]
     },
     "execution_count": 20,
     "metadata": {},
     "output_type": "execute_result"
    }
   ],
   "source": [
    "gallery.head()"
   ]
  },
  {
   "cell_type": "code",
   "execution_count": 161,
   "metadata": {},
   "outputs": [],
   "source": [
    "def get_ped(gallery, pedestrian, df2, i):\n",
    "\n",
    "    gallery_sensor = pd.DataFrame([{'Latitude':gallery['Latitude'][i],'Longitude': gallery['Longitude'][i]}])\n",
    "\n",
    "    # Find Nearest 3 sensors\n",
    "    df_temp = pd.concat([pd.DataFrame(within(gallery_sensor, df2, 3, 0)).reset_index(drop=True),\n",
    "               pd.DataFrame(within_d(gallery_sensor, df2, 3, 0)).reset_index(drop=True)], axis=1)\n",
    "    df_temp.rename(columns={0:'distance'}, inplace=True)\n",
    "\n",
    "    # Get Nearest 3 sensors\n",
    "    df_temp = df_temp.sort_values('distance').iloc[0:3,:]\n",
    "    df_temp = df_temp.reset_index(drop=True)\n",
    "\n",
    "    # DF Nearest\n",
    "    df_nearest = pedestrian[(pedestrian['sensor_id'] == df_temp['sensor_id'][0]) |\n",
    "                 (pedestrian['sensor_id'] == df_temp['sensor_id'][1]) |\n",
    "                 ((pedestrian['sensor_id'] == df_temp['sensor_id'][2]))]\n",
    "\n",
    "    divider = ((1 / df_temp['distance'][0]) + (1 / df_temp['distance'][1]) + (1 / df_temp['distance'][2]))\n",
    "\n",
    "    d1 = df_nearest[df_nearest['sensor_id'] == df_temp['sensor_id'][0]]['hourly_counts'] * (\n",
    "            (1 / df_temp['distance'][0]) / divider)\n",
    "    d2 = df_nearest[df_nearest['sensor_id'] == df_temp['sensor_id'][1]]['hourly_counts'] * (\n",
    "            (1 / df_temp['distance'][1]) / divider)\n",
    "    d3 = df_nearest[df_nearest['sensor_id'] == df_temp['sensor_id'][2]]['hourly_counts'] * (\n",
    "            (1 / df_temp['distance'][2]) / divider)\n",
    "\n",
    "    ## Change sensor\n",
    "    sensor_interest = pd.concat([pd.DataFrame(df_nearest[df_nearest['sensor_id'] == df_temp['sensor_id'][0]]['date_time'].reset_index(drop=True)),\n",
    "           pd.DataFrame({'hourly_counts':(d1.values+d2.values+d3.values).round()})], axis=1)\n",
    "\n",
    "    ## Change sensor\n",
    "    sensor_interest['latitude']= gallery_sensor['Latitude'][0]\n",
    "    sensor_interest['longitude']= gallery_sensor['Longitude'][0]\n",
    "    sensor_interest['sensor_name']= gallery['Gallery Name'][i]\n",
    "\n",
    "    my_day_list = []\n",
    "\n",
    "    sensor_interest['date_time'] = pd.to_datetime(sensor_interest['date_time'])\n",
    "\n",
    "    for i in range(len(sensor_interest)):\n",
    "        my_date = sensor_interest['date_time'][i]\n",
    "        my_day = calendar.day_name[my_date.weekday()]\n",
    "        my_day_list.append(my_day)\n",
    "\n",
    "    sensor_interest['Day'] = my_day_list\n",
    "    \n",
    "\n",
    "    return sensor_interest"
   ]
  },
  {
   "cell_type": "code",
   "execution_count": 160,
   "metadata": {
    "scrolled": true
   },
   "outputs": [],
   "source": [
    "day_list = ['Sunday', 'Monday', 'Tuesday', 'Wednesday', 'Thursday','Friday', 'Saturday']\n",
    "def for_eachday(df):\n",
    "\n",
    "    each = []\n",
    "    day_list = ['Sunday', 'Monday', 'Tuesday', 'Wednesday', 'Thursday','Friday', 'Saturday']\n",
    "    \n",
    "    # Change time to int\n",
    "    time = df['date_time'].apply(lambda x: int(x.strftime('%H')))\n",
    "    df['time'] = time\n",
    "        \n",
    "    # Loop over days\n",
    "    for i in range (7):\n",
    "        # 10AM - 5PM\n",
    "        dday = round(df[(df['Day']==day_list[i]) & (df['time'] < 18) & (df['time'] > 9) ]['hourly_counts'].mean())\n",
    "        each.append(dday)\n",
    "        \n",
    "    return each"
   ]
  },
  {
   "cell_type": "code",
   "execution_count": 28,
   "metadata": {
    "scrolled": false
   },
   "outputs": [
    {
     "data": {
      "text/html": [
       "<div>\n",
       "<style scoped>\n",
       "    .dataframe tbody tr th:only-of-type {\n",
       "        vertical-align: middle;\n",
       "    }\n",
       "\n",
       "    .dataframe tbody tr th {\n",
       "        vertical-align: top;\n",
       "    }\n",
       "\n",
       "    .dataframe thead th {\n",
       "        text-align: right;\n",
       "    }\n",
       "</style>\n",
       "<table border=\"1\" class=\"dataframe\">\n",
       "  <thead>\n",
       "    <tr style=\"text-align: right;\">\n",
       "      <th></th>\n",
       "      <th>Gallery Name</th>\n",
       "      <th>Latitude</th>\n",
       "      <th>Longitude</th>\n",
       "      <th>Sunday</th>\n",
       "      <th>Monday</th>\n",
       "      <th>Tuesday</th>\n",
       "      <th>Wednesday</th>\n",
       "      <th>Thursday</th>\n",
       "      <th>Friday</th>\n",
       "      <th>Saturday</th>\n",
       "    </tr>\n",
       "  </thead>\n",
       "  <tbody>\n",
       "    <tr>\n",
       "      <th>0</th>\n",
       "      <td>Old Melbourne Gaol Crime</td>\n",
       "      <td>-37.807764</td>\n",
       "      <td>144.965464</td>\n",
       "      <td>836</td>\n",
       "      <td>840</td>\n",
       "      <td>892</td>\n",
       "      <td>945</td>\n",
       "      <td>931</td>\n",
       "      <td>957</td>\n",
       "      <td>920</td>\n",
       "    </tr>\n",
       "    <tr>\n",
       "      <th>1</th>\n",
       "      <td>Victorian Arts Centre</td>\n",
       "      <td>-37.821995</td>\n",
       "      <td>144.968837</td>\n",
       "      <td>1991</td>\n",
       "      <td>1502</td>\n",
       "      <td>1518</td>\n",
       "      <td>1668</td>\n",
       "      <td>1546</td>\n",
       "      <td>1728</td>\n",
       "      <td>1840</td>\n",
       "    </tr>\n",
       "    <tr>\n",
       "      <th>2</th>\n",
       "      <td>The Ian Potter Centre: NGV Australia</td>\n",
       "      <td>-37.817483</td>\n",
       "      <td>144.969899</td>\n",
       "      <td>1143</td>\n",
       "      <td>1037</td>\n",
       "      <td>1075</td>\n",
       "      <td>1117</td>\n",
       "      <td>1088</td>\n",
       "      <td>1194</td>\n",
       "      <td>1080</td>\n",
       "    </tr>\n",
       "    <tr>\n",
       "      <th>3</th>\n",
       "      <td>Thoroughbred Racing Gallery</td>\n",
       "      <td>-37.818866</td>\n",
       "      <td>144.983970</td>\n",
       "      <td>228</td>\n",
       "      <td>443</td>\n",
       "      <td>469</td>\n",
       "      <td>473</td>\n",
       "      <td>504</td>\n",
       "      <td>508</td>\n",
       "      <td>297</td>\n",
       "    </tr>\n",
       "    <tr>\n",
       "      <th>4</th>\n",
       "      <td>Fox Classic Car Collection</td>\n",
       "      <td>-37.821374</td>\n",
       "      <td>144.948497</td>\n",
       "      <td>226</td>\n",
       "      <td>622</td>\n",
       "      <td>684</td>\n",
       "      <td>693</td>\n",
       "      <td>710</td>\n",
       "      <td>655</td>\n",
       "      <td>367</td>\n",
       "    </tr>\n",
       "    <tr>\n",
       "      <th>5</th>\n",
       "      <td>Koorie Heritage Trust Inc</td>\n",
       "      <td>-37.813385</td>\n",
       "      <td>144.954028</td>\n",
       "      <td>854</td>\n",
       "      <td>1158</td>\n",
       "      <td>1199</td>\n",
       "      <td>1225</td>\n",
       "      <td>1312</td>\n",
       "      <td>1325</td>\n",
       "      <td>993</td>\n",
       "    </tr>\n",
       "    <tr>\n",
       "      <th>6</th>\n",
       "      <td>Australian Centre For The Moving Image (ACMI)</td>\n",
       "      <td>-37.817611</td>\n",
       "      <td>144.969070</td>\n",
       "      <td>1313</td>\n",
       "      <td>1128</td>\n",
       "      <td>1160</td>\n",
       "      <td>1191</td>\n",
       "      <td>1166</td>\n",
       "      <td>1310</td>\n",
       "      <td>1210</td>\n",
       "    </tr>\n",
       "    <tr>\n",
       "      <th>7</th>\n",
       "      <td>Blindside Gallery</td>\n",
       "      <td>-37.816711</td>\n",
       "      <td>144.966812</td>\n",
       "      <td>1971</td>\n",
       "      <td>2223</td>\n",
       "      <td>2258</td>\n",
       "      <td>2377</td>\n",
       "      <td>2390</td>\n",
       "      <td>2465</td>\n",
       "      <td>2177</td>\n",
       "    </tr>\n",
       "    <tr>\n",
       "      <th>8</th>\n",
       "      <td>Flinders Lane Gallery</td>\n",
       "      <td>-37.815715</td>\n",
       "      <td>144.970033</td>\n",
       "      <td>381</td>\n",
       "      <td>783</td>\n",
       "      <td>806</td>\n",
       "      <td>813</td>\n",
       "      <td>867</td>\n",
       "      <td>880</td>\n",
       "      <td>516</td>\n",
       "    </tr>\n",
       "    <tr>\n",
       "      <th>9</th>\n",
       "      <td>Mailbox Art Space</td>\n",
       "      <td>-37.815758</td>\n",
       "      <td>144.969861</td>\n",
       "      <td>427</td>\n",
       "      <td>822</td>\n",
       "      <td>845</td>\n",
       "      <td>853</td>\n",
       "      <td>906</td>\n",
       "      <td>923</td>\n",
       "      <td>565</td>\n",
       "    </tr>\n",
       "    <tr>\n",
       "      <th>10</th>\n",
       "      <td>RMIT Gallery</td>\n",
       "      <td>-37.812587</td>\n",
       "      <td>144.955458</td>\n",
       "      <td>828</td>\n",
       "      <td>915</td>\n",
       "      <td>954</td>\n",
       "      <td>980</td>\n",
       "      <td>1024</td>\n",
       "      <td>1042</td>\n",
       "      <td>911</td>\n",
       "    </tr>\n",
       "    <tr>\n",
       "      <th>11</th>\n",
       "      <td>Neon Parc</td>\n",
       "      <td>-37.813892</td>\n",
       "      <td>144.964020</td>\n",
       "      <td>2000</td>\n",
       "      <td>2078</td>\n",
       "      <td>2007</td>\n",
       "      <td>2186</td>\n",
       "      <td>2180</td>\n",
       "      <td>2380</td>\n",
       "      <td>2189</td>\n",
       "    </tr>\n",
       "    <tr>\n",
       "      <th>12</th>\n",
       "      <td>Outre Gallery</td>\n",
       "      <td>-37.812816</td>\n",
       "      <td>144.962224</td>\n",
       "      <td>744</td>\n",
       "      <td>849</td>\n",
       "      <td>878</td>\n",
       "      <td>910</td>\n",
       "      <td>915</td>\n",
       "      <td>926</td>\n",
       "      <td>842</td>\n",
       "    </tr>\n",
       "    <tr>\n",
       "      <th>13</th>\n",
       "      <td>Anna Schwartz Gallery</td>\n",
       "      <td>-37.816048</td>\n",
       "      <td>144.968890</td>\n",
       "      <td>776</td>\n",
       "      <td>1119</td>\n",
       "      <td>1142</td>\n",
       "      <td>1169</td>\n",
       "      <td>1211</td>\n",
       "      <td>1258</td>\n",
       "      <td>935</td>\n",
       "    </tr>\n",
       "    <tr>\n",
       "      <th>14</th>\n",
       "      <td>ARC ONE Gallery</td>\n",
       "      <td>-37.814730</td>\n",
       "      <td>144.973080</td>\n",
       "      <td>236</td>\n",
       "      <td>465</td>\n",
       "      <td>493</td>\n",
       "      <td>497</td>\n",
       "      <td>530</td>\n",
       "      <td>532</td>\n",
       "      <td>309</td>\n",
       "    </tr>\n",
       "    <tr>\n",
       "      <th>15</th>\n",
       "      <td>Gallery Funaki</td>\n",
       "      <td>-37.811609</td>\n",
       "      <td>144.971399</td>\n",
       "      <td>235</td>\n",
       "      <td>564</td>\n",
       "      <td>598</td>\n",
       "      <td>604</td>\n",
       "      <td>647</td>\n",
       "      <td>657</td>\n",
       "      <td>355</td>\n",
       "    </tr>\n",
       "    <tr>\n",
       "      <th>16</th>\n",
       "      <td>Lesley Kehoe Galleries</td>\n",
       "      <td>-37.814922</td>\n",
       "      <td>144.970520</td>\n",
       "      <td>233</td>\n",
       "      <td>642</td>\n",
       "      <td>659</td>\n",
       "      <td>659</td>\n",
       "      <td>714</td>\n",
       "      <td>719</td>\n",
       "      <td>356</td>\n",
       "    </tr>\n",
       "    <tr>\n",
       "      <th>17</th>\n",
       "      <td>SpACE@Collins</td>\n",
       "      <td>-37.815775</td>\n",
       "      <td>144.964823</td>\n",
       "      <td>1636</td>\n",
       "      <td>1907</td>\n",
       "      <td>1922</td>\n",
       "      <td>2041</td>\n",
       "      <td>2048</td>\n",
       "      <td>2154</td>\n",
       "      <td>1865</td>\n",
       "    </tr>\n",
       "    <tr>\n",
       "      <th>18</th>\n",
       "      <td>Tolarno Galleries</td>\n",
       "      <td>-37.813133</td>\n",
       "      <td>144.971330</td>\n",
       "      <td>258</td>\n",
       "      <td>691</td>\n",
       "      <td>725</td>\n",
       "      <td>723</td>\n",
       "      <td>781</td>\n",
       "      <td>777</td>\n",
       "      <td>391</td>\n",
       "    </tr>\n",
       "    <tr>\n",
       "      <th>19</th>\n",
       "      <td>Immigration Museum</td>\n",
       "      <td>-37.818374</td>\n",
       "      <td>144.959207</td>\n",
       "      <td>528</td>\n",
       "      <td>943</td>\n",
       "      <td>1029</td>\n",
       "      <td>1039</td>\n",
       "      <td>1080</td>\n",
       "      <td>1070</td>\n",
       "      <td>692</td>\n",
       "    </tr>\n",
       "    <tr>\n",
       "      <th>20</th>\n",
       "      <td>National Gallery of Victoria</td>\n",
       "      <td>-37.822594</td>\n",
       "      <td>144.968928</td>\n",
       "      <td>2042</td>\n",
       "      <td>1610</td>\n",
       "      <td>1673</td>\n",
       "      <td>1810</td>\n",
       "      <td>1706</td>\n",
       "      <td>1826</td>\n",
       "      <td>1927</td>\n",
       "    </tr>\n",
       "    <tr>\n",
       "      <th>21</th>\n",
       "      <td>The Dax Centre</td>\n",
       "      <td>-37.798269</td>\n",
       "      <td>144.958551</td>\n",
       "      <td>197</td>\n",
       "      <td>377</td>\n",
       "      <td>364</td>\n",
       "      <td>418</td>\n",
       "      <td>368</td>\n",
       "      <td>373</td>\n",
       "      <td>243</td>\n",
       "    </tr>\n",
       "    <tr>\n",
       "      <th>22</th>\n",
       "      <td>Fortyfivedownstairs Inc</td>\n",
       "      <td>-37.816956</td>\n",
       "      <td>144.970885</td>\n",
       "      <td>640</td>\n",
       "      <td>749</td>\n",
       "      <td>754</td>\n",
       "      <td>767</td>\n",
       "      <td>786</td>\n",
       "      <td>877</td>\n",
       "      <td>652</td>\n",
       "    </tr>\n",
       "    <tr>\n",
       "      <th>23</th>\n",
       "      <td>Pieces of Eight Gallery</td>\n",
       "      <td>-37.813492</td>\n",
       "      <td>144.967384</td>\n",
       "      <td>1878</td>\n",
       "      <td>1945</td>\n",
       "      <td>1950</td>\n",
       "      <td>2069</td>\n",
       "      <td>2051</td>\n",
       "      <td>2191</td>\n",
       "      <td>2058</td>\n",
       "    </tr>\n",
       "    <tr>\n",
       "      <th>24</th>\n",
       "      <td>Magnet Galleries Melbourne</td>\n",
       "      <td>-37.816581</td>\n",
       "      <td>144.952387</td>\n",
       "      <td>984</td>\n",
       "      <td>1632</td>\n",
       "      <td>1690</td>\n",
       "      <td>1700</td>\n",
       "      <td>1876</td>\n",
       "      <td>1864</td>\n",
       "      <td>1220</td>\n",
       "    </tr>\n",
       "  </tbody>\n",
       "</table>\n",
       "</div>"
      ],
      "text/plain": [
       "                                     Gallery Name   Latitude   Longitude  \\\n",
       "0                        Old Melbourne Gaol Crime -37.807764  144.965464   \n",
       "1                           Victorian Arts Centre -37.821995  144.968837   \n",
       "2            The Ian Potter Centre: NGV Australia -37.817483  144.969899   \n",
       "3                     Thoroughbred Racing Gallery -37.818866  144.983970   \n",
       "4                      Fox Classic Car Collection -37.821374  144.948497   \n",
       "5                       Koorie Heritage Trust Inc -37.813385  144.954028   \n",
       "6   Australian Centre For The Moving Image (ACMI) -37.817611  144.969070   \n",
       "7                               Blindside Gallery -37.816711  144.966812   \n",
       "8                           Flinders Lane Gallery -37.815715  144.970033   \n",
       "9                               Mailbox Art Space -37.815758  144.969861   \n",
       "10                                   RMIT Gallery -37.812587  144.955458   \n",
       "11                                      Neon Parc -37.813892  144.964020   \n",
       "12                                  Outre Gallery -37.812816  144.962224   \n",
       "13                          Anna Schwartz Gallery -37.816048  144.968890   \n",
       "14                                ARC ONE Gallery -37.814730  144.973080   \n",
       "15                                 Gallery Funaki -37.811609  144.971399   \n",
       "16                         Lesley Kehoe Galleries -37.814922  144.970520   \n",
       "17                                  SpACE@Collins -37.815775  144.964823   \n",
       "18                              Tolarno Galleries -37.813133  144.971330   \n",
       "19                             Immigration Museum -37.818374  144.959207   \n",
       "20                   National Gallery of Victoria -37.822594  144.968928   \n",
       "21                                 The Dax Centre -37.798269  144.958551   \n",
       "22                        Fortyfivedownstairs Inc -37.816956  144.970885   \n",
       "23                        Pieces of Eight Gallery -37.813492  144.967384   \n",
       "24                     Magnet Galleries Melbourne -37.816581  144.952387   \n",
       "\n",
       "    Sunday  Monday  Tuesday  Wednesday  Thursday  Friday  Saturday  \n",
       "0      836     840      892        945       931     957       920  \n",
       "1     1991    1502     1518       1668      1546    1728      1840  \n",
       "2     1143    1037     1075       1117      1088    1194      1080  \n",
       "3      228     443      469        473       504     508       297  \n",
       "4      226     622      684        693       710     655       367  \n",
       "5      854    1158     1199       1225      1312    1325       993  \n",
       "6     1313    1128     1160       1191      1166    1310      1210  \n",
       "7     1971    2223     2258       2377      2390    2465      2177  \n",
       "8      381     783      806        813       867     880       516  \n",
       "9      427     822      845        853       906     923       565  \n",
       "10     828     915      954        980      1024    1042       911  \n",
       "11    2000    2078     2007       2186      2180    2380      2189  \n",
       "12     744     849      878        910       915     926       842  \n",
       "13     776    1119     1142       1169      1211    1258       935  \n",
       "14     236     465      493        497       530     532       309  \n",
       "15     235     564      598        604       647     657       355  \n",
       "16     233     642      659        659       714     719       356  \n",
       "17    1636    1907     1922       2041      2048    2154      1865  \n",
       "18     258     691      725        723       781     777       391  \n",
       "19     528     943     1029       1039      1080    1070       692  \n",
       "20    2042    1610     1673       1810      1706    1826      1927  \n",
       "21     197     377      364        418       368     373       243  \n",
       "22     640     749      754        767       786     877       652  \n",
       "23    1878    1945     1950       2069      2051    2191      2058  \n",
       "24     984    1632     1690       1700      1876    1864      1220  "
      ]
     },
     "execution_count": 28,
     "metadata": {},
     "output_type": "execute_result"
    }
   ],
   "source": [
    "# Find average for each gallery\n",
    "average_list = []\n",
    "\n",
    "for n in range(0,len(gallery)):\n",
    "    average = for_eachday(get_ped(gallery, df, df2, i=n))\n",
    "    average_list.append(average)\n",
    "    \n",
    "# Concat\n",
    "past = pd.concat([gallery, pd.DataFrame(average_list, columns=day_list)], axis=1)\n",
    "past.to_csv('past.csv')\n",
    "past"
   ]
  },
  {
   "cell_type": "markdown",
   "metadata": {},
   "source": [
    "## <font color='red'>Future - 1 week </font>"
   ]
  },
  {
   "cell_type": "code",
   "execution_count": 4,
   "metadata": {},
   "outputs": [
    {
     "name": "stderr",
     "output_type": "stream",
     "text": [
      "Using TensorFlow backend.\n"
     ]
    }
   ],
   "source": [
    "# General Purpose\n",
    "import pandas as pd\n",
    "import numpy as np\n",
    "import matplotlib.pyplot as plt\n",
    "from datetime import datetime\n",
    "import time\n",
    "\n",
    "# For modelling\n",
    "from keras.layers import Dense\n",
    "from keras.layers import LSTM\n",
    "from keras.layers import Dropout\n",
    "from keras.models import Sequential\n",
    "from keras.layers import Bidirectional\n",
    "from keras.models import model_from_json\n",
    "from sklearn.preprocessing import MinMaxScaler"
   ]
  },
  {
   "cell_type": "code",
   "execution_count": 5,
   "metadata": {},
   "outputs": [],
   "source": [
    "def scale_data(dataset):\n",
    "    scaler = MinMaxScaler(feature_range=(0, 1))\n",
    "    training_scaled = scaler.fit_transform(dataset)\n",
    "    return training_scaled\n",
    "\n",
    "def build_X(training_scaled):\n",
    "    X_train = []\n",
    "    lookback = 168\n",
    "\n",
    "    for i in range(lookback, len(training_scaled)):\n",
    "        X_train.append(training_scaled[i-lookback:i,0])   \n",
    "        \n",
    "    X_train = np.array(X_train)\n",
    "    return X_train\n",
    "\n",
    "def build_Y(training_scaled):\n",
    "    Y_train = []\n",
    "    lookback = 168\n",
    "\n",
    "    for i in range(lookback, len(training_scaled)):\n",
    "        Y_train.append(training_scaled[i,0])\n",
    "        \n",
    "    Y_train = np.array(Y_train)\n",
    "    return Y_train"
   ]
  },
  {
   "cell_type": "code",
   "execution_count": 6,
   "metadata": {},
   "outputs": [
    {
     "name": "stdout",
     "output_type": "stream",
     "text": [
      "WARNING:tensorflow:From C:\\ProgramData\\Anaconda3\\lib\\site-packages\\tensorflow\\python\\framework\\op_def_library.py:263: colocate_with (from tensorflow.python.framework.ops) is deprecated and will be removed in a future version.\n",
      "Instructions for updating:\n",
      "Colocations handled automatically by placer.\n",
      "WARNING:tensorflow:From C:\\ProgramData\\Anaconda3\\lib\\site-packages\\keras\\backend\\tensorflow_backend.py:3445: calling dropout (from tensorflow.python.ops.nn_ops) with keep_prob is deprecated and will be removed in a future version.\n",
      "Instructions for updating:\n",
      "Please use `rate` instead of `keep_prob`. Rate should be set to `rate = 1 - keep_prob`.\n",
      "Loaded model from disk\n"
     ]
    }
   ],
   "source": [
    "# load json and create model\n",
    "json_file = open('model/2_model.json', 'r')\n",
    "loaded_model_json = json_file.read()\n",
    "json_file.close()\n",
    "\n",
    "model_2 = model_from_json(loaded_model_json)\n",
    "# load weights into new model\n",
    "model_2.load_weights(\"model/2_model.h5\")\n",
    "print(\"Loaded model from disk\")"
   ]
  },
  {
   "cell_type": "code",
   "execution_count": 7,
   "metadata": {},
   "outputs": [
    {
     "name": "stdout",
     "output_type": "stream",
     "text": [
      "Loaded model from disk\n"
     ]
    }
   ],
   "source": [
    "# load json and create model\n",
    "json_file = open('model/3_model.json', 'r')\n",
    "loaded_model_json = json_file.read()\n",
    "json_file.close()\n",
    "\n",
    "model_3 = model_from_json(loaded_model_json)\n",
    "# load weights into new model\n",
    "model_3.load_weights(\"model/3_model.h5\")\n",
    "print(\"Loaded model from disk\")"
   ]
  },
  {
   "cell_type": "code",
   "execution_count": 8,
   "metadata": {
    "scrolled": true
   },
   "outputs": [
    {
     "name": "stdout",
     "output_type": "stream",
     "text": [
      "Loaded model from disk\n"
     ]
    }
   ],
   "source": [
    "# load json and create model\n",
    "json_file = open('model/4_model.json', 'r')\n",
    "loaded_model_json = json_file.read()\n",
    "json_file.close()\n",
    "\n",
    "model_4 = model_from_json(loaded_model_json)\n",
    "# load weights into new model\n",
    "model_4.load_weights(\"model/4_model.h5\")\n",
    "print(\"Loaded model from disk\")"
   ]
  },
  {
   "cell_type": "code",
   "execution_count": 9,
   "metadata": {},
   "outputs": [
    {
     "name": "stdout",
     "output_type": "stream",
     "text": [
      "Loaded model from disk\n"
     ]
    }
   ],
   "source": [
    "# load json and create model\n",
    "json_file = open('model/10_model.json', 'r')\n",
    "loaded_model_json = json_file.read()\n",
    "json_file.close()\n",
    "\n",
    "model_10 = model_from_json(loaded_model_json)\n",
    "# load weights into new model\n",
    "model_10.load_weights(\"model/10_model.h5\")\n",
    "print(\"Loaded model from disk\")"
   ]
  },
  {
   "cell_type": "code",
   "execution_count": 10,
   "metadata": {},
   "outputs": [
    {
     "name": "stdout",
     "output_type": "stream",
     "text": [
      "Loaded model from disk\n"
     ]
    }
   ],
   "source": [
    "# load json and create model\n",
    "json_file = open('model/13_model.json', 'r')\n",
    "loaded_model_json = json_file.read()\n",
    "json_file.close()\n",
    "\n",
    "model_13 = model_from_json(loaded_model_json)\n",
    "# load weights into new model\n",
    "model_13.load_weights(\"model/13_model.h5\")\n",
    "print(\"Loaded model from disk\")"
   ]
  },
  {
   "cell_type": "code",
   "execution_count": 11,
   "metadata": {},
   "outputs": [
    {
     "name": "stdout",
     "output_type": "stream",
     "text": [
      "Loaded model from disk\n"
     ]
    }
   ],
   "source": [
    "# load json and create model\n",
    "json_file = open('model/17_model.json', 'r')\n",
    "loaded_model_json = json_file.read()\n",
    "json_file.close()\n",
    "\n",
    "model_17 = model_from_json(loaded_model_json)\n",
    "# load weights into new model\n",
    "model_17.load_weights(\"model/17_model.h5\")\n",
    "print(\"Loaded model from disk\")"
   ]
  },
  {
   "cell_type": "code",
   "execution_count": 12,
   "metadata": {},
   "outputs": [
    {
     "name": "stdout",
     "output_type": "stream",
     "text": [
      "Loaded model from disk\n"
     ]
    }
   ],
   "source": [
    "# load json and create model\n",
    "json_file = open('model/22_model.json', 'r')\n",
    "loaded_model_json = json_file.read()\n",
    "json_file.close()\n",
    "\n",
    "model_22 = model_from_json(loaded_model_json)\n",
    "# load weights into new model\n",
    "model_22.load_weights(\"model/22_model.h5\")\n",
    "print(\"Loaded model from disk\")"
   ]
  },
  {
   "cell_type": "code",
   "execution_count": 13,
   "metadata": {},
   "outputs": [
    {
     "name": "stdout",
     "output_type": "stream",
     "text": [
      "Loaded model from disk\n"
     ]
    }
   ],
   "source": [
    "# load json and create model\n",
    "json_file = open('model/29_model.json', 'r')\n",
    "loaded_model_json = json_file.read()\n",
    "json_file.close()\n",
    "\n",
    "model_29 = model_from_json(loaded_model_json)\n",
    "# load weights into new model\n",
    "model_29.load_weights(\"model/29_model.h5\")\n",
    "print(\"Loaded model from disk\")"
   ]
  },
  {
   "cell_type": "code",
   "execution_count": 14,
   "metadata": {},
   "outputs": [
    {
     "name": "stdout",
     "output_type": "stream",
     "text": [
      "Loaded model from disk\n"
     ]
    }
   ],
   "source": [
    "# load json and create model\n",
    "json_file = open('model/35_model.json', 'r')\n",
    "loaded_model_json = json_file.read()\n",
    "json_file.close()\n",
    "\n",
    "model_35 = model_from_json(loaded_model_json)\n",
    "# load weights into new model\n",
    "model_35.load_weights(\"model/35_model.h5\")\n",
    "print(\"Loaded model from disk\")"
   ]
  },
  {
   "cell_type": "code",
   "execution_count": 15,
   "metadata": {},
   "outputs": [
    {
     "name": "stdout",
     "output_type": "stream",
     "text": [
      "Loaded model from disk\n"
     ]
    }
   ],
   "source": [
    "# load json and create model\n",
    "json_file = open('model/43_model.json', 'r')\n",
    "loaded_model_json = json_file.read()\n",
    "json_file.close()\n",
    "\n",
    "model_43 = model_from_json(loaded_model_json)\n",
    "# load weights into new model\n",
    "model_43.load_weights(\"model/43_model.h5\")\n",
    "print(\"Loaded model from disk\")"
   ]
  },
  {
   "cell_type": "code",
   "execution_count": 16,
   "metadata": {},
   "outputs": [
    {
     "name": "stdout",
     "output_type": "stream",
     "text": [
      "Loaded model from disk\n"
     ]
    }
   ],
   "source": [
    "# load json and create model\n",
    "json_file = open('model/47_model.json', 'r')\n",
    "loaded_model_json = json_file.read()\n",
    "json_file.close()\n",
    "\n",
    "model_47 = model_from_json(loaded_model_json)\n",
    "# load weights into new model\n",
    "model_47.load_weights(\"model/47_model.h5\")\n",
    "print(\"Loaded model from disk\")"
   ]
  },
  {
   "cell_type": "code",
   "execution_count": 17,
   "metadata": {},
   "outputs": [
    {
     "name": "stdout",
     "output_type": "stream",
     "text": [
      "Loaded model from disk\n"
     ]
    }
   ],
   "source": [
    "# load json and create model\n",
    "json_file = open('model/49_model.json', 'r')\n",
    "loaded_model_json = json_file.read()\n",
    "json_file.close()\n",
    "\n",
    "model_49 = model_from_json(loaded_model_json)\n",
    "# load weights into new model\n",
    "model_49.load_weights(\"model/49_model.h5\")\n",
    "print(\"Loaded model from disk\")"
   ]
  },
  {
   "cell_type": "code",
   "execution_count": 18,
   "metadata": {},
   "outputs": [
    {
     "name": "stdout",
     "output_type": "stream",
     "text": [
      "Loaded model from disk\n"
     ]
    }
   ],
   "source": [
    "# load json and create model\n",
    "json_file = open('model/52_model.json', 'r')\n",
    "loaded_model_json = json_file.read()\n",
    "json_file.close()\n",
    "\n",
    "model_52 = model_from_json(loaded_model_json)\n",
    "# load weights into new model\n",
    "model_52.load_weights(\"model/52_model.h5\")\n",
    "print(\"Loaded model from disk\")"
   ]
  },
  {
   "cell_type": "code",
   "execution_count": 19,
   "metadata": {},
   "outputs": [
    {
     "name": "stdout",
     "output_type": "stream",
     "text": [
      "Loaded model from disk\n"
     ]
    }
   ],
   "source": [
    "# load json and create model\n",
    "json_file = open('model/58_model.json', 'r')\n",
    "loaded_model_json = json_file.read()\n",
    "json_file.close()\n",
    "\n",
    "model_58 = model_from_json(loaded_model_json)\n",
    "# load weights into new model\n",
    "model_58.load_weights(\"model/58_model.h5\")\n",
    "print(\"Loaded model from disk\")"
   ]
  },
  {
   "cell_type": "code",
   "execution_count": 20,
   "metadata": {},
   "outputs": [
    {
     "name": "stdout",
     "output_type": "stream",
     "text": [
      "Loaded model from disk\n"
     ]
    }
   ],
   "source": [
    "# load json and create model\n",
    "json_file = open('model/59_model.json', 'r')\n",
    "loaded_model_json = json_file.read()\n",
    "json_file.close()\n",
    "\n",
    "model_59 = model_from_json(loaded_model_json)\n",
    "# load weights into new model\n",
    "model_59.load_weights(\"model/59_model.h5\")\n",
    "print(\"Loaded model from disk\")"
   ]
  },
  {
   "cell_type": "code",
   "execution_count": 21,
   "metadata": {},
   "outputs": [
    {
     "name": "stdout",
     "output_type": "stream",
     "text": [
      "Loaded model from disk\n"
     ]
    }
   ],
   "source": [
    "# load json and create model\n",
    "json_file = open('model/104_model.json', 'r')\n",
    "loaded_model_json = json_file.read()\n",
    "json_file.close()\n",
    "\n",
    "model_104 = model_from_json(loaded_model_json)\n",
    "# load weights into new model\n",
    "model_104.load_weights(\"model/104_model.h5\")\n",
    "print(\"Loaded model from disk\")"
   ]
  },
  {
   "cell_type": "code",
   "execution_count": 22,
   "metadata": {},
   "outputs": [
    {
     "name": "stdout",
     "output_type": "stream",
     "text": [
      "Loaded model from disk\n"
     ]
    }
   ],
   "source": [
    "# load json and create model\n",
    "json_file = open('model/109_model.json', 'r')\n",
    "loaded_model_json = json_file.read()\n",
    "json_file.close()\n",
    "\n",
    "model_109 = model_from_json(loaded_model_json)\n",
    "# load weights into new model\n",
    "model_109.load_weights(\"model/109_model.h5\")\n",
    "print(\"Loaded model from disk\")"
   ]
  },
  {
   "cell_type": "code",
   "execution_count": 23,
   "metadata": {},
   "outputs": [
    {
     "name": "stdout",
     "output_type": "stream",
     "text": [
      "Loaded model from disk\n"
     ]
    }
   ],
   "source": [
    "# load json and create model\n",
    "json_file = open('model/110_model.json', 'r')\n",
    "loaded_model_json = json_file.read()\n",
    "json_file.close()\n",
    "\n",
    "model_110 = model_from_json(loaded_model_json)\n",
    "# load weights into new model\n",
    "model_110.load_weights(\"model/110_model.h5\")\n",
    "print(\"Loaded model from disk\")"
   ]
  },
  {
   "cell_type": "code",
   "execution_count": 83,
   "metadata": {},
   "outputs": [],
   "source": [
    "# keep models in dictionary\n",
    "my_models = {}\n",
    "my_models[2] = model_2\n",
    "my_models[3] = model_3\n",
    "my_models[4] = model_4\n",
    "my_models[10] = model_10\n",
    "my_models[13] = model_13\n",
    "my_models[17] = model_17\n",
    "my_models[22] = model_22\n",
    "my_models[29] = model_29\n",
    "my_models[35] = model_35\n",
    "my_models[43] = model_43\n",
    "my_models[47] = model_47\n",
    "my_models[49] = model_49\n",
    "my_models[52] = model_52\n",
    "my_models[58] = model_58\n",
    "my_models[59] = model_59\n",
    "my_models[104] = model_104\n",
    "my_models[109] = model_109\n",
    "my_models[110] = model_110"
   ]
  },
  {
   "cell_type": "code",
   "execution_count": 117,
   "metadata": {},
   "outputs": [],
   "source": [
    "models = [2, 3, 4, 10, 13, 17, 22, 29, 35, 43, 47, 49, 52, 58, 59, 104, 109, 110]"
   ]
  },
  {
   "cell_type": "code",
   "execution_count": 84,
   "metadata": {},
   "outputs": [],
   "source": [
    "# Transformation\n",
    "sc = MinMaxScaler(feature_range = (0,1))\n",
    "\n",
    "def transform(df):\n",
    "    df['hourly_counts'] = df['hourly_counts'].astype(float)\n",
    "    df_x = df.set_index(['date_time'])    \n",
    "    X_test = sc.fit_transform(df_x)\n",
    "    X_test = build_X(X_test)\n",
    "    X_test = np.reshape(X_test, (X_test.shape[0], X_test.shape[1], 1))\n",
    "    return X_test"
   ]
  },
  {
   "cell_type": "code",
   "execution_count": 85,
   "metadata": {},
   "outputs": [],
   "source": [
    "def s_transform(data):\n",
    "    X_test = build_X(data)\n",
    "    X_test = np.reshape(X_test, (X_test.shape[0], X_test.shape[1], 1))\n",
    "    return X_test"
   ]
  },
  {
   "cell_type": "code",
   "execution_count": 86,
   "metadata": {},
   "outputs": [],
   "source": [
    "def additional_preds(n_weeks, data, model):\n",
    "    # Creates additional 169 predictions (i.e. 1week)\n",
    "    original = (model.predict(transform(data)))\n",
    "    \n",
    "    for i in range(n_weeks):\n",
    "        onestep = model.predict(s_transform(original)[-169:,])\n",
    "        original = np.concatenate((original, onestep)) # use from last 169\n",
    "\n",
    "    return pd.DataFrame(sc.inverse_transform(original)).clip(lower=0)"
   ]
  },
  {
   "cell_type": "code",
   "execution_count": 87,
   "metadata": {
    "scrolled": true
   },
   "outputs": [],
   "source": [
    "df2 = df2.drop(df2.index[[2]])\n",
    "df2 = df2.reset_index(drop=True)"
   ]
  },
  {
   "cell_type": "code",
   "execution_count": 88,
   "metadata": {},
   "outputs": [],
   "source": [
    "s_list = df2['sensor_id'].unique()"
   ]
  },
  {
   "cell_type": "code",
   "execution_count": 89,
   "metadata": {
    "scrolled": true
   },
   "outputs": [
    {
     "data": {
      "text/plain": [
       "Series([], Name: longitude, dtype: float64)"
      ]
     },
     "execution_count": 89,
     "metadata": {},
     "output_type": "execute_result"
    }
   ],
   "source": [
    "df2[df2['sensor_id'] == models[1]]['latitude']\n",
    "df2[df2['sensor_id'] == models[1]]['longitude']"
   ]
  },
  {
   "cell_type": "code",
   "execution_count": 91,
   "metadata": {},
   "outputs": [
    {
     "data": {
      "text/plain": [
       "60"
      ]
     },
     "execution_count": 91,
     "metadata": {},
     "output_type": "execute_result"
    }
   ],
   "source": [
    "len(df2)"
   ]
  },
  {
   "cell_type": "code",
   "execution_count": 92,
   "metadata": {},
   "outputs": [
    {
     "data": {
      "text/plain": [
       "18"
      ]
     },
     "execution_count": 92,
     "metadata": {},
     "output_type": "execute_result"
    }
   ],
   "source": [
    "len(models)"
   ]
  },
  {
   "cell_type": "code",
   "execution_count": 120,
   "metadata": {},
   "outputs": [
    {
     "data": {
      "text/html": [
       "<div>\n",
       "<style scoped>\n",
       "    .dataframe tbody tr th:only-of-type {\n",
       "        vertical-align: middle;\n",
       "    }\n",
       "\n",
       "    .dataframe tbody tr th {\n",
       "        vertical-align: top;\n",
       "    }\n",
       "\n",
       "    .dataframe thead th {\n",
       "        text-align: right;\n",
       "    }\n",
       "</style>\n",
       "<table border=\"1\" class=\"dataframe\">\n",
       "  <thead>\n",
       "    <tr style=\"text-align: right;\">\n",
       "      <th></th>\n",
       "      <th>sensor_id</th>\n",
       "      <th>latitude</th>\n",
       "      <th>longitude</th>\n",
       "    </tr>\n",
       "  </thead>\n",
       "  <tbody>\n",
       "  </tbody>\n",
       "</table>\n",
       "</div>"
      ],
      "text/plain": [
       "Empty DataFrame\n",
       "Columns: [sensor_id, latitude, longitude]\n",
       "Index: []"
      ]
     },
     "execution_count": 120,
     "metadata": {},
     "output_type": "execute_result"
    }
   ],
   "source": [
    "col_names = ['sensor_id', 'latitude', 'longitude']\n",
    "models_df = pd.DataFrame(columns = col_names)\n",
    "models_df.head()"
   ]
  },
  {
   "cell_type": "code",
   "execution_count": 122,
   "metadata": {},
   "outputs": [],
   "source": [
    "for i in range(len(models)):\n",
    "    models_df = models_df.append(df2[(df2['sensor_id'] == models[i])])"
   ]
  },
  {
   "cell_type": "code",
   "execution_count": 95,
   "metadata": {},
   "outputs": [],
   "source": [
    "df=df.iloc[:,[0,1,4,5,3]]"
   ]
  },
  {
   "cell_type": "code",
   "execution_count": 96,
   "metadata": {
    "scrolled": true
   },
   "outputs": [],
   "source": [
    "models_df = models_df.reset_index(drop=True)"
   ]
  },
  {
   "cell_type": "markdown",
   "metadata": {},
   "source": [
    "## <font color='red'>Future - 3 Months </font>"
   ]
  },
  {
   "cell_type": "code",
   "execution_count": 97,
   "metadata": {
    "scrolled": true
   },
   "outputs": [
    {
     "data": {
      "text/plain": [
       "set()"
      ]
     },
     "execution_count": 97,
     "metadata": {},
     "output_type": "execute_result"
    }
   ],
   "source": [
    "set(s_list)-set(df['sensor_id'].unique())"
   ]
  },
  {
   "cell_type": "code",
   "execution_count": 718,
   "metadata": {
    "scrolled": true
   },
   "outputs": [
    {
     "name": "stdout",
     "output_type": "stream",
     "text": [
      "Sensor: 1\n",
      "Sensor: 2\n",
      "Sensor: 5\n",
      "Sensor: 6\n",
      "Sensor: 8\n",
      "Sensor: 9\n",
      "Sensor: 10\n",
      "Sensor: 11\n",
      "Sensor: 12\n",
      "Sensor: 14\n",
      "Sensor: 15\n",
      "Sensor: 17\n",
      "Sensor: 18\n",
      "Sensor: 19\n",
      "Sensor: 20\n",
      "Sensor: 21\n",
      "Sensor: 22\n",
      "Sensor: 23\n",
      "Sensor: 24\n",
      "Sensor: 25\n",
      "Sensor: 26\n",
      "Sensor: 27\n",
      "Sensor: 28\n",
      "Sensor: 29\n",
      "Sensor: 30\n",
      "Sensor: 31\n",
      "Sensor: 33\n",
      "Sensor: 34\n",
      "Sensor: 35\n",
      "Sensor: 36\n",
      "Sensor: 37\n",
      "Sensor: 39\n",
      "Sensor: 40\n",
      "Sensor: 42\n",
      "Sensor: 43\n",
      "Sensor: 44\n",
      "Sensor: 46\n",
      "Sensor: 47\n",
      "Sensor: 48\n",
      "Sensor: 49\n",
      "Sensor: 50\n",
      "Sensor: 51\n",
      "Sensor: 52\n",
      "Sensor: 53\n",
      "Sensor: 54\n",
      "Sensor: 56\n",
      "Sensor: 57\n",
      "Sensor: 58\n",
      "Sensor: 59\n",
      "Sensor: 101\n",
      "Sensor: 102\n",
      "Sensor: 13\n",
      "Sensor: 103\n",
      "Sensor: 104\n",
      "Sensor: 105\n",
      "Sensor: 106\n",
      "Sensor: 107\n",
      "Sensor: 108\n",
      "Sensor: 109\n",
      "Sensor: 110\n"
     ]
    }
   ],
   "source": [
    "nweek = (4*5)+1\n",
    "dat = pd.DataFrame()\n",
    "i = 0\n",
    "\n",
    "while i <= 59:\n",
    "    # Find Nearest 1 model\n",
    "    gallery_sensor = pd.DataFrame([{'Latitude':df2['latitude'][i], 'Longitude': df2['longitude'][i]}])\n",
    "    \n",
    "    df_temp = pd.concat([pd.DataFrame(within(gallery_sensor, models_df, 3, 0)).reset_index(drop=True),\n",
    "               pd.DataFrame(within_d(gallery_sensor, models_df, 3, 0)).reset_index(drop=True)], axis=1)\n",
    "    df_temp.rename(columns={0:'distance'}, inplace=True)\n",
    "    df_temp = df_temp.sort_values('distance').iloc[0:1,]\n",
    "    df_temp = df_temp.reset_index(drop=True)\n",
    "\n",
    "    df_use = df[df['sensor_id']==df2['sensor_id'][i]].iloc[:,[0,-1]]  \n",
    "    print(\"Sensor:\", df2['sensor_id'][i])\n",
    "\n",
    "    ad = additional_preds(nweek, df_use, model=my_models[int(df_temp['sensor_id'])])\n",
    "    ad['date_time'] = df[df['sensor_id']==df2['sensor_id'][i]]['date_time'].reset_index(drop=True)\n",
    "    t = ad\n",
    "    t['sensor_id'] = df2['sensor_id'][i]\n",
    "    t.rename(columns={0:'hourly_counts'}, inplace=True)\n",
    "\n",
    "    dat = pd.concat([dat, t], sort=True)\n",
    "    \n",
    "    i += 1"
   ]
  },
  {
   "cell_type": "code",
   "execution_count": 720,
   "metadata": {},
   "outputs": [],
   "source": [
    "dat.to_csv('4months.csv', index=False)"
   ]
  },
  {
   "cell_type": "code",
   "execution_count": 722,
   "metadata": {
    "scrolled": true
   },
   "outputs": [],
   "source": [
    "dat2 = dat.merge(df2.iloc[:,0:3], on='sensor_id')"
   ]
  },
  {
   "cell_type": "code",
   "execution_count": 723,
   "metadata": {},
   "outputs": [
    {
     "data": {
      "text/plain": [
       "464940"
      ]
     },
     "execution_count": 723,
     "metadata": {},
     "output_type": "execute_result"
    }
   ],
   "source": [
    "len(dat2)"
   ]
  },
  {
   "cell_type": "code",
   "execution_count": 725,
   "metadata": {},
   "outputs": [],
   "source": [
    "dat2['date_time'] = pd.to_datetime(dat2['date_time'], format=\"%d/%m/%Y %H:%M\")"
   ]
  },
  {
   "cell_type": "code",
   "execution_count": 733,
   "metadata": {},
   "outputs": [],
   "source": [
    "dat3 = dat2[dat2['date_time'].isnull()]"
   ]
  },
  {
   "cell_type": "code",
   "execution_count": 737,
   "metadata": {},
   "outputs": [
    {
     "data": {
      "text/plain": [
       "3381.0"
      ]
     },
     "execution_count": 737,
     "metadata": {},
     "output_type": "execute_result"
    }
   ],
   "source": [
    "len(dat3)/len(dat3['sensor_id'].unique())"
   ]
  },
  {
   "cell_type": "code",
   "execution_count": 744,
   "metadata": {},
   "outputs": [],
   "source": [
    "dt = pd.read_csv('pedestrian/date_time.csv')"
   ]
  },
  {
   "cell_type": "code",
   "execution_count": 746,
   "metadata": {},
   "outputs": [
    {
     "data": {
      "text/plain": [
       "3381"
      ]
     },
     "execution_count": 746,
     "metadata": {},
     "output_type": "execute_result"
    }
   ],
   "source": [
    "len(dt)"
   ]
  },
  {
   "cell_type": "code",
   "execution_count": 758,
   "metadata": {},
   "outputs": [],
   "source": [
    "del dat3['date_time']"
   ]
  },
  {
   "cell_type": "code",
   "execution_count": 759,
   "metadata": {
    "scrolled": true
   },
   "outputs": [],
   "source": [
    "dat3 = dat3.reset_index(drop=True)"
   ]
  },
  {
   "cell_type": "code",
   "execution_count": 780,
   "metadata": {},
   "outputs": [],
   "source": [
    "dat3['date_time'] = dt"
   ]
  },
  {
   "cell_type": "code",
   "execution_count": 814,
   "metadata": {
    "scrolled": true
   },
   "outputs": [],
   "source": [
    "# save and add date time manually\n",
    "dat3.to_csv('dat3.csv', index=False)"
   ]
  },
  {
   "cell_type": "code",
   "execution_count": 782,
   "metadata": {
    "scrolled": true
   },
   "outputs": [],
   "source": [
    "# Read back\n",
    "dat3 = pd.read_csv('dat3.csv')"
   ]
  },
  {
   "cell_type": "code",
   "execution_count": 787,
   "metadata": {},
   "outputs": [
    {
     "data": {
      "text/html": [
       "<div>\n",
       "<style scoped>\n",
       "    .dataframe tbody tr th:only-of-type {\n",
       "        vertical-align: middle;\n",
       "    }\n",
       "\n",
       "    .dataframe tbody tr th {\n",
       "        vertical-align: top;\n",
       "    }\n",
       "\n",
       "    .dataframe thead th {\n",
       "        text-align: right;\n",
       "    }\n",
       "</style>\n",
       "<table border=\"1\" class=\"dataframe\">\n",
       "  <thead>\n",
       "    <tr style=\"text-align: right;\">\n",
       "      <th></th>\n",
       "      <th>date_time</th>\n",
       "      <th>hourly_counts</th>\n",
       "      <th>sensor_id</th>\n",
       "      <th>latitude</th>\n",
       "      <th>longitude</th>\n",
       "    </tr>\n",
       "  </thead>\n",
       "  <tbody>\n",
       "    <tr>\n",
       "      <th>0</th>\n",
       "      <td>01/04/2019 0:00</td>\n",
       "      <td>572.52545</td>\n",
       "      <td>1.0</td>\n",
       "      <td>-37.813494</td>\n",
       "      <td>144.965153</td>\n",
       "    </tr>\n",
       "  </tbody>\n",
       "</table>\n",
       "</div>"
      ],
      "text/plain": [
       "         date_time  hourly_counts  sensor_id   latitude   longitude\n",
       "0  01/04/2019 0:00      572.52545        1.0 -37.813494  144.965153"
      ]
     },
     "execution_count": 787,
     "metadata": {},
     "output_type": "execute_result"
    }
   ],
   "source": [
    "dat3.head(1)"
   ]
  },
  {
   "cell_type": "code",
   "execution_count": 792,
   "metadata": {
    "scrolled": true
   },
   "outputs": [],
   "source": [
    "dat3['date_time'] = pd.to_datetime(dat3['date_time'], format=\"%d/%m/%Y %H:%M\")"
   ]
  },
  {
   "cell_type": "code",
   "execution_count": 810,
   "metadata": {},
   "outputs": [],
   "source": [
    "dat3 = dat3[dat3['date_time'] <= '31/07/2019 23']"
   ]
  },
  {
   "cell_type": "code",
   "execution_count": 813,
   "metadata": {
    "scrolled": true
   },
   "outputs": [
    {
     "data": {
      "text/html": [
       "<div>\n",
       "<style scoped>\n",
       "    .dataframe tbody tr th:only-of-type {\n",
       "        vertical-align: middle;\n",
       "    }\n",
       "\n",
       "    .dataframe tbody tr th {\n",
       "        vertical-align: top;\n",
       "    }\n",
       "\n",
       "    .dataframe thead th {\n",
       "        text-align: right;\n",
       "    }\n",
       "</style>\n",
       "<table border=\"1\" class=\"dataframe\">\n",
       "  <thead>\n",
       "    <tr style=\"text-align: right;\">\n",
       "      <th></th>\n",
       "      <th>date_time</th>\n",
       "      <th>sensor_id</th>\n",
       "      <th>sensor_name</th>\n",
       "      <th>hourly_counts</th>\n",
       "      <th>latitude</th>\n",
       "      <th>longitude</th>\n",
       "    </tr>\n",
       "  </thead>\n",
       "  <tbody>\n",
       "    <tr>\n",
       "      <th>0</th>\n",
       "      <td>01/10/2018 0:00</td>\n",
       "      <td>5</td>\n",
       "      <td>Princes Bridge</td>\n",
       "      <td>123.0</td>\n",
       "      <td>-37.818742</td>\n",
       "      <td>144.967877</td>\n",
       "    </tr>\n",
       "  </tbody>\n",
       "</table>\n",
       "</div>"
      ],
      "text/plain": [
       "         date_time  sensor_id     sensor_name  hourly_counts   latitude  \\\n",
       "0  01/10/2018 0:00          5  Princes Bridge          123.0 -37.818742   \n",
       "\n",
       "    longitude  \n",
       "0  144.967877  "
      ]
     },
     "execution_count": 813,
     "metadata": {},
     "output_type": "execute_result"
    }
   ],
   "source": [
    "feb = pd.read_csv('pedestrian_temp.csv')\n",
    "pd_all = pd.read_csv('../data/pedestrian.csv')\n",
    "feb.head(1)"
   ]
  },
  {
   "cell_type": "code",
   "execution_count": null,
   "metadata": {},
   "outputs": [],
   "source": []
  },
  {
   "cell_type": "code",
   "execution_count": null,
   "metadata": {},
   "outputs": [],
   "source": []
  },
  {
   "cell_type": "code",
   "execution_count": null,
   "metadata": {},
   "outputs": [],
   "source": []
  },
  {
   "cell_type": "code",
   "execution_count": null,
   "metadata": {},
   "outputs": [],
   "source": []
  },
  {
   "cell_type": "code",
   "execution_count": null,
   "metadata": {},
   "outputs": [],
   "source": []
  },
  {
   "cell_type": "code",
   "execution_count": 1467,
   "metadata": {},
   "outputs": [],
   "source": [
    "f4 = pd.read_csv('dat3.csv')\n",
    "# Find weekday\n",
    "f4['date_time'] = pd.to_datetime(f4['date_time'], format=\"%d/%m/%Y %H:%M\")\n",
    "\n",
    "my_day_list = []\n",
    "for i in range(len(f4)):\n",
    "    my_date = f4['date_time'][i]\n",
    "    my_day = calendar.day_name[my_date.weekday()]\n",
    "    my_day_list.append(my_day)\n",
    "\n",
    "# Append Column\n",
    "f4['Day'] = my_day_list"
   ]
  },
  {
   "cell_type": "code",
   "execution_count": 1461,
   "metadata": {
    "scrolled": true
   },
   "outputs": [
    {
     "data": {
      "text/html": [
       "<div>\n",
       "<style scoped>\n",
       "    .dataframe tbody tr th:only-of-type {\n",
       "        vertical-align: middle;\n",
       "    }\n",
       "\n",
       "    .dataframe tbody tr th {\n",
       "        vertical-align: top;\n",
       "    }\n",
       "\n",
       "    .dataframe thead th {\n",
       "        text-align: right;\n",
       "    }\n",
       "</style>\n",
       "<table border=\"1\" class=\"dataframe\">\n",
       "  <thead>\n",
       "    <tr style=\"text-align: right;\">\n",
       "      <th></th>\n",
       "      <th>Month</th>\n",
       "      <th>Mdate</th>\n",
       "      <th>Time</th>\n",
       "      <th>hourly_counts</th>\n",
       "    </tr>\n",
       "  </thead>\n",
       "  <tbody>\n",
       "  </tbody>\n",
       "</table>\n",
       "</div>"
      ],
      "text/plain": [
       "Empty DataFrame\n",
       "Columns: [Month, Mdate, Time, hourly_counts]\n",
       "Index: []"
      ]
     },
     "execution_count": 1461,
     "metadata": {},
     "output_type": "execute_result"
    }
   ],
   "source": [
    "id = 56\n",
    "\n",
    "models = [2, 3, 4, 10, 13, 17, 22, 29, 35, 43, 47, 49, 52, 58, 59, 104, 109, 110]\n",
    "\n",
    "pd_temp = pd_all[pd_all['Sensor_ID']==id]\n",
    "pd_temp = pd_temp[pd_temp['Year'] == 2018]\n",
    "\n",
    "pd_temp = pd_temp[(pd_temp['Month']=='April') | (pd_temp['Month']=='May') | (pd_temp['Month']=='June') | (pd_temp['Month']=='July')]\n",
    "\n",
    "pd_temp = pd_temp.iloc[:,[3,4,6,7,9]]\n",
    "pd_temp2 = round(pd_temp.groupby(['Month', 'Mdate','Time'], as_index=False)['Hourly_Counts'].mean())\n",
    "pd_temp2['Hourly_Counts'] = round(pd_temp2.iloc[:,-1].apply(lambda x: x + (x/10 * random.randrange(-1,2)*0.1)))\n",
    "pd_temp2.tail(10)\n",
    "\n",
    "custom_dict = {'April':0, 'May':1, 'June':2, 'July':3}  \n",
    "pd_temp2['rank'] = pd_temp2['Month'].map(custom_dict)\n",
    "\n",
    "pd_temp2 = pd_temp2.sort_values(['rank', 'Mdate', 'Time'])\n",
    "pd_temp2 = pd_temp2.drop(labels=['rank'],axis=1)\n",
    "pd_temp2 = pd_temp2.rename(columns={'Hourly_Counts': 'hourly_counts'})\n",
    "pd_temp2.tail(1)"
   ]
  },
  {
   "cell_type": "code",
   "execution_count": 1462,
   "metadata": {
    "scrolled": false
   },
   "outputs": [
    {
     "data": {
      "text/plain": [
       "<matplotlib.axes._subplots.AxesSubplot at 0x224e7e7b828>"
      ]
     },
     "execution_count": 1462,
     "metadata": {},
     "output_type": "execute_result"
    },
    {
     "data": {
      "image/png": "[encoded data removed]",
      "text/plain": [
       "<Figure size 1584x720 with 2 Axes>"
      ]
     },
     "metadata": {
      "needs_background": "light"
     },
     "output_type": "display_data"
    }
   ],
   "source": [
    "models = [2, 3, 4, 10, 13, 17, 22, 29, 35, 43, 47, 49, 52, 58, 59, 104, 109, 110]\n",
    "%matplotlib inline\n",
    "fig, axs = plt.subplots(nrows=2, figsize=(22, 10))\n",
    "sns.set(style=\"whitegrid\")\n",
    "\n",
    "pred = f4[f4['sensor_id']==id]['hourly_counts']\n",
    "\n",
    "actual = feb[feb['sensor_id']==id]['hourly_counts']\n",
    "\n",
    "temp2 = pd_temp2['hourly_counts']\n",
    "temp2 = temp2.reset_index(drop=True)\n",
    "temp2.index = temp2.index + 24*-1\n",
    "\n",
    "sns.lineplot(data=pred.reset_index(drop=True).iloc[0:1000,], palette=\"tab10\", linewidth=2, ax=axs[0], color = 'red')\n",
    "sns.lineplot(data=actual.reset_index(drop=True).iloc[0:1000], palette=\"tab10\", linewidth=2, ax=axs[0], color = 'blue')\n",
    "sns.lineplot(data=temp2.iloc[0:1000], palette=\"tab10\", linewidth=2, ax=axs[1], color = 'green')\n",
    "sns.lineplot(data=actual.reset_index(drop=True).iloc[0:1000], palette=\"tab10\", linewidth=2, ax=axs[1], color = 'blue')\n"
   ]
  },
  {
   "cell_type": "code",
   "execution_count": 1500,
   "metadata": {},
   "outputs": [],
   "source": [
    "full = pd.read_csv('../data/pedestrian.csv')"
   ]
  },
  {
   "cell_type": "code",
   "execution_count": 1564,
   "metadata": {},
   "outputs": [
    {
     "data": {
      "text/html": [
       "<div>\n",
       "<style scoped>\n",
       "    .dataframe tbody tr th:only-of-type {\n",
       "        vertical-align: middle;\n",
       "    }\n",
       "\n",
       "    .dataframe tbody tr th {\n",
       "        vertical-align: top;\n",
       "    }\n",
       "\n",
       "    .dataframe thead th {\n",
       "        text-align: right;\n",
       "    }\n",
       "</style>\n",
       "<table border=\"1\" class=\"dataframe\">\n",
       "  <thead>\n",
       "    <tr style=\"text-align: right;\">\n",
       "      <th></th>\n",
       "      <th>ID</th>\n",
       "      <th>Date_Time</th>\n",
       "      <th>Year</th>\n",
       "      <th>Month</th>\n",
       "      <th>Mdate</th>\n",
       "      <th>Day</th>\n",
       "      <th>Time</th>\n",
       "      <th>Sensor_ID</th>\n",
       "      <th>Sensor_Name</th>\n",
       "      <th>Hourly_Counts</th>\n",
       "    </tr>\n",
       "  </thead>\n",
       "  <tbody>\n",
       "    <tr>\n",
       "      <th>0</th>\n",
       "      <td>1</td>\n",
       "      <td>05/01/2009 12:00:00 AM</td>\n",
       "      <td>2009</td>\n",
       "      <td>May</td>\n",
       "      <td>1</td>\n",
       "      <td>Friday</td>\n",
       "      <td>0</td>\n",
       "      <td>1</td>\n",
       "      <td>Bourke Street Mall (North)</td>\n",
       "      <td>53.0</td>\n",
       "    </tr>\n",
       "  </tbody>\n",
       "</table>\n",
       "</div>"
      ],
      "text/plain": [
       "   ID               Date_Time  Year Month  Mdate     Day  Time  Sensor_ID  \\\n",
       "0   1  05/01/2009 12:00:00 AM  2009   May      1  Friday     0          1   \n",
       "\n",
       "                  Sensor_Name  Hourly_Counts  \n",
       "0  Bourke Street Mall (North)           53.0  "
      ]
     },
     "execution_count": 1564,
     "metadata": {},
     "output_type": "execute_result"
    }
   ],
   "source": [
    "full.head(1)"
   ]
  },
  {
   "cell_type": "code",
   "execution_count": 1583,
   "metadata": {},
   "outputs": [
    {
     "name": "stdout",
     "output_type": "stream",
     "text": [
      "Winter Mean: 623.2608695652174\n",
      "Autumn Mean: 649.758152173913\n",
      "Summer Spring: 634.6489392551892\n"
     ]
    }
   ],
   "source": [
    "id = 23\n",
    "full_temp = full[(full['Sensor_ID'] == id) & (full['Time']>9) & (full['Time']<18) & (full['Year']==2018)]\n",
    "\n",
    "full_spring = full_temp[(full_temp['Month']=='September') | (full_temp['Month']=='October') | (full_temp['Month']=='November')]\n",
    "full_summer = full_temp[(full_temp['Month']=='December') | (full_temp['Month']=='January')| (full_temp['Month']=='February')]\n",
    "full_autumn = full_temp[(full_temp['Month']=='March')| (full_temp['Month']=='April')| (full_temp['Month']=='May')]\n",
    "full_winter = full_temp[(full_temp['Month']=='June') | (full_temp['Month']=='July') | (full_temp['Month']=='August')]\n",
    "\n",
    "print(\"Winter Mean:\",full_winter['Hourly_Counts'].mean())\n",
    "print(\"Autumn Mean:\",full_autumn['Hourly_Counts'].mean())\n",
    "print(\"Summer Spring:\", (full_spring['Hourly_Counts'].mean()+full_summer['Hourly_Counts'].mean())/2)\n"
   ]
  },
  {
   "cell_type": "code",
   "execution_count": 1584,
   "metadata": {},
   "outputs": [
    {
     "data": {
      "text/plain": [
       "<matplotlib.axes._subplots.AxesSubplot at 0x22507041898>"
      ]
     },
     "execution_count": 1584,
     "metadata": {},
     "output_type": "execute_result"
    },
    {
     "data": {
      "image/png": "[encoded data removed]",
      "text/plain": [
       "<Figure size 1584x720 with 2 Axes>"
      ]
     },
     "metadata": {},
     "output_type": "display_data"
    }
   ],
   "source": [
    "fig, axs = plt.subplots(nrows=2, figsize=(22, 10))\n",
    "sns.lineplot(data=full_spring['Hourly_Counts'], palette=\"tab10\", ax=axs[1], linewidth=2, color = 'green')\n",
    "sns.lineplot(data=full_summer['Hourly_Counts'], palette=\"tab10\", ax=axs[1], linewidth=2, color = 'yellow')\n",
    "sns.lineplot(data=full_autumn['Hourly_Counts'], palette=\"tab10\", ax=axs[1], linewidth=2, color = 'brown')\n",
    "sns.lineplot(data=full_winter['Hourly_Counts'], palette=\"tab10\", ax=axs[1], linewidth=2, color = 'blue')\n",
    "\n",
    "#sns.lineplot(data=feb[feb['sensor_id']==id]['hourly_counts'], palette=\"tab10\", ax=axs[1], linewidth=2, color = 'red')"
   ]
  },
  {
   "cell_type": "code",
   "execution_count": 1447,
   "metadata": {},
   "outputs": [
    {
     "name": "stdout",
     "output_type": "stream",
     "text": [
      "Saved\n"
     ]
    }
   ],
   "source": [
    "f4_temp = f4[f4['sensor_id']==id]\n",
    "del f4_temp['hourly_counts']\n",
    "f4_temp = f4_temp.reset_index(drop = True)\n",
    "\n",
    "f4_temp1 = f4.loc[f4['sensor_id']==id, ['hourly_counts']]\n",
    "f4_temp1 = f4_temp1.reset_index(drop = True)\n",
    "\n",
    "f4_temp1 = pd_temp2['hourly_counts']\n",
    "f4_temp1\n",
    "\n",
    "f4_temp['hourly_counts'] = f4_temp1\n",
    "f4_temp.head(1)\n",
    "\n",
    "b4 = len(f4)\n",
    "f4 = f4.drop(f4[(f4.sensor_id == id)].index)\n",
    "f4 = f4.reset_index(drop=True)\n",
    "f4 = f4.append(f4_temp, ignore_index=True)\n",
    "af = len(f4)\n",
    "\n",
    "if b4 == af:\n",
    "    f4.to_csv('dat3.csv', index=False)\n",
    "    print('Saved')\n",
    "else:\n",
    "    print(\"Different len\")"
   ]
  },
  {
   "cell_type": "code",
   "execution_count": 1098,
   "metadata": {},
   "outputs": [],
   "source": [
    "pd_temp2.to_csv('pd_temp2.csv', index=False)"
   ]
  },
  {
   "cell_type": "code",
   "execution_count": 1464,
   "metadata": {},
   "outputs": [
    {
     "data": {
      "text/html": [
       "<div>\n",
       "<style scoped>\n",
       "    .dataframe tbody tr th:only-of-type {\n",
       "        vertical-align: middle;\n",
       "    }\n",
       "\n",
       "    .dataframe tbody tr th {\n",
       "        vertical-align: top;\n",
       "    }\n",
       "\n",
       "    .dataframe thead th {\n",
       "        text-align: right;\n",
       "    }\n",
       "</style>\n",
       "<table border=\"1\" class=\"dataframe\">\n",
       "  <thead>\n",
       "    <tr style=\"text-align: right;\">\n",
       "      <th></th>\n",
       "      <th>date_time</th>\n",
       "      <th>hourly_counts</th>\n",
       "      <th>sensor_id</th>\n",
       "      <th>latitude</th>\n",
       "      <th>longitude</th>\n",
       "    </tr>\n",
       "  </thead>\n",
       "  <tbody>\n",
       "    <tr>\n",
       "      <th>0</th>\n",
       "      <td>2019-04-01</td>\n",
       "      <td>572.52545</td>\n",
       "      <td>1.0</td>\n",
       "      <td>-37.813494</td>\n",
       "      <td>144.965153</td>\n",
       "    </tr>\n",
       "  </tbody>\n",
       "</table>\n",
       "</div>"
      ],
      "text/plain": [
       "   date_time  hourly_counts  sensor_id   latitude   longitude\n",
       "0 2019-04-01      572.52545        1.0 -37.813494  144.965153"
      ]
     },
     "execution_count": 1464,
     "metadata": {},
     "output_type": "execute_result"
    }
   ],
   "source": [
    "dat3.head(1)"
   ]
  },
  {
   "cell_type": "code",
   "execution_count": null,
   "metadata": {},
   "outputs": [],
   "source": []
  },
  {
   "cell_type": "code",
   "execution_count": 1472,
   "metadata": {},
   "outputs": [],
   "source": [
    "# Change time to int\n",
    "time = f4['date_time'].apply(lambda x: int(x.strftime('%H')))\n",
    "f4['time'] = time"
   ]
  },
  {
   "cell_type": "code",
   "execution_count": 1474,
   "metadata": {},
   "outputs": [
    {
     "data": {
      "text/html": [
       "<div>\n",
       "<style scoped>\n",
       "    .dataframe tbody tr th:only-of-type {\n",
       "        vertical-align: middle;\n",
       "    }\n",
       "\n",
       "    .dataframe tbody tr th {\n",
       "        vertical-align: top;\n",
       "    }\n",
       "\n",
       "    .dataframe thead th {\n",
       "        text-align: right;\n",
       "    }\n",
       "</style>\n",
       "<table border=\"1\" class=\"dataframe\">\n",
       "  <thead>\n",
       "    <tr style=\"text-align: right;\">\n",
       "      <th></th>\n",
       "      <th>date_time</th>\n",
       "      <th>sensor_id</th>\n",
       "      <th>hourly_counts</th>\n",
       "      <th>latitude</th>\n",
       "      <th>longitude</th>\n",
       "      <th>Day</th>\n",
       "      <th>time</th>\n",
       "    </tr>\n",
       "  </thead>\n",
       "  <tbody>\n",
       "    <tr>\n",
       "      <th>0</th>\n",
       "      <td>2019-04-01</td>\n",
       "      <td>1</td>\n",
       "      <td>306.0</td>\n",
       "      <td>-37.813494</td>\n",
       "      <td>144.965153</td>\n",
       "      <td>Monday</td>\n",
       "      <td>0</td>\n",
       "    </tr>\n",
       "  </tbody>\n",
       "</table>\n",
       "</div>"
      ],
      "text/plain": [
       "   date_time  sensor_id  hourly_counts   latitude   longitude     Day  time\n",
       "0 2019-04-01          1          306.0 -37.813494  144.965153  Monday     0"
      ]
     },
     "execution_count": 1474,
     "metadata": {},
     "output_type": "execute_result"
    }
   ],
   "source": [
    "f4.head(1)"
   ]
  },
  {
   "cell_type": "code",
   "execution_count": 1673,
   "metadata": {},
   "outputs": [],
   "source": [
    "f4_daytime = f4[(f4['time'] < 18) & (f4['time'] > 9) ]\n",
    "f4_daytime = f4_daytime.reset_index(drop=True)"
   ]
  },
  {
   "cell_type": "code",
   "execution_count": 1671,
   "metadata": {},
   "outputs": [],
   "source": [
    "f4_day_winter = f4_daytime[f4_daytime['date_time'] >= '2019-06-01']\n",
    "f4_day_autumn = f4_daytime[f4_daytime['date_time'] < '2019-06-01']"
   ]
  },
  {
   "cell_type": "code",
   "execution_count": null,
   "metadata": {},
   "outputs": [],
   "source": []
  },
  {
   "cell_type": "code",
   "execution_count": 1482,
   "metadata": {},
   "outputs": [],
   "source": [
    "f4_day_winter.to_csv('winter.csv', index=False)"
   ]
  },
  {
   "cell_type": "code",
   "execution_count": 1585,
   "metadata": {},
   "outputs": [],
   "source": [
    "f4_day_autumn.to_csv('autumn.csv', index=False)"
   ]
  },
  {
   "cell_type": "code",
   "execution_count": null,
   "metadata": {},
   "outputs": [],
   "source": []
  },
  {
   "cell_type": "code",
   "execution_count": 1692,
   "metadata": {},
   "outputs": [
    {
     "data": {
      "text/html": [
       "<div>\n",
       "<style scoped>\n",
       "    .dataframe tbody tr th:only-of-type {\n",
       "        vertical-align: middle;\n",
       "    }\n",
       "\n",
       "    .dataframe tbody tr th {\n",
       "        vertical-align: top;\n",
       "    }\n",
       "\n",
       "    .dataframe thead th {\n",
       "        text-align: right;\n",
       "    }\n",
       "</style>\n",
       "<table border=\"1\" class=\"dataframe\">\n",
       "  <thead>\n",
       "    <tr style=\"text-align: right;\">\n",
       "      <th></th>\n",
       "      <th>date_time</th>\n",
       "      <th>sensor_id</th>\n",
       "      <th>sensor_name</th>\n",
       "      <th>hourly_counts</th>\n",
       "      <th>latitude</th>\n",
       "      <th>longitude</th>\n",
       "      <th>time</th>\n",
       "    </tr>\n",
       "  </thead>\n",
       "  <tbody>\n",
       "    <tr>\n",
       "      <th>0</th>\n",
       "      <td>2018-10-01 10:00:00</td>\n",
       "      <td>5</td>\n",
       "      <td>Princes Bridge</td>\n",
       "      <td>2828.0</td>\n",
       "      <td>-37.818742</td>\n",
       "      <td>144.967877</td>\n",
       "      <td>10</td>\n",
       "    </tr>\n",
       "    <tr>\n",
       "      <th>1</th>\n",
       "      <td>2018-10-01 11:00:00</td>\n",
       "      <td>5</td>\n",
       "      <td>Princes Bridge</td>\n",
       "      <td>2513.0</td>\n",
       "      <td>-37.818742</td>\n",
       "      <td>144.967877</td>\n",
       "      <td>11</td>\n",
       "    </tr>\n",
       "    <tr>\n",
       "      <th>2</th>\n",
       "      <td>2018-10-01 12:00:00</td>\n",
       "      <td>5</td>\n",
       "      <td>Princes Bridge</td>\n",
       "      <td>3579.0</td>\n",
       "      <td>-37.818742</td>\n",
       "      <td>144.967877</td>\n",
       "      <td>12</td>\n",
       "    </tr>\n",
       "    <tr>\n",
       "      <th>3</th>\n",
       "      <td>2018-10-01 13:00:00</td>\n",
       "      <td>5</td>\n",
       "      <td>Princes Bridge</td>\n",
       "      <td>3332.0</td>\n",
       "      <td>-37.818742</td>\n",
       "      <td>144.967877</td>\n",
       "      <td>13</td>\n",
       "    </tr>\n",
       "    <tr>\n",
       "      <th>4</th>\n",
       "      <td>2018-10-01 14:00:00</td>\n",
       "      <td>5</td>\n",
       "      <td>Princes Bridge</td>\n",
       "      <td>3394.0</td>\n",
       "      <td>-37.818742</td>\n",
       "      <td>144.967877</td>\n",
       "      <td>14</td>\n",
       "    </tr>\n",
       "  </tbody>\n",
       "</table>\n",
       "</div>"
      ],
      "text/plain": [
       "             date_time  sensor_id     sensor_name  hourly_counts   latitude  \\\n",
       "0  2018-10-01 10:00:00          5  Princes Bridge         2828.0 -37.818742   \n",
       "1  2018-10-01 11:00:00          5  Princes Bridge         2513.0 -37.818742   \n",
       "2  2018-10-01 12:00:00          5  Princes Bridge         3579.0 -37.818742   \n",
       "3  2018-10-01 13:00:00          5  Princes Bridge         3332.0 -37.818742   \n",
       "4  2018-10-01 14:00:00          5  Princes Bridge         3394.0 -37.818742   \n",
       "\n",
       "    longitude  time  \n",
       "0  144.967877    10  \n",
       "1  144.967877    11  \n",
       "2  144.967877    12  \n",
       "3  144.967877    13  \n",
       "4  144.967877    14  "
      ]
     },
     "execution_count": 1692,
     "metadata": {},
     "output_type": "execute_result"
    }
   ],
   "source": [
    "df_a = pd.read_csv('../static/data/pedestrian.csv')\n",
    "df_a.head()"
   ]
  },
  {
   "cell_type": "code",
   "execution_count": 1688,
   "metadata": {},
   "outputs": [
    {
     "data": {
      "text/plain": [
       "array([  5,   6,  14,  26,  24,  23,  25,  21,  20,  19,  22,  27,  28,\n",
       "        31,  30,  33,  34,  39,  37,  40,  36,  29,  42,  43,  44,  35,\n",
       "        46,  47,  48,  49,  50,  51,  52,  54,  56,  57,  58,   4,  17,\n",
       "        18,  53,   2,   1,  15,   9,  10,  12,  11,   8, 101, 102,  13,\n",
       "       103, 104, 105, 106, 107, 108, 109, 110,  59], dtype=int64)"
      ]
     },
     "execution_count": 1688,
     "metadata": {},
     "output_type": "execute_result"
    }
   ],
   "source": [
    "df_a['sensor_id'].unique()"
   ]
  },
  {
   "cell_type": "code",
   "execution_count": 1693,
   "metadata": {},
   "outputs": [],
   "source": [
    "df_a['date_time'] = pd.to_datetime(df_a['date_time'], format=\"%Y-%m-%d %H:%M\")\n",
    "\n",
    "my_day_list = []\n",
    "for i in range(len(df_a)):\n",
    "    my_date = df_a['date_time'][i]\n",
    "    my_day = calendar.day_name[my_date.weekday()]\n",
    "    my_day_list.append(my_day)\n",
    "\n",
    "# Append Column\n",
    "df_a['Day'] = my_day_list"
   ]
  },
  {
   "cell_type": "code",
   "execution_count": 1701,
   "metadata": {},
   "outputs": [],
   "source": [
    "df_a['Day'] = df_a['Day'].replace(['Saturday', 'Sunday'], 'Weekends')\n",
    "df_a['Day'] = df_a['Day'].replace(['Monday','Tuesday','Wednesday','Thursday','Friday'], 'Weekdays')"
   ]
  },
  {
   "cell_type": "code",
   "execution_count": 1708,
   "metadata": {},
   "outputs": [],
   "source": [
    "time = [10,11,12,13,14,15,16,17]\n",
    "counts = []\n",
    "sid = []\n",
    "tt=[]\n",
    "dayy=[]\n",
    "\n",
    "for s in df_a['sensor_id'].unique():\n",
    "    for x in time:\n",
    "        tt.append(x)\n",
    "        x = round(df_a[(df_a['sensor_id'] == s) & (df_a['Day']=='Weekends') & (df_a['time'] == x)]['hourly_counts'].mean())\n",
    "        counts.append(x)\n",
    "        sid.append(s)"
   ]
  },
  {
   "cell_type": "code",
   "execution_count": 1709,
   "metadata": {
    "scrolled": true
   },
   "outputs": [],
   "source": [
    "df_b = pd.DataFrame({'hourly_counts':counts, 'sensor_id':sid, 'time':tt})"
   ]
  },
  {
   "cell_type": "code",
   "execution_count": 1705,
   "metadata": {
    "scrolled": true
   },
   "outputs": [],
   "source": [
    "past_hourly = pd.merge(df_b, df2, on=['sensor_id'])"
   ]
  },
  {
   "cell_type": "code",
   "execution_count": 1699,
   "metadata": {
    "scrolled": true
   },
   "outputs": [],
   "source": [
    "past_hourly_weekends =  past_hourly"
   ]
  },
  {
   "cell_type": "code",
   "execution_count": 1711,
   "metadata": {},
   "outputs": [],
   "source": [
    "past_hourly_weekends.to_csv('weekends.csv', index=False)"
   ]
  },
  {
   "cell_type": "code",
   "execution_count": 1663,
   "metadata": {
    "scrolled": true
   },
   "outputs": [
    {
     "data": {
      "text/plain": [
       "[1037, 1515, 2494, 2645, 2143, 2066, 2072, 2284]"
      ]
     },
     "execution_count": 1663,
     "metadata": {},
     "output_type": "execute_result"
    }
   ],
   "source": [
    "counts = []\n",
    "pedestrian = past_hourly_weekday\n",
    "time = [10,11,12,13,14,15,16,17]\n",
    "\n",
    "click_sensor = pd.DataFrame([{'Latitude': click[1], 'Longitude': click[0]}])\n",
    "df_temp = pd.concat([pd.DataFrame(within(click_sensor, df2, 1.5, 0)).reset_index(drop=True),\n",
    "                     pd.DataFrame(within_d(click_sensor, df2, 1.5, 0)).reset_index(drop=True)], axis=1)\n",
    "df_temp\n",
    "# Get Nearest 3 sensors\n",
    "df_temp = df_temp.sort_values(0).iloc[0:3, :]\n",
    "df_temp = df_temp.reset_index(drop=True)\n",
    "\n",
    "\n",
    "# DF Nearest\n",
    "df_nearest = pedestrian[(pedestrian['sensor_id'] == df_temp['sensor_id'][0]) |\n",
    "                        (pedestrian['sensor_id'] == df_temp['sensor_id'][1]) |\n",
    "                        ((pedestrian['sensor_id'] == df_temp['sensor_id'][2]))]\n",
    "\n",
    "for x in time:\n",
    "    x = round(df_nearest[(df_nearest['time'] == x)]['hourly_counts'].mean())\n",
    "    counts.append(x)\n",
    "\n",
    "return counts"
   ]
  },
  {
   "cell_type": "code",
   "execution_count": 1668,
   "metadata": {},
   "outputs": [],
   "source": [
    "def get_ped_hourly(click, pedestrian):\n",
    "    counts = []\n",
    "    pedestrian\n",
    "    time = [10,11,12,13,14,15,16,17]\n",
    "\n",
    "    click_sensor = pd.DataFrame([{'Latitude': click[1], 'Longitude': click[0]}])\n",
    "    df_temp = pd.concat([pd.DataFrame(within(click_sensor, df2, 1.5, 0)).reset_index(drop=True),\n",
    "                         pd.DataFrame(within_d(click_sensor, df2, 1.5, 0)).reset_index(drop=True)], axis=1)\n",
    "    df_temp\n",
    "    # Get Nearest 3 sensors\n",
    "    df_temp = df_temp.sort_values(0).iloc[0:3, :]\n",
    "    df_temp = df_temp.reset_index(drop=True)\n",
    "\n",
    "\n",
    "    # DF Nearest\n",
    "    df_nearest = pedestrian[(pedestrian['sensor_id'] == df_temp['sensor_id'][0]) |\n",
    "                            (pedestrian['sensor_id'] == df_temp['sensor_id'][1]) |\n",
    "                            ((pedestrian['sensor_id'] == df_temp['sensor_id'][2]))]\n",
    "\n",
    "    for x in time:\n",
    "        x = round(df_nearest[(df_nearest['time'] == x)]['hourly_counts'].mean())\n",
    "        counts.append(x)\n",
    "\n",
    "    return counts"
   ]
  },
  {
   "cell_type": "code",
   "execution_count": 1684,
   "metadata": {},
   "outputs": [],
   "source": [
    "pedestrian = past_hourly_weekends"
   ]
  },
  {
   "cell_type": "code",
   "execution_count": 1685,
   "metadata": {},
   "outputs": [
    {
     "data": {
      "text/plain": [
       "[996, 1576, 2088, 2344, 2484, 2481, 2360, 2110]"
      ]
     },
     "execution_count": 1685,
     "metadata": {},
     "output_type": "execute_result"
    }
   ],
   "source": [
    "get_ped_hourly(click, pedestrian)"
   ]
  },
  {
   "cell_type": "code",
   "execution_count": null,
   "metadata": {},
   "outputs": [],
   "source": []
  },
  {
   "cell_type": "code",
   "execution_count": null,
   "metadata": {},
   "outputs": [],
   "source": []
  },
  {
   "cell_type": "code",
   "execution_count": null,
   "metadata": {},
   "outputs": [],
   "source": []
  },
  {
   "cell_type": "code",
   "execution_count": 1643,
   "metadata": {},
   "outputs": [],
   "source": [
    "click = [144.96518348629792, -37.81309237049503]"
   ]
  },
  {
   "cell_type": "code",
   "execution_count": 1494,
   "metadata": {},
   "outputs": [
    {
     "data": {
      "text/plain": [
       "[2290, 2038, 2094, 2075, 2191, 2366, 2238]"
      ]
     },
     "execution_count": 1494,
     "metadata": {},
     "output_type": "execute_result"
    }
   ],
   "source": [
    "for_eachday(get_ped_any(click,f4_day_winter))"
   ]
  },
  {
   "cell_type": "code",
   "execution_count": 1490,
   "metadata": {
    "scrolled": false
   },
   "outputs": [],
   "source": [
    "\n",
    "def within(df, target, radius, g):\n",
    "    temp = []\n",
    "    dist = [(geopy.distance.distance((df[\"Latitude\"][g], df[\"Longitude\"][g]),\n",
    "                                    (target[\"latitude\"][x], target[\"longitude\"][x])).km) for x in range(len(target))]\n",
    "    for x in range(len(target)):\n",
    "        if dist[x] < radius:\n",
    "            temp.append(target.iloc[x])\n",
    "        else:\n",
    "            pass\n",
    "\n",
    "    return temp\n",
    "\n",
    "def within_d(df, target, radius, g):\n",
    "    distances = []\n",
    "    dist = [(geopy.distance.distance((df[\"Latitude\"][g], df[\"Longitude\"][g]),\n",
    "                                    (target[\"latitude\"][x], target[\"longitude\"][x])).km) for x in range(len(target))]\n",
    "    for x in range(len(target)):\n",
    "        if dist[x] < radius:\n",
    "            distances.append(dist[x])\n",
    "        else:\n",
    "            pass\n",
    "\n",
    "    return distances\n",
    "\n",
    "\n",
    "def within_p(population, clicked, radius):\n",
    "    temp = []\n",
    "    dist = [(geopy.distance.distance((clicked[\"latitude\"][0], clicked[\"longitude\"][0]),\n",
    "                                    (population[\"Latitude\"][x], population[\"Longitude\"][x])).km) for x in range(len(population))]\n",
    "    for x in range(len(population)):\n",
    "        if dist[x] < radius:\n",
    "            temp.append(population.iloc[x])\n",
    "        else:\n",
    "            pass\n",
    "\n",
    "    return temp\n",
    "\n",
    "\n",
    "\"\"\"\n",
    "Get Functions\n",
    "\"\"\"\n",
    "def reverse_geocoding(click):\n",
    "    response = geocoder.reverse(lon=click[0], lat=click[1], limit=1, types=['address'])\n",
    "    features = sorted(response.geojson()['features'], key=lambda x: x['place_name'])\n",
    "    return features[0]['place_name']\n",
    "\n",
    "def get_ped_any(click, pedestrian):\n",
    "    click_sensor = pd.DataFrame([{'Latitude': click[1], 'Longitude': click[0]}])\n",
    "\n",
    "    # Find Nearest 3 sensors\n",
    "    df_temp = pd.concat([pd.DataFrame(within(click_sensor, df2, 1.5, 0)).reset_index(drop=True),\n",
    "                         pd.DataFrame(within_d(click_sensor, df2, 1.5, 0)).reset_index(drop=True)], axis=1)\n",
    "    df_temp.rename(columns={0: 'distance'}, inplace=True)\n",
    "\n",
    "    # Get Nearest 3 sensors\n",
    "    df_temp = df_temp.sort_values('distance').iloc[0:3, :]\n",
    "    df_temp = df_temp.reset_index(drop=True)\n",
    "\n",
    "    # DF Nearest\n",
    "    df_nearest = pedestrian[(pedestrian['sensor_id'] == df_temp['sensor_id'][0]) |\n",
    "                            (pedestrian['sensor_id'] == df_temp['sensor_id'][1]) |\n",
    "                            ((pedestrian['sensor_id'] == df_temp['sensor_id'][2]))]\n",
    "\n",
    "    divider = ((1 / df_temp['distance'][0]) + (1 / df_temp['distance'][1]) + (1 / df_temp['distance'][2]))\n",
    "\n",
    "    d1 = df_nearest[df_nearest['sensor_id'] == df_temp['sensor_id'][0]]['hourly_counts'] * (\n",
    "            (1 / df_temp['distance'][0]) / divider)\n",
    "    d2 = df_nearest[df_nearest['sensor_id'] == df_temp['sensor_id'][1]]['hourly_counts'] * (\n",
    "            (1 / df_temp['distance'][1]) / divider)\n",
    "    d3 = df_nearest[df_nearest['sensor_id'] == df_temp['sensor_id'][2]]['hourly_counts'] * (\n",
    "            (1 / df_temp['distance'][2]) / divider)\n",
    "\n",
    "    ## Change sensor\n",
    "    sensor_interest = pd.concat([pd.DataFrame(\n",
    "        df_nearest[df_nearest['sensor_id'] == df_temp['sensor_id'][0]]['date_time'].reset_index(drop=True)),\n",
    "                                 pd.DataFrame({'hourly_counts': (d1.values + d2.values + d3.values).round()})], axis=1)\n",
    "\n",
    "    ## Change sensor\n",
    "    sensor_interest['latitude'] = click_sensor['Latitude'][0]\n",
    "    sensor_interest['longitude'] = click_sensor['Longitude'][0]\n",
    "\n",
    "    my_day_list = []\n",
    "\n",
    "    sensor_interest['date_time'] = pd.to_datetime(sensor_interest['date_time'])\n",
    "\n",
    "    for i in range(len(sensor_interest)):\n",
    "        my_date = sensor_interest['date_time'][i]\n",
    "        my_day = calendar.day_name[my_date.weekday()]\n",
    "        my_day_list.append(my_day)\n",
    "\n",
    "    sensor_interest['Day'] = my_day_list\n",
    "\n",
    "    return sensor_interest\n",
    "\n",
    "\n",
    "def for_eachday(df):\n",
    "    each = []\n",
    "    day_list = ['Sunday', 'Monday', 'Tuesday', 'Wednesday', 'Thursday', 'Friday', 'Saturday']\n",
    "\n",
    "    # Change time to int\n",
    "    time = df['date_time'].apply(lambda x: int(x.strftime('%H')))\n",
    "    df['time'] = time\n",
    "\n",
    "    # Loop over days\n",
    "    for i in range(7):\n",
    "        # 10AM - 5PM\n",
    "        dday = round(df[(df['Day'] == day_list[i]) & (df['time'] < 18) & (df['time'] > 9)]['hourly_counts'].mean())\n",
    "        each.append(dday)\n",
    "\n",
    "    return each\n"
   ]
  },
  {
   "cell_type": "code",
   "execution_count": 1484,
   "metadata": {},
   "outputs": [
    {
     "data": {
      "text/plain": [
       "<matplotlib.axes._subplots.AxesSubplot at 0x22499dd3400>"
      ]
     },
     "execution_count": 1484,
     "metadata": {},
     "output_type": "execute_result"
    },
    {
     "data": {
      "image/png": "[encoded data removed]",
      "text/plain": [
       "<Figure size 1440x864 with 7 Axes>"
      ]
     },
     "metadata": {
      "needs_background": "light"
     },
     "output_type": "display_data"
    }
   ],
   "source": [
    "import seaborn as sns\n",
    "import matplotlib.pyplot as plt\n",
    "\n",
    "%matplotlib inline\n",
    "fig, axs = plt.subplots(nrows=7, figsize=(20, 12))\n",
    "sns.set(style=\"whitegrid\")\n",
    "sns.lineplot(data=p.iloc[:,3], palette=\"tab10\", linewidth=2, ax=axs[0], color = 'red')\n",
    "sns.lineplot(data=past.iloc[:,4], palette=\"tab10\", linewidth=2, ax=axs[0], color = 'blue')\n",
    "\n",
    "sns.lineplot(data=p.iloc[:,4], palette=\"tab10\", linewidth=2, ax=axs[1], color = 'red')\n",
    "sns.lineplot(data=past.iloc[:,5], palette=\"tab10\", linewidth=2, ax=axs[1], color = 'blue')\n",
    "\n",
    "sns.lineplot(data=p.iloc[:,5], palette=\"tab10\", linewidth=2, ax=axs[2], color = 'red')\n",
    "sns.lineplot(data=past.iloc[:,6], palette=\"tab10\", linewidth=2, ax=axs[2], color = 'blue')\n",
    "\n",
    "sns.lineplot(data=p.iloc[:,6], palette=\"tab10\", linewidth=2, ax=axs[3], color = 'red')\n",
    "sns.lineplot(data=past.iloc[:,7], palette=\"tab10\", linewidth=2, ax=axs[3], color = 'blue')\n",
    "\n",
    "sns.lineplot(data=p.iloc[:,7], palette=\"tab10\", linewidth=2, ax=axs[4], color = 'red')\n",
    "sns.lineplot(data=past.iloc[:,8], palette=\"tab10\", linewidth=2, ax=axs[4], color = 'blue')\n",
    "\n",
    "sns.lineplot(data=p.iloc[:,8], palette=\"tab10\", linewidth=2, ax=axs[5], color = 'red')\n",
    "sns.lineplot(data=past.iloc[:,9], palette=\"tab10\", linewidth=2, ax=axs[5], color = 'blue')\n",
    "\n",
    "sns.lineplot(data=p.iloc[:,9], palette=\"tab10\", linewidth=2, ax=axs[6], color = 'red')\n",
    "sns.lineplot(data=past.iloc[:,10], palette=\"tab10\", linewidth=2, ax=axs[6], color = 'blue')"
   ]
  },
  {
   "cell_type": "markdown",
   "metadata": {},
   "source": [
    "## <font color='red'>Future - 4 week </font>"
   ]
  },
  {
   "cell_type": "code",
   "execution_count": 765,
   "metadata": {
    "scrolled": true
   },
   "outputs": [
    {
     "name": "stdout",
     "output_type": "stream",
     "text": [
      "Sensor: 1\n",
      "Sensor: 2\n",
      "Sensor: 4\n",
      "Sensor: 5\n",
      "Sensor: 6\n",
      "Sensor: 8\n",
      "Sensor: 9\n",
      "Sensor: 10\n",
      "Sensor: 11\n",
      "Sensor: 12\n",
      "Sensor: 14\n",
      "Sensor: 17\n",
      "Sensor: 18\n",
      "Sensor: 19\n",
      "Sensor: 20\n",
      "Sensor: 21\n",
      "Sensor: 22\n",
      "Sensor: 23\n",
      "Sensor: 24\n",
      "Sensor: 25\n",
      "Sensor: 26\n",
      "Sensor: 27\n",
      "Sensor: 28\n",
      "Sensor: 29\n",
      "Sensor: 30\n",
      "Sensor: 31\n",
      "Sensor: 33\n",
      "Sensor: 34\n",
      "Sensor: 35\n",
      "Sensor: 36\n",
      "Sensor: 37\n",
      "Sensor: 39\n",
      "Sensor: 40\n",
      "Sensor: 42\n",
      "Sensor: 43\n",
      "Sensor: 44\n",
      "Sensor: 46\n",
      "Sensor: 47\n",
      "Sensor: 48\n",
      "Sensor: 49\n",
      "Sensor: 50\n",
      "Sensor: 51\n",
      "Sensor: 52\n",
      "Sensor: 53\n",
      "Sensor: 54\n",
      "Sensor: 56\n",
      "Sensor: 57\n",
      "Sensor: 58\n",
      "Sensor: 59\n",
      "Sensor: 101\n",
      "Sensor: 102\n",
      "Sensor: 13\n",
      "Sensor: 103\n",
      "Sensor: 104\n",
      "Sensor: 105\n",
      "Sensor: 106\n",
      "Sensor: 107\n",
      "Sensor: 108\n",
      "Sensor: 109\n",
      "Sensor: 110\n"
     ]
    }
   ],
   "source": [
    "nweek = 5\n",
    "dat = pd.DataFrame()\n",
    "i = 0\n",
    "\n",
    "while i < len(s_list):\n",
    "    # Find Nearest 1 model\n",
    "    gallery_sensor = pd.DataFrame([{'Latitude':df2['latitude'][i], 'Longitude': df2['longitude'][i]}])\n",
    "    df_temp = pd.concat([pd.DataFrame(within(gallery_sensor, models_df, 3, 0)).reset_index(drop=True),\n",
    "               pd.DataFrame(within_d(gallery_sensor, models_df, 3, 0)).reset_index(drop=True)], axis=1)\n",
    "    df_temp.rename(columns={0:'distance'}, inplace=True)\n",
    "    df_temp = df_temp.sort_values('distance').iloc[0:1,]\n",
    "    df_temp = df_temp.reset_index(drop=True)\n",
    "\n",
    "    df_use = df[df['sensor_id']==s_list[i]].iloc[:,[0,1]]    \n",
    "    print(\"Sensor:\", s_list[i])\n",
    "\n",
    "    ad = additional_preds(5, df_use, model=my_models[int(df_temp['sensor_id'])])\n",
    "    t = pd.DataFrame()\n",
    "    t = ad[-168*4:].reset_index(drop=True) # 24 hrs * 7 days * 4 weeks\n",
    "    t['sensor_id'] = s_list[i]\n",
    "    t.rename(columns={0:'hourly_counts'}, inplace=True)\n",
    "\n",
    "    dat = pd.concat([dat, t], sort=True)\n",
    "    \n",
    "    i += 1"
   ]
  },
  {
   "cell_type": "code",
   "execution_count": 798,
   "metadata": {
    "scrolled": true
   },
   "outputs": [
    {
     "data": {
      "text/plain": [
       "60"
      ]
     },
     "execution_count": 798,
     "metadata": {},
     "output_type": "execute_result"
    }
   ],
   "source": [
    "len(dat['sensor_id'].unique())"
   ]
  },
  {
   "cell_type": "code",
   "execution_count": 719,
   "metadata": {},
   "outputs": [
    {
     "data": {
      "text/plain": [
       "464940"
      ]
     },
     "execution_count": 719,
     "metadata": {},
     "output_type": "execute_result"
    }
   ],
   "source": [
    "len(dat)"
   ]
  },
  {
   "cell_type": "code",
   "execution_count": 767,
   "metadata": {
    "scrolled": true
   },
   "outputs": [],
   "source": [
    "dat2 = dat.merge(df2.iloc[:,1:4], on='sensor_id')"
   ]
  },
  {
   "cell_type": "code",
   "execution_count": 772,
   "metadata": {
    "scrolled": true
   },
   "outputs": [],
   "source": [
    "# save and add date time manually\n",
    "dat2.to_csv('dat2_4.csv', index=False)"
   ]
  },
  {
   "cell_type": "code",
   "execution_count": null,
   "metadata": {},
   "outputs": [],
   "source": []
  },
  {
   "cell_type": "code",
   "execution_count": 823,
   "metadata": {
    "scrolled": true
   },
   "outputs": [],
   "source": [
    "# Read back!!\n",
    "dat2 = pd.read_csv('dat2_4.csv')"
   ]
  },
  {
   "cell_type": "code",
   "execution_count": 824,
   "metadata": {
    "scrolled": true
   },
   "outputs": [],
   "source": [
    "# Find weekday\n",
    "dat2['date_time'] = pd.to_datetime(dat2['date_time'], format=\"%d/%m/%Y %H:%M\")\n",
    "dat2 = dat2[:40320]"
   ]
  },
  {
   "cell_type": "code",
   "execution_count": 825,
   "metadata": {},
   "outputs": [],
   "source": [
    "my_day_list = []\n",
    "for i in range(len(dat2)):\n",
    "    my_date = dat2['date_time'][i]\n",
    "    my_day = calendar.day_name[my_date.weekday()]\n",
    "    my_day_list.append(my_day)"
   ]
  },
  {
   "cell_type": "code",
   "execution_count": 826,
   "metadata": {},
   "outputs": [],
   "source": [
    "# Append Column\n",
    "dat2['Day'] = my_day_list"
   ]
  },
  {
   "cell_type": "code",
   "execution_count": 827,
   "metadata": {},
   "outputs": [
    {
     "data": {
      "text/html": [
       "<div>\n",
       "<style scoped>\n",
       "    .dataframe tbody tr th:only-of-type {\n",
       "        vertical-align: middle;\n",
       "    }\n",
       "\n",
       "    .dataframe tbody tr th {\n",
       "        vertical-align: top;\n",
       "    }\n",
       "\n",
       "    .dataframe thead th {\n",
       "        text-align: right;\n",
       "    }\n",
       "</style>\n",
       "<table border=\"1\" class=\"dataframe\">\n",
       "  <thead>\n",
       "    <tr style=\"text-align: right;\">\n",
       "      <th></th>\n",
       "      <th>date_time</th>\n",
       "      <th>hourly_counts</th>\n",
       "      <th>sensor_id</th>\n",
       "      <th>latitude</th>\n",
       "      <th>longitude</th>\n",
       "      <th>Day</th>\n",
       "    </tr>\n",
       "  </thead>\n",
       "  <tbody>\n",
       "    <tr>\n",
       "      <th>0</th>\n",
       "      <td>2019-03-31 23:00:00</td>\n",
       "      <td>0.0</td>\n",
       "      <td>1.0</td>\n",
       "      <td>-37.813494</td>\n",
       "      <td>144.965153</td>\n",
       "      <td>Sunday</td>\n",
       "    </tr>\n",
       "    <tr>\n",
       "      <th>1</th>\n",
       "      <td>2019-04-01 00:00:00</td>\n",
       "      <td>0.0</td>\n",
       "      <td>1.0</td>\n",
       "      <td>-37.813494</td>\n",
       "      <td>144.965153</td>\n",
       "      <td>Monday</td>\n",
       "    </tr>\n",
       "  </tbody>\n",
       "</table>\n",
       "</div>"
      ],
      "text/plain": [
       "            date_time  hourly_counts  sensor_id   latitude   longitude     Day\n",
       "0 2019-03-31 23:00:00            0.0        1.0 -37.813494  144.965153  Sunday\n",
       "1 2019-04-01 00:00:00            0.0        1.0 -37.813494  144.965153  Monday"
      ]
     },
     "execution_count": 827,
     "metadata": {},
     "output_type": "execute_result"
    }
   ],
   "source": [
    "dat2.head(2)"
   ]
  },
  {
   "cell_type": "code",
   "execution_count": 828,
   "metadata": {
    "scrolled": true
   },
   "outputs": [
    {
     "data": {
      "text/html": [
       "<div>\n",
       "<style scoped>\n",
       "    .dataframe tbody tr th:only-of-type {\n",
       "        vertical-align: middle;\n",
       "    }\n",
       "\n",
       "    .dataframe tbody tr th {\n",
       "        vertical-align: top;\n",
       "    }\n",
       "\n",
       "    .dataframe thead th {\n",
       "        text-align: right;\n",
       "    }\n",
       "</style>\n",
       "<table border=\"1\" class=\"dataframe\">\n",
       "  <thead>\n",
       "    <tr style=\"text-align: right;\">\n",
       "      <th></th>\n",
       "      <th>Gallery Name</th>\n",
       "      <th>Latitude</th>\n",
       "      <th>Longitude</th>\n",
       "      <th>Sunday</th>\n",
       "      <th>Monday</th>\n",
       "      <th>Tuesday</th>\n",
       "      <th>Wednesday</th>\n",
       "      <th>Thursday</th>\n",
       "      <th>Friday</th>\n",
       "      <th>Saturday</th>\n",
       "    </tr>\n",
       "  </thead>\n",
       "  <tbody>\n",
       "    <tr>\n",
       "      <th>0</th>\n",
       "      <td>Old Melbourne Gaol Crime</td>\n",
       "      <td>-37.807764</td>\n",
       "      <td>144.965464</td>\n",
       "      <td>824</td>\n",
       "      <td>764</td>\n",
       "      <td>670</td>\n",
       "      <td>647</td>\n",
       "      <td>651</td>\n",
       "      <td>649</td>\n",
       "      <td>720</td>\n",
       "    </tr>\n",
       "    <tr>\n",
       "      <th>1</th>\n",
       "      <td>Victorian Arts Centre</td>\n",
       "      <td>-37.821995</td>\n",
       "      <td>144.968837</td>\n",
       "      <td>3085</td>\n",
       "      <td>2997</td>\n",
       "      <td>2941</td>\n",
       "      <td>3084</td>\n",
       "      <td>3160</td>\n",
       "      <td>3015</td>\n",
       "      <td>2899</td>\n",
       "    </tr>\n",
       "    <tr>\n",
       "      <th>2</th>\n",
       "      <td>The Ian Potter Centre: NGV Australia</td>\n",
       "      <td>-37.817483</td>\n",
       "      <td>144.969899</td>\n",
       "      <td>2300</td>\n",
       "      <td>2253</td>\n",
       "      <td>2221</td>\n",
       "      <td>2341</td>\n",
       "      <td>2418</td>\n",
       "      <td>2312</td>\n",
       "      <td>2214</td>\n",
       "    </tr>\n",
       "    <tr>\n",
       "      <th>3</th>\n",
       "      <td>Thoroughbred Racing Gallery</td>\n",
       "      <td>-37.818866</td>\n",
       "      <td>144.983970</td>\n",
       "      <td>600</td>\n",
       "      <td>434</td>\n",
       "      <td>741</td>\n",
       "      <td>995</td>\n",
       "      <td>1049</td>\n",
       "      <td>970</td>\n",
       "      <td>836</td>\n",
       "    </tr>\n",
       "    <tr>\n",
       "      <th>4</th>\n",
       "      <td>Fox Classic Car Collection</td>\n",
       "      <td>-37.821374</td>\n",
       "      <td>144.948497</td>\n",
       "      <td>662</td>\n",
       "      <td>751</td>\n",
       "      <td>795</td>\n",
       "      <td>822</td>\n",
       "      <td>846</td>\n",
       "      <td>857</td>\n",
       "      <td>744</td>\n",
       "    </tr>\n",
       "    <tr>\n",
       "      <th>5</th>\n",
       "      <td>Koorie Heritage Trust Inc</td>\n",
       "      <td>-37.813385</td>\n",
       "      <td>144.954028</td>\n",
       "      <td>917</td>\n",
       "      <td>886</td>\n",
       "      <td>897</td>\n",
       "      <td>936</td>\n",
       "      <td>948</td>\n",
       "      <td>943</td>\n",
       "      <td>884</td>\n",
       "    </tr>\n",
       "    <tr>\n",
       "      <th>6</th>\n",
       "      <td>Australian Centre For The Moving Image (ACMI)</td>\n",
       "      <td>-37.817611</td>\n",
       "      <td>144.969070</td>\n",
       "      <td>2100</td>\n",
       "      <td>2070</td>\n",
       "      <td>2055</td>\n",
       "      <td>2174</td>\n",
       "      <td>2248</td>\n",
       "      <td>2149</td>\n",
       "      <td>2047</td>\n",
       "    </tr>\n",
       "    <tr>\n",
       "      <th>7</th>\n",
       "      <td>Blindside Gallery</td>\n",
       "      <td>-37.816711</td>\n",
       "      <td>144.966812</td>\n",
       "      <td>2742</td>\n",
       "      <td>2754</td>\n",
       "      <td>2793</td>\n",
       "      <td>2911</td>\n",
       "      <td>2991</td>\n",
       "      <td>2955</td>\n",
       "      <td>2827</td>\n",
       "    </tr>\n",
       "    <tr>\n",
       "      <th>8</th>\n",
       "      <td>Flinders Lane Gallery</td>\n",
       "      <td>-37.815715</td>\n",
       "      <td>144.970033</td>\n",
       "      <td>2005</td>\n",
       "      <td>2045</td>\n",
       "      <td>2134</td>\n",
       "      <td>2276</td>\n",
       "      <td>2362</td>\n",
       "      <td>2314</td>\n",
       "      <td>2161</td>\n",
       "    </tr>\n",
       "    <tr>\n",
       "      <th>9</th>\n",
       "      <td>Mailbox Art Space</td>\n",
       "      <td>-37.815758</td>\n",
       "      <td>144.969861</td>\n",
       "      <td>1954</td>\n",
       "      <td>1982</td>\n",
       "      <td>2072</td>\n",
       "      <td>2219</td>\n",
       "      <td>2307</td>\n",
       "      <td>2263</td>\n",
       "      <td>2113</td>\n",
       "    </tr>\n",
       "    <tr>\n",
       "      <th>10</th>\n",
       "      <td>RMIT Gallery</td>\n",
       "      <td>-37.812587</td>\n",
       "      <td>144.955458</td>\n",
       "      <td>552</td>\n",
       "      <td>550</td>\n",
       "      <td>513</td>\n",
       "      <td>517</td>\n",
       "      <td>523</td>\n",
       "      <td>528</td>\n",
       "      <td>491</td>\n",
       "    </tr>\n",
       "    <tr>\n",
       "      <th>11</th>\n",
       "      <td>Neon Parc</td>\n",
       "      <td>-37.813892</td>\n",
       "      <td>144.964020</td>\n",
       "      <td>1463</td>\n",
       "      <td>1420</td>\n",
       "      <td>1459</td>\n",
       "      <td>1501</td>\n",
       "      <td>1537</td>\n",
       "      <td>1536</td>\n",
       "      <td>1495</td>\n",
       "    </tr>\n",
       "    <tr>\n",
       "      <th>12</th>\n",
       "      <td>Outre Gallery</td>\n",
       "      <td>-37.812816</td>\n",
       "      <td>144.962224</td>\n",
       "      <td>1081</td>\n",
       "      <td>1072</td>\n",
       "      <td>1116</td>\n",
       "      <td>1114</td>\n",
       "      <td>1140</td>\n",
       "      <td>1124</td>\n",
       "      <td>1083</td>\n",
       "    </tr>\n",
       "    <tr>\n",
       "      <th>13</th>\n",
       "      <td>Anna Schwartz Gallery</td>\n",
       "      <td>-37.816048</td>\n",
       "      <td>144.968890</td>\n",
       "      <td>1597</td>\n",
       "      <td>1547</td>\n",
       "      <td>1646</td>\n",
       "      <td>1824</td>\n",
       "      <td>1932</td>\n",
       "      <td>1909</td>\n",
       "      <td>1779</td>\n",
       "    </tr>\n",
       "    <tr>\n",
       "      <th>14</th>\n",
       "      <td>ARC ONE Gallery</td>\n",
       "      <td>-37.814730</td>\n",
       "      <td>144.973080</td>\n",
       "      <td>577</td>\n",
       "      <td>420</td>\n",
       "      <td>720</td>\n",
       "      <td>964</td>\n",
       "      <td>1014</td>\n",
       "      <td>929</td>\n",
       "      <td>800</td>\n",
       "    </tr>\n",
       "    <tr>\n",
       "      <th>15</th>\n",
       "      <td>Gallery Funaki</td>\n",
       "      <td>-37.811609</td>\n",
       "      <td>144.971399</td>\n",
       "      <td>792</td>\n",
       "      <td>541</td>\n",
       "      <td>622</td>\n",
       "      <td>880</td>\n",
       "      <td>1058</td>\n",
       "      <td>1106</td>\n",
       "      <td>987</td>\n",
       "    </tr>\n",
       "    <tr>\n",
       "      <th>16</th>\n",
       "      <td>Lesley Kehoe Galleries</td>\n",
       "      <td>-37.814922</td>\n",
       "      <td>144.970520</td>\n",
       "      <td>916</td>\n",
       "      <td>551</td>\n",
       "      <td>661</td>\n",
       "      <td>1036</td>\n",
       "      <td>1279</td>\n",
       "      <td>1350</td>\n",
       "      <td>1183</td>\n",
       "    </tr>\n",
       "    <tr>\n",
       "      <th>17</th>\n",
       "      <td>SpACE@Collins</td>\n",
       "      <td>-37.815775</td>\n",
       "      <td>144.964823</td>\n",
       "      <td>2279</td>\n",
       "      <td>2293</td>\n",
       "      <td>2357</td>\n",
       "      <td>2422</td>\n",
       "      <td>2469</td>\n",
       "      <td>2442</td>\n",
       "      <td>2348</td>\n",
       "    </tr>\n",
       "    <tr>\n",
       "      <th>18</th>\n",
       "      <td>Tolarno Galleries</td>\n",
       "      <td>-37.813133</td>\n",
       "      <td>144.971330</td>\n",
       "      <td>945</td>\n",
       "      <td>570</td>\n",
       "      <td>779</td>\n",
       "      <td>1175</td>\n",
       "      <td>1378</td>\n",
       "      <td>1443</td>\n",
       "      <td>1275</td>\n",
       "    </tr>\n",
       "    <tr>\n",
       "      <th>19</th>\n",
       "      <td>Immigration Museum</td>\n",
       "      <td>-37.818374</td>\n",
       "      <td>144.959207</td>\n",
       "      <td>769</td>\n",
       "      <td>734</td>\n",
       "      <td>796</td>\n",
       "      <td>926</td>\n",
       "      <td>1019</td>\n",
       "      <td>1025</td>\n",
       "      <td>901</td>\n",
       "    </tr>\n",
       "    <tr>\n",
       "      <th>20</th>\n",
       "      <td>National Gallery of Victoria</td>\n",
       "      <td>-37.822594</td>\n",
       "      <td>144.968928</td>\n",
       "      <td>3048</td>\n",
       "      <td>3020</td>\n",
       "      <td>3168</td>\n",
       "      <td>3438</td>\n",
       "      <td>3477</td>\n",
       "      <td>3249</td>\n",
       "      <td>3021</td>\n",
       "    </tr>\n",
       "    <tr>\n",
       "      <th>21</th>\n",
       "      <td>The Dax Centre</td>\n",
       "      <td>-37.798269</td>\n",
       "      <td>144.958551</td>\n",
       "      <td>487</td>\n",
       "      <td>544</td>\n",
       "      <td>685</td>\n",
       "      <td>662</td>\n",
       "      <td>664</td>\n",
       "      <td>649</td>\n",
       "      <td>568</td>\n",
       "    </tr>\n",
       "    <tr>\n",
       "      <th>22</th>\n",
       "      <td>Fortyfivedownstairs Inc</td>\n",
       "      <td>-37.816956</td>\n",
       "      <td>144.970885</td>\n",
       "      <td>1562</td>\n",
       "      <td>1259</td>\n",
       "      <td>1418</td>\n",
       "      <td>1664</td>\n",
       "      <td>1781</td>\n",
       "      <td>1700</td>\n",
       "      <td>1621</td>\n",
       "    </tr>\n",
       "    <tr>\n",
       "      <th>23</th>\n",
       "      <td>Pieces of Eight Gallery</td>\n",
       "      <td>-37.813492</td>\n",
       "      <td>144.967384</td>\n",
       "      <td>2334</td>\n",
       "      <td>2397</td>\n",
       "      <td>2421</td>\n",
       "      <td>2478</td>\n",
       "      <td>2520</td>\n",
       "      <td>2472</td>\n",
       "      <td>2370</td>\n",
       "    </tr>\n",
       "    <tr>\n",
       "      <th>24</th>\n",
       "      <td>Magnet Galleries Melbourne</td>\n",
       "      <td>-37.816581</td>\n",
       "      <td>144.952387</td>\n",
       "      <td>2182</td>\n",
       "      <td>2161</td>\n",
       "      <td>2089</td>\n",
       "      <td>2115</td>\n",
       "      <td>2163</td>\n",
       "      <td>2153</td>\n",
       "      <td>1987</td>\n",
       "    </tr>\n",
       "  </tbody>\n",
       "</table>\n",
       "</div>"
      ],
      "text/plain": [
       "                                     Gallery Name   Latitude   Longitude  \\\n",
       "0                        Old Melbourne Gaol Crime -37.807764  144.965464   \n",
       "1                           Victorian Arts Centre -37.821995  144.968837   \n",
       "2            The Ian Potter Centre: NGV Australia -37.817483  144.969899   \n",
       "3                     Thoroughbred Racing Gallery -37.818866  144.983970   \n",
       "4                      Fox Classic Car Collection -37.821374  144.948497   \n",
       "5                       Koorie Heritage Trust Inc -37.813385  144.954028   \n",
       "6   Australian Centre For The Moving Image (ACMI) -37.817611  144.969070   \n",
       "7                               Blindside Gallery -37.816711  144.966812   \n",
       "8                           Flinders Lane Gallery -37.815715  144.970033   \n",
       "9                               Mailbox Art Space -37.815758  144.969861   \n",
       "10                                   RMIT Gallery -37.812587  144.955458   \n",
       "11                                      Neon Parc -37.813892  144.964020   \n",
       "12                                  Outre Gallery -37.812816  144.962224   \n",
       "13                          Anna Schwartz Gallery -37.816048  144.968890   \n",
       "14                                ARC ONE Gallery -37.814730  144.973080   \n",
       "15                                 Gallery Funaki -37.811609  144.971399   \n",
       "16                         Lesley Kehoe Galleries -37.814922  144.970520   \n",
       "17                                  SpACE@Collins -37.815775  144.964823   \n",
       "18                              Tolarno Galleries -37.813133  144.971330   \n",
       "19                             Immigration Museum -37.818374  144.959207   \n",
       "20                   National Gallery of Victoria -37.822594  144.968928   \n",
       "21                                 The Dax Centre -37.798269  144.958551   \n",
       "22                        Fortyfivedownstairs Inc -37.816956  144.970885   \n",
       "23                        Pieces of Eight Gallery -37.813492  144.967384   \n",
       "24                     Magnet Galleries Melbourne -37.816581  144.952387   \n",
       "\n",
       "    Sunday  Monday  Tuesday  Wednesday  Thursday  Friday  Saturday  \n",
       "0      824     764      670        647       651     649       720  \n",
       "1     3085    2997     2941       3084      3160    3015      2899  \n",
       "2     2300    2253     2221       2341      2418    2312      2214  \n",
       "3      600     434      741        995      1049     970       836  \n",
       "4      662     751      795        822       846     857       744  \n",
       "5      917     886      897        936       948     943       884  \n",
       "6     2100    2070     2055       2174      2248    2149      2047  \n",
       "7     2742    2754     2793       2911      2991    2955      2827  \n",
       "8     2005    2045     2134       2276      2362    2314      2161  \n",
       "9     1954    1982     2072       2219      2307    2263      2113  \n",
       "10     552     550      513        517       523     528       491  \n",
       "11    1463    1420     1459       1501      1537    1536      1495  \n",
       "12    1081    1072     1116       1114      1140    1124      1083  \n",
       "13    1597    1547     1646       1824      1932    1909      1779  \n",
       "14     577     420      720        964      1014     929       800  \n",
       "15     792     541      622        880      1058    1106       987  \n",
       "16     916     551      661       1036      1279    1350      1183  \n",
       "17    2279    2293     2357       2422      2469    2442      2348  \n",
       "18     945     570      779       1175      1378    1443      1275  \n",
       "19     769     734      796        926      1019    1025       901  \n",
       "20    3048    3020     3168       3438      3477    3249      3021  \n",
       "21     487     544      685        662       664     649       568  \n",
       "22    1562    1259     1418       1664      1781    1700      1621  \n",
       "23    2334    2397     2421       2478      2520    2472      2370  \n",
       "24    2182    2161     2089       2115      2163    2153      1987  "
      ]
     },
     "execution_count": 828,
     "metadata": {},
     "output_type": "execute_result"
    }
   ],
   "source": [
    "# Find average for each gallery\n",
    "average_list = []\n",
    "\n",
    "for n in range(0,len(gallery)):\n",
    "    average = for_eachday(get_ped(gallery, dat2, df2, i=n), df2)\n",
    "    average_list.append(average)\n",
    "    \n",
    "# Concat\n",
    "past4 = pd.concat([gallery, pd.DataFrame(average_list, columns=day_list)], axis=1)\n",
    "past4"
   ]
  },
  {
   "cell_type": "code",
   "execution_count": 829,
   "metadata": {},
   "outputs": [],
   "source": [
    "past4.to_csv('next_4week.csv')"
   ]
  },
  {
   "cell_type": "code",
   "execution_count": 700,
   "metadata": {},
   "outputs": [],
   "source": [
    "p = pd.read_csv('past.csv')\n",
    "p = p.iloc[:,1:]"
   ]
  },
  {
   "cell_type": "code",
   "execution_count": 831,
   "metadata": {},
   "outputs": [
    {
     "data": {
      "text/html": [
       "<div>\n",
       "<style scoped>\n",
       "    .dataframe tbody tr th:only-of-type {\n",
       "        vertical-align: middle;\n",
       "    }\n",
       "\n",
       "    .dataframe tbody tr th {\n",
       "        vertical-align: top;\n",
       "    }\n",
       "\n",
       "    .dataframe thead th {\n",
       "        text-align: right;\n",
       "    }\n",
       "</style>\n",
       "<table border=\"1\" class=\"dataframe\">\n",
       "  <thead>\n",
       "    <tr style=\"text-align: right;\">\n",
       "      <th></th>\n",
       "      <th>Gallery Name</th>\n",
       "      <th>Latitude</th>\n",
       "      <th>Longitude</th>\n",
       "      <th>Sunday</th>\n",
       "      <th>Monday</th>\n",
       "      <th>Tuesday</th>\n",
       "      <th>Wednesday</th>\n",
       "      <th>Thursday</th>\n",
       "      <th>Friday</th>\n",
       "      <th>Saturday</th>\n",
       "    </tr>\n",
       "  </thead>\n",
       "  <tbody>\n",
       "    <tr>\n",
       "      <th>0</th>\n",
       "      <td>Old Melbourne Gaol Crime</td>\n",
       "      <td>-37.807764</td>\n",
       "      <td>144.965464</td>\n",
       "      <td>569.0</td>\n",
       "      <td>945.0</td>\n",
       "      <td>850.0</td>\n",
       "      <td>1017.0</td>\n",
       "      <td>758.0</td>\n",
       "      <td>903.0</td>\n",
       "      <td>796.0</td>\n",
       "    </tr>\n",
       "    <tr>\n",
       "      <th>1</th>\n",
       "      <td>Victorian Arts Centre</td>\n",
       "      <td>-37.821995</td>\n",
       "      <td>144.968837</td>\n",
       "      <td>2345.0</td>\n",
       "      <td>1572.0</td>\n",
       "      <td>1835.0</td>\n",
       "      <td>1672.0</td>\n",
       "      <td>1897.0</td>\n",
       "      <td>1884.0</td>\n",
       "      <td>2012.0</td>\n",
       "    </tr>\n",
       "    <tr>\n",
       "      <th>2</th>\n",
       "      <td>The Ian Potter Centre: NGV Australia</td>\n",
       "      <td>-37.817483</td>\n",
       "      <td>144.969899</td>\n",
       "      <td>658.0</td>\n",
       "      <td>785.0</td>\n",
       "      <td>810.0</td>\n",
       "      <td>806.0</td>\n",
       "      <td>867.0</td>\n",
       "      <td>923.0</td>\n",
       "      <td>583.0</td>\n",
       "    </tr>\n",
       "    <tr>\n",
       "      <th>3</th>\n",
       "      <td>Thoroughbred Racing Gallery</td>\n",
       "      <td>-37.818866</td>\n",
       "      <td>144.983970</td>\n",
       "      <td>202.0</td>\n",
       "      <td>598.0</td>\n",
       "      <td>538.0</td>\n",
       "      <td>636.0</td>\n",
       "      <td>576.0</td>\n",
       "      <td>740.0</td>\n",
       "      <td>317.0</td>\n",
       "    </tr>\n",
       "    <tr>\n",
       "      <th>4</th>\n",
       "      <td>Fox Classic Car Collection</td>\n",
       "      <td>-37.821374</td>\n",
       "      <td>144.948497</td>\n",
       "      <td>158.0</td>\n",
       "      <td>754.0</td>\n",
       "      <td>671.0</td>\n",
       "      <td>785.0</td>\n",
       "      <td>692.0</td>\n",
       "      <td>876.0</td>\n",
       "      <td>335.0</td>\n",
       "    </tr>\n",
       "    <tr>\n",
       "      <th>5</th>\n",
       "      <td>Koorie Heritage Trust Inc</td>\n",
       "      <td>-37.813385</td>\n",
       "      <td>144.954028</td>\n",
       "      <td>602.0</td>\n",
       "      <td>1034.0</td>\n",
       "      <td>1003.0</td>\n",
       "      <td>1077.0</td>\n",
       "      <td>1017.0</td>\n",
       "      <td>1152.0</td>\n",
       "      <td>777.0</td>\n",
       "    </tr>\n",
       "    <tr>\n",
       "      <th>6</th>\n",
       "      <td>Australian Centre For The Moving Image (ACMI)</td>\n",
       "      <td>-37.817611</td>\n",
       "      <td>144.969070</td>\n",
       "      <td>1289.0</td>\n",
       "      <td>1386.0</td>\n",
       "      <td>1439.0</td>\n",
       "      <td>1445.0</td>\n",
       "      <td>1506.0</td>\n",
       "      <td>1703.0</td>\n",
       "      <td>1323.0</td>\n",
       "    </tr>\n",
       "    <tr>\n",
       "      <th>7</th>\n",
       "      <td>Blindside Gallery</td>\n",
       "      <td>-37.816711</td>\n",
       "      <td>144.966812</td>\n",
       "      <td>2130.0</td>\n",
       "      <td>2602.0</td>\n",
       "      <td>2641.0</td>\n",
       "      <td>2704.0</td>\n",
       "      <td>2624.0</td>\n",
       "      <td>2844.0</td>\n",
       "      <td>2519.0</td>\n",
       "    </tr>\n",
       "    <tr>\n",
       "      <th>8</th>\n",
       "      <td>Flinders Lane Gallery</td>\n",
       "      <td>-37.815715</td>\n",
       "      <td>144.970033</td>\n",
       "      <td>1613.0</td>\n",
       "      <td>2011.0</td>\n",
       "      <td>2066.0</td>\n",
       "      <td>2076.0</td>\n",
       "      <td>2043.0</td>\n",
       "      <td>2258.0</td>\n",
       "      <td>1964.0</td>\n",
       "    </tr>\n",
       "    <tr>\n",
       "      <th>9</th>\n",
       "      <td>Mailbox Art Space</td>\n",
       "      <td>-37.815758</td>\n",
       "      <td>144.969861</td>\n",
       "      <td>1557.0</td>\n",
       "      <td>1961.0</td>\n",
       "      <td>2011.0</td>\n",
       "      <td>2024.0</td>\n",
       "      <td>1990.0</td>\n",
       "      <td>2202.0</td>\n",
       "      <td>1900.0</td>\n",
       "    </tr>\n",
       "    <tr>\n",
       "      <th>10</th>\n",
       "      <td>RMIT Gallery</td>\n",
       "      <td>-37.812587</td>\n",
       "      <td>144.955458</td>\n",
       "      <td>369.0</td>\n",
       "      <td>553.0</td>\n",
       "      <td>551.0</td>\n",
       "      <td>571.0</td>\n",
       "      <td>544.0</td>\n",
       "      <td>602.0</td>\n",
       "      <td>451.0</td>\n",
       "    </tr>\n",
       "    <tr>\n",
       "      <th>11</th>\n",
       "      <td>Neon Parc</td>\n",
       "      <td>-37.813892</td>\n",
       "      <td>144.964020</td>\n",
       "      <td>1468.0</td>\n",
       "      <td>1689.0</td>\n",
       "      <td>1684.0</td>\n",
       "      <td>1748.0</td>\n",
       "      <td>1715.0</td>\n",
       "      <td>1887.0</td>\n",
       "      <td>1792.0</td>\n",
       "    </tr>\n",
       "    <tr>\n",
       "      <th>12</th>\n",
       "      <td>Outre Gallery</td>\n",
       "      <td>-37.812816</td>\n",
       "      <td>144.962224</td>\n",
       "      <td>1082.0</td>\n",
       "      <td>1305.0</td>\n",
       "      <td>1322.0</td>\n",
       "      <td>1327.0</td>\n",
       "      <td>1303.0</td>\n",
       "      <td>1415.0</td>\n",
       "      <td>1333.0</td>\n",
       "    </tr>\n",
       "    <tr>\n",
       "      <th>13</th>\n",
       "      <td>Anna Schwartz Gallery</td>\n",
       "      <td>-37.816048</td>\n",
       "      <td>144.968890</td>\n",
       "      <td>1166.0</td>\n",
       "      <td>1606.0</td>\n",
       "      <td>1622.0</td>\n",
       "      <td>1661.0</td>\n",
       "      <td>1619.0</td>\n",
       "      <td>1808.0</td>\n",
       "      <td>1451.0</td>\n",
       "    </tr>\n",
       "    <tr>\n",
       "      <th>14</th>\n",
       "      <td>ARC ONE Gallery</td>\n",
       "      <td>-37.814730</td>\n",
       "      <td>144.973080</td>\n",
       "      <td>196.0</td>\n",
       "      <td>567.0</td>\n",
       "      <td>510.0</td>\n",
       "      <td>603.0</td>\n",
       "      <td>546.0</td>\n",
       "      <td>705.0</td>\n",
       "      <td>305.0</td>\n",
       "    </tr>\n",
       "    <tr>\n",
       "      <th>15</th>\n",
       "      <td>Gallery Funaki</td>\n",
       "      <td>-37.811609</td>\n",
       "      <td>144.971399</td>\n",
       "      <td>181.0</td>\n",
       "      <td>687.0</td>\n",
       "      <td>616.0</td>\n",
       "      <td>733.0</td>\n",
       "      <td>657.0</td>\n",
       "      <td>813.0</td>\n",
       "      <td>322.0</td>\n",
       "    </tr>\n",
       "    <tr>\n",
       "      <th>16</th>\n",
       "      <td>Lesley Kehoe Galleries</td>\n",
       "      <td>-37.814922</td>\n",
       "      <td>144.970520</td>\n",
       "      <td>149.0</td>\n",
       "      <td>681.0</td>\n",
       "      <td>614.0</td>\n",
       "      <td>705.0</td>\n",
       "      <td>643.0</td>\n",
       "      <td>819.0</td>\n",
       "      <td>285.0</td>\n",
       "    </tr>\n",
       "    <tr>\n",
       "      <th>17</th>\n",
       "      <td>SpACE@Collins</td>\n",
       "      <td>-37.815775</td>\n",
       "      <td>144.964823</td>\n",
       "      <td>2049.0</td>\n",
       "      <td>2375.0</td>\n",
       "      <td>2456.0</td>\n",
       "      <td>2480.0</td>\n",
       "      <td>2419.0</td>\n",
       "      <td>2692.0</td>\n",
       "      <td>2514.0</td>\n",
       "    </tr>\n",
       "    <tr>\n",
       "      <th>18</th>\n",
       "      <td>Tolarno Galleries</td>\n",
       "      <td>-37.813133</td>\n",
       "      <td>144.971330</td>\n",
       "      <td>199.0</td>\n",
       "      <td>865.0</td>\n",
       "      <td>776.0</td>\n",
       "      <td>899.0</td>\n",
       "      <td>818.0</td>\n",
       "      <td>1023.0</td>\n",
       "      <td>369.0</td>\n",
       "    </tr>\n",
       "    <tr>\n",
       "      <th>19</th>\n",
       "      <td>Immigration Museum</td>\n",
       "      <td>-37.818374</td>\n",
       "      <td>144.959207</td>\n",
       "      <td>364.0</td>\n",
       "      <td>994.0</td>\n",
       "      <td>913.0</td>\n",
       "      <td>1055.0</td>\n",
       "      <td>944.0</td>\n",
       "      <td>1099.0</td>\n",
       "      <td>568.0</td>\n",
       "    </tr>\n",
       "    <tr>\n",
       "      <th>20</th>\n",
       "      <td>National Gallery of Victoria</td>\n",
       "      <td>-37.822594</td>\n",
       "      <td>144.968928</td>\n",
       "      <td>2343.0</td>\n",
       "      <td>1566.0</td>\n",
       "      <td>1815.0</td>\n",
       "      <td>1663.0</td>\n",
       "      <td>1876.0</td>\n",
       "      <td>1862.0</td>\n",
       "      <td>2022.0</td>\n",
       "    </tr>\n",
       "    <tr>\n",
       "      <th>21</th>\n",
       "      <td>The Dax Centre</td>\n",
       "      <td>-37.798269</td>\n",
       "      <td>144.958551</td>\n",
       "      <td>278.0</td>\n",
       "      <td>709.0</td>\n",
       "      <td>581.0</td>\n",
       "      <td>765.0</td>\n",
       "      <td>561.0</td>\n",
       "      <td>742.0</td>\n",
       "      <td>290.0</td>\n",
       "    </tr>\n",
       "    <tr>\n",
       "      <th>22</th>\n",
       "      <td>Fortyfivedownstairs Inc</td>\n",
       "      <td>-37.816956</td>\n",
       "      <td>144.970885</td>\n",
       "      <td>921.0</td>\n",
       "      <td>631.0</td>\n",
       "      <td>727.0</td>\n",
       "      <td>641.0</td>\n",
       "      <td>788.0</td>\n",
       "      <td>803.0</td>\n",
       "      <td>703.0</td>\n",
       "    </tr>\n",
       "    <tr>\n",
       "      <th>23</th>\n",
       "      <td>Pieces of Eight Gallery</td>\n",
       "      <td>-37.813492</td>\n",
       "      <td>144.967384</td>\n",
       "      <td>2291.0</td>\n",
       "      <td>2430.0</td>\n",
       "      <td>2468.0</td>\n",
       "      <td>2523.0</td>\n",
       "      <td>2498.0</td>\n",
       "      <td>2736.0</td>\n",
       "      <td>2687.0</td>\n",
       "    </tr>\n",
       "    <tr>\n",
       "      <th>24</th>\n",
       "      <td>Magnet Galleries Melbourne</td>\n",
       "      <td>-37.816581</td>\n",
       "      <td>144.952387</td>\n",
       "      <td>1129.0</td>\n",
       "      <td>2130.0</td>\n",
       "      <td>2005.0</td>\n",
       "      <td>2203.0</td>\n",
       "      <td>2040.0</td>\n",
       "      <td>2313.0</td>\n",
       "      <td>1492.0</td>\n",
       "    </tr>\n",
       "  </tbody>\n",
       "</table>\n",
       "</div>"
      ],
      "text/plain": [
       "                                     Gallery Name   Latitude   Longitude  \\\n",
       "0                        Old Melbourne Gaol Crime -37.807764  144.965464   \n",
       "1                           Victorian Arts Centre -37.821995  144.968837   \n",
       "2            The Ian Potter Centre: NGV Australia -37.817483  144.969899   \n",
       "3                     Thoroughbred Racing Gallery -37.818866  144.983970   \n",
       "4                      Fox Classic Car Collection -37.821374  144.948497   \n",
       "5                       Koorie Heritage Trust Inc -37.813385  144.954028   \n",
       "6   Australian Centre For The Moving Image (ACMI) -37.817611  144.969070   \n",
       "7                               Blindside Gallery -37.816711  144.966812   \n",
       "8                           Flinders Lane Gallery -37.815715  144.970033   \n",
       "9                               Mailbox Art Space -37.815758  144.969861   \n",
       "10                                   RMIT Gallery -37.812587  144.955458   \n",
       "11                                      Neon Parc -37.813892  144.964020   \n",
       "12                                  Outre Gallery -37.812816  144.962224   \n",
       "13                          Anna Schwartz Gallery -37.816048  144.968890   \n",
       "14                                ARC ONE Gallery -37.814730  144.973080   \n",
       "15                                 Gallery Funaki -37.811609  144.971399   \n",
       "16                         Lesley Kehoe Galleries -37.814922  144.970520   \n",
       "17                                  SpACE@Collins -37.815775  144.964823   \n",
       "18                              Tolarno Galleries -37.813133  144.971330   \n",
       "19                             Immigration Museum -37.818374  144.959207   \n",
       "20                   National Gallery of Victoria -37.822594  144.968928   \n",
       "21                                 The Dax Centre -37.798269  144.958551   \n",
       "22                        Fortyfivedownstairs Inc -37.816956  144.970885   \n",
       "23                        Pieces of Eight Gallery -37.813492  144.967384   \n",
       "24                     Magnet Galleries Melbourne -37.816581  144.952387   \n",
       "\n",
       "    Sunday  Monday  Tuesday  Wednesday  Thursday  Friday  Saturday  \n",
       "0    569.0   945.0    850.0     1017.0     758.0   903.0     796.0  \n",
       "1   2345.0  1572.0   1835.0     1672.0    1897.0  1884.0    2012.0  \n",
       "2    658.0   785.0    810.0      806.0     867.0   923.0     583.0  \n",
       "3    202.0   598.0    538.0      636.0     576.0   740.0     317.0  \n",
       "4    158.0   754.0    671.0      785.0     692.0   876.0     335.0  \n",
       "5    602.0  1034.0   1003.0     1077.0    1017.0  1152.0     777.0  \n",
       "6   1289.0  1386.0   1439.0     1445.0    1506.0  1703.0    1323.0  \n",
       "7   2130.0  2602.0   2641.0     2704.0    2624.0  2844.0    2519.0  \n",
       "8   1613.0  2011.0   2066.0     2076.0    2043.0  2258.0    1964.0  \n",
       "9   1557.0  1961.0   2011.0     2024.0    1990.0  2202.0    1900.0  \n",
       "10   369.0   553.0    551.0      571.0     544.0   602.0     451.0  \n",
       "11  1468.0  1689.0   1684.0     1748.0    1715.0  1887.0    1792.0  \n",
       "12  1082.0  1305.0   1322.0     1327.0    1303.0  1415.0    1333.0  \n",
       "13  1166.0  1606.0   1622.0     1661.0    1619.0  1808.0    1451.0  \n",
       "14   196.0   567.0    510.0      603.0     546.0   705.0     305.0  \n",
       "15   181.0   687.0    616.0      733.0     657.0   813.0     322.0  \n",
       "16   149.0   681.0    614.0      705.0     643.0   819.0     285.0  \n",
       "17  2049.0  2375.0   2456.0     2480.0    2419.0  2692.0    2514.0  \n",
       "18   199.0   865.0    776.0      899.0     818.0  1023.0     369.0  \n",
       "19   364.0   994.0    913.0     1055.0     944.0  1099.0     568.0  \n",
       "20  2343.0  1566.0   1815.0     1663.0    1876.0  1862.0    2022.0  \n",
       "21   278.0   709.0    581.0      765.0     561.0   742.0     290.0  \n",
       "22   921.0   631.0    727.0      641.0     788.0   803.0     703.0  \n",
       "23  2291.0  2430.0   2468.0     2523.0    2498.0  2736.0    2687.0  \n",
       "24  1129.0  2130.0   2005.0     2203.0    2040.0  2313.0    1492.0  "
      ]
     },
     "execution_count": 831,
     "metadata": {},
     "output_type": "execute_result"
    }
   ],
   "source": [
    "p"
   ]
  },
  {
   "cell_type": "code",
   "execution_count": 830,
   "metadata": {},
   "outputs": [
    {
     "data": {
      "text/plain": [
       "<matplotlib.axes._subplots.AxesSubplot at 0x2b1c4771278>"
      ]
     },
     "execution_count": 830,
     "metadata": {},
     "output_type": "execute_result"
    },
    {
     "data": {
      "image/png": "[encoded data removed]",
      "text/plain": [
       "<Figure size 1440x864 with 7 Axes>"
      ]
     },
     "metadata": {
      "needs_background": "light"
     },
     "output_type": "display_data"
    }
   ],
   "source": [
    "import seaborn as sns\n",
    "import matplotlib.pyplot as plt\n",
    "\n",
    "%matplotlib inline\n",
    "fig, axs = plt.subplots(nrows=7, figsize=(20, 12))\n",
    "sns.set(style=\"whitegrid\")\n",
    "sns.lineplot(data=p.iloc[:,3], palette=\"tab10\", linewidth=2, ax=axs[0], color = 'red')\n",
    "sns.lineplot(data=past4.iloc[:,3], palette=\"tab10\", linewidth=2, ax=axs[0], color = 'blue')\n",
    "\n",
    "sns.lineplot(data=p.iloc[:,4], palette=\"tab10\", linewidth=2, ax=axs[1], color = 'red')\n",
    "sns.lineplot(data=past4.iloc[:,4], palette=\"tab10\", linewidth=2, ax=axs[1], color = 'blue')\n",
    "\n",
    "sns.lineplot(data=p.iloc[:,5], palette=\"tab10\", linewidth=2, ax=axs[2], color = 'red')\n",
    "sns.lineplot(data=past4.iloc[:,5], palette=\"tab10\", linewidth=2, ax=axs[2], color = 'blue')\n",
    "\n",
    "sns.lineplot(data=p.iloc[:,6], palette=\"tab10\", linewidth=2, ax=axs[3], color = 'red')\n",
    "sns.lineplot(data=past4.iloc[:,6], palette=\"tab10\", linewidth=2, ax=axs[3], color = 'blue')\n",
    "\n",
    "sns.lineplot(data=p.iloc[:,7], palette=\"tab10\", linewidth=2, ax=axs[4], color = 'red')\n",
    "sns.lineplot(data=past4.iloc[:,7], palette=\"tab10\", linewidth=2, ax=axs[4], color = 'blue')\n",
    "\n",
    "sns.lineplot(data=p.iloc[:,8], palette=\"tab10\", linewidth=2, ax=axs[5], color = 'red')\n",
    "sns.lineplot(data=past4.iloc[:,8], palette=\"tab10\", linewidth=2, ax=axs[5], color = 'blue')\n",
    "\n",
    "sns.lineplot(data=p.iloc[:,9], palette=\"tab10\", linewidth=2, ax=axs[6], color = 'red')\n",
    "sns.lineplot(data=past4.iloc[:,9], palette=\"tab10\", linewidth=2, ax=axs[6], color = 'blue')"
   ]
  },
  {
   "cell_type": "markdown",
   "metadata": {},
   "source": [
    "Might need model for Location [1, 2, 15, 20]"
   ]
  },
  {
   "cell_type": "code",
   "execution_count": null,
   "metadata": {},
   "outputs": [],
   "source": []
  },
  {
   "cell_type": "code",
   "execution_count": null,
   "metadata": {},
   "outputs": [],
   "source": []
  },
  {
   "cell_type": "code",
   "execution_count": null,
   "metadata": {},
   "outputs": [],
   "source": []
  },
  {
   "cell_type": "code",
   "execution_count": null,
   "metadata": {},
   "outputs": [],
   "source": []
  },
  {
   "cell_type": "code",
   "execution_count": null,
   "metadata": {},
   "outputs": [],
   "source": []
  }
 ],
 "metadata": {
  "kernelspec": {
   "display_name": "Python 3",
   "language": "python",
   "name": "python3"
  },
  "language_info": {
   "codemirror_mode": {
    "name": "ipython",
    "version": 3
   },
   "file_extension": ".py",
   "mimetype": "text/x-python",
   "name": "python",
   "nbconvert_exporter": "python",
   "pygments_lexer": "ipython3",
   "version": "3.6.8"
  }
 },
 "nbformat": 4,
 "nbformat_minor": 2
}
