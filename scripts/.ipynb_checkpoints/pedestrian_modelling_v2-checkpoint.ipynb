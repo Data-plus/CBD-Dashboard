{
 "cells": [
  {
   "cell_type": "code",
   "execution_count": 1,
   "metadata": {
    "scrolled": true
   },
   "outputs": [],
   "source": [
    "import pandas as pd\n",
    "import numpy as np\n",
    "import seaborn as sns\n",
    "import matplotlib.pyplot as plt\n",
    "from datetime import datetime\n",
    "from sklearn.preprocessing import MinMaxScaler\n",
    "import time\n",
    "import matplotlib.pyplot as plt\n",
    "from matplotlib.pyplot import figure"
   ]
  },
  {
   "cell_type": "code",
   "execution_count": 2,
   "metadata": {
    "scrolled": false
   },
   "outputs": [
    {
     "name": "stderr",
     "output_type": "stream",
     "text": [
      "Using TensorFlow backend.\n"
     ]
    }
   ],
   "source": [
    "from keras.layers import Dense\n",
    "from keras.layers import LSTM\n",
    "from keras.layers import Dropout\n",
    "from keras.models import Sequential\n",
    "from keras.layers import Bidirectional\n",
    "import keras.callbacks"
   ]
  },
  {
   "cell_type": "code",
   "execution_count": 3,
   "metadata": {},
   "outputs": [
    {
     "data": {
      "text/plain": [
       "['/job:localhost/replica:0/task:0/device:GPU:0']"
      ]
     },
     "execution_count": 3,
     "metadata": {},
     "output_type": "execute_result"
    }
   ],
   "source": [
    "from keras import backend as K\n",
    "K.tensorflow_backend._get_available_gpus()"
   ]
  },
  {
   "cell_type": "markdown",
   "metadata": {},
   "source": [
    "# Using past 48 hours to predict next 48 hours\n"
   ]
  },
  {
   "cell_type": "code",
   "execution_count": 3,
   "metadata": {},
   "outputs": [],
   "source": [
    "df_0 = pd.read_json(\"https://data.melbourne.vic.gov.au/resource/b2ak-trbp.json?$limit=50000&$offset=2546125\")"
   ]
  },
  {
   "cell_type": "code",
   "execution_count": 6,
   "metadata": {},
   "outputs": [],
   "source": [
    "df0 = pd.read_json(\"https://data.melbourne.vic.gov.au/resource/b2ak-trbp.json?$offset=2546125\")"
   ]
  },
  {
   "cell_type": "code",
   "execution_count": 288,
   "metadata": {},
   "outputs": [],
   "source": [
    "data = pd.read_csv(\"../data/pedestrian.csv\")"
   ]
  },
  {
   "cell_type": "code",
   "execution_count": 289,
   "metadata": {
    "scrolled": true
   },
   "outputs": [
    {
     "data": {
      "text/html": [
       "<div>\n",
       "<style scoped>\n",
       "    .dataframe tbody tr th:only-of-type {\n",
       "        vertical-align: middle;\n",
       "    }\n",
       "\n",
       "    .dataframe tbody tr th {\n",
       "        vertical-align: top;\n",
       "    }\n",
       "\n",
       "    .dataframe thead th {\n",
       "        text-align: right;\n",
       "    }\n",
       "</style>\n",
       "<table border=\"1\" class=\"dataframe\">\n",
       "  <thead>\n",
       "    <tr style=\"text-align: right;\">\n",
       "      <th></th>\n",
       "      <th>ID</th>\n",
       "      <th>Date_Time</th>\n",
       "      <th>Year</th>\n",
       "      <th>Month</th>\n",
       "      <th>Mdate</th>\n",
       "      <th>Day</th>\n",
       "      <th>Time</th>\n",
       "      <th>Sensor_ID</th>\n",
       "      <th>Sensor_Name</th>\n",
       "      <th>Hourly_Counts</th>\n",
       "    </tr>\n",
       "  </thead>\n",
       "  <tbody>\n",
       "    <tr>\n",
       "      <th>2079491</th>\n",
       "      <td>2079941</td>\n",
       "      <td>01/01/2018 12:00:00 AM</td>\n",
       "      <td>2018</td>\n",
       "      <td>January</td>\n",
       "      <td>1</td>\n",
       "      <td>Monday</td>\n",
       "      <td>0</td>\n",
       "      <td>4</td>\n",
       "      <td>Town Hall (West)</td>\n",
       "      <td>3052.0</td>\n",
       "    </tr>\n",
       "    <tr>\n",
       "      <th>2079492</th>\n",
       "      <td>2079942</td>\n",
       "      <td>01/01/2018 12:00:00 AM</td>\n",
       "      <td>2018</td>\n",
       "      <td>January</td>\n",
       "      <td>1</td>\n",
       "      <td>Monday</td>\n",
       "      <td>0</td>\n",
       "      <td>5</td>\n",
       "      <td>Princes Bridge</td>\n",
       "      <td>1757.0</td>\n",
       "    </tr>\n",
       "  </tbody>\n",
       "</table>\n",
       "</div>"
      ],
      "text/plain": [
       "              ID               Date_Time  Year    Month  Mdate     Day  Time  \\\n",
       "2079491  2079941  01/01/2018 12:00:00 AM  2018  January      1  Monday     0   \n",
       "2079492  2079942  01/01/2018 12:00:00 AM  2018  January      1  Monday     0   \n",
       "\n",
       "         Sensor_ID       Sensor_Name  Hourly_Counts  \n",
       "2079491          4  Town Hall (West)         3052.0  \n",
       "2079492          5    Princes Bridge         1757.0  "
      ]
     },
     "execution_count": 289,
     "metadata": {},
     "output_type": "execute_result"
    }
   ],
   "source": [
    "data = data.iloc[2079491:,]\n",
    "data.head(2)"
   ]
  },
  {
   "cell_type": "code",
   "execution_count": 427,
   "metadata": {},
   "outputs": [],
   "source": [
    "data = pd.read_csv('pedestrian_temp.csv')"
   ]
  },
  {
   "cell_type": "code",
   "execution_count": 428,
   "metadata": {},
   "outputs": [
    {
     "data": {
      "text/html": [
       "<div>\n",
       "<style scoped>\n",
       "    .dataframe tbody tr th:only-of-type {\n",
       "        vertical-align: middle;\n",
       "    }\n",
       "\n",
       "    .dataframe tbody tr th {\n",
       "        vertical-align: top;\n",
       "    }\n",
       "\n",
       "    .dataframe thead th {\n",
       "        text-align: right;\n",
       "    }\n",
       "</style>\n",
       "<table border=\"1\" class=\"dataframe\">\n",
       "  <thead>\n",
       "    <tr style=\"text-align: right;\">\n",
       "      <th></th>\n",
       "      <th>date_time</th>\n",
       "      <th>sensor_id</th>\n",
       "      <th>sensor_name</th>\n",
       "      <th>hourly_counts</th>\n",
       "      <th>latitude</th>\n",
       "      <th>longitude</th>\n",
       "    </tr>\n",
       "  </thead>\n",
       "  <tbody>\n",
       "    <tr>\n",
       "      <th>0</th>\n",
       "      <td>01/10/2018 0:00</td>\n",
       "      <td>5</td>\n",
       "      <td>Princes Bridge</td>\n",
       "      <td>123.0</td>\n",
       "      <td>-37.818742</td>\n",
       "      <td>144.967877</td>\n",
       "    </tr>\n",
       "    <tr>\n",
       "      <th>1</th>\n",
       "      <td>01/10/2018 1:00</td>\n",
       "      <td>5</td>\n",
       "      <td>Princes Bridge</td>\n",
       "      <td>46.0</td>\n",
       "      <td>-37.818742</td>\n",
       "      <td>144.967877</td>\n",
       "    </tr>\n",
       "  </tbody>\n",
       "</table>\n",
       "</div>"
      ],
      "text/plain": [
       "         date_time  sensor_id     sensor_name  hourly_counts   latitude  \\\n",
       "0  01/10/2018 0:00          5  Princes Bridge          123.0 -37.818742   \n",
       "1  01/10/2018 1:00          5  Princes Bridge           46.0 -37.818742   \n",
       "\n",
       "    longitude  \n",
       "0  144.967877  \n",
       "1  144.967877  "
      ]
     },
     "execution_count": 428,
     "metadata": {},
     "output_type": "execute_result"
    }
   ],
   "source": [
    "data.head(2)"
   ]
  },
  {
   "cell_type": "code",
   "execution_count": 429,
   "metadata": {},
   "outputs": [],
   "source": [
    "#df = data.iloc[:,[1,7,9]] # Select date,sensor,counts\n",
    "df = data.iloc[:,[0,1,3]]"
   ]
  },
  {
   "cell_type": "code",
   "execution_count": 430,
   "metadata": {},
   "outputs": [
    {
     "data": {
      "text/html": [
       "<div>\n",
       "<style scoped>\n",
       "    .dataframe tbody tr th:only-of-type {\n",
       "        vertical-align: middle;\n",
       "    }\n",
       "\n",
       "    .dataframe tbody tr th {\n",
       "        vertical-align: top;\n",
       "    }\n",
       "\n",
       "    .dataframe thead th {\n",
       "        text-align: right;\n",
       "    }\n",
       "</style>\n",
       "<table border=\"1\" class=\"dataframe\">\n",
       "  <thead>\n",
       "    <tr style=\"text-align: right;\">\n",
       "      <th></th>\n",
       "      <th>date_time</th>\n",
       "      <th>sensor_id</th>\n",
       "      <th>hourly_counts</th>\n",
       "    </tr>\n",
       "  </thead>\n",
       "  <tbody>\n",
       "    <tr>\n",
       "      <th>0</th>\n",
       "      <td>01/10/2018 0:00</td>\n",
       "      <td>5</td>\n",
       "      <td>123.0</td>\n",
       "    </tr>\n",
       "    <tr>\n",
       "      <th>1</th>\n",
       "      <td>01/10/2018 1:00</td>\n",
       "      <td>5</td>\n",
       "      <td>46.0</td>\n",
       "    </tr>\n",
       "  </tbody>\n",
       "</table>\n",
       "</div>"
      ],
      "text/plain": [
       "         date_time  sensor_id  hourly_counts\n",
       "0  01/10/2018 0:00          5          123.0\n",
       "1  01/10/2018 1:00          5           46.0"
      ]
     },
     "execution_count": 430,
     "metadata": {},
     "output_type": "execute_result"
    }
   ],
   "source": [
    "df.head(2)"
   ]
  },
  {
   "cell_type": "code",
   "execution_count": 432,
   "metadata": {},
   "outputs": [],
   "source": [
    "sid = 104\n",
    "#df = df[df['Sensor_ID']==sid]\n",
    "df = df[df['sensor_id']==sid]"
   ]
  },
  {
   "cell_type": "code",
   "execution_count": 433,
   "metadata": {},
   "outputs": [],
   "source": [
    "split_ratio = 0.8\n",
    "N=round(len(df)*split_ratio)"
   ]
  },
  {
   "cell_type": "code",
   "execution_count": 434,
   "metadata": {},
   "outputs": [],
   "source": [
    "data_train = df.iloc[:N,]\n",
    "data_test = df.iloc[N:,]"
   ]
  },
  {
   "cell_type": "code",
   "execution_count": 435,
   "metadata": {
    "scrolled": true
   },
   "outputs": [
    {
     "name": "stderr",
     "output_type": "stream",
     "text": [
      "C:\\ProgramData\\Anaconda3\\lib\\site-packages\\ipykernel_launcher.py:5: SettingWithCopyWarning: \n",
      "A value is trying to be set on a copy of a slice from a DataFrame.\n",
      "Try using .loc[row_indexer,col_indexer] = value instead\n",
      "\n",
      "See the caveats in the documentation: http://pandas.pydata.org/pandas-docs/stable/indexing.html#indexing-view-versus-copy\n",
      "  \"\"\"\n",
      "C:\\ProgramData\\Anaconda3\\lib\\site-packages\\ipykernel_launcher.py:6: SettingWithCopyWarning: \n",
      "A value is trying to be set on a copy of a slice from a DataFrame.\n",
      "Try using .loc[row_indexer,col_indexer] = value instead\n",
      "\n",
      "See the caveats in the documentation: http://pandas.pydata.org/pandas-docs/stable/indexing.html#indexing-view-versus-copy\n",
      "  \n"
     ]
    }
   ],
   "source": [
    "# Change into datetime\n",
    "# data_train[\"Date_Time\"] = pd.to_datetime(data_train[\"Date_Time\"])\n",
    "# data_test[\"Date_Time\"] = pd.to_datetime(data_test[\"Date_Time\"])\n",
    "\n",
    "data_train[\"date_time\"] = pd.to_datetime(data_train[\"date_time\"])\n",
    "data_test[\"date_time\"] = pd.to_datetime(data_test[\"date_time\"])"
   ]
  },
  {
   "cell_type": "code",
   "execution_count": 437,
   "metadata": {
    "scrolled": true
   },
   "outputs": [],
   "source": [
    "df_TownHallWest_train = data_train\n",
    "df_TownHallWest_test = data_test"
   ]
  },
  {
   "cell_type": "code",
   "execution_count": 438,
   "metadata": {
    "scrolled": true
   },
   "outputs": [],
   "source": [
    "df_TownHallWest_train = df_TownHallWest_train.set_index(['date_time'])\n",
    "df_TownHallWest_train = df_TownHallWest_train.drop(columns=['sensor_id'])"
   ]
  },
  {
   "cell_type": "code",
   "execution_count": 439,
   "metadata": {},
   "outputs": [],
   "source": [
    "def scale_data(dataset):\n",
    "    scaler = MinMaxScaler(feature_range=(0, 1))\n",
    "    training_scaled = scaler.fit_transform(dataset)\n",
    "    return training_scaled\n",
    "\n",
    "def build_X(training_scaled):\n",
    "    X_train = []\n",
    "    lookback = 168\n",
    "\n",
    "    for i in range(lookback, len(training_scaled)):\n",
    "        X_train.append(training_scaled[i-lookback:i,0])   \n",
    "        \n",
    "    X_train = np.array(X_train)\n",
    "    return X_train\n",
    "\n",
    "def build_Y(training_scaled):\n",
    "    Y_train = []\n",
    "    lookback = 168\n",
    "\n",
    "    for i in range(lookback, len(training_scaled)):\n",
    "        Y_train.append(training_scaled[i,0])\n",
    "        \n",
    "    Y_train = np.array(Y_train)\n",
    "    return Y_train"
   ]
  },
  {
   "cell_type": "code",
   "execution_count": 440,
   "metadata": {},
   "outputs": [],
   "source": [
    "X_train = build_X(scale_data(df_TownHallWest_train))\n",
    "Y_train = build_Y(scale_data(df_TownHallWest_train))"
   ]
  },
  {
   "cell_type": "code",
   "execution_count": 441,
   "metadata": {},
   "outputs": [
    {
     "data": {
      "text/plain": [
       "array([[0.00459921, 0.00197109, 0.00131406, ..., 0.0499343 , 0.03219448,\n",
       "        0.00985545],\n",
       "       [0.00197109, 0.00131406, 0.00328515, ..., 0.03219448, 0.00985545,\n",
       "        0.0151117 ],\n",
       "       [0.00131406, 0.00328515, 0.01708279, ..., 0.00985545, 0.0151117 ,\n",
       "        0.00591327],\n",
       "       ...,\n",
       "       [0.15045992, 0.15045992, 0.15045992, ..., 0.06570302, 0.09329829,\n",
       "        0.11235217],\n",
       "       [0.15045992, 0.15045992, 0.1412615 , ..., 0.09329829, 0.11235217,\n",
       "        0.12943495],\n",
       "       [0.15045992, 0.1412615 , 0.15045992, ..., 0.11235217, 0.12943495,\n",
       "        0.1544021 ]])"
      ]
     },
     "execution_count": 441,
     "metadata": {},
     "output_type": "execute_result"
    }
   ],
   "source": [
    "X_train"
   ]
  },
  {
   "cell_type": "code",
   "execution_count": 442,
   "metadata": {},
   "outputs": [],
   "source": [
    "X_train = np.reshape(X_train, (X_train.shape[0], X_train.shape[1], 1))"
   ]
  },
  {
   "cell_type": "code",
   "execution_count": 443,
   "metadata": {},
   "outputs": [],
   "source": [
    "# Keras settings\n",
    "earlystop = keras.callbacks.EarlyStopping(monitor='val_loss', min_delta=0, patience=2, verbose=0, mode='auto', baseline=None, restore_best_weights=True)"
   ]
  },
  {
   "cell_type": "code",
   "execution_count": 444,
   "metadata": {
    "scrolled": false
   },
   "outputs": [
    {
     "name": "stdout",
     "output_type": "stream",
     "text": [
      "Train on 2660 samples, validate on 666 samples\n",
      "Epoch 1/20\n",
      "2660/2660 [==============================] - 74s 28ms/step - loss: 0.0476 - val_loss: 0.0327\n",
      "Epoch 2/20\n",
      "2660/2660 [==============================] - 65s 24ms/step - loss: 0.0266 - val_loss: 0.0309\n",
      "Epoch 3/20\n",
      "2660/2660 [==============================] - 68s 26ms/step - loss: 0.0239 - val_loss: 0.0302\n",
      "Epoch 4/20\n",
      "2660/2660 [==============================] - 65s 24ms/step - loss: 0.0228 - val_loss: 0.0291\n",
      "Epoch 5/20\n",
      "2660/2660 [==============================] - 65s 24ms/step - loss: 0.0235 - val_loss: 0.0275\n",
      "Epoch 6/20\n",
      "2660/2660 [==============================] - 64s 24ms/step - loss: 0.0219 - val_loss: 0.0264\n",
      "Epoch 7/20\n",
      "2660/2660 [==============================] - 65s 24ms/step - loss: 0.0217 - val_loss: 0.0254\n",
      "Epoch 8/20\n",
      "2660/2660 [==============================] - 65s 24ms/step - loss: 0.0214 - val_loss: 0.0245\n",
      "Epoch 9/20\n",
      "2660/2660 [==============================] - 65s 24ms/step - loss: 0.0201 - val_loss: 0.0247\n",
      "Epoch 10/20\n",
      "2660/2660 [==============================] - 65s 24ms/step - loss: 0.0194 - val_loss: 0.0223\n",
      "Epoch 11/20\n",
      "2660/2660 [==============================] - 65s 24ms/step - loss: 0.0183 - val_loss: 0.0245\n",
      "Epoch 12/20\n",
      "2660/2660 [==============================] - 66s 25ms/step - loss: 0.0166 - val_loss: 0.0169\n",
      "Epoch 13/20\n",
      "2660/2660 [==============================] - 65s 24ms/step - loss: 0.0161 - val_loss: 0.0155\n",
      "Epoch 14/20\n",
      "2660/2660 [==============================] - 65s 24ms/step - loss: 0.0140 - val_loss: 0.0172\n",
      "Epoch 15/20\n",
      "2660/2660 [==============================] - 65s 24ms/step - loss: 0.0139 - val_loss: 0.0159\n"
     ]
    }
   ],
   "source": [
    "lookback = 168\n",
    "epochs = 20\n",
    "batch_size = 32\n",
    "\n",
    "model = Sequential()\n",
    "model.add(Bidirectional(LSTM(batch_size, input_shape=(lookback,1), return_sequences=True)))\n",
    "model.add(Dropout(0.2))\n",
    "model.add(LSTM(batch_size, input_shape=(lookback,1), return_sequences=True))\n",
    "model.add(Dropout(0.2))\n",
    "model.add(LSTM(batch_size, input_shape=(lookback,1)))\n",
    "model.add(Dropout(0.4))\n",
    "model.add(Dense(1))\n",
    "\n",
    "model.compile(loss='mean_squared_error', optimizer='adam')\n",
    "\n",
    "history = model.fit(X_train, Y_train, batch_size=batch_size, epochs=epochs, verbose=1, callbacks=[earlystop], validation_split=0.2)"
   ]
  },
  {
   "cell_type": "markdown",
   "metadata": {},
   "source": [
    "## Save Model"
   ]
  },
  {
   "cell_type": "markdown",
   "metadata": {},
   "source": [
    "2, 58, 17, 22, 49, 29, 110, 109, 13, 37, 3, 4, 43, 35, 10, 52, 104"
   ]
  },
  {
   "cell_type": "code",
   "execution_count": 446,
   "metadata": {},
   "outputs": [
    {
     "data": {
      "text/plain": [
       "104"
      ]
     },
     "execution_count": 446,
     "metadata": {},
     "output_type": "execute_result"
    }
   ],
   "source": [
    "sid"
   ]
  },
  {
   "cell_type": "code",
   "execution_count": 456,
   "metadata": {},
   "outputs": [
    {
     "name": "stdout",
     "output_type": "stream",
     "text": [
      "Saved model to disk\n"
     ]
    }
   ],
   "source": [
    "# serialize model to JSON\n",
    "model_json = model.to_json()\n",
    "with open(\"104_model.json\", \"w\") as json_file:\n",
    "    json_file.write(model_json)\n",
    "# serialize weights to HDF5\n",
    "model.save_weights(\"104_model.h5\")\n",
    "print(\"Saved model to disk\")"
   ]
  },
  {
   "cell_type": "code",
   "execution_count": 447,
   "metadata": {},
   "outputs": [
    {
     "name": "stdout",
     "output_type": "stream",
     "text": [
      "dict_keys(['val_loss', 'loss'])\n"
     ]
    },
    {
     "data": {
      "image/png": "[encoded data removed]",
      "text/plain": [
       "<Figure size 1152x648 with 1 Axes>"
      ]
     },
     "metadata": {
      "needs_background": "light"
     },
     "output_type": "display_data"
    }
   ],
   "source": [
    "# list all data in history\n",
    "print(history.history.keys())\n",
    "\n",
    "# summarize history for loss\n",
    "plt.figure(figsize=(16,9))\n",
    "plt.plot(history.history['loss'])\n",
    "plt.plot(history.history['val_loss'])\n",
    "plt.title('model loss')\n",
    "plt.ylabel('loss')\n",
    "plt.xlabel('epoch')\n",
    "plt.legend(['train', 'test'], loc='upper left')\n",
    "plt.show()"
   ]
  },
  {
   "cell_type": "markdown",
   "metadata": {},
   "source": [
    "## Testing"
   ]
  },
  {
   "cell_type": "code",
   "execution_count": 448,
   "metadata": {},
   "outputs": [
    {
     "data": {
      "text/html": [
       "<div>\n",
       "<style scoped>\n",
       "    .dataframe tbody tr th:only-of-type {\n",
       "        vertical-align: middle;\n",
       "    }\n",
       "\n",
       "    .dataframe tbody tr th {\n",
       "        vertical-align: top;\n",
       "    }\n",
       "\n",
       "    .dataframe thead th {\n",
       "        text-align: right;\n",
       "    }\n",
       "</style>\n",
       "<table border=\"1\" class=\"dataframe\">\n",
       "  <thead>\n",
       "    <tr style=\"text-align: right;\">\n",
       "      <th></th>\n",
       "      <th>date_time</th>\n",
       "      <th>sensor_id</th>\n",
       "      <th>hourly_counts</th>\n",
       "    </tr>\n",
       "  </thead>\n",
       "  <tbody>\n",
       "    <tr>\n",
       "      <th>234998</th>\n",
       "      <td>2019-02-23 14:00:00</td>\n",
       "      <td>104</td>\n",
       "      <td>215.0</td>\n",
       "    </tr>\n",
       "  </tbody>\n",
       "</table>\n",
       "</div>"
      ],
      "text/plain": [
       "                 date_time  sensor_id  hourly_counts\n",
       "234998 2019-02-23 14:00:00        104          215.0"
      ]
     },
     "execution_count": 448,
     "metadata": {},
     "output_type": "execute_result"
    }
   ],
   "source": [
    "df_TownHallWest_test.head(1)"
   ]
  },
  {
   "cell_type": "code",
   "execution_count": 449,
   "metadata": {
    "scrolled": true
   },
   "outputs": [],
   "source": [
    "df_TownHallWest_test = df_TownHallWest_test.set_index(['date_time'])\n",
    "df_TownHallWest_test = df_TownHallWest_test.drop(columns=['sensor_id'])"
   ]
  },
  {
   "cell_type": "code",
   "execution_count": 450,
   "metadata": {
    "scrolled": true
   },
   "outputs": [
    {
     "data": {
      "text/html": [
       "<div>\n",
       "<style scoped>\n",
       "    .dataframe tbody tr th:only-of-type {\n",
       "        vertical-align: middle;\n",
       "    }\n",
       "\n",
       "    .dataframe tbody tr th {\n",
       "        vertical-align: top;\n",
       "    }\n",
       "\n",
       "    .dataframe thead th {\n",
       "        text-align: right;\n",
       "    }\n",
       "</style>\n",
       "<table border=\"1\" class=\"dataframe\">\n",
       "  <thead>\n",
       "    <tr style=\"text-align: right;\">\n",
       "      <th></th>\n",
       "      <th>hourly_counts</th>\n",
       "    </tr>\n",
       "    <tr>\n",
       "      <th>date_time</th>\n",
       "      <th></th>\n",
       "    </tr>\n",
       "  </thead>\n",
       "  <tbody>\n",
       "    <tr>\n",
       "      <th>2019-02-23 14:00:00</th>\n",
       "      <td>215.0</td>\n",
       "    </tr>\n",
       "  </tbody>\n",
       "</table>\n",
       "</div>"
      ],
      "text/plain": [
       "                     hourly_counts\n",
       "date_time                         \n",
       "2019-02-23 14:00:00          215.0"
      ]
     },
     "execution_count": 450,
     "metadata": {},
     "output_type": "execute_result"
    }
   ],
   "source": [
    "df_save = df_TownHallWest_test\n",
    "#df_TownHallWest_test = df_save\n",
    "df_TownHallWest_test.head(1)"
   ]
  },
  {
   "cell_type": "code",
   "execution_count": 451,
   "metadata": {},
   "outputs": [],
   "source": [
    "# Just use \"r\" records \n",
    "r = 168\n",
    "\n",
    "df_x = df_TownHallWest_test.iloc[:r*2]\n",
    "#df_x = df_x.set_index(['Date_Time'])\n",
    "#df_x = df_x.drop(columns=['index'])\n",
    "#df_x = pd.DataFrame(df_x)"
   ]
  },
  {
   "cell_type": "code",
   "execution_count": 452,
   "metadata": {},
   "outputs": [],
   "source": [
    "# make predictions\n",
    "sc = MinMaxScaler(feature_range = (0,1))\n",
    "X_test = sc.fit_transform(df_x)\n",
    "X_test = build_X(X_test)\n",
    "X_test = np.reshape(X_test, (X_test.shape[0], X_test.shape[1], 1))\n",
    "test_predict = model.predict(X_test)\n",
    "test_predict = sc.inverse_transform(test_predict)"
   ]
  },
  {
   "cell_type": "code",
   "execution_count": 453,
   "metadata": {
    "scrolled": true
   },
   "outputs": [],
   "source": [
    "#data_test.reset_index(level=0, inplace=True)\n",
    "test_predict = pd.DataFrame(test_predict)\n",
    "test_predict = test_predict.clip(lower=0)\n",
    "#test_predict.index = test_predict.index + 20"
   ]
  },
  {
   "cell_type": "code",
   "execution_count": 454,
   "metadata": {},
   "outputs": [],
   "source": [
    "df_test = df_TownHallWest_test\n",
    "df_test.reset_index(level=0, inplace=True)\n",
    "df_test = df_test.drop(columns=('date_time'))"
   ]
  },
  {
   "cell_type": "code",
   "execution_count": 455,
   "metadata": {
    "scrolled": false
   },
   "outputs": [
    {
     "data": {
      "image/png": "[encoded data removed]",
      "text/plain": [
       "<Figure size 1296x720 with 1 Axes>"
      ]
     },
     "metadata": {
      "needs_background": "light"
     },
     "output_type": "display_data"
    }
   ],
   "source": [
    "plt.figure(figsize=(18,10))\n",
    "plt.plot(test_predict.iloc[0:168], color = 'blue', label='Predicted')\n",
    "plt.plot(df_test.iloc[0:168], color = 'red', label='Real')\n",
    "plt.xlabel('Time')\n",
    "plt.ylabel('Pedestrian count')\n",
    "plt.legend()\n",
    "plt.show()"
   ]
  },
  {
   "cell_type": "code",
   "execution_count": null,
   "metadata": {},
   "outputs": [],
   "source": []
  }
 ],
 "metadata": {
  "kernelspec": {
   "display_name": "Python 3",
   "language": "python",
   "name": "python3"
  },
  "language_info": {
   "codemirror_mode": {
    "name": "ipython",
    "version": 3
   },
   "file_extension": ".py",
   "mimetype": "text/x-python",
   "name": "python",
   "nbconvert_exporter": "python",
   "pygments_lexer": "ipython3",
   "version": "3.6.8"
  }
 },
 "nbformat": 4,
 "nbformat_minor": 2
}
