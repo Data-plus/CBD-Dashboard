{
 "cells": [
  {
   "cell_type": "markdown",
   "metadata": {},
   "source": [
    "# Pedestiran Counts Virtual Sensor"
   ]
  },
  {
   "cell_type": "code",
   "execution_count": 1,
   "metadata": {},
   "outputs": [],
   "source": [
    "import pandas as pd\n",
    "import geopy\n",
    "from geopy import distance"
   ]
  },
  {
   "cell_type": "code",
   "execution_count": 2,
   "metadata": {},
   "outputs": [],
   "source": [
    "df = pd.read_csv('pedestrian_feb.csv')\n",
    "df2 = pd.read_csv('Pedestrian_Counting_System_-_Sensor_Locations.csv')"
   ]
  },
  {
   "cell_type": "code",
   "execution_count": 16,
   "metadata": {
    "scrolled": true
   },
   "outputs": [],
   "source": [
    "#df3_new[df3_new['date_time'] == '17/02/2019 19:00']"
   ]
  },
  {
   "cell_type": "markdown",
   "metadata": {},
   "source": [
    "## Distance Functions"
   ]
  },
  {
   "cell_type": "code",
   "execution_count": 3,
   "metadata": {},
   "outputs": [],
   "source": [
    "def within(df, target, radius, g):\n",
    "    \n",
    "    temp = []\n",
    "    \n",
    "    for x in range(len(target)):\n",
    "        # Use try-except for error handling\n",
    "        try:\n",
    "            # Find coordinate1,2 calculate distance in km\n",
    "            coords_1 = (df[\"Latitude\"][g], df[\"Longitude\"][g])\n",
    "            coords_2 = (target[\"latitude\"][x], target[\"longitude\"][x])\n",
    "            dist = geopy.distance.distance(coords_1, coords_2).km\n",
    "\n",
    "            if dist <= radius:\n",
    "                temp.append(target.iloc[x])\n",
    "        except:\n",
    "            pass\n",
    "    return temp"
   ]
  },
  {
   "cell_type": "code",
   "execution_count": 4,
   "metadata": {},
   "outputs": [],
   "source": [
    "def within_d(df, target, radius, g):\n",
    "    \n",
    "    distances = []\n",
    "    \n",
    "    for x in range(len(target)):\n",
    "        # Use try-except for error handling\n",
    "        try:\n",
    "            # Find coordinate1,2 calculate distance in km\n",
    "            coords_1 = (df[\"Latitude\"][g], df[\"Longitude\"][g])\n",
    "            coords_2 = (target[\"latitude\"][x], target[\"longitude\"][x])\n",
    "            dist = geopy.distance.distance(coords_1, coords_2).km\n",
    "\n",
    "            if dist <= radius:\n",
    "                distances.append(dist)\n",
    "        except:\n",
    "            pass\n",
    "    return distances"
   ]
  },
  {
   "cell_type": "markdown",
   "metadata": {},
   "source": [
    "## Assign Lat, Lon for each sensor"
   ]
  },
  {
   "cell_type": "code",
   "execution_count": 19,
   "metadata": {},
   "outputs": [
    {
     "data": {
      "text/html": [
       "<div>\n",
       "<style scoped>\n",
       "    .dataframe tbody tr th:only-of-type {\n",
       "        vertical-align: middle;\n",
       "    }\n",
       "\n",
       "    .dataframe tbody tr th {\n",
       "        vertical-align: top;\n",
       "    }\n",
       "\n",
       "    .dataframe thead th {\n",
       "        text-align: right;\n",
       "    }\n",
       "</style>\n",
       "<table border=\"1\" class=\"dataframe\">\n",
       "  <thead>\n",
       "    <tr style=\"text-align: right;\">\n",
       "      <th></th>\n",
       "      <th>date_time</th>\n",
       "      <th>day</th>\n",
       "      <th>hourly_counts</th>\n",
       "      <th>id</th>\n",
       "      <th>mdate</th>\n",
       "      <th>month</th>\n",
       "      <th>sensor_id</th>\n",
       "      <th>sensor_name</th>\n",
       "      <th>time</th>\n",
       "      <th>year</th>\n",
       "    </tr>\n",
       "  </thead>\n",
       "  <tbody>\n",
       "    <tr>\n",
       "      <th>0</th>\n",
       "      <td>17/02/2019 19:00</td>\n",
       "      <td>Sunday</td>\n",
       "      <td>1513</td>\n",
       "      <td>2566097</td>\n",
       "      <td>17</td>\n",
       "      <td>February</td>\n",
       "      <td>4</td>\n",
       "      <td>Town Hall (West)</td>\n",
       "      <td>19</td>\n",
       "      <td>2019</td>\n",
       "    </tr>\n",
       "    <tr>\n",
       "      <th>1</th>\n",
       "      <td>17/02/2019 19:00</td>\n",
       "      <td>Sunday</td>\n",
       "      <td>200</td>\n",
       "      <td>2566098</td>\n",
       "      <td>17</td>\n",
       "      <td>February</td>\n",
       "      <td>17</td>\n",
       "      <td>Collins Place (South)</td>\n",
       "      <td>19</td>\n",
       "      <td>2019</td>\n",
       "    </tr>\n",
       "  </tbody>\n",
       "</table>\n",
       "</div>"
      ],
      "text/plain": [
       "          date_time     day  hourly_counts       id  mdate     month  \\\n",
       "0  17/02/2019 19:00  Sunday           1513  2566097     17  February   \n",
       "1  17/02/2019 19:00  Sunday            200  2566098     17  February   \n",
       "\n",
       "   sensor_id            sensor_name  time  year  \n",
       "0          4       Town Hall (West)    19  2019  \n",
       "1         17  Collins Place (South)    19  2019  "
      ]
     },
     "execution_count": 19,
     "metadata": {},
     "output_type": "execute_result"
    }
   ],
   "source": [
    "df.head(2)"
   ]
  },
  {
   "cell_type": "code",
   "execution_count": 20,
   "metadata": {},
   "outputs": [],
   "source": [
    "df2 = df2.iloc[:,[0,8,9]]"
   ]
  },
  {
   "cell_type": "code",
   "execution_count": 21,
   "metadata": {},
   "outputs": [
    {
     "data": {
      "text/html": [
       "<div>\n",
       "<style scoped>\n",
       "    .dataframe tbody tr th:only-of-type {\n",
       "        vertical-align: middle;\n",
       "    }\n",
       "\n",
       "    .dataframe tbody tr th {\n",
       "        vertical-align: top;\n",
       "    }\n",
       "\n",
       "    .dataframe thead th {\n",
       "        text-align: right;\n",
       "    }\n",
       "</style>\n",
       "<table border=\"1\" class=\"dataframe\">\n",
       "  <thead>\n",
       "    <tr style=\"text-align: right;\">\n",
       "      <th></th>\n",
       "      <th>sensor_id</th>\n",
       "      <th>latitude</th>\n",
       "      <th>longitude</th>\n",
       "    </tr>\n",
       "  </thead>\n",
       "  <tbody>\n",
       "    <tr>\n",
       "      <th>0</th>\n",
       "      <td>1</td>\n",
       "      <td>-37.813494</td>\n",
       "      <td>144.965153</td>\n",
       "    </tr>\n",
       "    <tr>\n",
       "      <th>1</th>\n",
       "      <td>2</td>\n",
       "      <td>-37.813807</td>\n",
       "      <td>144.965167</td>\n",
       "    </tr>\n",
       "  </tbody>\n",
       "</table>\n",
       "</div>"
      ],
      "text/plain": [
       "   sensor_id   latitude   longitude\n",
       "0          1 -37.813494  144.965153\n",
       "1          2 -37.813807  144.965167"
      ]
     },
     "execution_count": 21,
     "metadata": {},
     "output_type": "execute_result"
    }
   ],
   "source": [
    "df2.head(2)"
   ]
  },
  {
   "cell_type": "code",
   "execution_count": 22,
   "metadata": {},
   "outputs": [],
   "source": [
    "# Merge on sensor id to get lat, long for each location\n",
    "df3 = pd.merge(df, df2, on='sensor_id', how='outer').iloc[:50000,[0,2,6,7,10,11]]"
   ]
  },
  {
   "cell_type": "code",
   "execution_count": 23,
   "metadata": {},
   "outputs": [
    {
     "data": {
      "text/html": [
       "<div>\n",
       "<style scoped>\n",
       "    .dataframe tbody tr th:only-of-type {\n",
       "        vertical-align: middle;\n",
       "    }\n",
       "\n",
       "    .dataframe tbody tr th {\n",
       "        vertical-align: top;\n",
       "    }\n",
       "\n",
       "    .dataframe thead th {\n",
       "        text-align: right;\n",
       "    }\n",
       "</style>\n",
       "<table border=\"1\" class=\"dataframe\">\n",
       "  <thead>\n",
       "    <tr style=\"text-align: right;\">\n",
       "      <th></th>\n",
       "      <th>date_time</th>\n",
       "      <th>hourly_counts</th>\n",
       "      <th>sensor_id</th>\n",
       "      <th>sensor_name</th>\n",
       "      <th>latitude</th>\n",
       "      <th>longitude</th>\n",
       "    </tr>\n",
       "  </thead>\n",
       "  <tbody>\n",
       "    <tr>\n",
       "      <th>0</th>\n",
       "      <td>17/02/2019 19:00</td>\n",
       "      <td>1513.0</td>\n",
       "      <td>4</td>\n",
       "      <td>Town Hall (West)</td>\n",
       "      <td>-37.81488</td>\n",
       "      <td>144.966088</td>\n",
       "    </tr>\n",
       "    <tr>\n",
       "      <th>1</th>\n",
       "      <td>17/02/2019 20:00</td>\n",
       "      <td>1234.0</td>\n",
       "      <td>4</td>\n",
       "      <td>Town Hall (West)</td>\n",
       "      <td>-37.81488</td>\n",
       "      <td>144.966088</td>\n",
       "    </tr>\n",
       "    <tr>\n",
       "      <th>2</th>\n",
       "      <td>17/02/2019 21:00</td>\n",
       "      <td>1026.0</td>\n",
       "      <td>4</td>\n",
       "      <td>Town Hall (West)</td>\n",
       "      <td>-37.81488</td>\n",
       "      <td>144.966088</td>\n",
       "    </tr>\n",
       "    <tr>\n",
       "      <th>3</th>\n",
       "      <td>17/02/2019 22:00</td>\n",
       "      <td>693.0</td>\n",
       "      <td>4</td>\n",
       "      <td>Town Hall (West)</td>\n",
       "      <td>-37.81488</td>\n",
       "      <td>144.966088</td>\n",
       "    </tr>\n",
       "    <tr>\n",
       "      <th>4</th>\n",
       "      <td>17/02/2019 23:00</td>\n",
       "      <td>388.0</td>\n",
       "      <td>4</td>\n",
       "      <td>Town Hall (West)</td>\n",
       "      <td>-37.81488</td>\n",
       "      <td>144.966088</td>\n",
       "    </tr>\n",
       "  </tbody>\n",
       "</table>\n",
       "</div>"
      ],
      "text/plain": [
       "          date_time  hourly_counts  sensor_id       sensor_name  latitude  \\\n",
       "0  17/02/2019 19:00         1513.0          4  Town Hall (West) -37.81488   \n",
       "1  17/02/2019 20:00         1234.0          4  Town Hall (West) -37.81488   \n",
       "2  17/02/2019 21:00         1026.0          4  Town Hall (West) -37.81488   \n",
       "3  17/02/2019 22:00          693.0          4  Town Hall (West) -37.81488   \n",
       "4  17/02/2019 23:00          388.0          4  Town Hall (West) -37.81488   \n",
       "\n",
       "    longitude  \n",
       "0  144.966088  \n",
       "1  144.966088  \n",
       "2  144.966088  \n",
       "3  144.966088  \n",
       "4  144.966088  "
      ]
     },
     "execution_count": 23,
     "metadata": {},
     "output_type": "execute_result"
    }
   ],
   "source": [
    "df3.head()"
   ]
  },
  {
   "cell_type": "markdown",
   "metadata": {},
   "source": [
    "## Create Virtual Sensor"
   ]
  },
  {
   "cell_type": "markdown",
   "metadata": {},
   "source": [
    "### <font color='blue'>Sensor A - Collins St</font>\n"
   ]
  },
  {
   "cell_type": "code",
   "execution_count": 24,
   "metadata": {
    "scrolled": true
   },
   "outputs": [
    {
     "data": {
      "text/html": [
       "<div>\n",
       "<style scoped>\n",
       "    .dataframe tbody tr th:only-of-type {\n",
       "        vertical-align: middle;\n",
       "    }\n",
       "\n",
       "    .dataframe tbody tr th {\n",
       "        vertical-align: top;\n",
       "    }\n",
       "\n",
       "    .dataframe thead th {\n",
       "        text-align: right;\n",
       "    }\n",
       "</style>\n",
       "<table border=\"1\" class=\"dataframe\">\n",
       "  <thead>\n",
       "    <tr style=\"text-align: right;\">\n",
       "      <th></th>\n",
       "      <th>Latitude</th>\n",
       "      <th>Longitude</th>\n",
       "    </tr>\n",
       "  </thead>\n",
       "  <tbody>\n",
       "    <tr>\n",
       "      <th>0</th>\n",
       "      <td>-37.817771</td>\n",
       "      <td>144.957951</td>\n",
       "    </tr>\n",
       "  </tbody>\n",
       "</table>\n",
       "</div>"
      ],
      "text/plain": [
       "    Latitude   Longitude\n",
       "0 -37.817771  144.957951"
      ]
     },
     "execution_count": 24,
     "metadata": {},
     "output_type": "execute_result"
    }
   ],
   "source": [
    "sensor1 = pd.DataFrame([{'Latitude':-37.817771,'Longitude':144.957951}])\n",
    "sensor1"
   ]
  },
  {
   "cell_type": "markdown",
   "metadata": {},
   "source": [
    "### Nearest sensors"
   ]
  },
  {
   "cell_type": "code",
   "execution_count": 25,
   "metadata": {},
   "outputs": [],
   "source": [
    "# Find Sensor information and Distance\n",
    "df4 = pd.concat([pd.DataFrame(within(sensor1, df2, 1, 0)).reset_index(drop=True),\n",
    "           pd.DataFrame(within_d(sensor1, df2, 1, 0)).reset_index(drop=True)], axis=1)\n",
    "df4.rename(columns={0:'distance'}, inplace=True)"
   ]
  },
  {
   "cell_type": "code",
   "execution_count": 26,
   "metadata": {},
   "outputs": [
    {
     "data": {
      "text/html": [
       "<div>\n",
       "<style scoped>\n",
       "    .dataframe tbody tr th:only-of-type {\n",
       "        vertical-align: middle;\n",
       "    }\n",
       "\n",
       "    .dataframe tbody tr th {\n",
       "        vertical-align: top;\n",
       "    }\n",
       "\n",
       "    .dataframe thead th {\n",
       "        text-align: right;\n",
       "    }\n",
       "</style>\n",
       "<table border=\"1\" class=\"dataframe\">\n",
       "  <thead>\n",
       "    <tr style=\"text-align: right;\">\n",
       "      <th></th>\n",
       "      <th>sensor_id</th>\n",
       "      <th>latitude</th>\n",
       "      <th>longitude</th>\n",
       "      <th>distance</th>\n",
       "    </tr>\n",
       "  </thead>\n",
       "  <tbody>\n",
       "    <tr>\n",
       "      <th>0</th>\n",
       "      <td>36.0</td>\n",
       "      <td>-37.816525</td>\n",
       "      <td>144.961211</td>\n",
       "      <td>0.318577</td>\n",
       "    </tr>\n",
       "    <tr>\n",
       "      <th>1</th>\n",
       "      <td>24.0</td>\n",
       "      <td>-37.818880</td>\n",
       "      <td>144.954492</td>\n",
       "      <td>0.328479</td>\n",
       "    </tr>\n",
       "    <tr>\n",
       "      <th>2</th>\n",
       "      <td>23.0</td>\n",
       "      <td>-37.819093</td>\n",
       "      <td>144.954527</td>\n",
       "      <td>0.335229</td>\n",
       "    </tr>\n",
       "  </tbody>\n",
       "</table>\n",
       "</div>"
      ],
      "text/plain": [
       "   sensor_id   latitude   longitude  distance\n",
       "0       36.0 -37.816525  144.961211  0.318577\n",
       "1       24.0 -37.818880  144.954492  0.328479\n",
       "2       23.0 -37.819093  144.954527  0.335229"
      ]
     },
     "execution_count": 26,
     "metadata": {},
     "output_type": "execute_result"
    }
   ],
   "source": [
    "# Nearest 3 sensors\n",
    "df4 = df4.sort_values('distance').head(3)\n",
    "df4 = df4.reset_index(drop=True)\n",
    "df4.head(3)"
   ]
  },
  {
   "cell_type": "code",
   "execution_count": 27,
   "metadata": {},
   "outputs": [],
   "source": [
    "df_nearest = df3[(df3['sensor_id'] == df4['sensor_id'][0]) |\n",
    "                 (df3['sensor_id'] == df4['sensor_id'][1]) |\n",
    "                 ((df3['sensor_id'] == df4['sensor_id'][2]))]"
   ]
  },
  {
   "cell_type": "code",
   "execution_count": 28,
   "metadata": {},
   "outputs": [],
   "source": [
    "d1 = df_nearest[df_nearest['sensor_id'] == df4['sensor_id'][0]]['hourly_counts']*(df4['distance'][0]/df4['distance'].sum())\n",
    "d2 = df_nearest[df_nearest['sensor_id'] == df4['sensor_id'][1]]['hourly_counts']*(df4['distance'][1]/df4['distance'].sum())\n",
    "d3 = df_nearest[df_nearest['sensor_id'] == df4['sensor_id'][2]]['hourly_counts']*(df4['distance'][2]/df4['distance'].sum())"
   ]
  },
  {
   "cell_type": "code",
   "execution_count": 29,
   "metadata": {
    "scrolled": true
   },
   "outputs": [],
   "source": [
    "sensor_a = pd.concat([pd.DataFrame(df_nearest[df_nearest['sensor_id'] == df4['sensor_id'][0]]['date_time'].reset_index(drop=True)),\n",
    "           pd.DataFrame({'hourly_counts':(d1.values+d2.values+d3.values).round()})], axis=1)"
   ]
  },
  {
   "cell_type": "code",
   "execution_count": 30,
   "metadata": {},
   "outputs": [
    {
     "data": {
      "text/html": [
       "<div>\n",
       "<style scoped>\n",
       "    .dataframe tbody tr th:only-of-type {\n",
       "        vertical-align: middle;\n",
       "    }\n",
       "\n",
       "    .dataframe tbody tr th {\n",
       "        vertical-align: top;\n",
       "    }\n",
       "\n",
       "    .dataframe thead th {\n",
       "        text-align: right;\n",
       "    }\n",
       "</style>\n",
       "<table border=\"1\" class=\"dataframe\">\n",
       "  <thead>\n",
       "    <tr style=\"text-align: right;\">\n",
       "      <th></th>\n",
       "      <th>date_time</th>\n",
       "      <th>hourly_counts</th>\n",
       "    </tr>\n",
       "  </thead>\n",
       "  <tbody>\n",
       "    <tr>\n",
       "      <th>0</th>\n",
       "      <td>17/02/2019 19:00</td>\n",
       "      <td>457.0</td>\n",
       "    </tr>\n",
       "  </tbody>\n",
       "</table>\n",
       "</div>"
      ],
      "text/plain": [
       "          date_time  hourly_counts\n",
       "0  17/02/2019 19:00          457.0"
      ]
     },
     "execution_count": 30,
     "metadata": {},
     "output_type": "execute_result"
    }
   ],
   "source": [
    "sensor_a.head(1)"
   ]
  },
  {
   "cell_type": "code",
   "execution_count": 31,
   "metadata": {
    "scrolled": false
   },
   "outputs": [
    {
     "data": {
      "text/html": [
       "<div>\n",
       "<style scoped>\n",
       "    .dataframe tbody tr th:only-of-type {\n",
       "        vertical-align: middle;\n",
       "    }\n",
       "\n",
       "    .dataframe tbody tr th {\n",
       "        vertical-align: top;\n",
       "    }\n",
       "\n",
       "    .dataframe thead th {\n",
       "        text-align: right;\n",
       "    }\n",
       "</style>\n",
       "<table border=\"1\" class=\"dataframe\">\n",
       "  <thead>\n",
       "    <tr style=\"text-align: right;\">\n",
       "      <th></th>\n",
       "      <th>date_time</th>\n",
       "      <th>hourly_counts</th>\n",
       "      <th>latitude</th>\n",
       "      <th>longitude</th>\n",
       "      <th>sensor_name</th>\n",
       "      <th>sensor_id</th>\n",
       "    </tr>\n",
       "  </thead>\n",
       "  <tbody>\n",
       "    <tr>\n",
       "      <th>0</th>\n",
       "      <td>17/02/2019 19:00</td>\n",
       "      <td>457.0</td>\n",
       "      <td>-37.817771</td>\n",
       "      <td>144.957951</td>\n",
       "      <td>Collin St - Virtual</td>\n",
       "      <td>101</td>\n",
       "    </tr>\n",
       "    <tr>\n",
       "      <th>1</th>\n",
       "      <td>17/02/2019 20:00</td>\n",
       "      <td>351.0</td>\n",
       "      <td>-37.817771</td>\n",
       "      <td>144.957951</td>\n",
       "      <td>Collin St - Virtual</td>\n",
       "      <td>101</td>\n",
       "    </tr>\n",
       "    <tr>\n",
       "      <th>2</th>\n",
       "      <td>17/02/2019 21:00</td>\n",
       "      <td>314.0</td>\n",
       "      <td>-37.817771</td>\n",
       "      <td>144.957951</td>\n",
       "      <td>Collin St - Virtual</td>\n",
       "      <td>101</td>\n",
       "    </tr>\n",
       "    <tr>\n",
       "      <th>3</th>\n",
       "      <td>17/02/2019 22:00</td>\n",
       "      <td>198.0</td>\n",
       "      <td>-37.817771</td>\n",
       "      <td>144.957951</td>\n",
       "      <td>Collin St - Virtual</td>\n",
       "      <td>101</td>\n",
       "    </tr>\n",
       "    <tr>\n",
       "      <th>4</th>\n",
       "      <td>17/02/2019 23:00</td>\n",
       "      <td>131.0</td>\n",
       "      <td>-37.817771</td>\n",
       "      <td>144.957951</td>\n",
       "      <td>Collin St - Virtual</td>\n",
       "      <td>101</td>\n",
       "    </tr>\n",
       "  </tbody>\n",
       "</table>\n",
       "</div>"
      ],
      "text/plain": [
       "          date_time  hourly_counts   latitude   longitude  \\\n",
       "0  17/02/2019 19:00          457.0 -37.817771  144.957951   \n",
       "1  17/02/2019 20:00          351.0 -37.817771  144.957951   \n",
       "2  17/02/2019 21:00          314.0 -37.817771  144.957951   \n",
       "3  17/02/2019 22:00          198.0 -37.817771  144.957951   \n",
       "4  17/02/2019 23:00          131.0 -37.817771  144.957951   \n",
       "\n",
       "           sensor_name  sensor_id  \n",
       "0  Collin St - Virtual        101  \n",
       "1  Collin St - Virtual        101  \n",
       "2  Collin St - Virtual        101  \n",
       "3  Collin St - Virtual        101  \n",
       "4  Collin St - Virtual        101  "
      ]
     },
     "execution_count": 31,
     "metadata": {},
     "output_type": "execute_result"
    }
   ],
   "source": [
    "sensor_a['latitude']= sensor1['Latitude'][0]\n",
    "sensor_a['longitude']= sensor1['Longitude'][0]\n",
    "sensor_a['sensor_name']= 'Collin St - Virtual'\n",
    "sensor_a['sensor_id']= 101\n",
    "sensor_a.head()"
   ]
  },
  {
   "cell_type": "markdown",
   "metadata": {},
   "source": [
    "### Append Existing DF"
   ]
  },
  {
   "cell_type": "code",
   "execution_count": 32,
   "metadata": {
    "scrolled": true
   },
   "outputs": [],
   "source": [
    "df3_new = df3.append(sensor_a, sort=False).reset_index(drop=True)\n",
    "df2 = df2.append(sensor_a.iloc[0,[2,3,5]], sort=False).reset_index(drop=True)"
   ]
  },
  {
   "cell_type": "markdown",
   "metadata": {},
   "source": [
    "### <font color='blue'>Sensor B - Bourke St</font>"
   ]
  },
  {
   "cell_type": "code",
   "execution_count": 33,
   "metadata": {
    "scrolled": true
   },
   "outputs": [
    {
     "data": {
      "text/html": [
       "<div>\n",
       "<style scoped>\n",
       "    .dataframe tbody tr th:only-of-type {\n",
       "        vertical-align: middle;\n",
       "    }\n",
       "\n",
       "    .dataframe tbody tr th {\n",
       "        vertical-align: top;\n",
       "    }\n",
       "\n",
       "    .dataframe thead th {\n",
       "        text-align: right;\n",
       "    }\n",
       "</style>\n",
       "<table border=\"1\" class=\"dataframe\">\n",
       "  <thead>\n",
       "    <tr style=\"text-align: right;\">\n",
       "      <th></th>\n",
       "      <th>Latitude</th>\n",
       "      <th>Longitude</th>\n",
       "    </tr>\n",
       "  </thead>\n",
       "  <tbody>\n",
       "    <tr>\n",
       "      <th>0</th>\n",
       "      <td>-37.81447</td>\n",
       "      <td>144.96197</td>\n",
       "    </tr>\n",
       "  </tbody>\n",
       "</table>\n",
       "</div>"
      ],
      "text/plain": [
       "   Latitude  Longitude\n",
       "0 -37.81447  144.96197"
      ]
     },
     "execution_count": 33,
     "metadata": {},
     "output_type": "execute_result"
    }
   ],
   "source": [
    "sensor2 = pd.DataFrame([{'Latitude':-37.81447,'Longitude':144.96197}])\n",
    "sensor2"
   ]
  },
  {
   "cell_type": "markdown",
   "metadata": {},
   "source": [
    "### Nearest sensors"
   ]
  },
  {
   "cell_type": "code",
   "execution_count": 34,
   "metadata": {},
   "outputs": [],
   "source": [
    "# Find Sensor information and Distance\n",
    "df4 = pd.concat([pd.DataFrame(within(sensor2, df2, 1, 0)).reset_index(drop=True),\n",
    "           pd.DataFrame(within_d(sensor2, df2, 1, 0)).reset_index(drop=True)], axis=1)\n",
    "df4.rename(columns={0:'distance'}, inplace=True)"
   ]
  },
  {
   "cell_type": "code",
   "execution_count": 35,
   "metadata": {},
   "outputs": [
    {
     "data": {
      "text/html": [
       "<div>\n",
       "<style scoped>\n",
       "    .dataframe tbody tr th:only-of-type {\n",
       "        vertical-align: middle;\n",
       "    }\n",
       "\n",
       "    .dataframe tbody tr th {\n",
       "        vertical-align: top;\n",
       "    }\n",
       "\n",
       "    .dataframe thead th {\n",
       "        text-align: right;\n",
       "    }\n",
       "</style>\n",
       "<table border=\"1\" class=\"dataframe\">\n",
       "  <thead>\n",
       "    <tr style=\"text-align: right;\">\n",
       "      <th></th>\n",
       "      <th>sensor_id</th>\n",
       "      <th>latitude</th>\n",
       "      <th>longitude</th>\n",
       "      <th>distance</th>\n",
       "    </tr>\n",
       "  </thead>\n",
       "  <tbody>\n",
       "    <tr>\n",
       "      <th>0</th>\n",
       "      <td>52.0</td>\n",
       "      <td>-37.812522</td>\n",
       "      <td>144.961940</td>\n",
       "      <td>0.216278</td>\n",
       "    </tr>\n",
       "    <tr>\n",
       "      <th>1</th>\n",
       "      <td>36.0</td>\n",
       "      <td>-37.816525</td>\n",
       "      <td>144.961211</td>\n",
       "      <td>0.237719</td>\n",
       "    </tr>\n",
       "    <tr>\n",
       "      <th>2</th>\n",
       "      <td>56.0</td>\n",
       "      <td>-37.812348</td>\n",
       "      <td>144.961533</td>\n",
       "      <td>0.238676</td>\n",
       "    </tr>\n",
       "  </tbody>\n",
       "</table>\n",
       "</div>"
      ],
      "text/plain": [
       "   sensor_id   latitude   longitude  distance\n",
       "0       52.0 -37.812522  144.961940  0.216278\n",
       "1       36.0 -37.816525  144.961211  0.237719\n",
       "2       56.0 -37.812348  144.961533  0.238676"
      ]
     },
     "execution_count": 35,
     "metadata": {},
     "output_type": "execute_result"
    }
   ],
   "source": [
    "# Nearest 3 sensors\n",
    "df4 = df4.sort_values('distance').head(3)\n",
    "df4 = df4.reset_index(drop=True)\n",
    "df4.head(3)"
   ]
  },
  {
   "cell_type": "code",
   "execution_count": 36,
   "metadata": {},
   "outputs": [],
   "source": [
    "df_nearest = df3_new[(df3_new['sensor_id'] == df4['sensor_id'][0]) |\n",
    "                 (df3_new['sensor_id'] == df4['sensor_id'][1]) |\n",
    "                 ((df3_new['sensor_id'] == df4['sensor_id'][2]))]"
   ]
  },
  {
   "cell_type": "code",
   "execution_count": 37,
   "metadata": {},
   "outputs": [],
   "source": [
    "d1 = df_nearest[df_nearest['sensor_id'] == df4['sensor_id'][0]]['hourly_counts']*(df4['distance'][0]/df4['distance'].sum())\n",
    "d2 = df_nearest[df_nearest['sensor_id'] == df4['sensor_id'][1]]['hourly_counts']*(df4['distance'][1]/df4['distance'].sum())\n",
    "d3 = df_nearest[df_nearest['sensor_id'] == df4['sensor_id'][2]]['hourly_counts']*(df4['distance'][2]/df4['distance'].sum())"
   ]
  },
  {
   "cell_type": "code",
   "execution_count": 38,
   "metadata": {
    "scrolled": true
   },
   "outputs": [],
   "source": [
    "sensor_b = pd.concat([pd.DataFrame(df_nearest[df_nearest['sensor_id'] == df4['sensor_id'][0]]['date_time'].reset_index(drop=True)),\n",
    "           pd.DataFrame({'hourly_counts':(d1.values+d2.values+d3.values).round()})], axis=1)"
   ]
  },
  {
   "cell_type": "code",
   "execution_count": 39,
   "metadata": {},
   "outputs": [
    {
     "data": {
      "text/html": [
       "<div>\n",
       "<style scoped>\n",
       "    .dataframe tbody tr th:only-of-type {\n",
       "        vertical-align: middle;\n",
       "    }\n",
       "\n",
       "    .dataframe tbody tr th {\n",
       "        vertical-align: top;\n",
       "    }\n",
       "\n",
       "    .dataframe thead th {\n",
       "        text-align: right;\n",
       "    }\n",
       "</style>\n",
       "<table border=\"1\" class=\"dataframe\">\n",
       "  <thead>\n",
       "    <tr style=\"text-align: right;\">\n",
       "      <th></th>\n",
       "      <th>date_time</th>\n",
       "      <th>hourly_counts</th>\n",
       "    </tr>\n",
       "  </thead>\n",
       "  <tbody>\n",
       "    <tr>\n",
       "      <th>0</th>\n",
       "      <td>17/02/2019 19:00</td>\n",
       "      <td>344.0</td>\n",
       "    </tr>\n",
       "  </tbody>\n",
       "</table>\n",
       "</div>"
      ],
      "text/plain": [
       "          date_time  hourly_counts\n",
       "0  17/02/2019 19:00          344.0"
      ]
     },
     "execution_count": 39,
     "metadata": {},
     "output_type": "execute_result"
    }
   ],
   "source": [
    "sensor_b.head(1)"
   ]
  },
  {
   "cell_type": "code",
   "execution_count": 40,
   "metadata": {
    "scrolled": true
   },
   "outputs": [
    {
     "data": {
      "text/html": [
       "<div>\n",
       "<style scoped>\n",
       "    .dataframe tbody tr th:only-of-type {\n",
       "        vertical-align: middle;\n",
       "    }\n",
       "\n",
       "    .dataframe tbody tr th {\n",
       "        vertical-align: top;\n",
       "    }\n",
       "\n",
       "    .dataframe thead th {\n",
       "        text-align: right;\n",
       "    }\n",
       "</style>\n",
       "<table border=\"1\" class=\"dataframe\">\n",
       "  <thead>\n",
       "    <tr style=\"text-align: right;\">\n",
       "      <th></th>\n",
       "      <th>date_time</th>\n",
       "      <th>hourly_counts</th>\n",
       "      <th>latitude</th>\n",
       "      <th>longitude</th>\n",
       "      <th>sensor_name</th>\n",
       "      <th>sensor_id</th>\n",
       "    </tr>\n",
       "  </thead>\n",
       "  <tbody>\n",
       "    <tr>\n",
       "      <th>0</th>\n",
       "      <td>17/02/2019 19:00</td>\n",
       "      <td>344.0</td>\n",
       "      <td>-37.81447</td>\n",
       "      <td>144.96197</td>\n",
       "      <td>Bourke St - Virtual</td>\n",
       "      <td>102</td>\n",
       "    </tr>\n",
       "    <tr>\n",
       "      <th>1</th>\n",
       "      <td>17/02/2019 20:00</td>\n",
       "      <td>283.0</td>\n",
       "      <td>-37.81447</td>\n",
       "      <td>144.96197</td>\n",
       "      <td>Bourke St - Virtual</td>\n",
       "      <td>102</td>\n",
       "    </tr>\n",
       "    <tr>\n",
       "      <th>2</th>\n",
       "      <td>17/02/2019 21:00</td>\n",
       "      <td>230.0</td>\n",
       "      <td>-37.81447</td>\n",
       "      <td>144.96197</td>\n",
       "      <td>Bourke St - Virtual</td>\n",
       "      <td>102</td>\n",
       "    </tr>\n",
       "    <tr>\n",
       "      <th>3</th>\n",
       "      <td>17/02/2019 22:00</td>\n",
       "      <td>149.0</td>\n",
       "      <td>-37.81447</td>\n",
       "      <td>144.96197</td>\n",
       "      <td>Bourke St - Virtual</td>\n",
       "      <td>102</td>\n",
       "    </tr>\n",
       "    <tr>\n",
       "      <th>4</th>\n",
       "      <td>17/02/2019 23:00</td>\n",
       "      <td>105.0</td>\n",
       "      <td>-37.81447</td>\n",
       "      <td>144.96197</td>\n",
       "      <td>Bourke St - Virtual</td>\n",
       "      <td>102</td>\n",
       "    </tr>\n",
       "  </tbody>\n",
       "</table>\n",
       "</div>"
      ],
      "text/plain": [
       "          date_time  hourly_counts  latitude  longitude          sensor_name  \\\n",
       "0  17/02/2019 19:00          344.0 -37.81447  144.96197  Bourke St - Virtual   \n",
       "1  17/02/2019 20:00          283.0 -37.81447  144.96197  Bourke St - Virtual   \n",
       "2  17/02/2019 21:00          230.0 -37.81447  144.96197  Bourke St - Virtual   \n",
       "3  17/02/2019 22:00          149.0 -37.81447  144.96197  Bourke St - Virtual   \n",
       "4  17/02/2019 23:00          105.0 -37.81447  144.96197  Bourke St - Virtual   \n",
       "\n",
       "   sensor_id  \n",
       "0        102  \n",
       "1        102  \n",
       "2        102  \n",
       "3        102  \n",
       "4        102  "
      ]
     },
     "execution_count": 40,
     "metadata": {},
     "output_type": "execute_result"
    }
   ],
   "source": [
    "sensor_b['latitude']= sensor2['Latitude'][0]\n",
    "sensor_b['longitude']= sensor2['Longitude'][0]\n",
    "sensor_b['sensor_name']= 'Bourke St - Virtual'\n",
    "sensor_b['sensor_id']= 102\n",
    "sensor_b.head()"
   ]
  },
  {
   "cell_type": "markdown",
   "metadata": {},
   "source": [
    "### Append Existing DF"
   ]
  },
  {
   "cell_type": "code",
   "execution_count": 41,
   "metadata": {
    "scrolled": true
   },
   "outputs": [],
   "source": [
    "df3_new = df3_new.append(sensor_b, sort=False).reset_index(drop=True)"
   ]
  },
  {
   "cell_type": "code",
   "execution_count": 42,
   "metadata": {},
   "outputs": [],
   "source": [
    "df2 = df2.append(sensor_b.iloc[0,[2,3,5]], sort=False).reset_index(drop=True)"
   ]
  },
  {
   "cell_type": "markdown",
   "metadata": {},
   "source": [
    "### <font color='blue'>Sensor C - sensor 13</font>"
   ]
  },
  {
   "cell_type": "code",
   "execution_count": 43,
   "metadata": {
    "scrolled": true
   },
   "outputs": [
    {
     "data": {
      "text/html": [
       "<div>\n",
       "<style scoped>\n",
       "    .dataframe tbody tr th:only-of-type {\n",
       "        vertical-align: middle;\n",
       "    }\n",
       "\n",
       "    .dataframe tbody tr th {\n",
       "        vertical-align: top;\n",
       "    }\n",
       "\n",
       "    .dataframe thead th {\n",
       "        text-align: right;\n",
       "    }\n",
       "</style>\n",
       "<table border=\"1\" class=\"dataframe\">\n",
       "  <thead>\n",
       "    <tr style=\"text-align: right;\">\n",
       "      <th></th>\n",
       "      <th>Latitude</th>\n",
       "      <th>Longitude</th>\n",
       "    </tr>\n",
       "  </thead>\n",
       "  <tbody>\n",
       "    <tr>\n",
       "      <th>0</th>\n",
       "      <td>-37.812397</td>\n",
       "      <td>144.956526</td>\n",
       "    </tr>\n",
       "  </tbody>\n",
       "</table>\n",
       "</div>"
      ],
      "text/plain": [
       "    Latitude   Longitude\n",
       "0 -37.812397  144.956526"
      ]
     },
     "execution_count": 43,
     "metadata": {},
     "output_type": "execute_result"
    }
   ],
   "source": [
    "sensor3 = pd.DataFrame([{'Latitude':-37.812397,'Longitude':144.956526}])\n",
    "sensor3"
   ]
  },
  {
   "cell_type": "markdown",
   "metadata": {},
   "source": [
    "### Nearest sensors"
   ]
  },
  {
   "cell_type": "code",
   "execution_count": 44,
   "metadata": {},
   "outputs": [],
   "source": [
    "# Find Sensor information and Distance\n",
    "df4 = pd.concat([pd.DataFrame(within(sensor3, df2, 1, 0)).reset_index(drop=True),\n",
    "           pd.DataFrame(within_d(sensor3, df2, 1, 0)).reset_index(drop=True)], axis=1)\n",
    "df4.rename(columns={0:'distance'}, inplace=True)"
   ]
  },
  {
   "cell_type": "code",
   "execution_count": 46,
   "metadata": {},
   "outputs": [
    {
     "data": {
      "text/html": [
       "<div>\n",
       "<style scoped>\n",
       "    .dataframe tbody tr th:only-of-type {\n",
       "        vertical-align: middle;\n",
       "    }\n",
       "\n",
       "    .dataframe tbody tr th {\n",
       "        vertical-align: top;\n",
       "    }\n",
       "\n",
       "    .dataframe thead th {\n",
       "        text-align: right;\n",
       "    }\n",
       "</style>\n",
       "<table border=\"1\" class=\"dataframe\">\n",
       "  <thead>\n",
       "    <tr style=\"text-align: right;\">\n",
       "      <th></th>\n",
       "      <th>sensor_id</th>\n",
       "      <th>latitude</th>\n",
       "      <th>longitude</th>\n",
       "      <th>distance</th>\n",
       "    </tr>\n",
       "  </thead>\n",
       "  <tbody>\n",
       "    <tr>\n",
       "      <th>0</th>\n",
       "      <td>56.0</td>\n",
       "      <td>-37.812348</td>\n",
       "      <td>144.961533</td>\n",
       "      <td>0.440938</td>\n",
       "    </tr>\n",
       "    <tr>\n",
       "      <th>1</th>\n",
       "      <td>52.0</td>\n",
       "      <td>-37.812522</td>\n",
       "      <td>144.961940</td>\n",
       "      <td>0.476943</td>\n",
       "    </tr>\n",
       "    <tr>\n",
       "      <th>2</th>\n",
       "      <td>51.0</td>\n",
       "      <td>-37.808418</td>\n",
       "      <td>144.959063</td>\n",
       "      <td>0.494924</td>\n",
       "    </tr>\n",
       "  </tbody>\n",
       "</table>\n",
       "</div>"
      ],
      "text/plain": [
       "   sensor_id   latitude   longitude  distance\n",
       "0       56.0 -37.812348  144.961533  0.440938\n",
       "1       52.0 -37.812522  144.961940  0.476943\n",
       "2       51.0 -37.808418  144.959063  0.494924"
      ]
     },
     "execution_count": 46,
     "metadata": {},
     "output_type": "execute_result"
    }
   ],
   "source": [
    "# Nearest 3 sensors\n",
    "df4 = df4.sort_values('distance').iloc[0:4,:]\n",
    "df4 = df4.reset_index(drop=True)\n",
    "df4.head(3)"
   ]
  },
  {
   "cell_type": "code",
   "execution_count": 47,
   "metadata": {},
   "outputs": [],
   "source": [
    "df_nearest = df3_new[(df3_new['sensor_id'] == df4['sensor_id'][0]) |\n",
    "                 (df3_new['sensor_id'] == df4['sensor_id'][1]) |\n",
    "                 ((df3_new['sensor_id'] == df4['sensor_id'][2]))]"
   ]
  },
  {
   "cell_type": "code",
   "execution_count": 48,
   "metadata": {},
   "outputs": [],
   "source": [
    "d1 = df_nearest[df_nearest['sensor_id'] == df4['sensor_id'][0]]['hourly_counts']*(df4['distance'][0]/df4['distance'].sum())\n",
    "d2 = df_nearest[df_nearest['sensor_id'] == df4['sensor_id'][1]]['hourly_counts']*(df4['distance'][1]/df4['distance'].sum())\n",
    "d3 = df_nearest[df_nearest['sensor_id'] == df4['sensor_id'][2]]['hourly_counts']*(df4['distance'][2]/df4['distance'].sum())"
   ]
  },
  {
   "cell_type": "code",
   "execution_count": 49,
   "metadata": {
    "scrolled": true
   },
   "outputs": [],
   "source": [
    "sensor_c = pd.concat([pd.DataFrame(df_nearest[df_nearest['sensor_id'] == df4['sensor_id'][0]]['date_time'].reset_index(drop=True)),\n",
    "           pd.DataFrame({'hourly_counts':(d1.values+d2.values+d3.values).round()})], axis=1)"
   ]
  },
  {
   "cell_type": "code",
   "execution_count": 50,
   "metadata": {},
   "outputs": [
    {
     "data": {
      "text/html": [
       "<div>\n",
       "<style scoped>\n",
       "    .dataframe tbody tr th:only-of-type {\n",
       "        vertical-align: middle;\n",
       "    }\n",
       "\n",
       "    .dataframe tbody tr th {\n",
       "        vertical-align: top;\n",
       "    }\n",
       "\n",
       "    .dataframe thead th {\n",
       "        text-align: right;\n",
       "    }\n",
       "</style>\n",
       "<table border=\"1\" class=\"dataframe\">\n",
       "  <thead>\n",
       "    <tr style=\"text-align: right;\">\n",
       "      <th></th>\n",
       "      <th>date_time</th>\n",
       "      <th>hourly_counts</th>\n",
       "    </tr>\n",
       "  </thead>\n",
       "  <tbody>\n",
       "    <tr>\n",
       "      <th>0</th>\n",
       "      <td>17/02/2019 19:00</td>\n",
       "      <td>249.0</td>\n",
       "    </tr>\n",
       "  </tbody>\n",
       "</table>\n",
       "</div>"
      ],
      "text/plain": [
       "          date_time  hourly_counts\n",
       "0  17/02/2019 19:00          249.0"
      ]
     },
     "execution_count": 50,
     "metadata": {},
     "output_type": "execute_result"
    }
   ],
   "source": [
    "sensor_c.head(1)"
   ]
  },
  {
   "cell_type": "code",
   "execution_count": 51,
   "metadata": {},
   "outputs": [],
   "source": [
    "df2 = df2.drop(df.index[[12]]).reset_index(drop=True)"
   ]
  },
  {
   "cell_type": "code",
   "execution_count": 52,
   "metadata": {
    "scrolled": true
   },
   "outputs": [
    {
     "data": {
      "text/html": [
       "<div>\n",
       "<style scoped>\n",
       "    .dataframe tbody tr th:only-of-type {\n",
       "        vertical-align: middle;\n",
       "    }\n",
       "\n",
       "    .dataframe tbody tr th {\n",
       "        vertical-align: top;\n",
       "    }\n",
       "\n",
       "    .dataframe thead th {\n",
       "        text-align: right;\n",
       "    }\n",
       "</style>\n",
       "<table border=\"1\" class=\"dataframe\">\n",
       "  <thead>\n",
       "    <tr style=\"text-align: right;\">\n",
       "      <th></th>\n",
       "      <th>date_time</th>\n",
       "      <th>hourly_counts</th>\n",
       "      <th>latitude</th>\n",
       "      <th>longitude</th>\n",
       "      <th>sensor_name</th>\n",
       "      <th>sensor_id</th>\n",
       "    </tr>\n",
       "  </thead>\n",
       "  <tbody>\n",
       "    <tr>\n",
       "      <th>0</th>\n",
       "      <td>17/02/2019 19:00</td>\n",
       "      <td>249.0</td>\n",
       "      <td>-37.812397</td>\n",
       "      <td>144.956526</td>\n",
       "      <td>Sensor13 - Virtual</td>\n",
       "      <td>13</td>\n",
       "    </tr>\n",
       "    <tr>\n",
       "      <th>1</th>\n",
       "      <td>17/02/2019 20:00</td>\n",
       "      <td>211.0</td>\n",
       "      <td>-37.812397</td>\n",
       "      <td>144.956526</td>\n",
       "      <td>Sensor13 - Virtual</td>\n",
       "      <td>13</td>\n",
       "    </tr>\n",
       "    <tr>\n",
       "      <th>2</th>\n",
       "      <td>17/02/2019 21:00</td>\n",
       "      <td>172.0</td>\n",
       "      <td>-37.812397</td>\n",
       "      <td>144.956526</td>\n",
       "      <td>Sensor13 - Virtual</td>\n",
       "      <td>13</td>\n",
       "    </tr>\n",
       "    <tr>\n",
       "      <th>3</th>\n",
       "      <td>17/02/2019 22:00</td>\n",
       "      <td>112.0</td>\n",
       "      <td>-37.812397</td>\n",
       "      <td>144.956526</td>\n",
       "      <td>Sensor13 - Virtual</td>\n",
       "      <td>13</td>\n",
       "    </tr>\n",
       "    <tr>\n",
       "      <th>4</th>\n",
       "      <td>17/02/2019 23:00</td>\n",
       "      <td>85.0</td>\n",
       "      <td>-37.812397</td>\n",
       "      <td>144.956526</td>\n",
       "      <td>Sensor13 - Virtual</td>\n",
       "      <td>13</td>\n",
       "    </tr>\n",
       "  </tbody>\n",
       "</table>\n",
       "</div>"
      ],
      "text/plain": [
       "          date_time  hourly_counts   latitude   longitude         sensor_name  \\\n",
       "0  17/02/2019 19:00          249.0 -37.812397  144.956526  Sensor13 - Virtual   \n",
       "1  17/02/2019 20:00          211.0 -37.812397  144.956526  Sensor13 - Virtual   \n",
       "2  17/02/2019 21:00          172.0 -37.812397  144.956526  Sensor13 - Virtual   \n",
       "3  17/02/2019 22:00          112.0 -37.812397  144.956526  Sensor13 - Virtual   \n",
       "4  17/02/2019 23:00           85.0 -37.812397  144.956526  Sensor13 - Virtual   \n",
       "\n",
       "   sensor_id  \n",
       "0         13  \n",
       "1         13  \n",
       "2         13  \n",
       "3         13  \n",
       "4         13  "
      ]
     },
     "execution_count": 52,
     "metadata": {},
     "output_type": "execute_result"
    }
   ],
   "source": [
    "sensor_c['latitude']= sensor3['Latitude'][0]\n",
    "sensor_c['longitude']= sensor3['Longitude'][0]\n",
    "sensor_c['sensor_name']= 'Sensor13 - Virtual'\n",
    "sensor_c['sensor_id']= 13\n",
    "sensor_c.head()"
   ]
  },
  {
   "cell_type": "markdown",
   "metadata": {},
   "source": [
    "### Append Existing DF"
   ]
  },
  {
   "cell_type": "code",
   "execution_count": 53,
   "metadata": {
    "scrolled": true
   },
   "outputs": [],
   "source": [
    "df3_new = df3_new.append(sensor_c, sort=False).reset_index(drop=True)"
   ]
  },
  {
   "cell_type": "code",
   "execution_count": 54,
   "metadata": {},
   "outputs": [],
   "source": [
    "df2 = df2.append(sensor_c.iloc[0,[2,3,5]], sort=False).reset_index(drop=True)"
   ]
  },
  {
   "cell_type": "code",
   "execution_count": null,
   "metadata": {},
   "outputs": [],
   "source": []
  },
  {
   "cell_type": "markdown",
   "metadata": {},
   "source": [
    "### <font color='blue'>Sensor D - Queen St</font>"
   ]
  },
  {
   "cell_type": "code",
   "execution_count": 55,
   "metadata": {
    "scrolled": true
   },
   "outputs": [
    {
     "data": {
      "text/html": [
       "<div>\n",
       "<style scoped>\n",
       "    .dataframe tbody tr th:only-of-type {\n",
       "        vertical-align: middle;\n",
       "    }\n",
       "\n",
       "    .dataframe tbody tr th {\n",
       "        vertical-align: top;\n",
       "    }\n",
       "\n",
       "    .dataframe thead th {\n",
       "        text-align: right;\n",
       "    }\n",
       "</style>\n",
       "<table border=\"1\" class=\"dataframe\">\n",
       "  <thead>\n",
       "    <tr style=\"text-align: right;\">\n",
       "      <th></th>\n",
       "      <th>Latitude</th>\n",
       "      <th>Longitude</th>\n",
       "    </tr>\n",
       "  </thead>\n",
       "  <tbody>\n",
       "    <tr>\n",
       "      <th>0</th>\n",
       "      <td>-37.810979</td>\n",
       "      <td>144.958897</td>\n",
       "    </tr>\n",
       "  </tbody>\n",
       "</table>\n",
       "</div>"
      ],
      "text/plain": [
       "    Latitude   Longitude\n",
       "0 -37.810979  144.958897"
      ]
     },
     "execution_count": 55,
     "metadata": {},
     "output_type": "execute_result"
    }
   ],
   "source": [
    "sensor4 = pd.DataFrame([{'Latitude':-37.810979,'Longitude':144.958897}])\n",
    "sensor4"
   ]
  },
  {
   "cell_type": "markdown",
   "metadata": {},
   "source": [
    "### Nearest sensors"
   ]
  },
  {
   "cell_type": "code",
   "execution_count": 56,
   "metadata": {},
   "outputs": [],
   "source": [
    "# Find Sensor information and Distance\n",
    "\n",
    "## Change sensor\n",
    "df4 = pd.concat([pd.DataFrame(within(sensor4, df2, 1, 0)).reset_index(drop=True),\n",
    "           pd.DataFrame(within_d(sensor4, df2, 1, 0)).reset_index(drop=True)], axis=1)\n",
    "df4.rename(columns={0:'distance'}, inplace=True)"
   ]
  },
  {
   "cell_type": "code",
   "execution_count": 57,
   "metadata": {},
   "outputs": [
    {
     "data": {
      "text/html": [
       "<div>\n",
       "<style scoped>\n",
       "    .dataframe tbody tr th:only-of-type {\n",
       "        vertical-align: middle;\n",
       "    }\n",
       "\n",
       "    .dataframe tbody tr th {\n",
       "        vertical-align: top;\n",
       "    }\n",
       "\n",
       "    .dataframe thead th {\n",
       "        text-align: right;\n",
       "    }\n",
       "</style>\n",
       "<table border=\"1\" class=\"dataframe\">\n",
       "  <thead>\n",
       "    <tr style=\"text-align: right;\">\n",
       "      <th></th>\n",
       "      <th>sensor_id</th>\n",
       "      <th>latitude</th>\n",
       "      <th>longitude</th>\n",
       "      <th>distance</th>\n",
       "    </tr>\n",
       "  </thead>\n",
       "  <tbody>\n",
       "    <tr>\n",
       "      <th>0</th>\n",
       "      <td>13.0</td>\n",
       "      <td>-37.812397</td>\n",
       "      <td>144.956526</td>\n",
       "      <td>0.261459</td>\n",
       "    </tr>\n",
       "    <tr>\n",
       "      <th>1</th>\n",
       "      <td>56.0</td>\n",
       "      <td>-37.812348</td>\n",
       "      <td>144.961533</td>\n",
       "      <td>0.277421</td>\n",
       "    </tr>\n",
       "    <tr>\n",
       "      <th>2</th>\n",
       "      <td>51.0</td>\n",
       "      <td>-37.808418</td>\n",
       "      <td>144.959063</td>\n",
       "      <td>0.284614</td>\n",
       "    </tr>\n",
       "  </tbody>\n",
       "</table>\n",
       "</div>"
      ],
      "text/plain": [
       "   sensor_id   latitude   longitude  distance\n",
       "0       13.0 -37.812397  144.956526  0.261459\n",
       "1       56.0 -37.812348  144.961533  0.277421\n",
       "2       51.0 -37.808418  144.959063  0.284614"
      ]
     },
     "execution_count": 57,
     "metadata": {},
     "output_type": "execute_result"
    }
   ],
   "source": [
    "# Nearest 3 sensors\n",
    "df4 = df4.sort_values('distance').iloc[0:4,:]\n",
    "df4 = df4.reset_index(drop=True)\n",
    "df4.head(3)"
   ]
  },
  {
   "cell_type": "code",
   "execution_count": 58,
   "metadata": {},
   "outputs": [],
   "source": [
    "df_nearest = df3_new[(df3_new['sensor_id'] == df4['sensor_id'][0]) |\n",
    "                 (df3_new['sensor_id'] == df4['sensor_id'][1]) |\n",
    "                 ((df3_new['sensor_id'] == df4['sensor_id'][2]))]"
   ]
  },
  {
   "cell_type": "code",
   "execution_count": 59,
   "metadata": {},
   "outputs": [],
   "source": [
    "d1 = df_nearest[df_nearest['sensor_id'] == df4['sensor_id'][0]]['hourly_counts']*(df4['distance'][0]/df4['distance'].sum())\n",
    "d2 = df_nearest[df_nearest['sensor_id'] == df4['sensor_id'][1]]['hourly_counts']*(df4['distance'][1]/df4['distance'].sum())\n",
    "d3 = df_nearest[df_nearest['sensor_id'] == df4['sensor_id'][2]]['hourly_counts']*(df4['distance'][2]/df4['distance'].sum())"
   ]
  },
  {
   "cell_type": "code",
   "execution_count": 60,
   "metadata": {
    "scrolled": true
   },
   "outputs": [],
   "source": [
    "## Change sensor\n",
    "\n",
    "sensor_d = pd.concat([pd.DataFrame(df_nearest[df_nearest['sensor_id'] == df4['sensor_id'][0]]['date_time'].reset_index(drop=True)),\n",
    "           pd.DataFrame({'hourly_counts':(d1.values+d2.values+d3.values).round()})], axis=1)"
   ]
  },
  {
   "cell_type": "code",
   "execution_count": 61,
   "metadata": {},
   "outputs": [
    {
     "data": {
      "text/html": [
       "<div>\n",
       "<style scoped>\n",
       "    .dataframe tbody tr th:only-of-type {\n",
       "        vertical-align: middle;\n",
       "    }\n",
       "\n",
       "    .dataframe tbody tr th {\n",
       "        vertical-align: top;\n",
       "    }\n",
       "\n",
       "    .dataframe thead th {\n",
       "        text-align: right;\n",
       "    }\n",
       "</style>\n",
       "<table border=\"1\" class=\"dataframe\">\n",
       "  <thead>\n",
       "    <tr style=\"text-align: right;\">\n",
       "      <th></th>\n",
       "      <th>date_time</th>\n",
       "      <th>hourly_counts</th>\n",
       "    </tr>\n",
       "  </thead>\n",
       "  <tbody>\n",
       "    <tr>\n",
       "      <th>0</th>\n",
       "      <td>17/02/2019 19:00</td>\n",
       "      <td>191.0</td>\n",
       "    </tr>\n",
       "    <tr>\n",
       "      <th>1</th>\n",
       "      <td>17/02/2019 20:00</td>\n",
       "      <td>179.0</td>\n",
       "    </tr>\n",
       "    <tr>\n",
       "      <th>2</th>\n",
       "      <td>17/02/2019 21:00</td>\n",
       "      <td>140.0</td>\n",
       "    </tr>\n",
       "    <tr>\n",
       "      <th>3</th>\n",
       "      <td>17/02/2019 22:00</td>\n",
       "      <td>90.0</td>\n",
       "    </tr>\n",
       "    <tr>\n",
       "      <th>4</th>\n",
       "      <td>17/02/2019 23:00</td>\n",
       "      <td>54.0</td>\n",
       "    </tr>\n",
       "  </tbody>\n",
       "</table>\n",
       "</div>"
      ],
      "text/plain": [
       "          date_time  hourly_counts\n",
       "0  17/02/2019 19:00          191.0\n",
       "1  17/02/2019 20:00          179.0\n",
       "2  17/02/2019 21:00          140.0\n",
       "3  17/02/2019 22:00           90.0\n",
       "4  17/02/2019 23:00           54.0"
      ]
     },
     "execution_count": 61,
     "metadata": {},
     "output_type": "execute_result"
    }
   ],
   "source": [
    "sensor_d.head(5)"
   ]
  },
  {
   "cell_type": "code",
   "execution_count": 62,
   "metadata": {
    "scrolled": true
   },
   "outputs": [
    {
     "data": {
      "text/html": [
       "<div>\n",
       "<style scoped>\n",
       "    .dataframe tbody tr th:only-of-type {\n",
       "        vertical-align: middle;\n",
       "    }\n",
       "\n",
       "    .dataframe tbody tr th {\n",
       "        vertical-align: top;\n",
       "    }\n",
       "\n",
       "    .dataframe thead th {\n",
       "        text-align: right;\n",
       "    }\n",
       "</style>\n",
       "<table border=\"1\" class=\"dataframe\">\n",
       "  <thead>\n",
       "    <tr style=\"text-align: right;\">\n",
       "      <th></th>\n",
       "      <th>date_time</th>\n",
       "      <th>hourly_counts</th>\n",
       "      <th>latitude</th>\n",
       "      <th>longitude</th>\n",
       "      <th>sensor_name</th>\n",
       "      <th>sensor_id</th>\n",
       "    </tr>\n",
       "  </thead>\n",
       "  <tbody>\n",
       "    <tr>\n",
       "      <th>0</th>\n",
       "      <td>17/02/2019 19:00</td>\n",
       "      <td>191.0</td>\n",
       "      <td>-37.810979</td>\n",
       "      <td>144.958897</td>\n",
       "      <td>Queen ST - Virtual</td>\n",
       "      <td>103</td>\n",
       "    </tr>\n",
       "    <tr>\n",
       "      <th>1</th>\n",
       "      <td>17/02/2019 20:00</td>\n",
       "      <td>179.0</td>\n",
       "      <td>-37.810979</td>\n",
       "      <td>144.958897</td>\n",
       "      <td>Queen ST - Virtual</td>\n",
       "      <td>103</td>\n",
       "    </tr>\n",
       "    <tr>\n",
       "      <th>2</th>\n",
       "      <td>17/02/2019 21:00</td>\n",
       "      <td>140.0</td>\n",
       "      <td>-37.810979</td>\n",
       "      <td>144.958897</td>\n",
       "      <td>Queen ST - Virtual</td>\n",
       "      <td>103</td>\n",
       "    </tr>\n",
       "    <tr>\n",
       "      <th>3</th>\n",
       "      <td>17/02/2019 22:00</td>\n",
       "      <td>90.0</td>\n",
       "      <td>-37.810979</td>\n",
       "      <td>144.958897</td>\n",
       "      <td>Queen ST - Virtual</td>\n",
       "      <td>103</td>\n",
       "    </tr>\n",
       "    <tr>\n",
       "      <th>4</th>\n",
       "      <td>17/02/2019 23:00</td>\n",
       "      <td>54.0</td>\n",
       "      <td>-37.810979</td>\n",
       "      <td>144.958897</td>\n",
       "      <td>Queen ST - Virtual</td>\n",
       "      <td>103</td>\n",
       "    </tr>\n",
       "  </tbody>\n",
       "</table>\n",
       "</div>"
      ],
      "text/plain": [
       "          date_time  hourly_counts   latitude   longitude         sensor_name  \\\n",
       "0  17/02/2019 19:00          191.0 -37.810979  144.958897  Queen ST - Virtual   \n",
       "1  17/02/2019 20:00          179.0 -37.810979  144.958897  Queen ST - Virtual   \n",
       "2  17/02/2019 21:00          140.0 -37.810979  144.958897  Queen ST - Virtual   \n",
       "3  17/02/2019 22:00           90.0 -37.810979  144.958897  Queen ST - Virtual   \n",
       "4  17/02/2019 23:00           54.0 -37.810979  144.958897  Queen ST - Virtual   \n",
       "\n",
       "   sensor_id  \n",
       "0        103  \n",
       "1        103  \n",
       "2        103  \n",
       "3        103  \n",
       "4        103  "
      ]
     },
     "execution_count": 62,
     "metadata": {},
     "output_type": "execute_result"
    }
   ],
   "source": [
    "## Change sensor\n",
    "\n",
    "sensor_d['latitude']= sensor4['Latitude'][0]\n",
    "sensor_d['longitude']= sensor4['Longitude'][0]\n",
    "sensor_d['sensor_name']= 'Queen ST - Virtual'\n",
    "sensor_d['sensor_id']= 103\n",
    "sensor_d.head()"
   ]
  },
  {
   "cell_type": "markdown",
   "metadata": {},
   "source": [
    "### Append Existing DF"
   ]
  },
  {
   "cell_type": "code",
   "execution_count": 63,
   "metadata": {
    "scrolled": true
   },
   "outputs": [],
   "source": [
    "## Change sensor\n",
    "\n",
    "df3_new = df3_new.append(sensor_d, sort=False).reset_index(drop=True)"
   ]
  },
  {
   "cell_type": "code",
   "execution_count": 64,
   "metadata": {},
   "outputs": [],
   "source": [
    "## Change sensor\n",
    "\n",
    "df2 = df2.append(sensor_d.iloc[0,[2,3,5]], sort=False).reset_index(drop=True)"
   ]
  },
  {
   "cell_type": "code",
   "execution_count": null,
   "metadata": {},
   "outputs": [],
   "source": []
  },
  {
   "cell_type": "markdown",
   "metadata": {},
   "source": [
    "### <font color='blue'>Sensor E - Hyatt</font>"
   ]
  },
  {
   "cell_type": "code",
   "execution_count": 65,
   "metadata": {
    "scrolled": true
   },
   "outputs": [
    {
     "data": {
      "text/html": [
       "<div>\n",
       "<style scoped>\n",
       "    .dataframe tbody tr th:only-of-type {\n",
       "        vertical-align: middle;\n",
       "    }\n",
       "\n",
       "    .dataframe tbody tr th {\n",
       "        vertical-align: top;\n",
       "    }\n",
       "\n",
       "    .dataframe thead th {\n",
       "        text-align: right;\n",
       "    }\n",
       "</style>\n",
       "<table border=\"1\" class=\"dataframe\">\n",
       "  <thead>\n",
       "    <tr style=\"text-align: right;\">\n",
       "      <th></th>\n",
       "      <th>Latitude</th>\n",
       "      <th>Longitude</th>\n",
       "    </tr>\n",
       "  </thead>\n",
       "  <tbody>\n",
       "    <tr>\n",
       "      <th>0</th>\n",
       "      <td>-37.8155</td>\n",
       "      <td>144.97005</td>\n",
       "    </tr>\n",
       "  </tbody>\n",
       "</table>\n",
       "</div>"
      ],
      "text/plain": [
       "   Latitude  Longitude\n",
       "0  -37.8155  144.97005"
      ]
     },
     "execution_count": 65,
     "metadata": {},
     "output_type": "execute_result"
    }
   ],
   "source": [
    "sensor5 = pd.DataFrame([{'Latitude':-37.81550,'Longitude':144.97005}])\n",
    "sensor5"
   ]
  },
  {
   "cell_type": "markdown",
   "metadata": {},
   "source": [
    "### Nearest sensors"
   ]
  },
  {
   "cell_type": "code",
   "execution_count": 66,
   "metadata": {},
   "outputs": [],
   "source": [
    "# Find Sensor information and Distance\n",
    "\n",
    "## Change sensor\n",
    "df4 = pd.concat([pd.DataFrame(within(sensor5, df2, 1, 0)).reset_index(drop=True),\n",
    "           pd.DataFrame(within_d(sensor5, df2, 1, 0)).reset_index(drop=True)], axis=1)\n",
    "df4.rename(columns={0:'distance'}, inplace=True)"
   ]
  },
  {
   "cell_type": "code",
   "execution_count": 67,
   "metadata": {},
   "outputs": [
    {
     "data": {
      "text/html": [
       "<div>\n",
       "<style scoped>\n",
       "    .dataframe tbody tr th:only-of-type {\n",
       "        vertical-align: middle;\n",
       "    }\n",
       "\n",
       "    .dataframe tbody tr th {\n",
       "        vertical-align: top;\n",
       "    }\n",
       "\n",
       "    .dataframe thead th {\n",
       "        text-align: right;\n",
       "    }\n",
       "</style>\n",
       "<table border=\"1\" class=\"dataframe\">\n",
       "  <thead>\n",
       "    <tr style=\"text-align: right;\">\n",
       "      <th></th>\n",
       "      <th>sensor_id</th>\n",
       "      <th>latitude</th>\n",
       "      <th>longitude</th>\n",
       "      <th>distance</th>\n",
       "    </tr>\n",
       "  </thead>\n",
       "  <tbody>\n",
       "    <tr>\n",
       "      <th>0</th>\n",
       "      <td>39.0</td>\n",
       "      <td>-37.813797</td>\n",
       "      <td>144.969957</td>\n",
       "      <td>0.189142</td>\n",
       "    </tr>\n",
       "    <tr>\n",
       "      <th>1</th>\n",
       "      <td>18.0</td>\n",
       "      <td>-37.813449</td>\n",
       "      <td>144.973053</td>\n",
       "      <td>0.348979</td>\n",
       "    </tr>\n",
       "    <tr>\n",
       "      <th>2</th>\n",
       "      <td>17.0</td>\n",
       "      <td>-37.813625</td>\n",
       "      <td>144.973236</td>\n",
       "      <td>0.349267</td>\n",
       "    </tr>\n",
       "  </tbody>\n",
       "</table>\n",
       "</div>"
      ],
      "text/plain": [
       "   sensor_id   latitude   longitude  distance\n",
       "0       39.0 -37.813797  144.969957  0.189142\n",
       "1       18.0 -37.813449  144.973053  0.348979\n",
       "2       17.0 -37.813625  144.973236  0.349267"
      ]
     },
     "execution_count": 67,
     "metadata": {},
     "output_type": "execute_result"
    }
   ],
   "source": [
    "# Nearest 3 sensors\n",
    "df4 = df4.sort_values('distance').iloc[0:4,:]\n",
    "df4 = df4.reset_index(drop=True)\n",
    "df4.head(3)"
   ]
  },
  {
   "cell_type": "code",
   "execution_count": 68,
   "metadata": {},
   "outputs": [],
   "source": [
    "df_nearest = df3_new[(df3_new['sensor_id'] == df4['sensor_id'][0]) |\n",
    "                 (df3_new['sensor_id'] == df4['sensor_id'][1]) |\n",
    "                 ((df3_new['sensor_id'] == df4['sensor_id'][2]))]"
   ]
  },
  {
   "cell_type": "code",
   "execution_count": 69,
   "metadata": {},
   "outputs": [],
   "source": [
    "d1 = df_nearest[df_nearest['sensor_id'] == df4['sensor_id'][0]]['hourly_counts']*(df4['distance'][0]/df4['distance'].sum())\n",
    "d2 = df_nearest[df_nearest['sensor_id'] == df4['sensor_id'][1]]['hourly_counts']*(df4['distance'][1]/df4['distance'].sum())\n",
    "d3 = df_nearest[df_nearest['sensor_id'] == df4['sensor_id'][2]]['hourly_counts']*(df4['distance'][2]/df4['distance'].sum())"
   ]
  },
  {
   "cell_type": "code",
   "execution_count": 70,
   "metadata": {
    "scrolled": true
   },
   "outputs": [],
   "source": [
    "## Change sensor\n",
    "\n",
    "sensor_e = pd.concat([pd.DataFrame(df_nearest[df_nearest['sensor_id'] == df4['sensor_id'][0]]['date_time'].reset_index(drop=True)),\n",
    "           pd.DataFrame({'hourly_counts':(d1.values+d2.values+d3.values).round()})], axis=1)"
   ]
  },
  {
   "cell_type": "code",
   "execution_count": 71,
   "metadata": {},
   "outputs": [
    {
     "data": {
      "text/html": [
       "<div>\n",
       "<style scoped>\n",
       "    .dataframe tbody tr th:only-of-type {\n",
       "        vertical-align: middle;\n",
       "    }\n",
       "\n",
       "    .dataframe tbody tr th {\n",
       "        vertical-align: top;\n",
       "    }\n",
       "\n",
       "    .dataframe thead th {\n",
       "        text-align: right;\n",
       "    }\n",
       "</style>\n",
       "<table border=\"1\" class=\"dataframe\">\n",
       "  <thead>\n",
       "    <tr style=\"text-align: right;\">\n",
       "      <th></th>\n",
       "      <th>date_time</th>\n",
       "      <th>hourly_counts</th>\n",
       "    </tr>\n",
       "  </thead>\n",
       "  <tbody>\n",
       "    <tr>\n",
       "      <th>0</th>\n",
       "      <td>17/02/2019 19:00</td>\n",
       "      <td>94.0</td>\n",
       "    </tr>\n",
       "    <tr>\n",
       "      <th>1</th>\n",
       "      <td>17/02/2019 20:00</td>\n",
       "      <td>84.0</td>\n",
       "    </tr>\n",
       "    <tr>\n",
       "      <th>2</th>\n",
       "      <td>17/02/2019 21:00</td>\n",
       "      <td>64.0</td>\n",
       "    </tr>\n",
       "    <tr>\n",
       "      <th>3</th>\n",
       "      <td>17/02/2019 22:00</td>\n",
       "      <td>47.0</td>\n",
       "    </tr>\n",
       "    <tr>\n",
       "      <th>4</th>\n",
       "      <td>17/02/2019 23:00</td>\n",
       "      <td>33.0</td>\n",
       "    </tr>\n",
       "  </tbody>\n",
       "</table>\n",
       "</div>"
      ],
      "text/plain": [
       "          date_time  hourly_counts\n",
       "0  17/02/2019 19:00           94.0\n",
       "1  17/02/2019 20:00           84.0\n",
       "2  17/02/2019 21:00           64.0\n",
       "3  17/02/2019 22:00           47.0\n",
       "4  17/02/2019 23:00           33.0"
      ]
     },
     "execution_count": 71,
     "metadata": {},
     "output_type": "execute_result"
    }
   ],
   "source": [
    "sensor_e.head(5)"
   ]
  },
  {
   "cell_type": "code",
   "execution_count": 72,
   "metadata": {
    "scrolled": true
   },
   "outputs": [
    {
     "data": {
      "text/html": [
       "<div>\n",
       "<style scoped>\n",
       "    .dataframe tbody tr th:only-of-type {\n",
       "        vertical-align: middle;\n",
       "    }\n",
       "\n",
       "    .dataframe tbody tr th {\n",
       "        vertical-align: top;\n",
       "    }\n",
       "\n",
       "    .dataframe thead th {\n",
       "        text-align: right;\n",
       "    }\n",
       "</style>\n",
       "<table border=\"1\" class=\"dataframe\">\n",
       "  <thead>\n",
       "    <tr style=\"text-align: right;\">\n",
       "      <th></th>\n",
       "      <th>date_time</th>\n",
       "      <th>hourly_counts</th>\n",
       "      <th>latitude</th>\n",
       "      <th>longitude</th>\n",
       "      <th>sensor_name</th>\n",
       "      <th>sensor_id</th>\n",
       "    </tr>\n",
       "  </thead>\n",
       "  <tbody>\n",
       "    <tr>\n",
       "      <th>0</th>\n",
       "      <td>17/02/2019 19:00</td>\n",
       "      <td>94.0</td>\n",
       "      <td>-37.8155</td>\n",
       "      <td>144.97005</td>\n",
       "      <td>Hyatt - Virtual</td>\n",
       "      <td>104</td>\n",
       "    </tr>\n",
       "    <tr>\n",
       "      <th>1</th>\n",
       "      <td>17/02/2019 20:00</td>\n",
       "      <td>84.0</td>\n",
       "      <td>-37.8155</td>\n",
       "      <td>144.97005</td>\n",
       "      <td>Hyatt - Virtual</td>\n",
       "      <td>104</td>\n",
       "    </tr>\n",
       "    <tr>\n",
       "      <th>2</th>\n",
       "      <td>17/02/2019 21:00</td>\n",
       "      <td>64.0</td>\n",
       "      <td>-37.8155</td>\n",
       "      <td>144.97005</td>\n",
       "      <td>Hyatt - Virtual</td>\n",
       "      <td>104</td>\n",
       "    </tr>\n",
       "    <tr>\n",
       "      <th>3</th>\n",
       "      <td>17/02/2019 22:00</td>\n",
       "      <td>47.0</td>\n",
       "      <td>-37.8155</td>\n",
       "      <td>144.97005</td>\n",
       "      <td>Hyatt - Virtual</td>\n",
       "      <td>104</td>\n",
       "    </tr>\n",
       "    <tr>\n",
       "      <th>4</th>\n",
       "      <td>17/02/2019 23:00</td>\n",
       "      <td>33.0</td>\n",
       "      <td>-37.8155</td>\n",
       "      <td>144.97005</td>\n",
       "      <td>Hyatt - Virtual</td>\n",
       "      <td>104</td>\n",
       "    </tr>\n",
       "  </tbody>\n",
       "</table>\n",
       "</div>"
      ],
      "text/plain": [
       "          date_time  hourly_counts  latitude  longitude      sensor_name  \\\n",
       "0  17/02/2019 19:00           94.0  -37.8155  144.97005  Hyatt - Virtual   \n",
       "1  17/02/2019 20:00           84.0  -37.8155  144.97005  Hyatt - Virtual   \n",
       "2  17/02/2019 21:00           64.0  -37.8155  144.97005  Hyatt - Virtual   \n",
       "3  17/02/2019 22:00           47.0  -37.8155  144.97005  Hyatt - Virtual   \n",
       "4  17/02/2019 23:00           33.0  -37.8155  144.97005  Hyatt - Virtual   \n",
       "\n",
       "   sensor_id  \n",
       "0        104  \n",
       "1        104  \n",
       "2        104  \n",
       "3        104  \n",
       "4        104  "
      ]
     },
     "execution_count": 72,
     "metadata": {},
     "output_type": "execute_result"
    }
   ],
   "source": [
    "## Change sensor\n",
    "\n",
    "sensor_e['latitude']= sensor5['Latitude'][0]\n",
    "sensor_e['longitude']= sensor5['Longitude'][0]\n",
    "sensor_e['sensor_name']= 'Hyatt - Virtual'\n",
    "sensor_e['sensor_id']= 104\n",
    "sensor_e.head()"
   ]
  },
  {
   "cell_type": "markdown",
   "metadata": {},
   "source": [
    "### Append Existing DF"
   ]
  },
  {
   "cell_type": "code",
   "execution_count": 73,
   "metadata": {
    "scrolled": true
   },
   "outputs": [],
   "source": [
    "## Change sensor\n",
    "\n",
    "df3_new = df3_new.append(sensor_e, sort=False).reset_index(drop=True)"
   ]
  },
  {
   "cell_type": "code",
   "execution_count": 74,
   "metadata": {},
   "outputs": [],
   "source": [
    "## Change sensor\n",
    "\n",
    "df2 = df2.append(sensor_e.iloc[0,[2,3,5]], sort=False).reset_index(drop=True)"
   ]
  },
  {
   "cell_type": "code",
   "execution_count": null,
   "metadata": {},
   "outputs": [],
   "source": []
  },
  {
   "cell_type": "markdown",
   "metadata": {},
   "source": [
    "### <font color='blue'>Sensor F - Exhibition St</font>"
   ]
  },
  {
   "cell_type": "code",
   "execution_count": 75,
   "metadata": {
    "scrolled": true
   },
   "outputs": [
    {
     "data": {
      "text/html": [
       "<div>\n",
       "<style scoped>\n",
       "    .dataframe tbody tr th:only-of-type {\n",
       "        vertical-align: middle;\n",
       "    }\n",
       "\n",
       "    .dataframe tbody tr th {\n",
       "        vertical-align: top;\n",
       "    }\n",
       "\n",
       "    .dataframe thead th {\n",
       "        text-align: right;\n",
       "    }\n",
       "</style>\n",
       "<table border=\"1\" class=\"dataframe\">\n",
       "  <thead>\n",
       "    <tr style=\"text-align: right;\">\n",
       "      <th></th>\n",
       "      <th>Latitude</th>\n",
       "      <th>Longitude</th>\n",
       "    </tr>\n",
       "  </thead>\n",
       "  <tbody>\n",
       "    <tr>\n",
       "      <th>0</th>\n",
       "      <td>-37.808234</td>\n",
       "      <td>144.968757</td>\n",
       "    </tr>\n",
       "  </tbody>\n",
       "</table>\n",
       "</div>"
      ],
      "text/plain": [
       "    Latitude   Longitude\n",
       "0 -37.808234  144.968757"
      ]
     },
     "execution_count": 75,
     "metadata": {},
     "output_type": "execute_result"
    }
   ],
   "source": [
    "sensor6 = pd.DataFrame([{'Latitude':-37.808234,'Longitude':144.968757}])\n",
    "sensor6"
   ]
  },
  {
   "cell_type": "markdown",
   "metadata": {},
   "source": [
    "### Nearest sensors"
   ]
  },
  {
   "cell_type": "code",
   "execution_count": 76,
   "metadata": {},
   "outputs": [],
   "source": [
    "# Find Sensor information and Distance\n",
    "\n",
    "## Change sensor\n",
    "df4 = pd.concat([pd.DataFrame(within(sensor6, df2, 1, 0)).reset_index(drop=True),\n",
    "           pd.DataFrame(within_d(sensor6, df2, 1, 0)).reset_index(drop=True)], axis=1)\n",
    "df4.rename(columns={0:'distance'}, inplace=True)"
   ]
  },
  {
   "cell_type": "code",
   "execution_count": 77,
   "metadata": {},
   "outputs": [
    {
     "data": {
      "text/html": [
       "<div>\n",
       "<style scoped>\n",
       "    .dataframe tbody tr th:only-of-type {\n",
       "        vertical-align: middle;\n",
       "    }\n",
       "\n",
       "    .dataframe tbody tr th {\n",
       "        vertical-align: top;\n",
       "    }\n",
       "\n",
       "    .dataframe thead th {\n",
       "        text-align: right;\n",
       "    }\n",
       "</style>\n",
       "<table border=\"1\" class=\"dataframe\">\n",
       "  <thead>\n",
       "    <tr style=\"text-align: right;\">\n",
       "      <th></th>\n",
       "      <th>sensor_id</th>\n",
       "      <th>latitude</th>\n",
       "      <th>longitude</th>\n",
       "      <th>distance</th>\n",
       "    </tr>\n",
       "  </thead>\n",
       "  <tbody>\n",
       "    <tr>\n",
       "      <th>0</th>\n",
       "      <td>40.0</td>\n",
       "      <td>-37.809993</td>\n",
       "      <td>144.972276</td>\n",
       "      <td>0.366274</td>\n",
       "    </tr>\n",
       "    <tr>\n",
       "      <th>1</th>\n",
       "      <td>30.0</td>\n",
       "      <td>-37.811218</td>\n",
       "      <td>144.966568</td>\n",
       "      <td>0.383255</td>\n",
       "    </tr>\n",
       "    <tr>\n",
       "      <th>2</th>\n",
       "      <td>20.0</td>\n",
       "      <td>-37.811729</td>\n",
       "      <td>144.968247</td>\n",
       "      <td>0.390529</td>\n",
       "    </tr>\n",
       "  </tbody>\n",
       "</table>\n",
       "</div>"
      ],
      "text/plain": [
       "   sensor_id   latitude   longitude  distance\n",
       "0       40.0 -37.809993  144.972276  0.366274\n",
       "1       30.0 -37.811218  144.966568  0.383255\n",
       "2       20.0 -37.811729  144.968247  0.390529"
      ]
     },
     "execution_count": 77,
     "metadata": {},
     "output_type": "execute_result"
    }
   ],
   "source": [
    "# Nearest 3 sensors\n",
    "df4 = df4.sort_values('distance').iloc[0:4,:]\n",
    "df4 = df4.reset_index(drop=True)\n",
    "df4.head(3)"
   ]
  },
  {
   "cell_type": "code",
   "execution_count": 78,
   "metadata": {},
   "outputs": [],
   "source": [
    "df_nearest = df3_new[(df3_new['sensor_id'] == df4['sensor_id'][0]) |\n",
    "                 (df3_new['sensor_id'] == df4['sensor_id'][1]) |\n",
    "                 ((df3_new['sensor_id'] == df4['sensor_id'][2]))]"
   ]
  },
  {
   "cell_type": "code",
   "execution_count": 79,
   "metadata": {},
   "outputs": [],
   "source": [
    "d1 = df_nearest[df_nearest['sensor_id'] == df4['sensor_id'][0]]['hourly_counts']*(df4['distance'][0]/df4['distance'].sum())\n",
    "d2 = df_nearest[df_nearest['sensor_id'] == df4['sensor_id'][1]]['hourly_counts']*(df4['distance'][1]/df4['distance'].sum())\n",
    "d3 = df_nearest[df_nearest['sensor_id'] == df4['sensor_id'][2]]['hourly_counts']*(df4['distance'][2]/df4['distance'].sum())"
   ]
  },
  {
   "cell_type": "code",
   "execution_count": 80,
   "metadata": {
    "scrolled": true
   },
   "outputs": [],
   "source": [
    "## Change sensor\n",
    "\n",
    "sensor_f = pd.concat([pd.DataFrame(df_nearest[df_nearest['sensor_id'] == df4['sensor_id'][0]]['date_time'].reset_index(drop=True)),\n",
    "           pd.DataFrame({'hourly_counts':(d1.values+d2.values+d3.values).round()})], axis=1)"
   ]
  },
  {
   "cell_type": "code",
   "execution_count": 81,
   "metadata": {},
   "outputs": [
    {
     "data": {
      "text/html": [
       "<div>\n",
       "<style scoped>\n",
       "    .dataframe tbody tr th:only-of-type {\n",
       "        vertical-align: middle;\n",
       "    }\n",
       "\n",
       "    .dataframe tbody tr th {\n",
       "        vertical-align: top;\n",
       "    }\n",
       "\n",
       "    .dataframe thead th {\n",
       "        text-align: right;\n",
       "    }\n",
       "</style>\n",
       "<table border=\"1\" class=\"dataframe\">\n",
       "  <thead>\n",
       "    <tr style=\"text-align: right;\">\n",
       "      <th></th>\n",
       "      <th>date_time</th>\n",
       "      <th>hourly_counts</th>\n",
       "    </tr>\n",
       "  </thead>\n",
       "  <tbody>\n",
       "    <tr>\n",
       "      <th>0</th>\n",
       "      <td>17/02/2019 19:00</td>\n",
       "      <td>451.0</td>\n",
       "    </tr>\n",
       "    <tr>\n",
       "      <th>1</th>\n",
       "      <td>17/02/2019 20:00</td>\n",
       "      <td>363.0</td>\n",
       "    </tr>\n",
       "    <tr>\n",
       "      <th>2</th>\n",
       "      <td>17/02/2019 21:00</td>\n",
       "      <td>297.0</td>\n",
       "    </tr>\n",
       "    <tr>\n",
       "      <th>3</th>\n",
       "      <td>17/02/2019 22:00</td>\n",
       "      <td>268.0</td>\n",
       "    </tr>\n",
       "    <tr>\n",
       "      <th>4</th>\n",
       "      <td>17/02/2019 23:00</td>\n",
       "      <td>115.0</td>\n",
       "    </tr>\n",
       "  </tbody>\n",
       "</table>\n",
       "</div>"
      ],
      "text/plain": [
       "          date_time  hourly_counts\n",
       "0  17/02/2019 19:00          451.0\n",
       "1  17/02/2019 20:00          363.0\n",
       "2  17/02/2019 21:00          297.0\n",
       "3  17/02/2019 22:00          268.0\n",
       "4  17/02/2019 23:00          115.0"
      ]
     },
     "execution_count": 81,
     "metadata": {},
     "output_type": "execute_result"
    }
   ],
   "source": [
    "sensor_f.head(5)"
   ]
  },
  {
   "cell_type": "code",
   "execution_count": 82,
   "metadata": {
    "scrolled": true
   },
   "outputs": [
    {
     "data": {
      "text/html": [
       "<div>\n",
       "<style scoped>\n",
       "    .dataframe tbody tr th:only-of-type {\n",
       "        vertical-align: middle;\n",
       "    }\n",
       "\n",
       "    .dataframe tbody tr th {\n",
       "        vertical-align: top;\n",
       "    }\n",
       "\n",
       "    .dataframe thead th {\n",
       "        text-align: right;\n",
       "    }\n",
       "</style>\n",
       "<table border=\"1\" class=\"dataframe\">\n",
       "  <thead>\n",
       "    <tr style=\"text-align: right;\">\n",
       "      <th></th>\n",
       "      <th>date_time</th>\n",
       "      <th>hourly_counts</th>\n",
       "      <th>latitude</th>\n",
       "      <th>longitude</th>\n",
       "      <th>sensor_name</th>\n",
       "      <th>sensor_id</th>\n",
       "    </tr>\n",
       "  </thead>\n",
       "  <tbody>\n",
       "    <tr>\n",
       "      <th>0</th>\n",
       "      <td>17/02/2019 19:00</td>\n",
       "      <td>451.0</td>\n",
       "      <td>-37.808234</td>\n",
       "      <td>144.968757</td>\n",
       "      <td>Exhibition St - Virtual</td>\n",
       "      <td>105</td>\n",
       "    </tr>\n",
       "    <tr>\n",
       "      <th>1</th>\n",
       "      <td>17/02/2019 20:00</td>\n",
       "      <td>363.0</td>\n",
       "      <td>-37.808234</td>\n",
       "      <td>144.968757</td>\n",
       "      <td>Exhibition St - Virtual</td>\n",
       "      <td>105</td>\n",
       "    </tr>\n",
       "    <tr>\n",
       "      <th>2</th>\n",
       "      <td>17/02/2019 21:00</td>\n",
       "      <td>297.0</td>\n",
       "      <td>-37.808234</td>\n",
       "      <td>144.968757</td>\n",
       "      <td>Exhibition St - Virtual</td>\n",
       "      <td>105</td>\n",
       "    </tr>\n",
       "    <tr>\n",
       "      <th>3</th>\n",
       "      <td>17/02/2019 22:00</td>\n",
       "      <td>268.0</td>\n",
       "      <td>-37.808234</td>\n",
       "      <td>144.968757</td>\n",
       "      <td>Exhibition St - Virtual</td>\n",
       "      <td>105</td>\n",
       "    </tr>\n",
       "    <tr>\n",
       "      <th>4</th>\n",
       "      <td>17/02/2019 23:00</td>\n",
       "      <td>115.0</td>\n",
       "      <td>-37.808234</td>\n",
       "      <td>144.968757</td>\n",
       "      <td>Exhibition St - Virtual</td>\n",
       "      <td>105</td>\n",
       "    </tr>\n",
       "  </tbody>\n",
       "</table>\n",
       "</div>"
      ],
      "text/plain": [
       "          date_time  hourly_counts   latitude   longitude  \\\n",
       "0  17/02/2019 19:00          451.0 -37.808234  144.968757   \n",
       "1  17/02/2019 20:00          363.0 -37.808234  144.968757   \n",
       "2  17/02/2019 21:00          297.0 -37.808234  144.968757   \n",
       "3  17/02/2019 22:00          268.0 -37.808234  144.968757   \n",
       "4  17/02/2019 23:00          115.0 -37.808234  144.968757   \n",
       "\n",
       "               sensor_name  sensor_id  \n",
       "0  Exhibition St - Virtual        105  \n",
       "1  Exhibition St - Virtual        105  \n",
       "2  Exhibition St - Virtual        105  \n",
       "3  Exhibition St - Virtual        105  \n",
       "4  Exhibition St - Virtual        105  "
      ]
     },
     "execution_count": 82,
     "metadata": {},
     "output_type": "execute_result"
    }
   ],
   "source": [
    "## Change sensor\n",
    "\n",
    "sensor_f['latitude']= sensor6['Latitude'][0]\n",
    "sensor_f['longitude']= sensor6['Longitude'][0]\n",
    "sensor_f['sensor_name']= 'Exhibition St - Virtual'\n",
    "sensor_f['sensor_id']= 105\n",
    "sensor_f.head()"
   ]
  },
  {
   "cell_type": "markdown",
   "metadata": {},
   "source": [
    "### Append Existing DF"
   ]
  },
  {
   "cell_type": "code",
   "execution_count": 83,
   "metadata": {
    "scrolled": true
   },
   "outputs": [],
   "source": [
    "## Change sensor\n",
    "\n",
    "df3_new = df3_new.append(sensor_f, sort=False).reset_index(drop=True)"
   ]
  },
  {
   "cell_type": "code",
   "execution_count": 84,
   "metadata": {},
   "outputs": [],
   "source": [
    "## Change sensor\n",
    "\n",
    "df2 = df2.append(sensor_f.iloc[0,[2,3,5]], sort=False).reset_index(drop=True)"
   ]
  },
  {
   "cell_type": "code",
   "execution_count": null,
   "metadata": {},
   "outputs": [],
   "source": []
  },
  {
   "cell_type": "markdown",
   "metadata": {},
   "source": [
    "### <font color='blue'>Sensor G - La Trobe St</font>"
   ]
  },
  {
   "cell_type": "code",
   "execution_count": 85,
   "metadata": {
    "scrolled": true
   },
   "outputs": [
    {
     "data": {
      "text/html": [
       "<div>\n",
       "<style scoped>\n",
       "    .dataframe tbody tr th:only-of-type {\n",
       "        vertical-align: middle;\n",
       "    }\n",
       "\n",
       "    .dataframe tbody tr th {\n",
       "        vertical-align: top;\n",
       "    }\n",
       "\n",
       "    .dataframe thead th {\n",
       "        text-align: right;\n",
       "    }\n",
       "</style>\n",
       "<table border=\"1\" class=\"dataframe\">\n",
       "  <thead>\n",
       "    <tr style=\"text-align: right;\">\n",
       "      <th></th>\n",
       "      <th>Latitude</th>\n",
       "      <th>Longitude</th>\n",
       "    </tr>\n",
       "  </thead>\n",
       "  <tbody>\n",
       "    <tr>\n",
       "      <th>0</th>\n",
       "      <td>-37.81319</td>\n",
       "      <td>144.95174</td>\n",
       "    </tr>\n",
       "  </tbody>\n",
       "</table>\n",
       "</div>"
      ],
      "text/plain": [
       "   Latitude  Longitude\n",
       "0 -37.81319  144.95174"
      ]
     },
     "execution_count": 85,
     "metadata": {},
     "output_type": "execute_result"
    }
   ],
   "source": [
    "sensor7 = pd.DataFrame([{'Latitude':-37.81319,'Longitude':144.95174}])\n",
    "sensor7"
   ]
  },
  {
   "cell_type": "markdown",
   "metadata": {},
   "source": [
    "### Nearest sensors"
   ]
  },
  {
   "cell_type": "code",
   "execution_count": 86,
   "metadata": {},
   "outputs": [],
   "source": [
    "# Find Sensor information and Distance\n",
    "\n",
    "## Change sensor\n",
    "df4 = pd.concat([pd.DataFrame(within(sensor7, df2, 1, 0)).reset_index(drop=True),\n",
    "           pd.DataFrame(within_d(sensor7, df2, 1, 0)).reset_index(drop=True)], axis=1)\n",
    "df4.rename(columns={0:'distance'}, inplace=True)"
   ]
  },
  {
   "cell_type": "code",
   "execution_count": 87,
   "metadata": {},
   "outputs": [
    {
     "data": {
      "text/html": [
       "<div>\n",
       "<style scoped>\n",
       "    .dataframe tbody tr th:only-of-type {\n",
       "        vertical-align: middle;\n",
       "    }\n",
       "\n",
       "    .dataframe tbody tr th {\n",
       "        vertical-align: top;\n",
       "    }\n",
       "\n",
       "    .dataframe thead th {\n",
       "        text-align: right;\n",
       "    }\n",
       "</style>\n",
       "<table border=\"1\" class=\"dataframe\">\n",
       "  <thead>\n",
       "    <tr style=\"text-align: right;\">\n",
       "      <th></th>\n",
       "      <th>sensor_id</th>\n",
       "      <th>latitude</th>\n",
       "      <th>longitude</th>\n",
       "      <th>distance</th>\n",
       "    </tr>\n",
       "  </thead>\n",
       "  <tbody>\n",
       "    <tr>\n",
       "      <th>0</th>\n",
       "      <td>13.0</td>\n",
       "      <td>-37.812397</td>\n",
       "      <td>144.956526</td>\n",
       "      <td>0.430526</td>\n",
       "    </tr>\n",
       "    <tr>\n",
       "      <th>1</th>\n",
       "      <td>58.0</td>\n",
       "      <td>-37.816861</td>\n",
       "      <td>144.953581</td>\n",
       "      <td>0.438484</td>\n",
       "    </tr>\n",
       "    <tr>\n",
       "      <th>2</th>\n",
       "      <td>57.0</td>\n",
       "      <td>-37.817673</td>\n",
       "      <td>144.950256</td>\n",
       "      <td>0.514507</td>\n",
       "    </tr>\n",
       "  </tbody>\n",
       "</table>\n",
       "</div>"
      ],
      "text/plain": [
       "   sensor_id   latitude   longitude  distance\n",
       "0       13.0 -37.812397  144.956526  0.430526\n",
       "1       58.0 -37.816861  144.953581  0.438484\n",
       "2       57.0 -37.817673  144.950256  0.514507"
      ]
     },
     "execution_count": 87,
     "metadata": {},
     "output_type": "execute_result"
    }
   ],
   "source": [
    "# Nearest 3 sensors\n",
    "df4 = df4.sort_values('distance').iloc[0:4,:]\n",
    "df4 = df4.reset_index(drop=True)\n",
    "df4.head(3)"
   ]
  },
  {
   "cell_type": "code",
   "execution_count": 88,
   "metadata": {},
   "outputs": [],
   "source": [
    "df_nearest = df3_new[(df3_new['sensor_id'] == df4['sensor_id'][0]) |\n",
    "                 (df3_new['sensor_id'] == df4['sensor_id'][1]) |\n",
    "                 ((df3_new['sensor_id'] == df4['sensor_id'][2]))]"
   ]
  },
  {
   "cell_type": "code",
   "execution_count": 89,
   "metadata": {},
   "outputs": [],
   "source": [
    "d1 = df_nearest[df_nearest['sensor_id'] == df4['sensor_id'][0]]['hourly_counts']*(df4['distance'][0]/df4['distance'].sum())\n",
    "d2 = df_nearest[df_nearest['sensor_id'] == df4['sensor_id'][1]]['hourly_counts']*(df4['distance'][1]/df4['distance'].sum())\n",
    "d3 = df_nearest[df_nearest['sensor_id'] == df4['sensor_id'][2]]['hourly_counts']*(df4['distance'][2]/df4['distance'].sum())"
   ]
  },
  {
   "cell_type": "code",
   "execution_count": 90,
   "metadata": {
    "scrolled": true
   },
   "outputs": [],
   "source": [
    "## Change sensor\n",
    "\n",
    "sensor_g = pd.concat([pd.DataFrame(df_nearest[df_nearest['sensor_id'] == df4['sensor_id'][0]]['date_time'].reset_index(drop=True)),\n",
    "           pd.DataFrame({'hourly_counts':(d1.values+d2.values+d3.values).round()})], axis=1)"
   ]
  },
  {
   "cell_type": "code",
   "execution_count": 91,
   "metadata": {},
   "outputs": [
    {
     "data": {
      "text/html": [
       "<div>\n",
       "<style scoped>\n",
       "    .dataframe tbody tr th:only-of-type {\n",
       "        vertical-align: middle;\n",
       "    }\n",
       "\n",
       "    .dataframe tbody tr th {\n",
       "        vertical-align: top;\n",
       "    }\n",
       "\n",
       "    .dataframe thead th {\n",
       "        text-align: right;\n",
       "    }\n",
       "</style>\n",
       "<table border=\"1\" class=\"dataframe\">\n",
       "  <thead>\n",
       "    <tr style=\"text-align: right;\">\n",
       "      <th></th>\n",
       "      <th>date_time</th>\n",
       "      <th>hourly_counts</th>\n",
       "    </tr>\n",
       "  </thead>\n",
       "  <tbody>\n",
       "    <tr>\n",
       "      <th>0</th>\n",
       "      <td>17/02/2019 19:00</td>\n",
       "      <td>811.0</td>\n",
       "    </tr>\n",
       "    <tr>\n",
       "      <th>1</th>\n",
       "      <td>17/02/2019 20:00</td>\n",
       "      <td>231.0</td>\n",
       "    </tr>\n",
       "    <tr>\n",
       "      <th>2</th>\n",
       "      <td>17/02/2019 21:00</td>\n",
       "      <td>172.0</td>\n",
       "    </tr>\n",
       "    <tr>\n",
       "      <th>3</th>\n",
       "      <td>17/02/2019 22:00</td>\n",
       "      <td>119.0</td>\n",
       "    </tr>\n",
       "    <tr>\n",
       "      <th>4</th>\n",
       "      <td>17/02/2019 23:00</td>\n",
       "      <td>95.0</td>\n",
       "    </tr>\n",
       "  </tbody>\n",
       "</table>\n",
       "</div>"
      ],
      "text/plain": [
       "          date_time  hourly_counts\n",
       "0  17/02/2019 19:00          811.0\n",
       "1  17/02/2019 20:00          231.0\n",
       "2  17/02/2019 21:00          172.0\n",
       "3  17/02/2019 22:00          119.0\n",
       "4  17/02/2019 23:00           95.0"
      ]
     },
     "execution_count": 91,
     "metadata": {},
     "output_type": "execute_result"
    }
   ],
   "source": [
    "sensor_g.head(5)"
   ]
  },
  {
   "cell_type": "code",
   "execution_count": 92,
   "metadata": {
    "scrolled": true
   },
   "outputs": [
    {
     "data": {
      "text/html": [
       "<div>\n",
       "<style scoped>\n",
       "    .dataframe tbody tr th:only-of-type {\n",
       "        vertical-align: middle;\n",
       "    }\n",
       "\n",
       "    .dataframe tbody tr th {\n",
       "        vertical-align: top;\n",
       "    }\n",
       "\n",
       "    .dataframe thead th {\n",
       "        text-align: right;\n",
       "    }\n",
       "</style>\n",
       "<table border=\"1\" class=\"dataframe\">\n",
       "  <thead>\n",
       "    <tr style=\"text-align: right;\">\n",
       "      <th></th>\n",
       "      <th>date_time</th>\n",
       "      <th>hourly_counts</th>\n",
       "      <th>latitude</th>\n",
       "      <th>longitude</th>\n",
       "      <th>sensor_name</th>\n",
       "      <th>sensor_id</th>\n",
       "    </tr>\n",
       "  </thead>\n",
       "  <tbody>\n",
       "    <tr>\n",
       "      <th>0</th>\n",
       "      <td>17/02/2019 19:00</td>\n",
       "      <td>811.0</td>\n",
       "      <td>-37.81319</td>\n",
       "      <td>144.95174</td>\n",
       "      <td>La Trobe St - Virtual</td>\n",
       "      <td>106</td>\n",
       "    </tr>\n",
       "    <tr>\n",
       "      <th>1</th>\n",
       "      <td>17/02/2019 20:00</td>\n",
       "      <td>231.0</td>\n",
       "      <td>-37.81319</td>\n",
       "      <td>144.95174</td>\n",
       "      <td>La Trobe St - Virtual</td>\n",
       "      <td>106</td>\n",
       "    </tr>\n",
       "    <tr>\n",
       "      <th>2</th>\n",
       "      <td>17/02/2019 21:00</td>\n",
       "      <td>172.0</td>\n",
       "      <td>-37.81319</td>\n",
       "      <td>144.95174</td>\n",
       "      <td>La Trobe St - Virtual</td>\n",
       "      <td>106</td>\n",
       "    </tr>\n",
       "    <tr>\n",
       "      <th>3</th>\n",
       "      <td>17/02/2019 22:00</td>\n",
       "      <td>119.0</td>\n",
       "      <td>-37.81319</td>\n",
       "      <td>144.95174</td>\n",
       "      <td>La Trobe St - Virtual</td>\n",
       "      <td>106</td>\n",
       "    </tr>\n",
       "    <tr>\n",
       "      <th>4</th>\n",
       "      <td>17/02/2019 23:00</td>\n",
       "      <td>95.0</td>\n",
       "      <td>-37.81319</td>\n",
       "      <td>144.95174</td>\n",
       "      <td>La Trobe St - Virtual</td>\n",
       "      <td>106</td>\n",
       "    </tr>\n",
       "  </tbody>\n",
       "</table>\n",
       "</div>"
      ],
      "text/plain": [
       "          date_time  hourly_counts  latitude  longitude  \\\n",
       "0  17/02/2019 19:00          811.0 -37.81319  144.95174   \n",
       "1  17/02/2019 20:00          231.0 -37.81319  144.95174   \n",
       "2  17/02/2019 21:00          172.0 -37.81319  144.95174   \n",
       "3  17/02/2019 22:00          119.0 -37.81319  144.95174   \n",
       "4  17/02/2019 23:00           95.0 -37.81319  144.95174   \n",
       "\n",
       "             sensor_name  sensor_id  \n",
       "0  La Trobe St - Virtual        106  \n",
       "1  La Trobe St - Virtual        106  \n",
       "2  La Trobe St - Virtual        106  \n",
       "3  La Trobe St - Virtual        106  \n",
       "4  La Trobe St - Virtual        106  "
      ]
     },
     "execution_count": 92,
     "metadata": {},
     "output_type": "execute_result"
    }
   ],
   "source": [
    "## Change sensor\n",
    "\n",
    "sensor_g['latitude']= sensor7['Latitude'][0]\n",
    "sensor_g['longitude']= sensor7['Longitude'][0]\n",
    "sensor_g['sensor_name']= 'La Trobe St - Virtual'\n",
    "sensor_g['sensor_id']= 106\n",
    "sensor_g.head()"
   ]
  },
  {
   "cell_type": "markdown",
   "metadata": {},
   "source": [
    "### Append Existing DF"
   ]
  },
  {
   "cell_type": "code",
   "execution_count": 93,
   "metadata": {
    "scrolled": true
   },
   "outputs": [],
   "source": [
    "## Change sensor\n",
    "\n",
    "df3_new = df3_new.append(sensor_g, sort=False).reset_index(drop=True)"
   ]
  },
  {
   "cell_type": "code",
   "execution_count": 94,
   "metadata": {},
   "outputs": [],
   "source": [
    "## Change sensor\n",
    "\n",
    "df2 = df2.append(sensor_g.iloc[0,[2,3,5]], sort=False).reset_index(drop=True)"
   ]
  },
  {
   "cell_type": "code",
   "execution_count": null,
   "metadata": {},
   "outputs": [],
   "source": []
  },
  {
   "cell_type": "markdown",
   "metadata": {},
   "source": [
    "### <font color='blue'>Sensor H - William St</font>"
   ]
  },
  {
   "cell_type": "code",
   "execution_count": 95,
   "metadata": {
    "scrolled": true
   },
   "outputs": [
    {
     "data": {
      "text/html": [
       "<div>\n",
       "<style scoped>\n",
       "    .dataframe tbody tr th:only-of-type {\n",
       "        vertical-align: middle;\n",
       "    }\n",
       "\n",
       "    .dataframe tbody tr th {\n",
       "        vertical-align: top;\n",
       "    }\n",
       "\n",
       "    .dataframe thead th {\n",
       "        text-align: right;\n",
       "    }\n",
       "</style>\n",
       "<table border=\"1\" class=\"dataframe\">\n",
       "  <thead>\n",
       "    <tr style=\"text-align: right;\">\n",
       "      <th></th>\n",
       "      <th>Latitude</th>\n",
       "      <th>Longitude</th>\n",
       "    </tr>\n",
       "  </thead>\n",
       "  <tbody>\n",
       "    <tr>\n",
       "      <th>0</th>\n",
       "      <td>-37.81563</td>\n",
       "      <td>144.95823</td>\n",
       "    </tr>\n",
       "  </tbody>\n",
       "</table>\n",
       "</div>"
      ],
      "text/plain": [
       "   Latitude  Longitude\n",
       "0 -37.81563  144.95823"
      ]
     },
     "execution_count": 95,
     "metadata": {},
     "output_type": "execute_result"
    }
   ],
   "source": [
    "sensor8 = pd.DataFrame([{'Latitude':-37.81563,'Longitude':144.95823}])\n",
    "sensor8"
   ]
  },
  {
   "cell_type": "markdown",
   "metadata": {},
   "source": [
    "### Nearest sensors"
   ]
  },
  {
   "cell_type": "code",
   "execution_count": 96,
   "metadata": {},
   "outputs": [],
   "source": [
    "# Find Sensor information and Distance\n",
    "\n",
    "## Change sensor\n",
    "df4 = pd.concat([pd.DataFrame(within(sensor8, df2, 1, 0)).reset_index(drop=True),\n",
    "           pd.DataFrame(within_d(sensor8, df2, 1, 0)).reset_index(drop=True)], axis=1)\n",
    "df4.rename(columns={0:'distance'}, inplace=True)"
   ]
  },
  {
   "cell_type": "code",
   "execution_count": 97,
   "metadata": {},
   "outputs": [
    {
     "data": {
      "text/html": [
       "<div>\n",
       "<style scoped>\n",
       "    .dataframe tbody tr th:only-of-type {\n",
       "        vertical-align: middle;\n",
       "    }\n",
       "\n",
       "    .dataframe tbody tr th {\n",
       "        vertical-align: top;\n",
       "    }\n",
       "\n",
       "    .dataframe thead th {\n",
       "        text-align: right;\n",
       "    }\n",
       "</style>\n",
       "<table border=\"1\" class=\"dataframe\">\n",
       "  <thead>\n",
       "    <tr style=\"text-align: right;\">\n",
       "      <th></th>\n",
       "      <th>sensor_id</th>\n",
       "      <th>latitude</th>\n",
       "      <th>longitude</th>\n",
       "      <th>distance</th>\n",
       "    </tr>\n",
       "  </thead>\n",
       "  <tbody>\n",
       "    <tr>\n",
       "      <th>0</th>\n",
       "      <td>101.0</td>\n",
       "      <td>-37.817771</td>\n",
       "      <td>144.957951</td>\n",
       "      <td>0.238902</td>\n",
       "    </tr>\n",
       "    <tr>\n",
       "      <th>1</th>\n",
       "      <td>36.0</td>\n",
       "      <td>-37.816525</td>\n",
       "      <td>144.961211</td>\n",
       "      <td>0.280628</td>\n",
       "    </tr>\n",
       "    <tr>\n",
       "      <th>2</th>\n",
       "      <td>102.0</td>\n",
       "      <td>-37.814470</td>\n",
       "      <td>144.961970</td>\n",
       "      <td>0.353591</td>\n",
       "    </tr>\n",
       "  </tbody>\n",
       "</table>\n",
       "</div>"
      ],
      "text/plain": [
       "   sensor_id   latitude   longitude  distance\n",
       "0      101.0 -37.817771  144.957951  0.238902\n",
       "1       36.0 -37.816525  144.961211  0.280628\n",
       "2      102.0 -37.814470  144.961970  0.353591"
      ]
     },
     "execution_count": 97,
     "metadata": {},
     "output_type": "execute_result"
    }
   ],
   "source": [
    "# Nearest 3 sensors\n",
    "df4 = df4.sort_values('distance').iloc[0:4,:]\n",
    "df4 = df4.reset_index(drop=True)\n",
    "df4.head(3)"
   ]
  },
  {
   "cell_type": "code",
   "execution_count": 98,
   "metadata": {},
   "outputs": [],
   "source": [
    "df_nearest = df3_new[(df3_new['sensor_id'] == df4['sensor_id'][0]) |\n",
    "                 (df3_new['sensor_id'] == df4['sensor_id'][1]) |\n",
    "                 ((df3_new['sensor_id'] == df4['sensor_id'][2]))]"
   ]
  },
  {
   "cell_type": "code",
   "execution_count": 99,
   "metadata": {},
   "outputs": [],
   "source": [
    "d1 = df_nearest[df_nearest['sensor_id'] == df4['sensor_id'][0]]['hourly_counts']*(df4['distance'][0]/df4['distance'].sum())\n",
    "d2 = df_nearest[df_nearest['sensor_id'] == df4['sensor_id'][1]]['hourly_counts']*(df4['distance'][1]/df4['distance'].sum())\n",
    "d3 = df_nearest[df_nearest['sensor_id'] == df4['sensor_id'][2]]['hourly_counts']*(df4['distance'][2]/df4['distance'].sum())"
   ]
  },
  {
   "cell_type": "code",
   "execution_count": 100,
   "metadata": {
    "scrolled": true
   },
   "outputs": [],
   "source": [
    "## Change sensor\n",
    "\n",
    "sensor_h = pd.concat([pd.DataFrame(df_nearest[df_nearest['sensor_id'] == df4['sensor_id'][0]]['date_time'].reset_index(drop=True)),\n",
    "           pd.DataFrame({'hourly_counts':(d1.values+d2.values+d3.values).round()})], axis=1)"
   ]
  },
  {
   "cell_type": "code",
   "execution_count": 101,
   "metadata": {},
   "outputs": [
    {
     "data": {
      "text/html": [
       "<div>\n",
       "<style scoped>\n",
       "    .dataframe tbody tr th:only-of-type {\n",
       "        vertical-align: middle;\n",
       "    }\n",
       "\n",
       "    .dataframe tbody tr th {\n",
       "        vertical-align: top;\n",
       "    }\n",
       "\n",
       "    .dataframe thead th {\n",
       "        text-align: right;\n",
       "    }\n",
       "</style>\n",
       "<table border=\"1\" class=\"dataframe\">\n",
       "  <thead>\n",
       "    <tr style=\"text-align: right;\">\n",
       "      <th></th>\n",
       "      <th>date_time</th>\n",
       "      <th>hourly_counts</th>\n",
       "    </tr>\n",
       "  </thead>\n",
       "  <tbody>\n",
       "    <tr>\n",
       "      <th>0</th>\n",
       "      <td>17/02/2019 19:00</td>\n",
       "      <td>222.0</td>\n",
       "    </tr>\n",
       "    <tr>\n",
       "      <th>1</th>\n",
       "      <td>17/02/2019 20:00</td>\n",
       "      <td>175.0</td>\n",
       "    </tr>\n",
       "    <tr>\n",
       "      <th>2</th>\n",
       "      <td>17/02/2019 21:00</td>\n",
       "      <td>156.0</td>\n",
       "    </tr>\n",
       "    <tr>\n",
       "      <th>3</th>\n",
       "      <td>17/02/2019 22:00</td>\n",
       "      <td>99.0</td>\n",
       "    </tr>\n",
       "    <tr>\n",
       "      <th>4</th>\n",
       "      <td>17/02/2019 23:00</td>\n",
       "      <td>63.0</td>\n",
       "    </tr>\n",
       "  </tbody>\n",
       "</table>\n",
       "</div>"
      ],
      "text/plain": [
       "          date_time  hourly_counts\n",
       "0  17/02/2019 19:00          222.0\n",
       "1  17/02/2019 20:00          175.0\n",
       "2  17/02/2019 21:00          156.0\n",
       "3  17/02/2019 22:00           99.0\n",
       "4  17/02/2019 23:00           63.0"
      ]
     },
     "execution_count": 101,
     "metadata": {},
     "output_type": "execute_result"
    }
   ],
   "source": [
    "sensor_h.head(5)"
   ]
  },
  {
   "cell_type": "code",
   "execution_count": 102,
   "metadata": {
    "scrolled": true
   },
   "outputs": [
    {
     "data": {
      "text/html": [
       "<div>\n",
       "<style scoped>\n",
       "    .dataframe tbody tr th:only-of-type {\n",
       "        vertical-align: middle;\n",
       "    }\n",
       "\n",
       "    .dataframe tbody tr th {\n",
       "        vertical-align: top;\n",
       "    }\n",
       "\n",
       "    .dataframe thead th {\n",
       "        text-align: right;\n",
       "    }\n",
       "</style>\n",
       "<table border=\"1\" class=\"dataframe\">\n",
       "  <thead>\n",
       "    <tr style=\"text-align: right;\">\n",
       "      <th></th>\n",
       "      <th>date_time</th>\n",
       "      <th>hourly_counts</th>\n",
       "      <th>latitude</th>\n",
       "      <th>longitude</th>\n",
       "      <th>sensor_name</th>\n",
       "      <th>sensor_id</th>\n",
       "    </tr>\n",
       "  </thead>\n",
       "  <tbody>\n",
       "    <tr>\n",
       "      <th>0</th>\n",
       "      <td>17/02/2019 19:00</td>\n",
       "      <td>222.0</td>\n",
       "      <td>-37.81563</td>\n",
       "      <td>144.95823</td>\n",
       "      <td>Willam St - Virtual</td>\n",
       "      <td>107</td>\n",
       "    </tr>\n",
       "    <tr>\n",
       "      <th>1</th>\n",
       "      <td>17/02/2019 20:00</td>\n",
       "      <td>175.0</td>\n",
       "      <td>-37.81563</td>\n",
       "      <td>144.95823</td>\n",
       "      <td>Willam St - Virtual</td>\n",
       "      <td>107</td>\n",
       "    </tr>\n",
       "    <tr>\n",
       "      <th>2</th>\n",
       "      <td>17/02/2019 21:00</td>\n",
       "      <td>156.0</td>\n",
       "      <td>-37.81563</td>\n",
       "      <td>144.95823</td>\n",
       "      <td>Willam St - Virtual</td>\n",
       "      <td>107</td>\n",
       "    </tr>\n",
       "    <tr>\n",
       "      <th>3</th>\n",
       "      <td>17/02/2019 22:00</td>\n",
       "      <td>99.0</td>\n",
       "      <td>-37.81563</td>\n",
       "      <td>144.95823</td>\n",
       "      <td>Willam St - Virtual</td>\n",
       "      <td>107</td>\n",
       "    </tr>\n",
       "    <tr>\n",
       "      <th>4</th>\n",
       "      <td>17/02/2019 23:00</td>\n",
       "      <td>63.0</td>\n",
       "      <td>-37.81563</td>\n",
       "      <td>144.95823</td>\n",
       "      <td>Willam St - Virtual</td>\n",
       "      <td>107</td>\n",
       "    </tr>\n",
       "  </tbody>\n",
       "</table>\n",
       "</div>"
      ],
      "text/plain": [
       "          date_time  hourly_counts  latitude  longitude          sensor_name  \\\n",
       "0  17/02/2019 19:00          222.0 -37.81563  144.95823  Willam St - Virtual   \n",
       "1  17/02/2019 20:00          175.0 -37.81563  144.95823  Willam St - Virtual   \n",
       "2  17/02/2019 21:00          156.0 -37.81563  144.95823  Willam St - Virtual   \n",
       "3  17/02/2019 22:00           99.0 -37.81563  144.95823  Willam St - Virtual   \n",
       "4  17/02/2019 23:00           63.0 -37.81563  144.95823  Willam St - Virtual   \n",
       "\n",
       "   sensor_id  \n",
       "0        107  \n",
       "1        107  \n",
       "2        107  \n",
       "3        107  \n",
       "4        107  "
      ]
     },
     "execution_count": 102,
     "metadata": {},
     "output_type": "execute_result"
    }
   ],
   "source": [
    "## Change sensor\n",
    "\n",
    "sensor_h['latitude']= sensor8['Latitude'][0]\n",
    "sensor_h['longitude']= sensor8['Longitude'][0]\n",
    "sensor_h['sensor_name']= 'Willam St - Virtual'\n",
    "sensor_h['sensor_id']= 107\n",
    "sensor_h.head()"
   ]
  },
  {
   "cell_type": "markdown",
   "metadata": {},
   "source": [
    "### Append Existing DF"
   ]
  },
  {
   "cell_type": "code",
   "execution_count": 103,
   "metadata": {
    "scrolled": true
   },
   "outputs": [],
   "source": [
    "## Change sensor\n",
    "\n",
    "df3_new = df3_new.append(sensor_h, sort=False).reset_index(drop=True)"
   ]
  },
  {
   "cell_type": "code",
   "execution_count": 104,
   "metadata": {},
   "outputs": [],
   "source": [
    "## Change sensor\n",
    "\n",
    "df2 = df2.append(sensor_h.iloc[0,[2,3,5]], sort=False).reset_index(drop=True)"
   ]
  },
  {
   "cell_type": "code",
   "execution_count": null,
   "metadata": {},
   "outputs": [],
   "source": []
  },
  {
   "cell_type": "markdown",
   "metadata": {},
   "source": [
    "### <font color='blue'>Sensor I - Sea Life </font>"
   ]
  },
  {
   "cell_type": "code",
   "execution_count": 105,
   "metadata": {
    "scrolled": true
   },
   "outputs": [
    {
     "data": {
      "text/html": [
       "<div>\n",
       "<style scoped>\n",
       "    .dataframe tbody tr th:only-of-type {\n",
       "        vertical-align: middle;\n",
       "    }\n",
       "\n",
       "    .dataframe tbody tr th {\n",
       "        vertical-align: top;\n",
       "    }\n",
       "\n",
       "    .dataframe thead th {\n",
       "        text-align: right;\n",
       "    }\n",
       "</style>\n",
       "<table border=\"1\" class=\"dataframe\">\n",
       "  <thead>\n",
       "    <tr style=\"text-align: right;\">\n",
       "      <th></th>\n",
       "      <th>Latitude</th>\n",
       "      <th>Longitude</th>\n",
       "    </tr>\n",
       "  </thead>\n",
       "  <tbody>\n",
       "    <tr>\n",
       "      <th>0</th>\n",
       "      <td>-37.82038</td>\n",
       "      <td>144.95746</td>\n",
       "    </tr>\n",
       "  </tbody>\n",
       "</table>\n",
       "</div>"
      ],
      "text/plain": [
       "   Latitude  Longitude\n",
       "0 -37.82038  144.95746"
      ]
     },
     "execution_count": 105,
     "metadata": {},
     "output_type": "execute_result"
    }
   ],
   "source": [
    "sensor9 = pd.DataFrame([{'Latitude':-37.82038,'Longitude':144.95746}])\n",
    "sensor9"
   ]
  },
  {
   "cell_type": "markdown",
   "metadata": {},
   "source": [
    "### Nearest sensors"
   ]
  },
  {
   "cell_type": "code",
   "execution_count": 106,
   "metadata": {},
   "outputs": [],
   "source": [
    "# Find Sensor information and Distance\n",
    "\n",
    "## Change sensor\n",
    "df4 = pd.concat([pd.DataFrame(within(sensor9, df2, 1, 0)).reset_index(drop=True),\n",
    "           pd.DataFrame(within_d(sensor9, df2, 1, 0)).reset_index(drop=True)], axis=1)\n",
    "df4.rename(columns={0:'distance'}, inplace=True)"
   ]
  },
  {
   "cell_type": "code",
   "execution_count": 107,
   "metadata": {},
   "outputs": [
    {
     "data": {
      "text/html": [
       "<div>\n",
       "<style scoped>\n",
       "    .dataframe tbody tr th:only-of-type {\n",
       "        vertical-align: middle;\n",
       "    }\n",
       "\n",
       "    .dataframe tbody tr th {\n",
       "        vertical-align: top;\n",
       "    }\n",
       "\n",
       "    .dataframe thead th {\n",
       "        text-align: right;\n",
       "    }\n",
       "</style>\n",
       "<table border=\"1\" class=\"dataframe\">\n",
       "  <thead>\n",
       "    <tr style=\"text-align: right;\">\n",
       "      <th></th>\n",
       "      <th>sensor_id</th>\n",
       "      <th>latitude</th>\n",
       "      <th>longitude</th>\n",
       "      <th>distance</th>\n",
       "    </tr>\n",
       "  </thead>\n",
       "  <tbody>\n",
       "    <tr>\n",
       "      <th>0</th>\n",
       "      <td>101.0</td>\n",
       "      <td>-37.817771</td>\n",
       "      <td>144.957951</td>\n",
       "      <td>0.292790</td>\n",
       "    </tr>\n",
       "    <tr>\n",
       "      <th>1</th>\n",
       "      <td>23.0</td>\n",
       "      <td>-37.819093</td>\n",
       "      <td>144.954527</td>\n",
       "      <td>0.295103</td>\n",
       "    </tr>\n",
       "    <tr>\n",
       "      <th>2</th>\n",
       "      <td>24.0</td>\n",
       "      <td>-37.818880</td>\n",
       "      <td>144.954492</td>\n",
       "      <td>0.309876</td>\n",
       "    </tr>\n",
       "  </tbody>\n",
       "</table>\n",
       "</div>"
      ],
      "text/plain": [
       "   sensor_id   latitude   longitude  distance\n",
       "0      101.0 -37.817771  144.957951  0.292790\n",
       "1       23.0 -37.819093  144.954527  0.295103\n",
       "2       24.0 -37.818880  144.954492  0.309876"
      ]
     },
     "execution_count": 107,
     "metadata": {},
     "output_type": "execute_result"
    }
   ],
   "source": [
    "# Nearest 3 sensors\n",
    "df4 = df4.sort_values('distance').iloc[0:4,:]\n",
    "df4 = df4.reset_index(drop=True)\n",
    "df4.head(3)"
   ]
  },
  {
   "cell_type": "code",
   "execution_count": 108,
   "metadata": {},
   "outputs": [],
   "source": [
    "df_nearest = df3_new[(df3_new['sensor_id'] == df4['sensor_id'][0]) |\n",
    "                 (df3_new['sensor_id'] == df4['sensor_id'][1]) |\n",
    "                 ((df3_new['sensor_id'] == df4['sensor_id'][2]))]"
   ]
  },
  {
   "cell_type": "code",
   "execution_count": 109,
   "metadata": {},
   "outputs": [],
   "source": [
    "d1 = df_nearest[df_nearest['sensor_id'] == df4['sensor_id'][0]]['hourly_counts']*(df4['distance'][0]/df4['distance'].sum())\n",
    "d2 = df_nearest[df_nearest['sensor_id'] == df4['sensor_id'][1]]['hourly_counts']*(df4['distance'][1]/df4['distance'].sum())\n",
    "d3 = df_nearest[df_nearest['sensor_id'] == df4['sensor_id'][2]]['hourly_counts']*(df4['distance'][2]/df4['distance'].sum())"
   ]
  },
  {
   "cell_type": "code",
   "execution_count": 110,
   "metadata": {
    "scrolled": true
   },
   "outputs": [
    {
     "data": {
      "text/html": [
       "<div>\n",
       "<style scoped>\n",
       "    .dataframe tbody tr th:only-of-type {\n",
       "        vertical-align: middle;\n",
       "    }\n",
       "\n",
       "    .dataframe tbody tr th {\n",
       "        vertical-align: top;\n",
       "    }\n",
       "\n",
       "    .dataframe thead th {\n",
       "        text-align: right;\n",
       "    }\n",
       "</style>\n",
       "<table border=\"1\" class=\"dataframe\">\n",
       "  <thead>\n",
       "    <tr style=\"text-align: right;\">\n",
       "      <th></th>\n",
       "      <th>date_time</th>\n",
       "      <th>hourly_counts</th>\n",
       "    </tr>\n",
       "  </thead>\n",
       "  <tbody>\n",
       "    <tr>\n",
       "      <th>0</th>\n",
       "      <td>17/02/2019 19:00</td>\n",
       "      <td>378.0</td>\n",
       "    </tr>\n",
       "    <tr>\n",
       "      <th>1</th>\n",
       "      <td>17/02/2019 20:00</td>\n",
       "      <td>291.0</td>\n",
       "    </tr>\n",
       "    <tr>\n",
       "      <th>2</th>\n",
       "      <td>17/02/2019 21:00</td>\n",
       "      <td>254.0</td>\n",
       "    </tr>\n",
       "    <tr>\n",
       "      <th>3</th>\n",
       "      <td>17/02/2019 22:00</td>\n",
       "      <td>161.0</td>\n",
       "    </tr>\n",
       "    <tr>\n",
       "      <th>4</th>\n",
       "      <td>17/02/2019 23:00</td>\n",
       "      <td>111.0</td>\n",
       "    </tr>\n",
       "  </tbody>\n",
       "</table>\n",
       "</div>"
      ],
      "text/plain": [
       "          date_time  hourly_counts\n",
       "0  17/02/2019 19:00          378.0\n",
       "1  17/02/2019 20:00          291.0\n",
       "2  17/02/2019 21:00          254.0\n",
       "3  17/02/2019 22:00          161.0\n",
       "4  17/02/2019 23:00          111.0"
      ]
     },
     "execution_count": 110,
     "metadata": {},
     "output_type": "execute_result"
    }
   ],
   "source": [
    "## Change sensor\n",
    "\n",
    "sensor_i = pd.concat([pd.DataFrame(df_nearest[df_nearest['sensor_id'] == df4['sensor_id'][0]]['date_time'].reset_index(drop=True)),\n",
    "           pd.DataFrame({'hourly_counts':(d1.values+d2.values+d3.values).round()})], axis=1)\n",
    "\n",
    "sensor_i.head(5)"
   ]
  },
  {
   "cell_type": "code",
   "execution_count": 111,
   "metadata": {
    "scrolled": true
   },
   "outputs": [
    {
     "data": {
      "text/html": [
       "<div>\n",
       "<style scoped>\n",
       "    .dataframe tbody tr th:only-of-type {\n",
       "        vertical-align: middle;\n",
       "    }\n",
       "\n",
       "    .dataframe tbody tr th {\n",
       "        vertical-align: top;\n",
       "    }\n",
       "\n",
       "    .dataframe thead th {\n",
       "        text-align: right;\n",
       "    }\n",
       "</style>\n",
       "<table border=\"1\" class=\"dataframe\">\n",
       "  <thead>\n",
       "    <tr style=\"text-align: right;\">\n",
       "      <th></th>\n",
       "      <th>date_time</th>\n",
       "      <th>hourly_counts</th>\n",
       "      <th>latitude</th>\n",
       "      <th>longitude</th>\n",
       "      <th>sensor_name</th>\n",
       "      <th>sensor_id</th>\n",
       "    </tr>\n",
       "  </thead>\n",
       "  <tbody>\n",
       "    <tr>\n",
       "      <th>0</th>\n",
       "      <td>17/02/2019 19:00</td>\n",
       "      <td>378.0</td>\n",
       "      <td>-37.82038</td>\n",
       "      <td>144.95746</td>\n",
       "      <td>Sea Life - Virtual</td>\n",
       "      <td>108</td>\n",
       "    </tr>\n",
       "    <tr>\n",
       "      <th>1</th>\n",
       "      <td>17/02/2019 20:00</td>\n",
       "      <td>291.0</td>\n",
       "      <td>-37.82038</td>\n",
       "      <td>144.95746</td>\n",
       "      <td>Sea Life - Virtual</td>\n",
       "      <td>108</td>\n",
       "    </tr>\n",
       "    <tr>\n",
       "      <th>2</th>\n",
       "      <td>17/02/2019 21:00</td>\n",
       "      <td>254.0</td>\n",
       "      <td>-37.82038</td>\n",
       "      <td>144.95746</td>\n",
       "      <td>Sea Life - Virtual</td>\n",
       "      <td>108</td>\n",
       "    </tr>\n",
       "    <tr>\n",
       "      <th>3</th>\n",
       "      <td>17/02/2019 22:00</td>\n",
       "      <td>161.0</td>\n",
       "      <td>-37.82038</td>\n",
       "      <td>144.95746</td>\n",
       "      <td>Sea Life - Virtual</td>\n",
       "      <td>108</td>\n",
       "    </tr>\n",
       "    <tr>\n",
       "      <th>4</th>\n",
       "      <td>17/02/2019 23:00</td>\n",
       "      <td>111.0</td>\n",
       "      <td>-37.82038</td>\n",
       "      <td>144.95746</td>\n",
       "      <td>Sea Life - Virtual</td>\n",
       "      <td>108</td>\n",
       "    </tr>\n",
       "  </tbody>\n",
       "</table>\n",
       "</div>"
      ],
      "text/plain": [
       "          date_time  hourly_counts  latitude  longitude         sensor_name  \\\n",
       "0  17/02/2019 19:00          378.0 -37.82038  144.95746  Sea Life - Virtual   \n",
       "1  17/02/2019 20:00          291.0 -37.82038  144.95746  Sea Life - Virtual   \n",
       "2  17/02/2019 21:00          254.0 -37.82038  144.95746  Sea Life - Virtual   \n",
       "3  17/02/2019 22:00          161.0 -37.82038  144.95746  Sea Life - Virtual   \n",
       "4  17/02/2019 23:00          111.0 -37.82038  144.95746  Sea Life - Virtual   \n",
       "\n",
       "   sensor_id  \n",
       "0        108  \n",
       "1        108  \n",
       "2        108  \n",
       "3        108  \n",
       "4        108  "
      ]
     },
     "execution_count": 111,
     "metadata": {},
     "output_type": "execute_result"
    }
   ],
   "source": [
    "## Change sensor\n",
    "\n",
    "sensor_i['latitude']= sensor9['Latitude'][0]\n",
    "sensor_i['longitude']= sensor9['Longitude'][0]\n",
    "sensor_i['sensor_name']= 'Sea Life - Virtual'\n",
    "sensor_i['sensor_id']= 108\n",
    "sensor_i.head()"
   ]
  },
  {
   "cell_type": "markdown",
   "metadata": {},
   "source": [
    "### Append Existing DF"
   ]
  },
  {
   "cell_type": "code",
   "execution_count": 112,
   "metadata": {
    "scrolled": true
   },
   "outputs": [],
   "source": [
    "## Change sensor\n",
    "\n",
    "df3_new = df3_new.append(sensor_i, sort=False).reset_index(drop=True)"
   ]
  },
  {
   "cell_type": "code",
   "execution_count": 113,
   "metadata": {},
   "outputs": [],
   "source": [
    "## Change sensor\n",
    "\n",
    "df2 = df2.append(sensor_i.iloc[0,[2,3,5]], sort=False).reset_index(drop=True)"
   ]
  },
  {
   "cell_type": "code",
   "execution_count": null,
   "metadata": {},
   "outputs": [],
   "source": []
  },
  {
   "cell_type": "markdown",
   "metadata": {},
   "source": [
    "### <font color='blue'>Sensor J - Immigration Museum </font>"
   ]
  },
  {
   "cell_type": "code",
   "execution_count": 114,
   "metadata": {
    "scrolled": true
   },
   "outputs": [
    {
     "data": {
      "text/html": [
       "<div>\n",
       "<style scoped>\n",
       "    .dataframe tbody tr th:only-of-type {\n",
       "        vertical-align: middle;\n",
       "    }\n",
       "\n",
       "    .dataframe tbody tr th {\n",
       "        vertical-align: top;\n",
       "    }\n",
       "\n",
       "    .dataframe thead th {\n",
       "        text-align: right;\n",
       "    }\n",
       "</style>\n",
       "<table border=\"1\" class=\"dataframe\">\n",
       "  <thead>\n",
       "    <tr style=\"text-align: right;\">\n",
       "      <th></th>\n",
       "      <th>Latitude</th>\n",
       "      <th>Longitude</th>\n",
       "    </tr>\n",
       "  </thead>\n",
       "  <tbody>\n",
       "    <tr>\n",
       "      <th>0</th>\n",
       "      <td>-37.81934</td>\n",
       "      <td>144.96075</td>\n",
       "    </tr>\n",
       "  </tbody>\n",
       "</table>\n",
       "</div>"
      ],
      "text/plain": [
       "   Latitude  Longitude\n",
       "0 -37.81934  144.96075"
      ]
     },
     "execution_count": 114,
     "metadata": {},
     "output_type": "execute_result"
    }
   ],
   "source": [
    "sensor10 = pd.DataFrame([{'Latitude':-37.81934,'Longitude':144.96075}])\n",
    "sensor10"
   ]
  },
  {
   "cell_type": "markdown",
   "metadata": {},
   "source": [
    "### Nearest sensors"
   ]
  },
  {
   "cell_type": "code",
   "execution_count": 129,
   "metadata": {},
   "outputs": [],
   "source": [
    "# Find Sensor information and Distance\n",
    "\n",
    "## Change sensor\n",
    "df4 = pd.concat([pd.DataFrame(within(sensor10, df2, 1, 0)).reset_index(drop=True),\n",
    "           pd.DataFrame(within_d(sensor10, df2, 1, 0)).reset_index(drop=True)], axis=1)\n",
    "df4.rename(columns={0:'distance'}, inplace=True)"
   ]
  },
  {
   "cell_type": "code",
   "execution_count": 132,
   "metadata": {},
   "outputs": [
    {
     "data": {
      "text/html": [
       "<div>\n",
       "<style scoped>\n",
       "    .dataframe tbody tr th:only-of-type {\n",
       "        vertical-align: middle;\n",
       "    }\n",
       "\n",
       "    .dataframe tbody tr th {\n",
       "        vertical-align: top;\n",
       "    }\n",
       "\n",
       "    .dataframe thead th {\n",
       "        text-align: right;\n",
       "    }\n",
       "</style>\n",
       "<table border=\"1\" class=\"dataframe\">\n",
       "  <thead>\n",
       "    <tr style=\"text-align: right;\">\n",
       "      <th></th>\n",
       "      <th>sensor_id</th>\n",
       "      <th>latitude</th>\n",
       "      <th>longitude</th>\n",
       "      <th>distance</th>\n",
       "    </tr>\n",
       "  </thead>\n",
       "  <tbody>\n",
       "    <tr>\n",
       "      <th>0</th>\n",
       "      <td>101.0</td>\n",
       "      <td>-37.817771</td>\n",
       "      <td>144.957951</td>\n",
       "      <td>0.301768</td>\n",
       "    </tr>\n",
       "    <tr>\n",
       "      <th>1</th>\n",
       "      <td>108.0</td>\n",
       "      <td>-37.820380</td>\n",
       "      <td>144.957460</td>\n",
       "      <td>0.311827</td>\n",
       "    </tr>\n",
       "    <tr>\n",
       "      <th>2</th>\n",
       "      <td>36.0</td>\n",
       "      <td>-37.816525</td>\n",
       "      <td>144.961211</td>\n",
       "      <td>0.315037</td>\n",
       "    </tr>\n",
       "  </tbody>\n",
       "</table>\n",
       "</div>"
      ],
      "text/plain": [
       "   sensor_id   latitude   longitude  distance\n",
       "0      101.0 -37.817771  144.957951  0.301768\n",
       "1      108.0 -37.820380  144.957460  0.311827\n",
       "2       36.0 -37.816525  144.961211  0.315037"
      ]
     },
     "execution_count": 132,
     "metadata": {},
     "output_type": "execute_result"
    }
   ],
   "source": [
    "# Nearest 3 sensors\n",
    "df4 = df4.sort_values('distance').iloc[1:4,:]\n",
    "df4 = df4.reset_index(drop=True)\n",
    "df4.head(4)"
   ]
  },
  {
   "cell_type": "code",
   "execution_count": 133,
   "metadata": {},
   "outputs": [],
   "source": [
    "df_nearest = df3_new[(df3_new['sensor_id'] == df4['sensor_id'][0]) |\n",
    "                 (df3_new['sensor_id'] == df4['sensor_id'][1]) |\n",
    "                 ((df3_new['sensor_id'] == df4['sensor_id'][2]))]"
   ]
  },
  {
   "cell_type": "code",
   "execution_count": 134,
   "metadata": {},
   "outputs": [],
   "source": [
    "d1 = df_nearest[df_nearest['sensor_id'] == df4['sensor_id'][0]]['hourly_counts']*(df4['distance'][0]/df4['distance'].sum())\n",
    "d2 = df_nearest[df_nearest['sensor_id'] == df4['sensor_id'][1]]['hourly_counts']*(df4['distance'][1]/df4['distance'].sum())\n",
    "d3 = df_nearest[df_nearest['sensor_id'] == df4['sensor_id'][2]]['hourly_counts']*(df4['distance'][2]/df4['distance'].sum())"
   ]
  },
  {
   "cell_type": "code",
   "execution_count": 135,
   "metadata": {
    "scrolled": true
   },
   "outputs": [
    {
     "data": {
      "text/html": [
       "<div>\n",
       "<style scoped>\n",
       "    .dataframe tbody tr th:only-of-type {\n",
       "        vertical-align: middle;\n",
       "    }\n",
       "\n",
       "    .dataframe tbody tr th {\n",
       "        vertical-align: top;\n",
       "    }\n",
       "\n",
       "    .dataframe thead th {\n",
       "        text-align: right;\n",
       "    }\n",
       "</style>\n",
       "<table border=\"1\" class=\"dataframe\">\n",
       "  <thead>\n",
       "    <tr style=\"text-align: right;\">\n",
       "      <th></th>\n",
       "      <th>date_time</th>\n",
       "      <th>hourly_counts</th>\n",
       "    </tr>\n",
       "  </thead>\n",
       "  <tbody>\n",
       "    <tr>\n",
       "      <th>0</th>\n",
       "      <td>17/02/2019 19:00</td>\n",
       "      <td>335.0</td>\n",
       "    </tr>\n",
       "    <tr>\n",
       "      <th>1</th>\n",
       "      <td>17/02/2019 20:00</td>\n",
       "      <td>256.0</td>\n",
       "    </tr>\n",
       "    <tr>\n",
       "      <th>2</th>\n",
       "      <td>17/02/2019 21:00</td>\n",
       "      <td>237.0</td>\n",
       "    </tr>\n",
       "    <tr>\n",
       "      <th>3</th>\n",
       "      <td>17/02/2019 22:00</td>\n",
       "      <td>148.0</td>\n",
       "    </tr>\n",
       "    <tr>\n",
       "      <th>4</th>\n",
       "      <td>17/02/2019 23:00</td>\n",
       "      <td>93.0</td>\n",
       "    </tr>\n",
       "  </tbody>\n",
       "</table>\n",
       "</div>"
      ],
      "text/plain": [
       "          date_time  hourly_counts\n",
       "0  17/02/2019 19:00          335.0\n",
       "1  17/02/2019 20:00          256.0\n",
       "2  17/02/2019 21:00          237.0\n",
       "3  17/02/2019 22:00          148.0\n",
       "4  17/02/2019 23:00           93.0"
      ]
     },
     "execution_count": 135,
     "metadata": {},
     "output_type": "execute_result"
    }
   ],
   "source": [
    "## Change sensor\n",
    "\n",
    "sensor_j = pd.concat([pd.DataFrame(df_nearest[df_nearest['sensor_id'] == df4['sensor_id'][0]]['date_time'].reset_index(drop=True)),\n",
    "           pd.DataFrame({'hourly_counts':(d1.values+d2.values+d3.values).round()})], axis=1)\n",
    "\n",
    "sensor_j.head(5)"
   ]
  },
  {
   "cell_type": "code",
   "execution_count": 136,
   "metadata": {
    "scrolled": true
   },
   "outputs": [
    {
     "data": {
      "text/html": [
       "<div>\n",
       "<style scoped>\n",
       "    .dataframe tbody tr th:only-of-type {\n",
       "        vertical-align: middle;\n",
       "    }\n",
       "\n",
       "    .dataframe tbody tr th {\n",
       "        vertical-align: top;\n",
       "    }\n",
       "\n",
       "    .dataframe thead th {\n",
       "        text-align: right;\n",
       "    }\n",
       "</style>\n",
       "<table border=\"1\" class=\"dataframe\">\n",
       "  <thead>\n",
       "    <tr style=\"text-align: right;\">\n",
       "      <th></th>\n",
       "      <th>date_time</th>\n",
       "      <th>hourly_counts</th>\n",
       "      <th>latitude</th>\n",
       "      <th>longitude</th>\n",
       "      <th>sensor_name</th>\n",
       "      <th>sensor_id</th>\n",
       "    </tr>\n",
       "  </thead>\n",
       "  <tbody>\n",
       "    <tr>\n",
       "      <th>0</th>\n",
       "      <td>17/02/2019 19:00</td>\n",
       "      <td>335.0</td>\n",
       "      <td>-37.81934</td>\n",
       "      <td>144.96075</td>\n",
       "      <td>Immigration Museum - Virtual</td>\n",
       "      <td>109</td>\n",
       "    </tr>\n",
       "    <tr>\n",
       "      <th>1</th>\n",
       "      <td>17/02/2019 20:00</td>\n",
       "      <td>256.0</td>\n",
       "      <td>-37.81934</td>\n",
       "      <td>144.96075</td>\n",
       "      <td>Immigration Museum - Virtual</td>\n",
       "      <td>109</td>\n",
       "    </tr>\n",
       "    <tr>\n",
       "      <th>2</th>\n",
       "      <td>17/02/2019 21:00</td>\n",
       "      <td>237.0</td>\n",
       "      <td>-37.81934</td>\n",
       "      <td>144.96075</td>\n",
       "      <td>Immigration Museum - Virtual</td>\n",
       "      <td>109</td>\n",
       "    </tr>\n",
       "    <tr>\n",
       "      <th>3</th>\n",
       "      <td>17/02/2019 22:00</td>\n",
       "      <td>148.0</td>\n",
       "      <td>-37.81934</td>\n",
       "      <td>144.96075</td>\n",
       "      <td>Immigration Museum - Virtual</td>\n",
       "      <td>109</td>\n",
       "    </tr>\n",
       "    <tr>\n",
       "      <th>4</th>\n",
       "      <td>17/02/2019 23:00</td>\n",
       "      <td>93.0</td>\n",
       "      <td>-37.81934</td>\n",
       "      <td>144.96075</td>\n",
       "      <td>Immigration Museum - Virtual</td>\n",
       "      <td>109</td>\n",
       "    </tr>\n",
       "  </tbody>\n",
       "</table>\n",
       "</div>"
      ],
      "text/plain": [
       "          date_time  hourly_counts  latitude  longitude  \\\n",
       "0  17/02/2019 19:00          335.0 -37.81934  144.96075   \n",
       "1  17/02/2019 20:00          256.0 -37.81934  144.96075   \n",
       "2  17/02/2019 21:00          237.0 -37.81934  144.96075   \n",
       "3  17/02/2019 22:00          148.0 -37.81934  144.96075   \n",
       "4  17/02/2019 23:00           93.0 -37.81934  144.96075   \n",
       "\n",
       "                    sensor_name  sensor_id  \n",
       "0  Immigration Museum - Virtual        109  \n",
       "1  Immigration Museum - Virtual        109  \n",
       "2  Immigration Museum - Virtual        109  \n",
       "3  Immigration Museum - Virtual        109  \n",
       "4  Immigration Museum - Virtual        109  "
      ]
     },
     "execution_count": 136,
     "metadata": {},
     "output_type": "execute_result"
    }
   ],
   "source": [
    "## Change sensor\n",
    "\n",
    "sensor_j['latitude']= sensor10['Latitude'][0]\n",
    "sensor_j['longitude']= sensor10['Longitude'][0]\n",
    "sensor_j['sensor_name']= 'Immigration Museum - Virtual'\n",
    "sensor_j['sensor_id']= 109\n",
    "sensor_j.head()"
   ]
  },
  {
   "cell_type": "markdown",
   "metadata": {},
   "source": [
    "### Append Existing DF"
   ]
  },
  {
   "cell_type": "code",
   "execution_count": 137,
   "metadata": {
    "scrolled": true
   },
   "outputs": [],
   "source": [
    "## Change sensor\n",
    "\n",
    "df3_new = df3_new.append(sensor_j, sort=False).reset_index(drop=True)"
   ]
  },
  {
   "cell_type": "code",
   "execution_count": 138,
   "metadata": {},
   "outputs": [],
   "source": [
    "## Change sensor\n",
    "\n",
    "df2 = df2.append(sensor_j.iloc[0,[2,3,5]], sort=False).reset_index(drop=True)"
   ]
  },
  {
   "cell_type": "code",
   "execution_count": null,
   "metadata": {},
   "outputs": [],
   "source": []
  },
  {
   "cell_type": "code",
   "execution_count": null,
   "metadata": {},
   "outputs": [],
   "source": []
  },
  {
   "cell_type": "markdown",
   "metadata": {},
   "source": [
    "### <font color='blue'>Sensor K - RMIT </font>"
   ]
  },
  {
   "cell_type": "code",
   "execution_count": 139,
   "metadata": {
    "scrolled": true
   },
   "outputs": [
    {
     "data": {
      "text/html": [
       "<div>\n",
       "<style scoped>\n",
       "    .dataframe tbody tr th:only-of-type {\n",
       "        vertical-align: middle;\n",
       "    }\n",
       "\n",
       "    .dataframe tbody tr th {\n",
       "        vertical-align: top;\n",
       "    }\n",
       "\n",
       "    .dataframe thead th {\n",
       "        text-align: right;\n",
       "    }\n",
       "</style>\n",
       "<table border=\"1\" class=\"dataframe\">\n",
       "  <thead>\n",
       "    <tr style=\"text-align: right;\">\n",
       "      <th></th>\n",
       "      <th>Latitude</th>\n",
       "      <th>Longitude</th>\n",
       "    </tr>\n",
       "  </thead>\n",
       "  <tbody>\n",
       "    <tr>\n",
       "      <th>0</th>\n",
       "      <td>-37.80892</td>\n",
       "      <td>144.96634</td>\n",
       "    </tr>\n",
       "  </tbody>\n",
       "</table>\n",
       "</div>"
      ],
      "text/plain": [
       "   Latitude  Longitude\n",
       "0 -37.80892  144.96634"
      ]
     },
     "execution_count": 139,
     "metadata": {},
     "output_type": "execute_result"
    }
   ],
   "source": [
    "sensor11 = pd.DataFrame([{'Latitude':-37.80892,'Longitude':144.96634}])\n",
    "sensor11"
   ]
  },
  {
   "cell_type": "markdown",
   "metadata": {},
   "source": [
    "### Nearest sensors"
   ]
  },
  {
   "cell_type": "code",
   "execution_count": 153,
   "metadata": {},
   "outputs": [],
   "source": [
    "# Find Sensor information and Distance\n",
    "\n",
    "## Change sensor\n",
    "df4 = pd.concat([pd.DataFrame(within(sensor11, df2, 1, 0)).reset_index(drop=True),\n",
    "           pd.DataFrame(within_d(sensor11, df2, 1, 0)).reset_index(drop=True)], axis=1)\n",
    "df4.rename(columns={0:'distance'}, inplace=True)"
   ]
  },
  {
   "cell_type": "code",
   "execution_count": 154,
   "metadata": {},
   "outputs": [
    {
     "data": {
      "text/html": [
       "<div>\n",
       "<style scoped>\n",
       "    .dataframe tbody tr th:only-of-type {\n",
       "        vertical-align: middle;\n",
       "    }\n",
       "\n",
       "    .dataframe tbody tr th {\n",
       "        vertical-align: top;\n",
       "    }\n",
       "\n",
       "    .dataframe thead th {\n",
       "        text-align: right;\n",
       "    }\n",
       "</style>\n",
       "<table border=\"1\" class=\"dataframe\">\n",
       "  <thead>\n",
       "    <tr style=\"text-align: right;\">\n",
       "      <th></th>\n",
       "      <th>sensor_id</th>\n",
       "      <th>latitude</th>\n",
       "      <th>longitude</th>\n",
       "      <th>distance</th>\n",
       "    </tr>\n",
       "  </thead>\n",
       "  <tbody>\n",
       "    <tr>\n",
       "      <th>0</th>\n",
       "      <td>105.0</td>\n",
       "      <td>-37.808234</td>\n",
       "      <td>144.968757</td>\n",
       "      <td>0.226051</td>\n",
       "    </tr>\n",
       "    <tr>\n",
       "      <th>1</th>\n",
       "      <td>59.0</td>\n",
       "      <td>-37.808256</td>\n",
       "      <td>144.963049</td>\n",
       "      <td>0.299052</td>\n",
       "    </tr>\n",
       "    <tr>\n",
       "      <th>2</th>\n",
       "      <td>20.0</td>\n",
       "      <td>-37.811729</td>\n",
       "      <td>144.968247</td>\n",
       "      <td>0.354123</td>\n",
       "    </tr>\n",
       "  </tbody>\n",
       "</table>\n",
       "</div>"
      ],
      "text/plain": [
       "   sensor_id   latitude   longitude  distance\n",
       "0      105.0 -37.808234  144.968757  0.226051\n",
       "1       59.0 -37.808256  144.963049  0.299052\n",
       "2       20.0 -37.811729  144.968247  0.354123"
      ]
     },
     "execution_count": 154,
     "metadata": {},
     "output_type": "execute_result"
    }
   ],
   "source": [
    "# Nearest 3 sensors\n",
    "df4 = df4.sort_values('distance').iloc[[0,3,4],:]\n",
    "df4 = df4.reset_index(drop=True)\n",
    "df4.head(3)"
   ]
  },
  {
   "cell_type": "code",
   "execution_count": 155,
   "metadata": {},
   "outputs": [],
   "source": [
    "df_nearest = df3_new[(df3_new['sensor_id'] == df4['sensor_id'][0]) |\n",
    "                 (df3_new['sensor_id'] == df4['sensor_id'][1]) |\n",
    "                 ((df3_new['sensor_id'] == df4['sensor_id'][2]))]"
   ]
  },
  {
   "cell_type": "code",
   "execution_count": 156,
   "metadata": {},
   "outputs": [],
   "source": [
    "d1 = df_nearest[df_nearest['sensor_id'] == df4['sensor_id'][0]]['hourly_counts']*(df4['distance'][0]/df4['distance'].sum())\n",
    "d2 = df_nearest[df_nearest['sensor_id'] == df4['sensor_id'][1]]['hourly_counts']*(df4['distance'][1]/df4['distance'].sum())\n",
    "d3 = df_nearest[df_nearest['sensor_id'] == df4['sensor_id'][2]]['hourly_counts']*(df4['distance'][2]/df4['distance'].sum())"
   ]
  },
  {
   "cell_type": "code",
   "execution_count": 158,
   "metadata": {
    "scrolled": false
   },
   "outputs": [
    {
     "data": {
      "text/html": [
       "<div>\n",
       "<style scoped>\n",
       "    .dataframe tbody tr th:only-of-type {\n",
       "        vertical-align: middle;\n",
       "    }\n",
       "\n",
       "    .dataframe tbody tr th {\n",
       "        vertical-align: top;\n",
       "    }\n",
       "\n",
       "    .dataframe thead th {\n",
       "        text-align: right;\n",
       "    }\n",
       "</style>\n",
       "<table border=\"1\" class=\"dataframe\">\n",
       "  <thead>\n",
       "    <tr style=\"text-align: right;\">\n",
       "      <th></th>\n",
       "      <th>date_time</th>\n",
       "      <th>hourly_counts</th>\n",
       "    </tr>\n",
       "  </thead>\n",
       "  <tbody>\n",
       "    <tr>\n",
       "      <th>0</th>\n",
       "      <td>17/02/2019 19:00</td>\n",
       "      <td>707.0</td>\n",
       "    </tr>\n",
       "    <tr>\n",
       "      <th>1</th>\n",
       "      <td>17/02/2019 20:00</td>\n",
       "      <td>546.0</td>\n",
       "    </tr>\n",
       "    <tr>\n",
       "      <th>2</th>\n",
       "      <td>17/02/2019 21:00</td>\n",
       "      <td>457.0</td>\n",
       "    </tr>\n",
       "    <tr>\n",
       "      <th>3</th>\n",
       "      <td>17/02/2019 22:00</td>\n",
       "      <td>305.0</td>\n",
       "    </tr>\n",
       "    <tr>\n",
       "      <th>4</th>\n",
       "      <td>17/02/2019 23:00</td>\n",
       "      <td>158.0</td>\n",
       "    </tr>\n",
       "  </tbody>\n",
       "</table>\n",
       "</div>"
      ],
      "text/plain": [
       "          date_time  hourly_counts\n",
       "0  17/02/2019 19:00          707.0\n",
       "1  17/02/2019 20:00          546.0\n",
       "2  17/02/2019 21:00          457.0\n",
       "3  17/02/2019 22:00          305.0\n",
       "4  17/02/2019 23:00          158.0"
      ]
     },
     "execution_count": 158,
     "metadata": {},
     "output_type": "execute_result"
    }
   ],
   "source": [
    "## Change sensor\n",
    "sensor_k = pd.concat([pd.DataFrame(df_nearest[df_nearest['sensor_id'] == df4['sensor_id'][0]]['date_time'].reset_index(drop=True)),\n",
    "           pd.DataFrame({'hourly_counts':(d1.values+d2.values+d3.values).round()})], axis=1)\n",
    "\n",
    "sensor_k.head(5)"
   ]
  },
  {
   "cell_type": "code",
   "execution_count": 159,
   "metadata": {
    "scrolled": true
   },
   "outputs": [
    {
     "data": {
      "text/html": [
       "<div>\n",
       "<style scoped>\n",
       "    .dataframe tbody tr th:only-of-type {\n",
       "        vertical-align: middle;\n",
       "    }\n",
       "\n",
       "    .dataframe tbody tr th {\n",
       "        vertical-align: top;\n",
       "    }\n",
       "\n",
       "    .dataframe thead th {\n",
       "        text-align: right;\n",
       "    }\n",
       "</style>\n",
       "<table border=\"1\" class=\"dataframe\">\n",
       "  <thead>\n",
       "    <tr style=\"text-align: right;\">\n",
       "      <th></th>\n",
       "      <th>date_time</th>\n",
       "      <th>hourly_counts</th>\n",
       "      <th>latitude</th>\n",
       "      <th>longitude</th>\n",
       "      <th>sensor_name</th>\n",
       "      <th>sensor_id</th>\n",
       "    </tr>\n",
       "  </thead>\n",
       "  <tbody>\n",
       "    <tr>\n",
       "      <th>0</th>\n",
       "      <td>17/02/2019 19:00</td>\n",
       "      <td>707.0</td>\n",
       "      <td>-37.80892</td>\n",
       "      <td>144.96634</td>\n",
       "      <td>RMIT - Virtual</td>\n",
       "      <td>110</td>\n",
       "    </tr>\n",
       "    <tr>\n",
       "      <th>1</th>\n",
       "      <td>17/02/2019 20:00</td>\n",
       "      <td>546.0</td>\n",
       "      <td>-37.80892</td>\n",
       "      <td>144.96634</td>\n",
       "      <td>RMIT - Virtual</td>\n",
       "      <td>110</td>\n",
       "    </tr>\n",
       "    <tr>\n",
       "      <th>2</th>\n",
       "      <td>17/02/2019 21:00</td>\n",
       "      <td>457.0</td>\n",
       "      <td>-37.80892</td>\n",
       "      <td>144.96634</td>\n",
       "      <td>RMIT - Virtual</td>\n",
       "      <td>110</td>\n",
       "    </tr>\n",
       "    <tr>\n",
       "      <th>3</th>\n",
       "      <td>17/02/2019 22:00</td>\n",
       "      <td>305.0</td>\n",
       "      <td>-37.80892</td>\n",
       "      <td>144.96634</td>\n",
       "      <td>RMIT - Virtual</td>\n",
       "      <td>110</td>\n",
       "    </tr>\n",
       "    <tr>\n",
       "      <th>4</th>\n",
       "      <td>17/02/2019 23:00</td>\n",
       "      <td>158.0</td>\n",
       "      <td>-37.80892</td>\n",
       "      <td>144.96634</td>\n",
       "      <td>RMIT - Virtual</td>\n",
       "      <td>110</td>\n",
       "    </tr>\n",
       "  </tbody>\n",
       "</table>\n",
       "</div>"
      ],
      "text/plain": [
       "          date_time  hourly_counts  latitude  longitude     sensor_name  \\\n",
       "0  17/02/2019 19:00          707.0 -37.80892  144.96634  RMIT - Virtual   \n",
       "1  17/02/2019 20:00          546.0 -37.80892  144.96634  RMIT - Virtual   \n",
       "2  17/02/2019 21:00          457.0 -37.80892  144.96634  RMIT - Virtual   \n",
       "3  17/02/2019 22:00          305.0 -37.80892  144.96634  RMIT - Virtual   \n",
       "4  17/02/2019 23:00          158.0 -37.80892  144.96634  RMIT - Virtual   \n",
       "\n",
       "   sensor_id  \n",
       "0        110  \n",
       "1        110  \n",
       "2        110  \n",
       "3        110  \n",
       "4        110  "
      ]
     },
     "execution_count": 159,
     "metadata": {},
     "output_type": "execute_result"
    }
   ],
   "source": [
    "## Change sensor\n",
    "\n",
    "sensor_k['latitude']= sensor11['Latitude'][0]\n",
    "sensor_k['longitude']= sensor11['Longitude'][0]\n",
    "sensor_k['sensor_name']= 'RMIT - Virtual'\n",
    "sensor_k['sensor_id']= 110\n",
    "sensor_k.head()"
   ]
  },
  {
   "cell_type": "markdown",
   "metadata": {},
   "source": [
    "### Append Existing DF"
   ]
  },
  {
   "cell_type": "code",
   "execution_count": 160,
   "metadata": {
    "scrolled": true
   },
   "outputs": [],
   "source": [
    "## Change sensor\n",
    "\n",
    "df3_new = df3_new.append(sensor_k, sort=False).reset_index(drop=True)"
   ]
  },
  {
   "cell_type": "code",
   "execution_count": 161,
   "metadata": {},
   "outputs": [],
   "source": [
    "## Change sensor\n",
    "\n",
    "df2 = df2.append(sensor_k.iloc[0,[2,3,5]], sort=False).reset_index(drop=True)"
   ]
  },
  {
   "cell_type": "code",
   "execution_count": null,
   "metadata": {},
   "outputs": [],
   "source": []
  },
  {
   "cell_type": "markdown",
   "metadata": {},
   "source": [
    "## Save"
   ]
  },
  {
   "cell_type": "code",
   "execution_count": 162,
   "metadata": {},
   "outputs": [],
   "source": [
    "df2.to_csv('df2.csv')"
   ]
  },
  {
   "cell_type": "code",
   "execution_count": 164,
   "metadata": {},
   "outputs": [],
   "source": [
    "df3_new.to_csv('pedestrian_temp.csv', index=False)"
   ]
  },
  {
   "cell_type": "markdown",
   "metadata": {},
   "source": [
    "# <font color='red'> For Each Gallery </font>"
   ]
  },
  {
   "cell_type": "code",
   "execution_count": 20,
   "metadata": {},
   "outputs": [],
   "source": [
    "## Change sensor\n",
    "df4 = pd.concat([pd.DataFrame(within(sensor11, df2, 1, 0)).reset_index(drop=True),\n",
    "           pd.DataFrame(within_d(sensor11, df2, 1, 0)).reset_index(drop=True)], axis=1)\n",
    "df4.rename(columns={0:'distance'}, inplace=True)"
   ]
  },
  {
   "cell_type": "code",
   "execution_count": 5,
   "metadata": {},
   "outputs": [],
   "source": [
    "from datetime import date\n",
    "import calendar# Find Sensor information and Distance"
   ]
  },
  {
   "cell_type": "code",
   "execution_count": 6,
   "metadata": {},
   "outputs": [],
   "source": [
    "df = pd.read_csv(\"pedestrian_temp.csv\")\n",
    "gallery = pd.read_csv(\"../data/Gallery.csv\")\n",
    "df2 = pd.read_csv('df2.csv')"
   ]
  },
  {
   "cell_type": "code",
   "execution_count": 7,
   "metadata": {},
   "outputs": [],
   "source": [
    "# Find weekday\n",
    "df['date_time'] = pd.to_datetime(df['date_time'])"
   ]
  },
  {
   "cell_type": "code",
   "execution_count": 8,
   "metadata": {},
   "outputs": [],
   "source": [
    "my_day_list = []\n",
    "for i in range(len(df)):\n",
    "    my_date = df['date_time'][i]\n",
    "    my_day = calendar.day_name[my_date.weekday()]\n",
    "    my_day_list.append(my_day)"
   ]
  },
  {
   "cell_type": "code",
   "execution_count": 9,
   "metadata": {},
   "outputs": [],
   "source": [
    "# Append Column\n",
    "df['Day'] = my_day_list"
   ]
  },
  {
   "cell_type": "code",
   "execution_count": 10,
   "metadata": {
    "scrolled": false
   },
   "outputs": [
    {
     "data": {
      "text/html": [
       "<div>\n",
       "<style scoped>\n",
       "    .dataframe tbody tr th:only-of-type {\n",
       "        vertical-align: middle;\n",
       "    }\n",
       "\n",
       "    .dataframe tbody tr th {\n",
       "        vertical-align: top;\n",
       "    }\n",
       "\n",
       "    .dataframe thead th {\n",
       "        text-align: right;\n",
       "    }\n",
       "</style>\n",
       "<table border=\"1\" class=\"dataframe\">\n",
       "  <thead>\n",
       "    <tr style=\"text-align: right;\">\n",
       "      <th></th>\n",
       "      <th>date_time</th>\n",
       "      <th>hourly_counts</th>\n",
       "      <th>sensor_id</th>\n",
       "      <th>sensor_name</th>\n",
       "      <th>latitude</th>\n",
       "      <th>longitude</th>\n",
       "      <th>Day</th>\n",
       "    </tr>\n",
       "  </thead>\n",
       "  <tbody>\n",
       "    <tr>\n",
       "      <th>0</th>\n",
       "      <td>2019-02-17 19:00:00</td>\n",
       "      <td>1513.0</td>\n",
       "      <td>4</td>\n",
       "      <td>Town Hall (West)</td>\n",
       "      <td>-37.81488</td>\n",
       "      <td>144.966088</td>\n",
       "      <td>Sunday</td>\n",
       "    </tr>\n",
       "    <tr>\n",
       "      <th>1</th>\n",
       "      <td>2019-02-17 20:00:00</td>\n",
       "      <td>1234.0</td>\n",
       "      <td>4</td>\n",
       "      <td>Town Hall (West)</td>\n",
       "      <td>-37.81488</td>\n",
       "      <td>144.966088</td>\n",
       "      <td>Sunday</td>\n",
       "    </tr>\n",
       "    <tr>\n",
       "      <th>2</th>\n",
       "      <td>2019-02-17 21:00:00</td>\n",
       "      <td>1026.0</td>\n",
       "      <td>4</td>\n",
       "      <td>Town Hall (West)</td>\n",
       "      <td>-37.81488</td>\n",
       "      <td>144.966088</td>\n",
       "      <td>Sunday</td>\n",
       "    </tr>\n",
       "    <tr>\n",
       "      <th>3</th>\n",
       "      <td>2019-02-17 22:00:00</td>\n",
       "      <td>693.0</td>\n",
       "      <td>4</td>\n",
       "      <td>Town Hall (West)</td>\n",
       "      <td>-37.81488</td>\n",
       "      <td>144.966088</td>\n",
       "      <td>Sunday</td>\n",
       "    </tr>\n",
       "    <tr>\n",
       "      <th>4</th>\n",
       "      <td>2019-02-17 23:00:00</td>\n",
       "      <td>388.0</td>\n",
       "      <td>4</td>\n",
       "      <td>Town Hall (West)</td>\n",
       "      <td>-37.81488</td>\n",
       "      <td>144.966088</td>\n",
       "      <td>Sunday</td>\n",
       "    </tr>\n",
       "  </tbody>\n",
       "</table>\n",
       "</div>"
      ],
      "text/plain": [
       "            date_time  hourly_counts  sensor_id       sensor_name  latitude  \\\n",
       "0 2019-02-17 19:00:00         1513.0          4  Town Hall (West) -37.81488   \n",
       "1 2019-02-17 20:00:00         1234.0          4  Town Hall (West) -37.81488   \n",
       "2 2019-02-17 21:00:00         1026.0          4  Town Hall (West) -37.81488   \n",
       "3 2019-02-17 22:00:00          693.0          4  Town Hall (West) -37.81488   \n",
       "4 2019-02-17 23:00:00          388.0          4  Town Hall (West) -37.81488   \n",
       "\n",
       "    longitude     Day  \n",
       "0  144.966088  Sunday  \n",
       "1  144.966088  Sunday  \n",
       "2  144.966088  Sunday  \n",
       "3  144.966088  Sunday  \n",
       "4  144.966088  Sunday  "
      ]
     },
     "execution_count": 10,
     "metadata": {},
     "output_type": "execute_result"
    }
   ],
   "source": [
    "df.head()"
   ]
  },
  {
   "cell_type": "code",
   "execution_count": 11,
   "metadata": {},
   "outputs": [],
   "source": [
    "def get_ped(gallery, pedestrian, i):\n",
    "\n",
    "    gallery_sensor = pd.DataFrame([{'Latitude':gallery['Latitude'][i],'Longitude': gallery['Longitude'][i]}])\n",
    "\n",
    "    # Find Nearest 3 sensors\n",
    "    df_temp = pd.concat([pd.DataFrame(within(gallery_sensor, df2, 1.5, 0)).reset_index(drop=True),\n",
    "               pd.DataFrame(within_d(gallery_sensor, df2, 1.5, 0)).reset_index(drop=True)], axis=1)\n",
    "    df_temp.rename(columns={0:'distance'}, inplace=True)\n",
    "\n",
    "    # Get Nearest 3 sensors\n",
    "    df_temp = df_temp.sort_values('distance').iloc[0:3,:]\n",
    "    df_temp = df_temp.reset_index(drop=True)\n",
    "\n",
    "    # DF Nearest\n",
    "    df_nearest = pedestrian[(pedestrian['sensor_id'] == df_temp['sensor_id'][0]) |\n",
    "                 (pedestrian['sensor_id'] == df_temp['sensor_id'][1]) |\n",
    "                 ((pedestrian['sensor_id'] == df_temp['sensor_id'][2]))]\n",
    "\n",
    "    d1 = df_nearest[df_nearest['sensor_id'] == df_temp['sensor_id'][0]]['hourly_counts']*(df_temp['distance'][0]/df_temp['distance'].sum())\n",
    "    d2 = df_nearest[df_nearest['sensor_id'] == df_temp['sensor_id'][1]]['hourly_counts']*(df_temp['distance'][1]/df_temp['distance'].sum())\n",
    "    d3 = df_nearest[df_nearest['sensor_id'] == df_temp['sensor_id'][2]]['hourly_counts']*(df_temp['distance'][2]/df_temp['distance'].sum())\n",
    "\n",
    "    ## Change sensor\n",
    "    sensor_interest = pd.concat([pd.DataFrame(df_nearest[df_nearest['sensor_id'] == df_temp['sensor_id'][0]]['date_time'].reset_index(drop=True)),\n",
    "           pd.DataFrame({'hourly_counts':(d1.values+d2.values+d3.values).round()})], axis=1)\n",
    "\n",
    "    ## Change sensor\n",
    "    sensor_interest['latitude']= gallery_sensor['Latitude'][0]\n",
    "    sensor_interest['longitude']= gallery_sensor['Longitude'][0]\n",
    "    sensor_interest['sensor_name']= gallery['Gallery Name'][i]\n",
    "\n",
    "    my_day_list = []\n",
    "\n",
    "    sensor_interest['date_time'] = pd.to_datetime(sensor_interest['date_time'])\n",
    "\n",
    "    for i in range(len(sensor_interest)):\n",
    "        my_date = sensor_interest['date_time'][i]\n",
    "        my_day = calendar.day_name[my_date.weekday()]\n",
    "        my_day_list.append(my_day)\n",
    "\n",
    "    sensor_interest['Day'] = my_day_list\n",
    "    \n",
    "\n",
    "    return sensor_interest"
   ]
  },
  {
   "cell_type": "code",
   "execution_count": 12,
   "metadata": {
    "scrolled": true
   },
   "outputs": [],
   "source": [
    "def for_eachday(df):\n",
    "\n",
    "    each = []\n",
    "    day_list = ['Sunday', 'Monday', 'Tuesday', 'Wednesday', 'Thursday','Friday', 'Saturday']\n",
    "    \n",
    "    # Change time to int\n",
    "    time = df['date_time'].apply(lambda x: int(x.strftime('%H')))\n",
    "    df['time'] = time\n",
    "        \n",
    "    # Loop over days\n",
    "    for i in range (7):\n",
    "        # 10AM - 5PM\n",
    "        dday = round(df[(df['Day']==day_list[i]) & (df['time'] < 17) & (df['time'] > 10) ]['hourly_counts'].mean())\n",
    "        each.append(dday)\n",
    "        \n",
    "    return each"
   ]
  },
  {
   "cell_type": "code",
   "execution_count": 306,
   "metadata": {
    "scrolled": true
   },
   "outputs": [],
   "source": [
    "# Find average for each gallery\n",
    "average_list = []\n",
    "\n",
    "for n in range(0,len(gallery)):\n",
    "    average = for_eachday(get_ped(gallery, df, i=n))\n",
    "    average_list.append(average)"
   ]
  },
  {
   "cell_type": "code",
   "execution_count": 316,
   "metadata": {
    "scrolled": false
   },
   "outputs": [
    {
     "data": {
      "text/html": [
       "<div>\n",
       "<style scoped>\n",
       "    .dataframe tbody tr th:only-of-type {\n",
       "        vertical-align: middle;\n",
       "    }\n",
       "\n",
       "    .dataframe tbody tr th {\n",
       "        vertical-align: top;\n",
       "    }\n",
       "\n",
       "    .dataframe thead th {\n",
       "        text-align: right;\n",
       "    }\n",
       "</style>\n",
       "<table border=\"1\" class=\"dataframe\">\n",
       "  <thead>\n",
       "    <tr style=\"text-align: right;\">\n",
       "      <th></th>\n",
       "      <th>Gallery Name</th>\n",
       "      <th>Latitude</th>\n",
       "      <th>Longitude</th>\n",
       "      <th>Sunday</th>\n",
       "      <th>Monday</th>\n",
       "      <th>Tuesday</th>\n",
       "      <th>Wednesday</th>\n",
       "      <th>Thursday</th>\n",
       "      <th>Friday</th>\n",
       "      <th>Saturday</th>\n",
       "    </tr>\n",
       "  </thead>\n",
       "  <tbody>\n",
       "    <tr>\n",
       "      <th>0</th>\n",
       "      <td>Old Melbourne Gaol Crime</td>\n",
       "      <td>-37.807764</td>\n",
       "      <td>144.965464</td>\n",
       "      <td>569.0</td>\n",
       "      <td>945.0</td>\n",
       "      <td>850.0</td>\n",
       "      <td>1017.0</td>\n",
       "      <td>758.0</td>\n",
       "      <td>903.0</td>\n",
       "      <td>796.0</td>\n",
       "    </tr>\n",
       "    <tr>\n",
       "      <th>1</th>\n",
       "      <td>Victorian Arts Centre</td>\n",
       "      <td>-37.821995</td>\n",
       "      <td>144.968837</td>\n",
       "      <td>2345.0</td>\n",
       "      <td>1572.0</td>\n",
       "      <td>1835.0</td>\n",
       "      <td>1672.0</td>\n",
       "      <td>1897.0</td>\n",
       "      <td>1884.0</td>\n",
       "      <td>2012.0</td>\n",
       "    </tr>\n",
       "    <tr>\n",
       "      <th>2</th>\n",
       "      <td>The Ian Potter Centre: NGV Australia</td>\n",
       "      <td>-37.817483</td>\n",
       "      <td>144.969899</td>\n",
       "      <td>658.0</td>\n",
       "      <td>785.0</td>\n",
       "      <td>810.0</td>\n",
       "      <td>806.0</td>\n",
       "      <td>867.0</td>\n",
       "      <td>923.0</td>\n",
       "      <td>583.0</td>\n",
       "    </tr>\n",
       "    <tr>\n",
       "      <th>3</th>\n",
       "      <td>Thoroughbred Racing Gallery</td>\n",
       "      <td>-37.818866</td>\n",
       "      <td>144.983970</td>\n",
       "      <td>202.0</td>\n",
       "      <td>598.0</td>\n",
       "      <td>538.0</td>\n",
       "      <td>636.0</td>\n",
       "      <td>576.0</td>\n",
       "      <td>740.0</td>\n",
       "      <td>317.0</td>\n",
       "    </tr>\n",
       "    <tr>\n",
       "      <th>4</th>\n",
       "      <td>Fox Classic Car Collection</td>\n",
       "      <td>-37.821374</td>\n",
       "      <td>144.948497</td>\n",
       "      <td>158.0</td>\n",
       "      <td>754.0</td>\n",
       "      <td>671.0</td>\n",
       "      <td>785.0</td>\n",
       "      <td>692.0</td>\n",
       "      <td>876.0</td>\n",
       "      <td>335.0</td>\n",
       "    </tr>\n",
       "    <tr>\n",
       "      <th>5</th>\n",
       "      <td>Koorie Heritage Trust Inc</td>\n",
       "      <td>-37.813385</td>\n",
       "      <td>144.954028</td>\n",
       "      <td>602.0</td>\n",
       "      <td>1034.0</td>\n",
       "      <td>1003.0</td>\n",
       "      <td>1077.0</td>\n",
       "      <td>1017.0</td>\n",
       "      <td>1152.0</td>\n",
       "      <td>777.0</td>\n",
       "    </tr>\n",
       "    <tr>\n",
       "      <th>6</th>\n",
       "      <td>Australian Centre For The Moving Image (ACMI)</td>\n",
       "      <td>-37.817611</td>\n",
       "      <td>144.969070</td>\n",
       "      <td>1289.0</td>\n",
       "      <td>1386.0</td>\n",
       "      <td>1439.0</td>\n",
       "      <td>1445.0</td>\n",
       "      <td>1506.0</td>\n",
       "      <td>1703.0</td>\n",
       "      <td>1323.0</td>\n",
       "    </tr>\n",
       "    <tr>\n",
       "      <th>7</th>\n",
       "      <td>Blindside Gallery</td>\n",
       "      <td>-37.816711</td>\n",
       "      <td>144.966812</td>\n",
       "      <td>2130.0</td>\n",
       "      <td>2602.0</td>\n",
       "      <td>2641.0</td>\n",
       "      <td>2704.0</td>\n",
       "      <td>2624.0</td>\n",
       "      <td>2844.0</td>\n",
       "      <td>2519.0</td>\n",
       "    </tr>\n",
       "    <tr>\n",
       "      <th>8</th>\n",
       "      <td>Flinders Lane Gallery</td>\n",
       "      <td>-37.815715</td>\n",
       "      <td>144.970033</td>\n",
       "      <td>1613.0</td>\n",
       "      <td>2011.0</td>\n",
       "      <td>2066.0</td>\n",
       "      <td>2076.0</td>\n",
       "      <td>2043.0</td>\n",
       "      <td>2258.0</td>\n",
       "      <td>1964.0</td>\n",
       "    </tr>\n",
       "    <tr>\n",
       "      <th>9</th>\n",
       "      <td>Mailbox Art Space</td>\n",
       "      <td>-37.815758</td>\n",
       "      <td>144.969861</td>\n",
       "      <td>1557.0</td>\n",
       "      <td>1961.0</td>\n",
       "      <td>2011.0</td>\n",
       "      <td>2024.0</td>\n",
       "      <td>1990.0</td>\n",
       "      <td>2202.0</td>\n",
       "      <td>1900.0</td>\n",
       "    </tr>\n",
       "    <tr>\n",
       "      <th>10</th>\n",
       "      <td>RMIT Gallery</td>\n",
       "      <td>-37.812587</td>\n",
       "      <td>144.955458</td>\n",
       "      <td>369.0</td>\n",
       "      <td>553.0</td>\n",
       "      <td>551.0</td>\n",
       "      <td>571.0</td>\n",
       "      <td>544.0</td>\n",
       "      <td>602.0</td>\n",
       "      <td>451.0</td>\n",
       "    </tr>\n",
       "    <tr>\n",
       "      <th>11</th>\n",
       "      <td>Neon Parc</td>\n",
       "      <td>-37.813892</td>\n",
       "      <td>144.964020</td>\n",
       "      <td>1468.0</td>\n",
       "      <td>1689.0</td>\n",
       "      <td>1684.0</td>\n",
       "      <td>1748.0</td>\n",
       "      <td>1715.0</td>\n",
       "      <td>1887.0</td>\n",
       "      <td>1792.0</td>\n",
       "    </tr>\n",
       "    <tr>\n",
       "      <th>12</th>\n",
       "      <td>Outre Gallery</td>\n",
       "      <td>-37.812816</td>\n",
       "      <td>144.962224</td>\n",
       "      <td>1082.0</td>\n",
       "      <td>1305.0</td>\n",
       "      <td>1322.0</td>\n",
       "      <td>1327.0</td>\n",
       "      <td>1303.0</td>\n",
       "      <td>1415.0</td>\n",
       "      <td>1333.0</td>\n",
       "    </tr>\n",
       "    <tr>\n",
       "      <th>13</th>\n",
       "      <td>Anna Schwartz Gallery</td>\n",
       "      <td>-37.816048</td>\n",
       "      <td>144.968890</td>\n",
       "      <td>1166.0</td>\n",
       "      <td>1606.0</td>\n",
       "      <td>1622.0</td>\n",
       "      <td>1661.0</td>\n",
       "      <td>1619.0</td>\n",
       "      <td>1808.0</td>\n",
       "      <td>1451.0</td>\n",
       "    </tr>\n",
       "    <tr>\n",
       "      <th>14</th>\n",
       "      <td>ARC ONE Gallery</td>\n",
       "      <td>-37.814730</td>\n",
       "      <td>144.973080</td>\n",
       "      <td>196.0</td>\n",
       "      <td>567.0</td>\n",
       "      <td>510.0</td>\n",
       "      <td>603.0</td>\n",
       "      <td>546.0</td>\n",
       "      <td>705.0</td>\n",
       "      <td>305.0</td>\n",
       "    </tr>\n",
       "    <tr>\n",
       "      <th>15</th>\n",
       "      <td>Gallery Funaki</td>\n",
       "      <td>-37.811609</td>\n",
       "      <td>144.971399</td>\n",
       "      <td>181.0</td>\n",
       "      <td>687.0</td>\n",
       "      <td>616.0</td>\n",
       "      <td>733.0</td>\n",
       "      <td>657.0</td>\n",
       "      <td>813.0</td>\n",
       "      <td>322.0</td>\n",
       "    </tr>\n",
       "    <tr>\n",
       "      <th>16</th>\n",
       "      <td>Lesley Kehoe Galleries</td>\n",
       "      <td>-37.814922</td>\n",
       "      <td>144.970520</td>\n",
       "      <td>149.0</td>\n",
       "      <td>681.0</td>\n",
       "      <td>614.0</td>\n",
       "      <td>705.0</td>\n",
       "      <td>643.0</td>\n",
       "      <td>819.0</td>\n",
       "      <td>285.0</td>\n",
       "    </tr>\n",
       "    <tr>\n",
       "      <th>17</th>\n",
       "      <td>SpACE@Collins</td>\n",
       "      <td>-37.815775</td>\n",
       "      <td>144.964823</td>\n",
       "      <td>2049.0</td>\n",
       "      <td>2375.0</td>\n",
       "      <td>2456.0</td>\n",
       "      <td>2480.0</td>\n",
       "      <td>2419.0</td>\n",
       "      <td>2692.0</td>\n",
       "      <td>2514.0</td>\n",
       "    </tr>\n",
       "    <tr>\n",
       "      <th>18</th>\n",
       "      <td>Tolarno Galleries</td>\n",
       "      <td>-37.813133</td>\n",
       "      <td>144.971330</td>\n",
       "      <td>199.0</td>\n",
       "      <td>865.0</td>\n",
       "      <td>776.0</td>\n",
       "      <td>899.0</td>\n",
       "      <td>818.0</td>\n",
       "      <td>1023.0</td>\n",
       "      <td>369.0</td>\n",
       "    </tr>\n",
       "    <tr>\n",
       "      <th>19</th>\n",
       "      <td>Immigration Museum</td>\n",
       "      <td>-37.818374</td>\n",
       "      <td>144.959207</td>\n",
       "      <td>364.0</td>\n",
       "      <td>994.0</td>\n",
       "      <td>913.0</td>\n",
       "      <td>1055.0</td>\n",
       "      <td>944.0</td>\n",
       "      <td>1099.0</td>\n",
       "      <td>568.0</td>\n",
       "    </tr>\n",
       "    <tr>\n",
       "      <th>20</th>\n",
       "      <td>National Gallery of Victoria</td>\n",
       "      <td>-37.822594</td>\n",
       "      <td>144.968928</td>\n",
       "      <td>2343.0</td>\n",
       "      <td>1566.0</td>\n",
       "      <td>1815.0</td>\n",
       "      <td>1663.0</td>\n",
       "      <td>1876.0</td>\n",
       "      <td>1862.0</td>\n",
       "      <td>2022.0</td>\n",
       "    </tr>\n",
       "    <tr>\n",
       "      <th>21</th>\n",
       "      <td>The Dax Centre</td>\n",
       "      <td>-37.798269</td>\n",
       "      <td>144.958551</td>\n",
       "      <td>278.0</td>\n",
       "      <td>709.0</td>\n",
       "      <td>581.0</td>\n",
       "      <td>765.0</td>\n",
       "      <td>561.0</td>\n",
       "      <td>742.0</td>\n",
       "      <td>290.0</td>\n",
       "    </tr>\n",
       "    <tr>\n",
       "      <th>22</th>\n",
       "      <td>Fortyfivedownstairs Inc</td>\n",
       "      <td>-37.816956</td>\n",
       "      <td>144.970885</td>\n",
       "      <td>921.0</td>\n",
       "      <td>631.0</td>\n",
       "      <td>727.0</td>\n",
       "      <td>641.0</td>\n",
       "      <td>788.0</td>\n",
       "      <td>803.0</td>\n",
       "      <td>703.0</td>\n",
       "    </tr>\n",
       "    <tr>\n",
       "      <th>23</th>\n",
       "      <td>Pieces of Eight Gallery</td>\n",
       "      <td>-37.813492</td>\n",
       "      <td>144.967384</td>\n",
       "      <td>2291.0</td>\n",
       "      <td>2430.0</td>\n",
       "      <td>2468.0</td>\n",
       "      <td>2523.0</td>\n",
       "      <td>2498.0</td>\n",
       "      <td>2736.0</td>\n",
       "      <td>2687.0</td>\n",
       "    </tr>\n",
       "    <tr>\n",
       "      <th>24</th>\n",
       "      <td>Magnet Galleries Melbourne</td>\n",
       "      <td>-37.816581</td>\n",
       "      <td>144.952387</td>\n",
       "      <td>1129.0</td>\n",
       "      <td>2130.0</td>\n",
       "      <td>2005.0</td>\n",
       "      <td>2203.0</td>\n",
       "      <td>2040.0</td>\n",
       "      <td>2313.0</td>\n",
       "      <td>1492.0</td>\n",
       "    </tr>\n",
       "  </tbody>\n",
       "</table>\n",
       "</div>"
      ],
      "text/plain": [
       "                                     Gallery Name   Latitude   Longitude  \\\n",
       "0                        Old Melbourne Gaol Crime -37.807764  144.965464   \n",
       "1                           Victorian Arts Centre -37.821995  144.968837   \n",
       "2            The Ian Potter Centre: NGV Australia -37.817483  144.969899   \n",
       "3                     Thoroughbred Racing Gallery -37.818866  144.983970   \n",
       "4                      Fox Classic Car Collection -37.821374  144.948497   \n",
       "5                       Koorie Heritage Trust Inc -37.813385  144.954028   \n",
       "6   Australian Centre For The Moving Image (ACMI) -37.817611  144.969070   \n",
       "7                               Blindside Gallery -37.816711  144.966812   \n",
       "8                           Flinders Lane Gallery -37.815715  144.970033   \n",
       "9                               Mailbox Art Space -37.815758  144.969861   \n",
       "10                                   RMIT Gallery -37.812587  144.955458   \n",
       "11                                      Neon Parc -37.813892  144.964020   \n",
       "12                                  Outre Gallery -37.812816  144.962224   \n",
       "13                          Anna Schwartz Gallery -37.816048  144.968890   \n",
       "14                                ARC ONE Gallery -37.814730  144.973080   \n",
       "15                                 Gallery Funaki -37.811609  144.971399   \n",
       "16                         Lesley Kehoe Galleries -37.814922  144.970520   \n",
       "17                                  SpACE@Collins -37.815775  144.964823   \n",
       "18                              Tolarno Galleries -37.813133  144.971330   \n",
       "19                             Immigration Museum -37.818374  144.959207   \n",
       "20                   National Gallery of Victoria -37.822594  144.968928   \n",
       "21                                 The Dax Centre -37.798269  144.958551   \n",
       "22                        Fortyfivedownstairs Inc -37.816956  144.970885   \n",
       "23                        Pieces of Eight Gallery -37.813492  144.967384   \n",
       "24                     Magnet Galleries Melbourne -37.816581  144.952387   \n",
       "\n",
       "    Sunday  Monday  Tuesday  Wednesday  Thursday  Friday  Saturday  \n",
       "0    569.0   945.0    850.0     1017.0     758.0   903.0     796.0  \n",
       "1   2345.0  1572.0   1835.0     1672.0    1897.0  1884.0    2012.0  \n",
       "2    658.0   785.0    810.0      806.0     867.0   923.0     583.0  \n",
       "3    202.0   598.0    538.0      636.0     576.0   740.0     317.0  \n",
       "4    158.0   754.0    671.0      785.0     692.0   876.0     335.0  \n",
       "5    602.0  1034.0   1003.0     1077.0    1017.0  1152.0     777.0  \n",
       "6   1289.0  1386.0   1439.0     1445.0    1506.0  1703.0    1323.0  \n",
       "7   2130.0  2602.0   2641.0     2704.0    2624.0  2844.0    2519.0  \n",
       "8   1613.0  2011.0   2066.0     2076.0    2043.0  2258.0    1964.0  \n",
       "9   1557.0  1961.0   2011.0     2024.0    1990.0  2202.0    1900.0  \n",
       "10   369.0   553.0    551.0      571.0     544.0   602.0     451.0  \n",
       "11  1468.0  1689.0   1684.0     1748.0    1715.0  1887.0    1792.0  \n",
       "12  1082.0  1305.0   1322.0     1327.0    1303.0  1415.0    1333.0  \n",
       "13  1166.0  1606.0   1622.0     1661.0    1619.0  1808.0    1451.0  \n",
       "14   196.0   567.0    510.0      603.0     546.0   705.0     305.0  \n",
       "15   181.0   687.0    616.0      733.0     657.0   813.0     322.0  \n",
       "16   149.0   681.0    614.0      705.0     643.0   819.0     285.0  \n",
       "17  2049.0  2375.0   2456.0     2480.0    2419.0  2692.0    2514.0  \n",
       "18   199.0   865.0    776.0      899.0     818.0  1023.0     369.0  \n",
       "19   364.0   994.0    913.0     1055.0     944.0  1099.0     568.0  \n",
       "20  2343.0  1566.0   1815.0     1663.0    1876.0  1862.0    2022.0  \n",
       "21   278.0   709.0    581.0      765.0     561.0   742.0     290.0  \n",
       "22   921.0   631.0    727.0      641.0     788.0   803.0     703.0  \n",
       "23  2291.0  2430.0   2468.0     2523.0    2498.0  2736.0    2687.0  \n",
       "24  1129.0  2130.0   2005.0     2203.0    2040.0  2313.0    1492.0  "
      ]
     },
     "execution_count": 316,
     "metadata": {},
     "output_type": "execute_result"
    }
   ],
   "source": [
    "# Concat\n",
    "past = pd.concat([gallery, pd.DataFrame(average_list, columns=day_list)], axis=1)\n",
    "past.to_csv('past.csv')\n",
    "past"
   ]
  },
  {
   "cell_type": "markdown",
   "metadata": {},
   "source": [
    "## Any Location "
   ]
  },
  {
   "cell_type": "code",
   "execution_count": 1,
   "metadata": {},
   "outputs": [],
   "source": [
    "click = [144.96629694772997, -37.813251541664975]"
   ]
  },
  {
   "cell_type": "code",
   "execution_count": 10,
   "metadata": {
    "scrolled": true
   },
   "outputs": [
    {
     "data": {
      "text/html": [
       "<div>\n",
       "<style scoped>\n",
       "    .dataframe tbody tr th:only-of-type {\n",
       "        vertical-align: middle;\n",
       "    }\n",
       "\n",
       "    .dataframe tbody tr th {\n",
       "        vertical-align: top;\n",
       "    }\n",
       "\n",
       "    .dataframe thead th {\n",
       "        text-align: right;\n",
       "    }\n",
       "</style>\n",
       "<table border=\"1\" class=\"dataframe\">\n",
       "  <thead>\n",
       "    <tr style=\"text-align: right;\">\n",
       "      <th></th>\n",
       "      <th>date_time</th>\n",
       "      <th>hourly_counts</th>\n",
       "      <th>latitude</th>\n",
       "      <th>longitude</th>\n",
       "      <th>Day</th>\n",
       "    </tr>\n",
       "  </thead>\n",
       "  <tbody>\n",
       "    <tr>\n",
       "      <th>0</th>\n",
       "      <td>2019-02-17 19:00:00</td>\n",
       "      <td>1035.0</td>\n",
       "      <td>-37.813252</td>\n",
       "      <td>144.966297</td>\n",
       "      <td>Sunday</td>\n",
       "    </tr>\n",
       "    <tr>\n",
       "      <th>1</th>\n",
       "      <td>2019-02-17 20:00:00</td>\n",
       "      <td>765.0</td>\n",
       "      <td>-37.813252</td>\n",
       "      <td>144.966297</td>\n",
       "      <td>Sunday</td>\n",
       "    </tr>\n",
       "    <tr>\n",
       "      <th>2</th>\n",
       "      <td>2019-02-17 21:00:00</td>\n",
       "      <td>547.0</td>\n",
       "      <td>-37.813252</td>\n",
       "      <td>144.966297</td>\n",
       "      <td>Sunday</td>\n",
       "    </tr>\n",
       "    <tr>\n",
       "      <th>3</th>\n",
       "      <td>2019-02-17 22:00:00</td>\n",
       "      <td>356.0</td>\n",
       "      <td>-37.813252</td>\n",
       "      <td>144.966297</td>\n",
       "      <td>Sunday</td>\n",
       "    </tr>\n",
       "    <tr>\n",
       "      <th>4</th>\n",
       "      <td>2019-02-17 23:00:00</td>\n",
       "      <td>146.0</td>\n",
       "      <td>-37.813252</td>\n",
       "      <td>144.966297</td>\n",
       "      <td>Sunday</td>\n",
       "    </tr>\n",
       "    <tr>\n",
       "      <th>5</th>\n",
       "      <td>2019-02-18 00:00:00</td>\n",
       "      <td>80.0</td>\n",
       "      <td>-37.813252</td>\n",
       "      <td>144.966297</td>\n",
       "      <td>Monday</td>\n",
       "    </tr>\n",
       "    <tr>\n",
       "      <th>6</th>\n",
       "      <td>2019-02-18 01:00:00</td>\n",
       "      <td>61.0</td>\n",
       "      <td>-37.813252</td>\n",
       "      <td>144.966297</td>\n",
       "      <td>Monday</td>\n",
       "    </tr>\n",
       "    <tr>\n",
       "      <th>7</th>\n",
       "      <td>2019-02-18 02:00:00</td>\n",
       "      <td>31.0</td>\n",
       "      <td>-37.813252</td>\n",
       "      <td>144.966297</td>\n",
       "      <td>Monday</td>\n",
       "    </tr>\n",
       "    <tr>\n",
       "      <th>8</th>\n",
       "      <td>2019-02-18 03:00:00</td>\n",
       "      <td>26.0</td>\n",
       "      <td>-37.813252</td>\n",
       "      <td>144.966297</td>\n",
       "      <td>Monday</td>\n",
       "    </tr>\n",
       "    <tr>\n",
       "      <th>9</th>\n",
       "      <td>2019-02-18 04:00:00</td>\n",
       "      <td>13.0</td>\n",
       "      <td>-37.813252</td>\n",
       "      <td>144.966297</td>\n",
       "      <td>Monday</td>\n",
       "    </tr>\n",
       "    <tr>\n",
       "      <th>10</th>\n",
       "      <td>2019-02-18 05:00:00</td>\n",
       "      <td>32.0</td>\n",
       "      <td>-37.813252</td>\n",
       "      <td>144.966297</td>\n",
       "      <td>Monday</td>\n",
       "    </tr>\n",
       "    <tr>\n",
       "      <th>11</th>\n",
       "      <td>2019-02-18 06:00:00</td>\n",
       "      <td>78.0</td>\n",
       "      <td>-37.813252</td>\n",
       "      <td>144.966297</td>\n",
       "      <td>Monday</td>\n",
       "    </tr>\n",
       "    <tr>\n",
       "      <th>12</th>\n",
       "      <td>2019-02-18 07:00:00</td>\n",
       "      <td>240.0</td>\n",
       "      <td>-37.813252</td>\n",
       "      <td>144.966297</td>\n",
       "      <td>Monday</td>\n",
       "    </tr>\n",
       "    <tr>\n",
       "      <th>13</th>\n",
       "      <td>2019-02-18 08:00:00</td>\n",
       "      <td>530.0</td>\n",
       "      <td>-37.813252</td>\n",
       "      <td>144.966297</td>\n",
       "      <td>Monday</td>\n",
       "    </tr>\n",
       "    <tr>\n",
       "      <th>14</th>\n",
       "      <td>2019-02-18 09:00:00</td>\n",
       "      <td>585.0</td>\n",
       "      <td>-37.813252</td>\n",
       "      <td>144.966297</td>\n",
       "      <td>Monday</td>\n",
       "    </tr>\n",
       "    <tr>\n",
       "      <th>15</th>\n",
       "      <td>2019-02-18 10:00:00</td>\n",
       "      <td>867.0</td>\n",
       "      <td>-37.813252</td>\n",
       "      <td>144.966297</td>\n",
       "      <td>Monday</td>\n",
       "    </tr>\n",
       "    <tr>\n",
       "      <th>16</th>\n",
       "      <td>2019-02-18 11:00:00</td>\n",
       "      <td>1290.0</td>\n",
       "      <td>-37.813252</td>\n",
       "      <td>144.966297</td>\n",
       "      <td>Monday</td>\n",
       "    </tr>\n",
       "    <tr>\n",
       "      <th>17</th>\n",
       "      <td>2019-02-18 12:00:00</td>\n",
       "      <td>2275.0</td>\n",
       "      <td>-37.813252</td>\n",
       "      <td>144.966297</td>\n",
       "      <td>Monday</td>\n",
       "    </tr>\n",
       "    <tr>\n",
       "      <th>18</th>\n",
       "      <td>2019-02-18 13:00:00</td>\n",
       "      <td>2409.0</td>\n",
       "      <td>-37.813252</td>\n",
       "      <td>144.966297</td>\n",
       "      <td>Monday</td>\n",
       "    </tr>\n",
       "    <tr>\n",
       "      <th>19</th>\n",
       "      <td>2019-02-18 14:00:00</td>\n",
       "      <td>1927.0</td>\n",
       "      <td>-37.813252</td>\n",
       "      <td>144.966297</td>\n",
       "      <td>Monday</td>\n",
       "    </tr>\n",
       "    <tr>\n",
       "      <th>20</th>\n",
       "      <td>2019-02-18 15:00:00</td>\n",
       "      <td>1933.0</td>\n",
       "      <td>-37.813252</td>\n",
       "      <td>144.966297</td>\n",
       "      <td>Monday</td>\n",
       "    </tr>\n",
       "    <tr>\n",
       "      <th>21</th>\n",
       "      <td>2019-02-18 16:00:00</td>\n",
       "      <td>1921.0</td>\n",
       "      <td>-37.813252</td>\n",
       "      <td>144.966297</td>\n",
       "      <td>Monday</td>\n",
       "    </tr>\n",
       "    <tr>\n",
       "      <th>22</th>\n",
       "      <td>2019-02-18 17:00:00</td>\n",
       "      <td>2075.0</td>\n",
       "      <td>-37.813252</td>\n",
       "      <td>144.966297</td>\n",
       "      <td>Monday</td>\n",
       "    </tr>\n",
       "    <tr>\n",
       "      <th>23</th>\n",
       "      <td>2019-02-18 18:00:00</td>\n",
       "      <td>1752.0</td>\n",
       "      <td>-37.813252</td>\n",
       "      <td>144.966297</td>\n",
       "      <td>Monday</td>\n",
       "    </tr>\n",
       "    <tr>\n",
       "      <th>24</th>\n",
       "      <td>2019-02-18 19:00:00</td>\n",
       "      <td>1057.0</td>\n",
       "      <td>-37.813252</td>\n",
       "      <td>144.966297</td>\n",
       "      <td>Monday</td>\n",
       "    </tr>\n",
       "    <tr>\n",
       "      <th>25</th>\n",
       "      <td>2019-02-18 20:00:00</td>\n",
       "      <td>711.0</td>\n",
       "      <td>-37.813252</td>\n",
       "      <td>144.966297</td>\n",
       "      <td>Monday</td>\n",
       "    </tr>\n",
       "    <tr>\n",
       "      <th>26</th>\n",
       "      <td>2019-02-18 21:00:00</td>\n",
       "      <td>524.0</td>\n",
       "      <td>-37.813252</td>\n",
       "      <td>144.966297</td>\n",
       "      <td>Monday</td>\n",
       "    </tr>\n",
       "    <tr>\n",
       "      <th>27</th>\n",
       "      <td>2019-02-18 22:00:00</td>\n",
       "      <td>314.0</td>\n",
       "      <td>-37.813252</td>\n",
       "      <td>144.966297</td>\n",
       "      <td>Monday</td>\n",
       "    </tr>\n",
       "    <tr>\n",
       "      <th>28</th>\n",
       "      <td>2019-02-18 23:00:00</td>\n",
       "      <td>144.0</td>\n",
       "      <td>-37.813252</td>\n",
       "      <td>144.966297</td>\n",
       "      <td>Monday</td>\n",
       "    </tr>\n",
       "    <tr>\n",
       "      <th>29</th>\n",
       "      <td>2019-02-19 00:00:00</td>\n",
       "      <td>70.0</td>\n",
       "      <td>-37.813252</td>\n",
       "      <td>144.966297</td>\n",
       "      <td>Tuesday</td>\n",
       "    </tr>\n",
       "    <tr>\n",
       "      <th>...</th>\n",
       "      <td>...</td>\n",
       "      <td>...</td>\n",
       "      <td>...</td>\n",
       "      <td>...</td>\n",
       "      <td>...</td>\n",
       "    </tr>\n",
       "    <tr>\n",
       "      <th>983</th>\n",
       "      <td>2019-03-30 18:00:00</td>\n",
       "      <td>1885.0</td>\n",
       "      <td>-37.813252</td>\n",
       "      <td>144.966297</td>\n",
       "      <td>Saturday</td>\n",
       "    </tr>\n",
       "    <tr>\n",
       "      <th>984</th>\n",
       "      <td>2019-03-30 19:00:00</td>\n",
       "      <td>1618.0</td>\n",
       "      <td>-37.813252</td>\n",
       "      <td>144.966297</td>\n",
       "      <td>Saturday</td>\n",
       "    </tr>\n",
       "    <tr>\n",
       "      <th>985</th>\n",
       "      <td>2019-03-30 20:00:00</td>\n",
       "      <td>964.0</td>\n",
       "      <td>-37.813252</td>\n",
       "      <td>144.966297</td>\n",
       "      <td>Saturday</td>\n",
       "    </tr>\n",
       "    <tr>\n",
       "      <th>986</th>\n",
       "      <td>2019-03-30 21:00:00</td>\n",
       "      <td>730.0</td>\n",
       "      <td>-37.813252</td>\n",
       "      <td>144.966297</td>\n",
       "      <td>Saturday</td>\n",
       "    </tr>\n",
       "    <tr>\n",
       "      <th>987</th>\n",
       "      <td>2019-03-30 22:00:00</td>\n",
       "      <td>637.0</td>\n",
       "      <td>-37.813252</td>\n",
       "      <td>144.966297</td>\n",
       "      <td>Saturday</td>\n",
       "    </tr>\n",
       "    <tr>\n",
       "      <th>988</th>\n",
       "      <td>2019-03-30 23:00:00</td>\n",
       "      <td>427.0</td>\n",
       "      <td>-37.813252</td>\n",
       "      <td>144.966297</td>\n",
       "      <td>Saturday</td>\n",
       "    </tr>\n",
       "    <tr>\n",
       "      <th>989</th>\n",
       "      <td>2019-03-31 00:00:00</td>\n",
       "      <td>298.0</td>\n",
       "      <td>-37.813252</td>\n",
       "      <td>144.966297</td>\n",
       "      <td>Sunday</td>\n",
       "    </tr>\n",
       "    <tr>\n",
       "      <th>990</th>\n",
       "      <td>2019-03-31 01:00:00</td>\n",
       "      <td>209.0</td>\n",
       "      <td>-37.813252</td>\n",
       "      <td>144.966297</td>\n",
       "      <td>Sunday</td>\n",
       "    </tr>\n",
       "    <tr>\n",
       "      <th>991</th>\n",
       "      <td>2019-03-31 02:00:00</td>\n",
       "      <td>137.0</td>\n",
       "      <td>-37.813252</td>\n",
       "      <td>144.966297</td>\n",
       "      <td>Sunday</td>\n",
       "    </tr>\n",
       "    <tr>\n",
       "      <th>992</th>\n",
       "      <td>2019-03-31 03:00:00</td>\n",
       "      <td>120.0</td>\n",
       "      <td>-37.813252</td>\n",
       "      <td>144.966297</td>\n",
       "      <td>Sunday</td>\n",
       "    </tr>\n",
       "    <tr>\n",
       "      <th>993</th>\n",
       "      <td>2019-03-31 04:00:00</td>\n",
       "      <td>69.0</td>\n",
       "      <td>-37.813252</td>\n",
       "      <td>144.966297</td>\n",
       "      <td>Sunday</td>\n",
       "    </tr>\n",
       "    <tr>\n",
       "      <th>994</th>\n",
       "      <td>2019-03-31 05:00:00</td>\n",
       "      <td>36.0</td>\n",
       "      <td>-37.813252</td>\n",
       "      <td>144.966297</td>\n",
       "      <td>Sunday</td>\n",
       "    </tr>\n",
       "    <tr>\n",
       "      <th>995</th>\n",
       "      <td>2019-03-31 06:00:00</td>\n",
       "      <td>39.0</td>\n",
       "      <td>-37.813252</td>\n",
       "      <td>144.966297</td>\n",
       "      <td>Sunday</td>\n",
       "    </tr>\n",
       "    <tr>\n",
       "      <th>996</th>\n",
       "      <td>2019-03-31 07:00:00</td>\n",
       "      <td>48.0</td>\n",
       "      <td>-37.813252</td>\n",
       "      <td>144.966297</td>\n",
       "      <td>Sunday</td>\n",
       "    </tr>\n",
       "    <tr>\n",
       "      <th>997</th>\n",
       "      <td>2019-03-31 08:00:00</td>\n",
       "      <td>142.0</td>\n",
       "      <td>-37.813252</td>\n",
       "      <td>144.966297</td>\n",
       "      <td>Sunday</td>\n",
       "    </tr>\n",
       "    <tr>\n",
       "      <th>998</th>\n",
       "      <td>2019-03-31 09:00:00</td>\n",
       "      <td>386.0</td>\n",
       "      <td>-37.813252</td>\n",
       "      <td>144.966297</td>\n",
       "      <td>Sunday</td>\n",
       "    </tr>\n",
       "    <tr>\n",
       "      <th>999</th>\n",
       "      <td>2019-03-31 10:00:00</td>\n",
       "      <td>830.0</td>\n",
       "      <td>-37.813252</td>\n",
       "      <td>144.966297</td>\n",
       "      <td>Sunday</td>\n",
       "    </tr>\n",
       "    <tr>\n",
       "      <th>1000</th>\n",
       "      <td>2019-03-31 11:00:00</td>\n",
       "      <td>1310.0</td>\n",
       "      <td>-37.813252</td>\n",
       "      <td>144.966297</td>\n",
       "      <td>Sunday</td>\n",
       "    </tr>\n",
       "    <tr>\n",
       "      <th>1001</th>\n",
       "      <td>2019-03-31 12:00:00</td>\n",
       "      <td>1956.0</td>\n",
       "      <td>-37.813252</td>\n",
       "      <td>144.966297</td>\n",
       "      <td>Sunday</td>\n",
       "    </tr>\n",
       "    <tr>\n",
       "      <th>1002</th>\n",
       "      <td>2019-03-31 13:00:00</td>\n",
       "      <td>2185.0</td>\n",
       "      <td>-37.813252</td>\n",
       "      <td>144.966297</td>\n",
       "      <td>Sunday</td>\n",
       "    </tr>\n",
       "    <tr>\n",
       "      <th>1003</th>\n",
       "      <td>2019-03-31 14:00:00</td>\n",
       "      <td>2278.0</td>\n",
       "      <td>-37.813252</td>\n",
       "      <td>144.966297</td>\n",
       "      <td>Sunday</td>\n",
       "    </tr>\n",
       "    <tr>\n",
       "      <th>1004</th>\n",
       "      <td>2019-03-31 15:00:00</td>\n",
       "      <td>2066.0</td>\n",
       "      <td>-37.813252</td>\n",
       "      <td>144.966297</td>\n",
       "      <td>Sunday</td>\n",
       "    </tr>\n",
       "    <tr>\n",
       "      <th>1005</th>\n",
       "      <td>2019-03-31 16:00:00</td>\n",
       "      <td>2086.0</td>\n",
       "      <td>-37.813252</td>\n",
       "      <td>144.966297</td>\n",
       "      <td>Sunday</td>\n",
       "    </tr>\n",
       "    <tr>\n",
       "      <th>1006</th>\n",
       "      <td>2019-03-31 17:00:00</td>\n",
       "      <td>1898.0</td>\n",
       "      <td>-37.813252</td>\n",
       "      <td>144.966297</td>\n",
       "      <td>Sunday</td>\n",
       "    </tr>\n",
       "    <tr>\n",
       "      <th>1007</th>\n",
       "      <td>2019-03-31 18:00:00</td>\n",
       "      <td>1558.0</td>\n",
       "      <td>-37.813252</td>\n",
       "      <td>144.966297</td>\n",
       "      <td>Sunday</td>\n",
       "    </tr>\n",
       "    <tr>\n",
       "      <th>1008</th>\n",
       "      <td>2019-03-31 19:00:00</td>\n",
       "      <td>1110.0</td>\n",
       "      <td>-37.813252</td>\n",
       "      <td>144.966297</td>\n",
       "      <td>Sunday</td>\n",
       "    </tr>\n",
       "    <tr>\n",
       "      <th>1009</th>\n",
       "      <td>2019-03-31 20:00:00</td>\n",
       "      <td>747.0</td>\n",
       "      <td>-37.813252</td>\n",
       "      <td>144.966297</td>\n",
       "      <td>Sunday</td>\n",
       "    </tr>\n",
       "    <tr>\n",
       "      <th>1010</th>\n",
       "      <td>2019-03-31 21:00:00</td>\n",
       "      <td>522.0</td>\n",
       "      <td>-37.813252</td>\n",
       "      <td>144.966297</td>\n",
       "      <td>Sunday</td>\n",
       "    </tr>\n",
       "    <tr>\n",
       "      <th>1011</th>\n",
       "      <td>2019-03-31 22:00:00</td>\n",
       "      <td>330.0</td>\n",
       "      <td>-37.813252</td>\n",
       "      <td>144.966297</td>\n",
       "      <td>Sunday</td>\n",
       "    </tr>\n",
       "    <tr>\n",
       "      <th>1012</th>\n",
       "      <td>2019-03-31 23:00:00</td>\n",
       "      <td>154.0</td>\n",
       "      <td>-37.813252</td>\n",
       "      <td>144.966297</td>\n",
       "      <td>Sunday</td>\n",
       "    </tr>\n",
       "  </tbody>\n",
       "</table>\n",
       "<p>1013 rows × 5 columns</p>\n",
       "</div>"
      ],
      "text/plain": [
       "               date_time  hourly_counts   latitude   longitude       Day\n",
       "0    2019-02-17 19:00:00         1035.0 -37.813252  144.966297    Sunday\n",
       "1    2019-02-17 20:00:00          765.0 -37.813252  144.966297    Sunday\n",
       "2    2019-02-17 21:00:00          547.0 -37.813252  144.966297    Sunday\n",
       "3    2019-02-17 22:00:00          356.0 -37.813252  144.966297    Sunday\n",
       "4    2019-02-17 23:00:00          146.0 -37.813252  144.966297    Sunday\n",
       "5    2019-02-18 00:00:00           80.0 -37.813252  144.966297    Monday\n",
       "6    2019-02-18 01:00:00           61.0 -37.813252  144.966297    Monday\n",
       "7    2019-02-18 02:00:00           31.0 -37.813252  144.966297    Monday\n",
       "8    2019-02-18 03:00:00           26.0 -37.813252  144.966297    Monday\n",
       "9    2019-02-18 04:00:00           13.0 -37.813252  144.966297    Monday\n",
       "10   2019-02-18 05:00:00           32.0 -37.813252  144.966297    Monday\n",
       "11   2019-02-18 06:00:00           78.0 -37.813252  144.966297    Monday\n",
       "12   2019-02-18 07:00:00          240.0 -37.813252  144.966297    Monday\n",
       "13   2019-02-18 08:00:00          530.0 -37.813252  144.966297    Monday\n",
       "14   2019-02-18 09:00:00          585.0 -37.813252  144.966297    Monday\n",
       "15   2019-02-18 10:00:00          867.0 -37.813252  144.966297    Monday\n",
       "16   2019-02-18 11:00:00         1290.0 -37.813252  144.966297    Monday\n",
       "17   2019-02-18 12:00:00         2275.0 -37.813252  144.966297    Monday\n",
       "18   2019-02-18 13:00:00         2409.0 -37.813252  144.966297    Monday\n",
       "19   2019-02-18 14:00:00         1927.0 -37.813252  144.966297    Monday\n",
       "20   2019-02-18 15:00:00         1933.0 -37.813252  144.966297    Monday\n",
       "21   2019-02-18 16:00:00         1921.0 -37.813252  144.966297    Monday\n",
       "22   2019-02-18 17:00:00         2075.0 -37.813252  144.966297    Monday\n",
       "23   2019-02-18 18:00:00         1752.0 -37.813252  144.966297    Monday\n",
       "24   2019-02-18 19:00:00         1057.0 -37.813252  144.966297    Monday\n",
       "25   2019-02-18 20:00:00          711.0 -37.813252  144.966297    Monday\n",
       "26   2019-02-18 21:00:00          524.0 -37.813252  144.966297    Monday\n",
       "27   2019-02-18 22:00:00          314.0 -37.813252  144.966297    Monday\n",
       "28   2019-02-18 23:00:00          144.0 -37.813252  144.966297    Monday\n",
       "29   2019-02-19 00:00:00           70.0 -37.813252  144.966297   Tuesday\n",
       "...                  ...            ...        ...         ...       ...\n",
       "983  2019-03-30 18:00:00         1885.0 -37.813252  144.966297  Saturday\n",
       "984  2019-03-30 19:00:00         1618.0 -37.813252  144.966297  Saturday\n",
       "985  2019-03-30 20:00:00          964.0 -37.813252  144.966297  Saturday\n",
       "986  2019-03-30 21:00:00          730.0 -37.813252  144.966297  Saturday\n",
       "987  2019-03-30 22:00:00          637.0 -37.813252  144.966297  Saturday\n",
       "988  2019-03-30 23:00:00          427.0 -37.813252  144.966297  Saturday\n",
       "989  2019-03-31 00:00:00          298.0 -37.813252  144.966297    Sunday\n",
       "990  2019-03-31 01:00:00          209.0 -37.813252  144.966297    Sunday\n",
       "991  2019-03-31 02:00:00          137.0 -37.813252  144.966297    Sunday\n",
       "992  2019-03-31 03:00:00          120.0 -37.813252  144.966297    Sunday\n",
       "993  2019-03-31 04:00:00           69.0 -37.813252  144.966297    Sunday\n",
       "994  2019-03-31 05:00:00           36.0 -37.813252  144.966297    Sunday\n",
       "995  2019-03-31 06:00:00           39.0 -37.813252  144.966297    Sunday\n",
       "996  2019-03-31 07:00:00           48.0 -37.813252  144.966297    Sunday\n",
       "997  2019-03-31 08:00:00          142.0 -37.813252  144.966297    Sunday\n",
       "998  2019-03-31 09:00:00          386.0 -37.813252  144.966297    Sunday\n",
       "999  2019-03-31 10:00:00          830.0 -37.813252  144.966297    Sunday\n",
       "1000 2019-03-31 11:00:00         1310.0 -37.813252  144.966297    Sunday\n",
       "1001 2019-03-31 12:00:00         1956.0 -37.813252  144.966297    Sunday\n",
       "1002 2019-03-31 13:00:00         2185.0 -37.813252  144.966297    Sunday\n",
       "1003 2019-03-31 14:00:00         2278.0 -37.813252  144.966297    Sunday\n",
       "1004 2019-03-31 15:00:00         2066.0 -37.813252  144.966297    Sunday\n",
       "1005 2019-03-31 16:00:00         2086.0 -37.813252  144.966297    Sunday\n",
       "1006 2019-03-31 17:00:00         1898.0 -37.813252  144.966297    Sunday\n",
       "1007 2019-03-31 18:00:00         1558.0 -37.813252  144.966297    Sunday\n",
       "1008 2019-03-31 19:00:00         1110.0 -37.813252  144.966297    Sunday\n",
       "1009 2019-03-31 20:00:00          747.0 -37.813252  144.966297    Sunday\n",
       "1010 2019-03-31 21:00:00          522.0 -37.813252  144.966297    Sunday\n",
       "1011 2019-03-31 22:00:00          330.0 -37.813252  144.966297    Sunday\n",
       "1012 2019-03-31 23:00:00          154.0 -37.813252  144.966297    Sunday\n",
       "\n",
       "[1013 rows x 5 columns]"
      ]
     },
     "execution_count": 10,
     "metadata": {},
     "output_type": "execute_result"
    }
   ],
   "source": [
    "from datetime import date\n",
    "import calendar# Find Sensor information and Distance\n",
    "import pandas as pd\n",
    "import geopy\n",
    "from geopy import distance\n",
    "\n",
    "\n",
    "df = pd.read_csv(\"../static/data/pedestrian_temp.csv\")\n",
    "df2 = pd.read_csv('../static/data/sensors.csv')\n",
    "\n",
    "\n",
    "def within(df, target, radius, g):\n",
    "    \n",
    "    temp = []\n",
    "    \n",
    "    for x in range(len(target)):\n",
    "        # Use try-except for error handling\n",
    "        try:\n",
    "            # Find coordinate1,2 calculate distance in km\n",
    "            coords_1 = (df[\"Latitude\"][g], df[\"Longitude\"][g])\n",
    "            coords_2 = (target[\"latitude\"][x], target[\"longitude\"][x])\n",
    "            dist = geopy.distance.distance(coords_1, coords_2).km\n",
    "\n",
    "            if dist <= radius:\n",
    "                temp.append(target.iloc[x])\n",
    "        except:\n",
    "            pass\n",
    "    return temp\n",
    "\n",
    "\n",
    "def within_d(df, target, radius, g):\n",
    "    \n",
    "    distances = []\n",
    "    \n",
    "    for x in range(len(target)):\n",
    "        # Use try-except for error handling\n",
    "        try:\n",
    "            # Find coordinate1,2 calculate distance in km\n",
    "            coords_1 = (df[\"Latitude\"][g], df[\"Longitude\"][g])\n",
    "            coords_2 = (target[\"latitude\"][x], target[\"longitude\"][x])\n",
    "            dist = geopy.distance.distance(coords_1, coords_2).km\n",
    "\n",
    "            if dist <= radius:\n",
    "                distances.append(dist)\n",
    "        except:\n",
    "            pass\n",
    "    return distances\n",
    "\n",
    "\n",
    "\n",
    "\n",
    "def get_ped_any(click, pedestrian):\n",
    "\n",
    "    click_sensor = pd.DataFrame([{'Latitude':click[1],'Longitude': click[0]}])\n",
    "\n",
    "    # Find Nearest 3 sensors\n",
    "    df_temp = pd.concat([pd.DataFrame(within(click_sensor, df2, 1.5, 0)).reset_index(drop=True),\n",
    "               pd.DataFrame(within_d(click_sensor, df2, 1.5, 0)).reset_index(drop=True)], axis=1)\n",
    "    df_temp.rename(columns={0:'distance'}, inplace=True)\n",
    "\n",
    "    # Get Nearest 3 sensors\n",
    "    df_temp = df_temp.sort_values('distance').iloc[0:3,:]\n",
    "    df_temp = df_temp.reset_index(drop=True)\n",
    "\n",
    "    # DF Nearest\n",
    "    df_nearest = pedestrian[(pedestrian['sensor_id'] == df_temp['sensor_id'][0]) |\n",
    "                 (pedestrian['sensor_id'] == df_temp['sensor_id'][1]) |\n",
    "                 ((pedestrian['sensor_id'] == df_temp['sensor_id'][2]))]\n",
    "\n",
    "    d1 = df_nearest[df_nearest['sensor_id'] == df_temp['sensor_id'][0]]['hourly_counts']*(df_temp['distance'][0]/df_temp['distance'].sum())\n",
    "    d2 = df_nearest[df_nearest['sensor_id'] == df_temp['sensor_id'][1]]['hourly_counts']*(df_temp['distance'][1]/df_temp['distance'].sum())\n",
    "    d3 = df_nearest[df_nearest['sensor_id'] == df_temp['sensor_id'][2]]['hourly_counts']*(df_temp['distance'][2]/df_temp['distance'].sum())\n",
    "\n",
    "    ## Change sensor\n",
    "    sensor_interest = pd.concat([pd.DataFrame(df_nearest[df_nearest['sensor_id'] == df_temp['sensor_id'][0]]['date_time'].reset_index(drop=True)),\n",
    "           pd.DataFrame({'hourly_counts':(d1.values+d2.values+d3.values).round()})], axis=1)\n",
    "\n",
    "    ## Change sensor\n",
    "    sensor_interest['latitude']= click_sensor['Latitude'][0]\n",
    "    sensor_interest['longitude']= click_sensor['Longitude'][0]\n",
    "\n",
    "    my_day_list = []\n",
    "\n",
    "    sensor_interest['date_time'] = pd.to_datetime(sensor_interest['date_time'])\n",
    "\n",
    "    for i in range(len(sensor_interest)):\n",
    "        my_date = sensor_interest['date_time'][i]\n",
    "        my_day = calendar.day_name[my_date.weekday()]\n",
    "        my_day_list.append(my_day)\n",
    "\n",
    "    sensor_interest['Day'] = my_day_list\n",
    "    \n",
    "\n",
    "    return sensor_interest\n",
    "\n"
   ]
  },
  {
   "cell_type": "code",
   "execution_count": 13,
   "metadata": {},
   "outputs": [
    {
     "name": "stdout",
     "output_type": "stream",
     "text": [
      "            date_time  hourly_counts   latitude   longitude     Day\n",
      "0 2019-02-17 19:00:00         1035.0 -37.813252  144.966297  Sunday\n",
      "1 2019-02-17 20:00:00          765.0 -37.813252  144.966297  Sunday\n",
      "2 2019-02-17 21:00:00          547.0 -37.813252  144.966297  Sunday\n",
      "3 2019-02-17 22:00:00          356.0 -37.813252  144.966297  Sunday\n",
      "4 2019-02-17 23:00:00          146.0 -37.813252  144.966297  Sunday\n"
     ]
    }
   ],
   "source": [
    "print(get_ped_any(click, df).head())"
   ]
  }
 ],
 "metadata": {
  "kernelspec": {
   "display_name": "Python 3",
   "language": "python",
   "name": "python3"
  },
  "language_info": {
   "codemirror_mode": {
    "name": "ipython",
    "version": 3
   },
   "file_extension": ".py",
   "mimetype": "text/x-python",
   "name": "python",
   "nbconvert_exporter": "python",
   "pygments_lexer": "ipython3",
   "version": "3.6.8"
  }
 },
 "nbformat": 4,
 "nbformat_minor": 2
}
