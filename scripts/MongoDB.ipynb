{
 "cells": [
  {
   "cell_type": "markdown",
   "metadata": {},
   "source": [
    "## Import Libraries"
   ]
  },
  {
   "cell_type": "code",
   "execution_count": 6,
   "metadata": {},
   "outputs": [],
   "source": [
    "from pymongo import MongoClient\n",
    "import json"
   ]
  },
  {
   "cell_type": "code",
   "execution_count": 508,
   "metadata": {},
   "outputs": [],
   "source": [
    "import pprint"
   ]
  },
  {
   "cell_type": "code",
   "execution_count": 7,
   "metadata": {},
   "outputs": [],
   "source": [
    "MONGODB_HOST = 'localhost'\n",
    "MONGODB_PORT = 27017\n",
    "DBS_NAME = 'mydb'\n",
    "COLLECTION_NAME = 'projects'\n",
    "FIELDS = \"FeatureCollection\""
   ]
  },
  {
   "cell_type": "code",
   "execution_count": 226,
   "metadata": {},
   "outputs": [],
   "source": [
    "def dashboard_projects():\n",
    "    connection = MongoClient(MONGODB_HOST, MONGODB_PORT)\n",
    "    collection = connection[DBS_NAME][COLLECTION_NAME]\n",
    "    projects = collection.find_one({\"type\": \"FeatureCollection\"}, {\"_id\":0})\n",
    "\n",
    "    return projects"
   ]
  },
  {
   "cell_type": "code",
   "execution_count": 256,
   "metadata": {
    "scrolled": true
   },
   "outputs": [
    {
     "data": {
      "text/plain": [
       "{'type': 'FeatureCollection',\n",
       " 'features': [{'type': 'Feature',\n",
       "   'geometry': {'type': 'Point',\n",
       "    'coordinates': [144.965463853978, -37.8077644149636]},\n",
       "   'properties': {'FIELD1': 0,\n",
       "    'Theme': 'Place Of Assembly',\n",
       "    'Sub Theme': 'Art Gallery/Museum',\n",
       "    'Feature Name': 'Old Melbourne Gaol Crime & Justice Experience'}},\n",
       "  {'type': 'Feature',\n",
       "   'geometry': {'type': 'Point',\n",
       "    'coordinates': [144.953478052064, -37.8242574266145]},\n",
       "   'properties': {'FIELD1': 1,\n",
       "    'Theme': 'Place Of Assembly',\n",
       "    'Sub Theme': 'Art Gallery/Museum',\n",
       "    'Feature Name': 'Polly Woodside'}},\n",
       "  {'type': 'Feature',\n",
       "   'geometry': {'type': 'Point',\n",
       "    'coordinates': [144.967252924593, -37.8266045432686]},\n",
       "   'properties': {'FIELD1': 2,\n",
       "    'Theme': 'Place Of Assembly',\n",
       "    'Sub Theme': 'Art Gallery/Museum',\n",
       "    'Feature Name': 'Australian Centre for Contemporary Art'}},\n",
       "  {'type': 'Feature',\n",
       "   'geometry': {'type': 'Point',\n",
       "    'coordinates': [144.968837288153, -37.8219947335768]},\n",
       "   'properties': {'FIELD1': 3,\n",
       "    'Theme': 'Place Of Assembly',\n",
       "    'Sub Theme': 'Art Gallery/Museum',\n",
       "    'Feature Name': 'Victorian Arts Centre'}},\n",
       "  {'type': 'Feature',\n",
       "   'geometry': {'type': 'Point',\n",
       "    'coordinates': [144.969899048343, -37.8174831423197]},\n",
       "   'properties': {'FIELD1': 4,\n",
       "    'Theme': 'Place Of Assembly',\n",
       "    'Sub Theme': 'Art Gallery/Museum',\n",
       "    'Feature Name': 'The Ian Potter Centre: NGV Australia'}},\n",
       "  {'type': 'Feature',\n",
       "   'geometry': {'type': 'Point',\n",
       "    'coordinates': [144.9839700954, -37.8188662730911]},\n",
       "   'properties': {'FIELD1': 5,\n",
       "    'Theme': 'Place Of Assembly',\n",
       "    'Sub Theme': 'Art Gallery/Museum',\n",
       "    'Feature Name': 'Thoroughbred Racing Gallery'}},\n",
       "  {'type': 'Feature',\n",
       "   'geometry': {'type': 'Point',\n",
       "    'coordinates': [144.948496661709, -37.8213744301481]},\n",
       "   'properties': {'FIELD1': 6,\n",
       "    'Theme': 'Place Of Assembly',\n",
       "    'Sub Theme': 'Art Gallery/Museum',\n",
       "    'Feature Name': 'Fox Classic Car Collection'}},\n",
       "  {'type': 'Feature',\n",
       "   'geometry': {'type': 'Point',\n",
       "    'coordinates': [144.971690718887, -37.8035518129299]},\n",
       "   'properties': {'FIELD1': 7,\n",
       "    'Theme': 'Place Of Assembly',\n",
       "    'Sub Theme': 'Art Gallery/Museum',\n",
       "    'Feature Name': 'Melbourne Museum'}},\n",
       "  {'type': 'Feature',\n",
       "   'geometry': {'type': 'Point',\n",
       "    'coordinates': [144.984669809381, -37.8189544909462]},\n",
       "   'properties': {'FIELD1': 8,\n",
       "    'Theme': 'Place Of Assembly',\n",
       "    'Sub Theme': 'Art Gallery/Museum',\n",
       "    'Feature Name': 'National Sports Museum'}},\n",
       "  {'type': 'Feature',\n",
       "   'geometry': {'type': 'Point',\n",
       "    'coordinates': [144.980554992725, -37.8145407488014]},\n",
       "   'properties': {'FIELD1': 9,\n",
       "    'Theme': 'Place Of Assembly',\n",
       "    'Sub Theme': 'Art Gallery/Museum',\n",
       "    'Feature Name': \"Sinclair's Cottage\"}},\n",
       "  {'type': 'Feature',\n",
       "   'geometry': {'type': 'Point',\n",
       "    'coordinates': [144.954039975197, -37.8222182774409]},\n",
       "   'properties': {'FIELD1': 10,\n",
       "    'Theme': 'Place Of Assembly',\n",
       "    'Sub Theme': 'Art Gallery/Museum',\n",
       "    'Feature Name': 'Victoria Police Museum'}},\n",
       "  {'type': 'Feature',\n",
       "   'geometry': {'type': 'Point',\n",
       "    'coordinates': [144.960426777129, -37.8191798798062]},\n",
       "   'properties': {'FIELD1': 11,\n",
       "    'Theme': 'Place Of Assembly',\n",
       "    'Sub Theme': 'Art Gallery/Museum',\n",
       "    'Feature Name': 'Immigration Museum'}},\n",
       "  {'type': 'Feature',\n",
       "   'geometry': {'type': 'Point',\n",
       "    'coordinates': [144.975373745366, -37.8085761281612]},\n",
       "   'properties': {'FIELD1': 12,\n",
       "    'Theme': 'Place Of Assembly',\n",
       "    'Sub Theme': 'Art Gallery/Museum',\n",
       "    'Feature Name': 'Fire Services Museum Victoria'}},\n",
       "  {'type': 'Feature',\n",
       "   'geometry': {'type': 'Point',\n",
       "    'coordinates': [144.964156669702, -37.7973939595503]},\n",
       "   'properties': {'FIELD1': 13,\n",
       "    'Theme': 'Place Of Assembly',\n",
       "    'Sub Theme': 'Art Gallery/Museum',\n",
       "    'Feature Name': 'The Ian Potter Museum Of Art'}},\n",
       "  {'type': 'Feature',\n",
       "   'geometry': {'type': 'Point',\n",
       "    'coordinates': [144.954027907736, -37.8133854259085]},\n",
       "   'properties': {'FIELD1': 14,\n",
       "    'Theme': 'Place Of Assembly',\n",
       "    'Sub Theme': 'Art Gallery/Museum',\n",
       "    'Feature Name': 'Koorie Heritage Trust Inc'}},\n",
       "  {'type': 'Feature',\n",
       "   'geometry': {'type': 'Point',\n",
       "    'coordinates': [144.979471339826, -37.8144604899837]},\n",
       "   'properties': {'FIELD1': 15,\n",
       "    'Theme': 'Place Of Assembly',\n",
       "    'Sub Theme': 'Art Gallery/Museum',\n",
       "    'Feature Name': \"Cooks' Cottage\"}},\n",
       "  {'type': 'Feature',\n",
       "   'geometry': {'type': 'Point',\n",
       "    'coordinates': [144.971521914952, -37.80460262432]},\n",
       "   'properties': {'FIELD1': 16,\n",
       "    'Theme': 'Place Of Assembly',\n",
       "    'Sub Theme': 'Art Gallery/Museum',\n",
       "    'Feature Name': 'Royal Exhibition Building'}},\n",
       "  {'type': 'Feature',\n",
       "   'geometry': {'type': 'Point',\n",
       "    'coordinates': [144.969070431323, -37.8176107327202]},\n",
       "   'properties': {'FIELD1': 17,\n",
       "    'Theme': 'Place Of Assembly',\n",
       "    'Sub Theme': 'Art Gallery/Museum',\n",
       "    'Feature Name': 'Australian Centre For The Moving Image (ACMI)'}},\n",
       "  {'type': 'Feature',\n",
       "   'geometry': {'type': 'Point',\n",
       "    'coordinates': [144.96923385414, -37.8107686127655]},\n",
       "   'properties': {'FIELD1': 18,\n",
       "    'Theme': 'Place Of Assembly',\n",
       "    'Sub Theme': 'Art Gallery/Museum',\n",
       "    'Feature Name': 'The Museum Of Australian Chinese History'}}]}"
      ]
     },
     "execution_count": 256,
     "metadata": {},
     "output_type": "execute_result"
    }
   ],
   "source": [
    "dashboard_projects()"
   ]
  },
  {
   "cell_type": "code",
   "execution_count": 295,
   "metadata": {},
   "outputs": [],
   "source": [
    "# Call all documents\n",
    "connection = MongoClient(MONGODB_HOST, MONGODB_PORT)\n",
    "collection = connection[DBS_NAME][COLLECTION_NAME]\n",
    "projects2 = collection.find_one({\"type\": \"FeatureCollection\"}, {\"_id\":0})"
   ]
  },
  {
   "cell_type": "code",
   "execution_count": 321,
   "metadata": {},
   "outputs": [],
   "source": [
    "client = MongoClient()\n",
    "db = client.mydb\n",
    "collection = db.projects"
   ]
  },
  {
   "cell_type": "code",
   "execution_count": 319,
   "metadata": {},
   "outputs": [],
   "source": [
    "from bson.son import SON\n",
    "from pymongo import MongoClient\n",
    "\n",
    "db = MongoClient()\n",
    "latitude = -37.44609999\n",
    "longitude = 144.96923385414\n",
    "max_distance = 1000 #meters    "
   ]
  },
  {
   "cell_type": "code",
   "execution_count": 903,
   "metadata": {},
   "outputs": [],
   "source": [
    "location = [144.965234, -37.8076]"
   ]
  },
  {
   "cell_type": "code",
   "execution_count": 755,
   "metadata": {},
   "outputs": [],
   "source": [
    "db.collection.drop_indexes()"
   ]
  },
  {
   "cell_type": "code",
   "execution_count": 756,
   "metadata": {},
   "outputs": [
    {
     "name": "stdout",
     "output_type": "stream",
     "text": [
      "SON([('v', 2), ('key', SON([('_id', 1)])), ('name', '_id_'), ('ns', 'mydb.collection')])\n"
     ]
    }
   ],
   "source": [
    "for idx in db.collection.list_indexes():\n",
    "    print (idx)"
   ]
  },
  {
   "cell_type": "code",
   "execution_count": 757,
   "metadata": {},
   "outputs": [
    {
     "data": {
      "text/plain": [
       "'features.geometry.coordinates_2dsphere'"
      ]
     },
     "execution_count": 757,
     "metadata": {},
     "output_type": "execute_result"
    }
   ],
   "source": [
    "db.collection.create_index([( \"features.geometry.coordinates\", \"2dsphere\" )])"
   ]
  },
  {
   "cell_type": "code",
   "execution_count": 785,
   "metadata": {
    "scrolled": true
   },
   "outputs": [
    {
     "name": "stdout",
     "output_type": "stream",
     "text": [
      "[]\n"
     ]
    }
   ],
   "source": [
    "## Unwind search\n",
    "\n",
    "pipeline = [{\"$unwind\": \"$features\"},\n",
    "            {\"$match\":{'features.geometry.coordinates':[144.965463853978, -37.8077644149636]}},\n",
    "            {\"$group\": {\"_id\": \"$features\"}}]\n",
    "\n",
    "pprint.pprint(list(collection.aggregate(pipeline)))"
   ]
  },
  {
   "cell_type": "code",
   "execution_count": 787,
   "metadata": {
    "scrolled": true
   },
   "outputs": [
    {
     "name": "stdout",
     "output_type": "stream",
     "text": [
      "[{'_id': {'geometry': {'coordinates': [144.969070431323, -37.8176107327202],\n",
      "                       'type': 'Point'},\n",
      "          'properties': {'FIELD1': 17,\n",
      "                         'Feature Name': 'Australian Centre For The Moving '\n",
      "                                         'Image (ACMI)',\n",
      "                         'Sub Theme': 'Art Gallery/Museum',\n",
      "                         'Theme': 'Place Of Assembly'},\n",
      "          'type': 'Feature'}},\n",
      " {'_id': {'geometry': {'coordinates': [144.971521914952, -37.80460262432],\n",
      "                       'type': 'Point'},\n",
      "          'properties': {'FIELD1': 16,\n",
      "                         'Feature Name': 'Royal Exhibition Building',\n",
      "                         'Sub Theme': 'Art Gallery/Museum',\n",
      "                         'Theme': 'Place Of Assembly'},\n",
      "          'type': 'Feature'}},\n",
      " {'_id': {'geometry': {'coordinates': [144.979471339826, -37.8144604899837],\n",
      "                       'type': 'Point'},\n",
      "          'properties': {'FIELD1': 15,\n",
      "                         'Feature Name': \"Cooks' Cottage\",\n",
      "                         'Sub Theme': 'Art Gallery/Museum',\n",
      "                         'Theme': 'Place Of Assembly'},\n",
      "          'type': 'Feature'}},\n",
      " {'_id': {'geometry': {'coordinates': [144.975373745366, -37.8085761281612],\n",
      "                       'type': 'Point'},\n",
      "          'properties': {'FIELD1': 12,\n",
      "                         'Feature Name': 'Fire Services Museum Victoria',\n",
      "                         'Sub Theme': 'Art Gallery/Museum',\n",
      "                         'Theme': 'Place Of Assembly'},\n",
      "          'type': 'Feature'}},\n",
      " {'_id': {'geometry': {'coordinates': [144.960426777129, -37.8191798798062],\n",
      "                       'type': 'Point'},\n",
      "          'properties': {'FIELD1': 11,\n",
      "                         'Feature Name': 'Immigration Museum',\n",
      "                         'Sub Theme': 'Art Gallery/Museum',\n",
      "                         'Theme': 'Place Of Assembly'},\n",
      "          'type': 'Feature'}},\n",
      " {'_id': {'geometry': {'coordinates': [144.980554992725, -37.8145407488014],\n",
      "                       'type': 'Point'},\n",
      "          'properties': {'FIELD1': 9,\n",
      "                         'Feature Name': \"Sinclair's Cottage\",\n",
      "                         'Sub Theme': 'Art Gallery/Museum',\n",
      "                         'Theme': 'Place Of Assembly'},\n",
      "          'type': 'Feature'}},\n",
      " {'_id': {'geometry': {'coordinates': [144.954027907736, -37.8133854259085],\n",
      "                       'type': 'Point'},\n",
      "          'properties': {'FIELD1': 14,\n",
      "                         'Feature Name': 'Koorie Heritage Trust Inc',\n",
      "                         'Sub Theme': 'Art Gallery/Museum',\n",
      "                         'Theme': 'Place Of Assembly'},\n",
      "          'type': 'Feature'}},\n",
      " {'_id': {'geometry': {'coordinates': [144.984669809381, -37.8189544909462],\n",
      "                       'type': 'Point'},\n",
      "          'properties': {'FIELD1': 8,\n",
      "                         'Feature Name': 'National Sports Museum',\n",
      "                         'Sub Theme': 'Art Gallery/Museum',\n",
      "                         'Theme': 'Place Of Assembly'},\n",
      "          'type': 'Feature'}},\n",
      " {'_id': {'geometry': {'coordinates': [144.9839700954, -37.8188662730911],\n",
      "                       'type': 'Point'},\n",
      "          'properties': {'FIELD1': 5,\n",
      "                         'Feature Name': 'Thoroughbred Racing Gallery',\n",
      "                         'Sub Theme': 'Art Gallery/Museum',\n",
      "                         'Theme': 'Place Of Assembly'},\n",
      "          'type': 'Feature'}},\n",
      " {'_id': {'geometry': {'coordinates': [144.967252924593, -37.8266045432686],\n",
      "                       'type': 'Point'},\n",
      "          'properties': {'FIELD1': 2,\n",
      "                         'Feature Name': 'Australian Centre for Contemporary '\n",
      "                                         'Art',\n",
      "                         'Sub Theme': 'Art Gallery/Museum',\n",
      "                         'Theme': 'Place Of Assembly'},\n",
      "          'type': 'Feature'}},\n",
      " {'_id': {'geometry': {'coordinates': [144.968837288153, -37.8219947335768],\n",
      "                       'type': 'Point'},\n",
      "          'properties': {'FIELD1': 3,\n",
      "                         'Feature Name': 'Victorian Arts Centre',\n",
      "                         'Sub Theme': 'Art Gallery/Museum',\n",
      "                         'Theme': 'Place Of Assembly'},\n",
      "          'type': 'Feature'}},\n",
      " {'_id': {'geometry': {'coordinates': [144.953478052064, -37.8242574266145],\n",
      "                       'type': 'Point'},\n",
      "          'properties': {'FIELD1': 1,\n",
      "                         'Feature Name': 'Polly Woodside',\n",
      "                         'Sub Theme': 'Art Gallery/Museum',\n",
      "                         'Theme': 'Place Of Assembly'},\n",
      "          'type': 'Feature'}},\n",
      " {'_id': {'geometry': {'coordinates': [144.948496661709, -37.8213744301481],\n",
      "                       'type': 'Point'},\n",
      "          'properties': {'FIELD1': 6,\n",
      "                         'Feature Name': 'Fox Classic Car Collection',\n",
      "                         'Sub Theme': 'Art Gallery/Museum',\n",
      "                         'Theme': 'Place Of Assembly'},\n",
      "          'type': 'Feature'}},\n",
      " {'_id': {'geometry': {'coordinates': [144.964156669702, -37.7973939595503],\n",
      "                       'type': 'Point'},\n",
      "          'properties': {'FIELD1': 13,\n",
      "                         'Feature Name': 'The Ian Potter Museum Of Art',\n",
      "                         'Sub Theme': 'Art Gallery/Museum',\n",
      "                         'Theme': 'Place Of Assembly'},\n",
      "          'type': 'Feature'}},\n",
      " {'_id': {'geometry': {'coordinates': [144.969899048343, -37.8174831423197],\n",
      "                       'type': 'Point'},\n",
      "          'properties': {'FIELD1': 4,\n",
      "                         'Feature Name': 'The Ian Potter Centre: NGV Australia',\n",
      "                         'Sub Theme': 'Art Gallery/Museum',\n",
      "                         'Theme': 'Place Of Assembly'},\n",
      "          'type': 'Feature'}},\n",
      " {'_id': {'geometry': {'coordinates': [144.971690718887, -37.8035518129299],\n",
      "                       'type': 'Point'},\n",
      "          'properties': {'FIELD1': 7,\n",
      "                         'Feature Name': 'Melbourne Museum',\n",
      "                         'Sub Theme': 'Art Gallery/Museum',\n",
      "                         'Theme': 'Place Of Assembly'},\n",
      "          'type': 'Feature'}},\n",
      " {'_id': {'geometry': {'coordinates': [144.954039975197, -37.8222182774409],\n",
      "                       'type': 'Point'},\n",
      "          'properties': {'FIELD1': 10,\n",
      "                         'Feature Name': 'Victoria Police Museum',\n",
      "                         'Sub Theme': 'Art Gallery/Museum',\n",
      "                         'Theme': 'Place Of Assembly'},\n",
      "          'type': 'Feature'}},\n",
      " {'_id': {'geometry': {'coordinates': [144.96923385414, -37.8107686127655],\n",
      "                       'type': 'Point'},\n",
      "          'properties': {'FIELD1': 18,\n",
      "                         'Feature Name': 'The Museum Of Australian Chinese '\n",
      "                                         'History',\n",
      "                         'Sub Theme': 'Art Gallery/Museum',\n",
      "                         'Theme': 'Place Of Assembly'},\n",
      "          'type': 'Feature'}},\n",
      " {'_id': {'geometry': {'coordinates': [144.965463853978, -37.8077644149636],\n",
      "                       'type': 'Point'},\n",
      "          'properties': {'FIELD1': 0,\n",
      "                         'Feature Name': 'Old Melbourne Gaol Crime & Justice '\n",
      "                                         'Experience',\n",
      "                         'Sub Theme': 'Art Gallery/Museum',\n",
      "                         'Theme': 'Place Of Assembly'},\n",
      "          'type': 'Feature'}}]\n"
     ]
    }
   ],
   "source": [
    "pipeline2 = [{\"$unwind\": \"$features\"},\n",
    "            {\"$match\":{'features.properties.Sub Theme' : 'Art Gallery/Museum'}},\n",
    "            {\"$group\": {\"_id\": \"$features\"}}]\n",
    "\n",
    "pprint.pprint(list(collection.aggregate(pipeline2)))"
   ]
  },
  {
   "cell_type": "markdown",
   "metadata": {},
   "source": [
    "## Working code"
   ]
  },
  {
   "cell_type": "code",
   "execution_count": 904,
   "metadata": {
    "scrolled": false
   },
   "outputs": [
    {
     "name": "stdout",
     "output_type": "stream",
     "text": [
      "[{'_id': ObjectId('5ca63a65122b9a6192720138'),\n",
      "  'dist': {'calculated': 27.27001406965783,\n",
      "           'location': [144.965463853978, -37.8077644149636]},\n",
      "  'features': {'geometry': {'coordinates': [144.965463853978,\n",
      "                                            -37.8077644149636],\n",
      "                            'type': 'Point'},\n",
      "               'properties': {'FIELD1': 0,\n",
      "                              'Feature Name': 'Old Melbourne Gaol Crime & '\n",
      "                                              'Justice Experience',\n",
      "                              'Sub Theme': 'Art Gallery/Museum',\n",
      "                              'Theme': 'Place Of Assembly'},\n",
      "               'type': 'Feature'},\n",
      "  'type': 'FeatureCollection'}]\n"
     ]
    }
   ],
   "source": [
    "pipeline = [\n",
    "        {'$geoNear': {\n",
    "            'near' : { 'type' : \"Point\", 'coordinates' : location },\n",
    "             'distanceField': \"dist.calculated\",\n",
    "             'maxDistance': 100,\n",
    "             'includeLocs': \"dist.location\",\n",
    "              'key': 'features.geometry.coordinates',\n",
    "             'uniqueDocs': False,\n",
    "             'spherical': True}},\n",
    "    { \"$unwind\" : \"$features\" },\n",
    "    { \"$redact\" : {   \n",
    "        \"$cond\" : {\n",
    "            \"if\" : { \"$eq\" : [ { \"$cmp\" : [ \"$features.geometry.coordinates\", \"$dist.location\" ] }, 0 ] },\n",
    "            \"then\" : \"$$KEEP\",\n",
    "            \"else\" : \"$$PRUNE\"\n",
    "        }\n",
    "    }\n",
    "}\n",
    "]\n",
    "\n",
    "pprint.pprint(list(collection.aggregate(pipeline)))"
   ]
  },
  {
   "cell_type": "markdown",
   "metadata": {},
   "source": [
    "### Check"
   ]
  },
  {
   "cell_type": "code",
   "execution_count": 820,
   "metadata": {},
   "outputs": [
    {
     "name": "stdout",
     "output_type": "stream",
     "text": [
      "157.69509130741474 m\n"
     ]
    }
   ],
   "source": [
    "a1 = [144.9654, -37.8076]\n",
    "a2 = [144.9656988, -37.80619915]\n",
    "\n",
    "distance_finder(a1, a2)"
   ]
  },
  {
   "cell_type": "markdown",
   "metadata": {},
   "source": [
    "## Implement Automation"
   ]
  },
  {
   "cell_type": "code",
   "execution_count": 929,
   "metadata": {},
   "outputs": [],
   "source": [
    "click = [144.9607616045045, -37.811441609877804]"
   ]
  },
  {
   "cell_type": "code",
   "execution_count": 920,
   "metadata": {},
   "outputs": [],
   "source": [
    "location = [144.965234, -37.8076]"
   ]
  },
  {
   "cell_type": "code",
   "execution_count": 931,
   "metadata": {},
   "outputs": [
    {
     "name": "stdout",
     "output_type": "stream",
     "text": [
      "[{'_id': ObjectId('5cb0a55fe39a5cbeb4a206d7'),\n",
      "  'dist': {'calculated': 68.10091452076718,\n",
      "           'location': [144.9602499, -37.81190077]},\n",
      "  'features': {'geometry': {'coordinates': [144.9602499, -37.81190077],\n",
      "                            'type': 'Point'},\n",
      "               'properties': {'Base property ID': 106018,\n",
      "                              'Block ID': 74,\n",
      "                              'CLUE small area': 'Melbourne (CBD)',\n",
      "                              'Census year': 2015,\n",
      "                              'FIELD1': 67,\n",
      "                              'Industry (ANZSIC4) code': 4520,\n",
      "                              'Industry (ANZSIC4) description': 'Pubs, Taverns '\n",
      "                                                                'and Bars',\n",
      "                              'Number of seats': 50,\n",
      "                              'Property ID': 106018,\n",
      "                              'Seating type': 'Seats - Indoor',\n",
      "                              'Street address': '395-397 Little Lonsdale '\n",
      "                                                'Street',\n",
      "                              'Trading name': 'Horse Bazaar'},\n",
      "               'type': 'Feature'},\n",
      "  'type': 'FeatureCollection'}]\n"
     ]
    }
   ],
   "source": [
    "pipeline = [\n",
    "        {'$geoNear': {\n",
    "            'near' : { 'type' : \"Point\", 'coordinates' : click },\n",
    "             'distanceField': \"dist.calculated\",\n",
    "             'maxDistance': 500,\n",
    "             'includeLocs': \"dist.location\",\n",
    "              'key': 'features.geometry.coordinates',\n",
    "             'uniqueDocs': False,\n",
    "             'spherical': True}},\n",
    "    { \"$unwind\" : \"$features\" },\n",
    "    { \"$redact\" : {   \n",
    "        \"$cond\" : {\n",
    "            \"if\" : { \"$eq\" : [ { \"$cmp\" : [ \"$features.geometry.coordinates\", \"$dist.location\" ] }, 0 ] },\n",
    "            \"then\" : \"$$KEEP\",\n",
    "            \"else\" : \"$$PRUNE\"\n",
    "        }\n",
    "    }\n",
    "}\n",
    "]\n",
    "\n",
    "pprint.pprint(list(collection.aggregate(pipeline)))"
   ]
  },
  {
   "cell_type": "code",
   "execution_count": 932,
   "metadata": {},
   "outputs": [
    {
     "name": "stdout",
     "output_type": "stream",
     "text": [
      "[{'_id': ObjectId('5cb0a55fe39a5cbeb4a206d7'),\n",
      "  'dist': {'calculated': 68.10091452076718,\n",
      "           'location': [144.9602499, -37.81190077]},\n",
      "  'features': {'geometry': {'coordinates': [144.9602499, -37.81190077],\n",
      "                            'type': 'Point'},\n",
      "               'properties': {'Base property ID': 106018,\n",
      "                              'Block ID': 74,\n",
      "                              'CLUE small area': 'Melbourne (CBD)',\n",
      "                              'Census year': 2015,\n",
      "                              'FIELD1': 67,\n",
      "                              'Industry (ANZSIC4) code': 4520,\n",
      "                              'Industry (ANZSIC4) description': 'Pubs, Taverns '\n",
      "                                                                'and Bars',\n",
      "                              'Number of seats': 50,\n",
      "                              'Property ID': 106018,\n",
      "                              'Seating type': 'Seats - Indoor',\n",
      "                              'Street address': '395-397 Little Lonsdale '\n",
      "                                                'Street',\n",
      "                              'Trading name': 'Horse Bazaar'},\n",
      "               'type': 'Feature'},\n",
      "  'type': 'FeatureCollection'}]\n"
     ]
    }
   ],
   "source": [
    "connection = MongoClient(MONGODB_HOST, MONGODB_PORT)\n",
    "collection = connection[DBS_NAME][COLLECTION_NAME]\n",
    "pprint.pprint(list(collection.aggregate(pipeline)))\n",
    "connection.close()"
   ]
  },
  {
   "cell_type": "code",
   "execution_count": null,
   "metadata": {},
   "outputs": [],
   "source": []
  },
  {
   "cell_type": "code",
   "execution_count": null,
   "metadata": {},
   "outputs": [],
   "source": []
  },
  {
   "cell_type": "code",
   "execution_count": null,
   "metadata": {},
   "outputs": [],
   "source": []
  },
  {
   "cell_type": "code",
   "execution_count": null,
   "metadata": {},
   "outputs": [],
   "source": []
  },
  {
   "cell_type": "code",
   "execution_count": null,
   "metadata": {},
   "outputs": [],
   "source": []
  },
  {
   "cell_type": "code",
   "execution_count": null,
   "metadata": {},
   "outputs": [],
   "source": []
  },
  {
   "cell_type": "code",
   "execution_count": null,
   "metadata": {},
   "outputs": [],
   "source": []
  },
  {
   "cell_type": "markdown",
   "metadata": {},
   "source": [
    "## Try +-500"
   ]
  },
  {
   "cell_type": "code",
   "execution_count": 1,
   "metadata": {},
   "outputs": [],
   "source": [
    "click = [-215.04030733337393, -37.8145422437346]"
   ]
  },
  {
   "cell_type": "code",
   "execution_count": 55,
   "metadata": {},
   "outputs": [],
   "source": [
    "target = [144.96923385414, -37.8107686127655]"
   ]
  },
  {
   "cell_type": "code",
   "execution_count": 90,
   "metadata": {},
   "outputs": [
    {
     "data": {
      "text/plain": [
       "{'type': 'Feature',\n",
       " 'geometry': {'type': 'Point',\n",
       "  'coordinates': [144.965463853978, -37.8077644149636]},\n",
       " 'properties': {'FIELD1': 0,\n",
       "  'Theme': 'Place Of Assembly',\n",
       "  'Sub Theme': 'Art Gallery/Museum',\n",
       "  'Feature Name': 'Old Melbourne Gaol Crime & Justice Experience'}}"
      ]
     },
     "execution_count": 90,
     "metadata": {},
     "output_type": "execute_result"
    }
   ],
   "source": [
    "projects.get('features')[0]"
   ]
  },
  {
   "cell_type": "code",
   "execution_count": 84,
   "metadata": {},
   "outputs": [],
   "source": [
    "from geopy import distance"
   ]
  },
  {
   "cell_type": "code",
   "execution_count": 808,
   "metadata": {},
   "outputs": [],
   "source": [
    "def distance_finder(click, target):\n",
    "    # find distance in km using 2 lists\n",
    "    return print(distance.distance((click[1], click[0]), (target[1], target[0])).m, \"m\")"
   ]
  },
  {
   "cell_type": "code",
   "execution_count": 809,
   "metadata": {},
   "outputs": [
    {
     "name": "stdout",
     "output_type": "stream",
     "text": [
      "938.7704897560235 m\n"
     ]
    }
   ],
   "source": [
    "distance_finder(click, target)"
   ]
  },
  {
   "cell_type": "code",
   "execution_count": null,
   "metadata": {},
   "outputs": [],
   "source": []
  }
 ],
 "metadata": {
  "kernelspec": {
   "display_name": "Python 3",
   "language": "python",
   "name": "python3"
  },
  "language_info": {
   "codemirror_mode": {
    "name": "ipython",
    "version": 3
   },
   "file_extension": ".py",
   "mimetype": "text/x-python",
   "name": "python",
   "nbconvert_exporter": "python",
   "pygments_lexer": "ipython3",
   "version": "3.6.8"
  }
 },
 "nbformat": 4,
 "nbformat_minor": 2
}
