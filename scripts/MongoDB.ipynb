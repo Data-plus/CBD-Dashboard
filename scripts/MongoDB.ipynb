{
 "cells": [
  {
   "cell_type": "markdown",
   "metadata": {},
   "source": [
    "## Import Libraries"
   ]
  },
  {
   "cell_type": "code",
   "execution_count": 4,
   "metadata": {},
   "outputs": [],
   "source": [
    "from pymongo import MongoClient\n",
    "from bson.son import SON\n",
    "import json"
   ]
  },
  {
   "cell_type": "code",
   "execution_count": 2,
   "metadata": {},
   "outputs": [],
   "source": [
    "import pprint"
   ]
  },
  {
   "cell_type": "code",
   "execution_count": 174,
   "metadata": {},
   "outputs": [],
   "source": [
    "MONGODB_HOST = 'localhost'\n",
    "MONGODB_PORT = 27017\n",
    "DBS_NAME = 'mydb'\n",
    "COLLECTION_NAME = 'projects'\n",
    "FIELDS = \"FeatureCollection\""
   ]
  },
  {
   "cell_type": "code",
   "execution_count": 175,
   "metadata": {},
   "outputs": [],
   "source": [
    "client = MongoClient()\n",
    "db = client.mydb\n",
    "collection = db.projects"
   ]
  },
  {
   "cell_type": "markdown",
   "metadata": {},
   "source": [
    "### Code"
   ]
  },
  {
   "cell_type": "code",
   "execution_count": 226,
   "metadata": {},
   "outputs": [],
   "source": [
    "def dashboard_projects():\n",
    "    connection = MongoClient(MONGODB_HOST, MONGODB_PORT)\n",
    "    collection = connection[DBS_NAME][COLLECTION_NAME]\n",
    "    projects = collection.find_one({\"type\": \"FeatureCollection\"}, {\"_id\":0})\n",
    "\n",
    "    return projects"
   ]
  },
  {
   "cell_type": "code",
   "execution_count": 256,
   "metadata": {
    "scrolled": true
   },
   "outputs": [
    {
     "data": {
      "text/plain": [
       "{'type': 'FeatureCollection',\n",
       " 'features': [{'type': 'Feature',\n",
       "   'geometry': {'type': 'Point',\n",
       "    'coordinates': [144.965463853978, -37.8077644149636]},\n",
       "   'properties': {'FIELD1': 0,\n",
       "    'Theme': 'Place Of Assembly',\n",
       "    'Sub Theme': 'Art Gallery/Museum',\n",
       "    'Feature Name': 'Old Melbourne Gaol Crime & Justice Experience'}},\n",
       "  {'type': 'Feature',\n",
       "   'geometry': {'type': 'Point',\n",
       "    'coordinates': [144.953478052064, -37.8242574266145]},\n",
       "   'properties': {'FIELD1': 1,\n",
       "    'Theme': 'Place Of Assembly',\n",
       "    'Sub Theme': 'Art Gallery/Museum',\n",
       "    'Feature Name': 'Polly Woodside'}},\n",
       "  {'type': 'Feature',\n",
       "   'geometry': {'type': 'Point',\n",
       "    'coordinates': [144.967252924593, -37.8266045432686]},\n",
       "   'properties': {'FIELD1': 2,\n",
       "    'Theme': 'Place Of Assembly',\n",
       "    'Sub Theme': 'Art Gallery/Museum',\n",
       "    'Feature Name': 'Australian Centre for Contemporary Art'}},\n",
       "  {'type': 'Feature',\n",
       "   'geometry': {'type': 'Point',\n",
       "    'coordinates': [144.968837288153, -37.8219947335768]},\n",
       "   'properties': {'FIELD1': 3,\n",
       "    'Theme': 'Place Of Assembly',\n",
       "    'Sub Theme': 'Art Gallery/Museum',\n",
       "    'Feature Name': 'Victorian Arts Centre'}},\n",
       "  {'type': 'Feature',\n",
       "   'geometry': {'type': 'Point',\n",
       "    'coordinates': [144.969899048343, -37.8174831423197]},\n",
       "   'properties': {'FIELD1': 4,\n",
       "    'Theme': 'Place Of Assembly',\n",
       "    'Sub Theme': 'Art Gallery/Museum',\n",
       "    'Feature Name': 'The Ian Potter Centre: NGV Australia'}},\n",
       "  {'type': 'Feature',\n",
       "   'geometry': {'type': 'Point',\n",
       "    'coordinates': [144.9839700954, -37.8188662730911]},\n",
       "   'properties': {'FIELD1': 5,\n",
       "    'Theme': 'Place Of Assembly',\n",
       "    'Sub Theme': 'Art Gallery/Museum',\n",
       "    'Feature Name': 'Thoroughbred Racing Gallery'}},\n",
       "  {'type': 'Feature',\n",
       "   'geometry': {'type': 'Point',\n",
       "    'coordinates': [144.948496661709, -37.8213744301481]},\n",
       "   'properties': {'FIELD1': 6,\n",
       "    'Theme': 'Place Of Assembly',\n",
       "    'Sub Theme': 'Art Gallery/Museum',\n",
       "    'Feature Name': 'Fox Classic Car Collection'}},\n",
       "  {'type': 'Feature',\n",
       "   'geometry': {'type': 'Point',\n",
       "    'coordinates': [144.971690718887, -37.8035518129299]},\n",
       "   'properties': {'FIELD1': 7,\n",
       "    'Theme': 'Place Of Assembly',\n",
       "    'Sub Theme': 'Art Gallery/Museum',\n",
       "    'Feature Name': 'Melbourne Museum'}},\n",
       "  {'type': 'Feature',\n",
       "   'geometry': {'type': 'Point',\n",
       "    'coordinates': [144.984669809381, -37.8189544909462]},\n",
       "   'properties': {'FIELD1': 8,\n",
       "    'Theme': 'Place Of Assembly',\n",
       "    'Sub Theme': 'Art Gallery/Museum',\n",
       "    'Feature Name': 'National Sports Museum'}},\n",
       "  {'type': 'Feature',\n",
       "   'geometry': {'type': 'Point',\n",
       "    'coordinates': [144.980554992725, -37.8145407488014]},\n",
       "   'properties': {'FIELD1': 9,\n",
       "    'Theme': 'Place Of Assembly',\n",
       "    'Sub Theme': 'Art Gallery/Museum',\n",
       "    'Feature Name': \"Sinclair's Cottage\"}},\n",
       "  {'type': 'Feature',\n",
       "   'geometry': {'type': 'Point',\n",
       "    'coordinates': [144.954039975197, -37.8222182774409]},\n",
       "   'properties': {'FIELD1': 10,\n",
       "    'Theme': 'Place Of Assembly',\n",
       "    'Sub Theme': 'Art Gallery/Museum',\n",
       "    'Feature Name': 'Victoria Police Museum'}},\n",
       "  {'type': 'Feature',\n",
       "   'geometry': {'type': 'Point',\n",
       "    'coordinates': [144.960426777129, -37.8191798798062]},\n",
       "   'properties': {'FIELD1': 11,\n",
       "    'Theme': 'Place Of Assembly',\n",
       "    'Sub Theme': 'Art Gallery/Museum',\n",
       "    'Feature Name': 'Immigration Museum'}},\n",
       "  {'type': 'Feature',\n",
       "   'geometry': {'type': 'Point',\n",
       "    'coordinates': [144.975373745366, -37.8085761281612]},\n",
       "   'properties': {'FIELD1': 12,\n",
       "    'Theme': 'Place Of Assembly',\n",
       "    'Sub Theme': 'Art Gallery/Museum',\n",
       "    'Feature Name': 'Fire Services Museum Victoria'}},\n",
       "  {'type': 'Feature',\n",
       "   'geometry': {'type': 'Point',\n",
       "    'coordinates': [144.964156669702, -37.7973939595503]},\n",
       "   'properties': {'FIELD1': 13,\n",
       "    'Theme': 'Place Of Assembly',\n",
       "    'Sub Theme': 'Art Gallery/Museum',\n",
       "    'Feature Name': 'The Ian Potter Museum Of Art'}},\n",
       "  {'type': 'Feature',\n",
       "   'geometry': {'type': 'Point',\n",
       "    'coordinates': [144.954027907736, -37.8133854259085]},\n",
       "   'properties': {'FIELD1': 14,\n",
       "    'Theme': 'Place Of Assembly',\n",
       "    'Sub Theme': 'Art Gallery/Museum',\n",
       "    'Feature Name': 'Koorie Heritage Trust Inc'}},\n",
       "  {'type': 'Feature',\n",
       "   'geometry': {'type': 'Point',\n",
       "    'coordinates': [144.979471339826, -37.8144604899837]},\n",
       "   'properties': {'FIELD1': 15,\n",
       "    'Theme': 'Place Of Assembly',\n",
       "    'Sub Theme': 'Art Gallery/Museum',\n",
       "    'Feature Name': \"Cooks' Cottage\"}},\n",
       "  {'type': 'Feature',\n",
       "   'geometry': {'type': 'Point',\n",
       "    'coordinates': [144.971521914952, -37.80460262432]},\n",
       "   'properties': {'FIELD1': 16,\n",
       "    'Theme': 'Place Of Assembly',\n",
       "    'Sub Theme': 'Art Gallery/Museum',\n",
       "    'Feature Name': 'Royal Exhibition Building'}},\n",
       "  {'type': 'Feature',\n",
       "   'geometry': {'type': 'Point',\n",
       "    'coordinates': [144.969070431323, -37.8176107327202]},\n",
       "   'properties': {'FIELD1': 17,\n",
       "    'Theme': 'Place Of Assembly',\n",
       "    'Sub Theme': 'Art Gallery/Museum',\n",
       "    'Feature Name': 'Australian Centre For The Moving Image (ACMI)'}},\n",
       "  {'type': 'Feature',\n",
       "   'geometry': {'type': 'Point',\n",
       "    'coordinates': [144.96923385414, -37.8107686127655]},\n",
       "   'properties': {'FIELD1': 18,\n",
       "    'Theme': 'Place Of Assembly',\n",
       "    'Sub Theme': 'Art Gallery/Museum',\n",
       "    'Feature Name': 'The Museum Of Australian Chinese History'}}]}"
      ]
     },
     "execution_count": 256,
     "metadata": {},
     "output_type": "execute_result"
    }
   ],
   "source": [
    "dashboard_projects()"
   ]
  },
  {
   "cell_type": "code",
   "execution_count": 295,
   "metadata": {},
   "outputs": [],
   "source": [
    "# Call all documents\n",
    "connection = MongoClient(MONGODB_HOST, MONGODB_PORT)\n",
    "collection = connection[DBS_NAME][COLLECTION_NAME]\n",
    "projects2 = collection.find_one({\"type\": \"FeatureCollection\"}, {\"_id\":0})"
   ]
  },
  {
   "cell_type": "code",
   "execution_count": 319,
   "metadata": {},
   "outputs": [],
   "source": [
    "db = MongoClient()\n",
    "latitude = -37.44609999\n",
    "longitude = 144.96923385414\n",
    "max_distance = 1000 #meters    "
   ]
  },
  {
   "cell_type": "code",
   "execution_count": 50,
   "metadata": {},
   "outputs": [],
   "source": [
    "location = [144.965234, -37.8076]"
   ]
  },
  {
   "cell_type": "code",
   "execution_count": 43,
   "metadata": {},
   "outputs": [],
   "source": [
    "db.collection.drop_indexes()"
   ]
  },
  {
   "cell_type": "code",
   "execution_count": 48,
   "metadata": {},
   "outputs": [
    {
     "name": "stdout",
     "output_type": "stream",
     "text": [
      "SON([('v', 2), ('key', SON([('_id', 1)])), ('name', '_id_'), ('ns', 'mydb.collection')])\n",
      "SON([('v', 2), ('key', SON([('features.geometry.coordinates', '2dsphere')])), ('name', 'features.geometry.coordinates_2dsphere'), ('ns', 'mydb.collection'), ('2dsphereIndexVersion', 3)])\n"
     ]
    }
   ],
   "source": [
    "for idx in db.collection.list_indexes():\n",
    "    print (idx)"
   ]
  },
  {
   "cell_type": "code",
   "execution_count": 45,
   "metadata": {},
   "outputs": [
    {
     "data": {
      "text/plain": [
       "'features.geometry.coordinates_2dsphere'"
      ]
     },
     "execution_count": 45,
     "metadata": {},
     "output_type": "execute_result"
    }
   ],
   "source": [
    "db.collection.create_index([( \"features.geometry.coordinates\", \"2dsphere\" )])"
   ]
  },
  {
   "cell_type": "code",
   "execution_count": 785,
   "metadata": {
    "scrolled": true
   },
   "outputs": [
    {
     "name": "stdout",
     "output_type": "stream",
     "text": [
      "[]\n"
     ]
    }
   ],
   "source": [
    "## Unwind search\n",
    "\n",
    "pipeline = [{\"$unwind\": \"$features\"},\n",
    "            {\"$match\":{'features.geometry.coordinates':[144.965463853978, -37.8077644149636]}},\n",
    "            {\"$group\": {\"_id\": \"$features\"}}]\n",
    "\n",
    "pprint.pprint(list(collection.aggregate(pipeline)))"
   ]
  },
  {
   "cell_type": "code",
   "execution_count": 20,
   "metadata": {
    "scrolled": true
   },
   "outputs": [
    {
     "name": "stdout",
     "output_type": "stream",
     "text": [
      "[{'_id': {'geometry': {'coordinates': [144.969070431323, -37.8176107327202],\n",
      "                       'type': 'Point'},\n",
      "          'properties': {'FIELD1': 17,\n",
      "                         'Feature Name': 'Australian Centre For The Moving '\n",
      "                                         'Image (ACMI)',\n",
      "                         'Sub Theme': 'Art Gallery/Museum',\n",
      "                         'Theme': 'Place Of Assembly'},\n",
      "          'type': 'Feature'}},\n",
      " {'_id': {'geometry': {'coordinates': [144.971521914952, -37.80460262432],\n",
      "                       'type': 'Point'},\n",
      "          'properties': {'FIELD1': 16,\n",
      "                         'Feature Name': 'Royal Exhibition Building',\n",
      "                         'Sub Theme': 'Art Gallery/Museum',\n",
      "                         'Theme': 'Place Of Assembly'},\n",
      "          'type': 'Feature'}},\n",
      " {'_id': {'geometry': {'coordinates': [144.979471339826, -37.8144604899837],\n",
      "                       'type': 'Point'},\n",
      "          'properties': {'FIELD1': 15,\n",
      "                         'Feature Name': \"Cooks' Cottage\",\n",
      "                         'Sub Theme': 'Art Gallery/Museum',\n",
      "                         'Theme': 'Place Of Assembly'},\n",
      "          'type': 'Feature'}},\n",
      " {'_id': {'geometry': {'coordinates': [144.975373745366, -37.8085761281612],\n",
      "                       'type': 'Point'},\n",
      "          'properties': {'FIELD1': 12,\n",
      "                         'Feature Name': 'Fire Services Museum Victoria',\n",
      "                         'Sub Theme': 'Art Gallery/Museum',\n",
      "                         'Theme': 'Place Of Assembly'},\n",
      "          'type': 'Feature'}},\n",
      " {'_id': {'geometry': {'coordinates': [144.960426777129, -37.8191798798062],\n",
      "                       'type': 'Point'},\n",
      "          'properties': {'FIELD1': 11,\n",
      "                         'Feature Name': 'Immigration Museum',\n",
      "                         'Sub Theme': 'Art Gallery/Museum',\n",
      "                         'Theme': 'Place Of Assembly'},\n",
      "          'type': 'Feature'}},\n",
      " {'_id': {'geometry': {'coordinates': [144.980554992725, -37.8145407488014],\n",
      "                       'type': 'Point'},\n",
      "          'properties': {'FIELD1': 9,\n",
      "                         'Feature Name': \"Sinclair's Cottage\",\n",
      "                         'Sub Theme': 'Art Gallery/Museum',\n",
      "                         'Theme': 'Place Of Assembly'},\n",
      "          'type': 'Feature'}},\n",
      " {'_id': {'geometry': {'coordinates': [144.954027907736, -37.8133854259085],\n",
      "                       'type': 'Point'},\n",
      "          'properties': {'FIELD1': 14,\n",
      "                         'Feature Name': 'Koorie Heritage Trust Inc',\n",
      "                         'Sub Theme': 'Art Gallery/Museum',\n",
      "                         'Theme': 'Place Of Assembly'},\n",
      "          'type': 'Feature'}},\n",
      " {'_id': {'geometry': {'coordinates': [144.984669809381, -37.8189544909462],\n",
      "                       'type': 'Point'},\n",
      "          'properties': {'FIELD1': 8,\n",
      "                         'Feature Name': 'National Sports Museum',\n",
      "                         'Sub Theme': 'Art Gallery/Museum',\n",
      "                         'Theme': 'Place Of Assembly'},\n",
      "          'type': 'Feature'}},\n",
      " {'_id': {'geometry': {'coordinates': [144.9839700954, -37.8188662730911],\n",
      "                       'type': 'Point'},\n",
      "          'properties': {'FIELD1': 5,\n",
      "                         'Feature Name': 'Thoroughbred Racing Gallery',\n",
      "                         'Sub Theme': 'Art Gallery/Museum',\n",
      "                         'Theme': 'Place Of Assembly'},\n",
      "          'type': 'Feature'}},\n",
      " {'_id': {'geometry': {'coordinates': [144.967252924593, -37.8266045432686],\n",
      "                       'type': 'Point'},\n",
      "          'properties': {'FIELD1': 2,\n",
      "                         'Feature Name': 'Australian Centre for Contemporary '\n",
      "                                         'Art',\n",
      "                         'Sub Theme': 'Art Gallery/Museum',\n",
      "                         'Theme': 'Place Of Assembly'},\n",
      "          'type': 'Feature'}},\n",
      " {'_id': {'geometry': {'coordinates': [144.968837288153, -37.8219947335768],\n",
      "                       'type': 'Point'},\n",
      "          'properties': {'FIELD1': 3,\n",
      "                         'Feature Name': 'Victorian Arts Centre',\n",
      "                         'Sub Theme': 'Art Gallery/Museum',\n",
      "                         'Theme': 'Place Of Assembly'},\n",
      "          'type': 'Feature'}},\n",
      " {'_id': {'geometry': {'coordinates': [144.953478052064, -37.8242574266145],\n",
      "                       'type': 'Point'},\n",
      "          'properties': {'FIELD1': 1,\n",
      "                         'Feature Name': 'Polly Woodside',\n",
      "                         'Sub Theme': 'Art Gallery/Museum',\n",
      "                         'Theme': 'Place Of Assembly'},\n",
      "          'type': 'Feature'}},\n",
      " {'_id': {'geometry': {'coordinates': [144.948496661709, -37.8213744301481],\n",
      "                       'type': 'Point'},\n",
      "          'properties': {'FIELD1': 6,\n",
      "                         'Feature Name': 'Fox Classic Car Collection',\n",
      "                         'Sub Theme': 'Art Gallery/Museum',\n",
      "                         'Theme': 'Place Of Assembly'},\n",
      "          'type': 'Feature'}},\n",
      " {'_id': {'geometry': {'coordinates': [144.964156669702, -37.7973939595503],\n",
      "                       'type': 'Point'},\n",
      "          'properties': {'FIELD1': 13,\n",
      "                         'Feature Name': 'The Ian Potter Museum Of Art',\n",
      "                         'Sub Theme': 'Art Gallery/Museum',\n",
      "                         'Theme': 'Place Of Assembly'},\n",
      "          'type': 'Feature'}},\n",
      " {'_id': {'geometry': {'coordinates': [144.969899048343, -37.8174831423197],\n",
      "                       'type': 'Point'},\n",
      "          'properties': {'FIELD1': 4,\n",
      "                         'Feature Name': 'The Ian Potter Centre: NGV Australia',\n",
      "                         'Sub Theme': 'Art Gallery/Museum',\n",
      "                         'Theme': 'Place Of Assembly'},\n",
      "          'type': 'Feature'}},\n",
      " {'_id': {'geometry': {'coordinates': [144.971690718887, -37.8035518129299],\n",
      "                       'type': 'Point'},\n",
      "          'properties': {'FIELD1': 7,\n",
      "                         'Feature Name': 'Melbourne Museum',\n",
      "                         'Sub Theme': 'Art Gallery/Museum',\n",
      "                         'Theme': 'Place Of Assembly'},\n",
      "          'type': 'Feature'}},\n",
      " {'_id': {'geometry': {'coordinates': [144.954039975197, -37.8222182774409],\n",
      "                       'type': 'Point'},\n",
      "          'properties': {'FIELD1': 10,\n",
      "                         'Feature Name': 'Victoria Police Museum',\n",
      "                         'Sub Theme': 'Art Gallery/Museum',\n",
      "                         'Theme': 'Place Of Assembly'},\n",
      "          'type': 'Feature'}},\n",
      " {'_id': {'geometry': {'coordinates': [144.96923385414, -37.8107686127655],\n",
      "                       'type': 'Point'},\n",
      "          'properties': {'FIELD1': 18,\n",
      "                         'Feature Name': 'The Museum Of Australian Chinese '\n",
      "                                         'History',\n",
      "                         'Sub Theme': 'Art Gallery/Museum',\n",
      "                         'Theme': 'Place Of Assembly'},\n",
      "          'type': 'Feature'}},\n",
      " {'_id': {'geometry': {'coordinates': [144.965463853978, -37.8077644149636],\n",
      "                       'type': 'Point'},\n",
      "          'properties': {'FIELD1': 0,\n",
      "                         'Feature Name': 'Old Melbourne Gaol Crime & Justice '\n",
      "                                         'Experience',\n",
      "                         'Sub Theme': 'Art Gallery/Museum',\n",
      "                         'Theme': 'Place Of Assembly'},\n",
      "          'type': 'Feature'}}]\n"
     ]
    }
   ],
   "source": [
    "gallery = [{\"$unwind\": \"$features\"},\n",
    "            {\"$match\":{'features.properties.Sub Theme' : 'Art Gallery/Museum'}},\n",
    "            {\"$group\": {\"_id\": \"$features\"}}]\n",
    "\n",
    "pprint.pprint(list(collection.aggregate(gallery)))"
   ]
  },
  {
   "cell_type": "markdown",
   "metadata": {},
   "source": [
    "## Working code"
   ]
  },
  {
   "cell_type": "code",
   "execution_count": 60,
   "metadata": {
    "scrolled": false
   },
   "outputs": [
    {
     "name": "stdout",
     "output_type": "stream",
     "text": [
      "[{'_id': ObjectId('5ca63a65122b9a6192720138'),\n",
      "  'dist': {'calculated': 27.27001406965783,\n",
      "           'location': [144.965463853978, -37.8077644149636]},\n",
      "  'features': {'geometry': {'coordinates': [144.965463853978,\n",
      "                                            -37.8077644149636],\n",
      "                            'type': 'Point'},\n",
      "               'properties': {'FIELD1': 0,\n",
      "                              'Feature Name': 'Old Melbourne Gaol Crime & '\n",
      "                                              'Justice Experience',\n",
      "                              'Sub Theme': 'Art Gallery/Museum',\n",
      "                              'Theme': 'Place Of Assembly'},\n",
      "               'type': 'Feature'},\n",
      "  'type': 'FeatureCollection'},\n",
      " {'_id': ObjectId('5ccd860ce39a5cbeb4b1bc58'),\n",
      "  'dist': {'calculated': 88.52102010398153,\n",
      "           'location': [144.9645504, -37.80818365]},\n",
      "  'features': {'geometry': {'coordinates': [144.9645504, -37.80818365],\n",
      "                            'type': 'Point'},\n",
      "               'properties': {'Number of seats': 76,\n",
      "                              'Street address': '124 La Trobe Street',\n",
      "                              'Trading name': \"Pearson and Murph'y Cafe\"},\n",
      "               'type': 'Feature'},\n",
      "  'type': 'FeatureCollection'},\n",
      " {'_id': ObjectId('5ccd860ce39a5cbeb4b1bc58'),\n",
      "  'dist': {'calculated': 88.52102010398153,\n",
      "           'location': [144.9645504, -37.80818365]},\n",
      "  'features': {'geometry': {'coordinates': [144.9645504, -37.80818365],\n",
      "                            'type': 'Point'},\n",
      "               'properties': {'Number of seats': 80,\n",
      "                              'Street address': '124 La Trobe Street',\n",
      "                              'Trading name': \"Pearson and Murph'y Cafe\"},\n",
      "               'type': 'Feature'},\n",
      "  'type': 'FeatureCollection'}]\n"
     ]
    }
   ],
   "source": [
    "pipeline = [\n",
    "        {'$geoNear': {\n",
    "            'near' : { 'type' : \"Point\", 'coordinates' : location },\n",
    "             'distanceField': \"dist.calculated\",\n",
    "             'maxDistance': 100,\n",
    "             'includeLocs': \"dist.location\",\n",
    "              'key': 'features.geometry.coordinates',\n",
    "             'uniqueDocs': False,\n",
    "             'spherical': True}},\n",
    "    { \"$unwind\" : \"$features\" },\n",
    "    { \"$redact\" : {   \n",
    "        \"$cond\" : {\n",
    "            \"if\" : { \"$eq\" : [ { \"$cmp\" : [ \"$features.geometry.coordinates\", \"$dist.location\" ] }, 0 ] },\n",
    "            \"then\" : \"$$KEEP\",\n",
    "            \"else\" : \"$$PRUNE\"\n",
    "        }\n",
    "    }\n",
    "}\n",
    "]\n",
    "\n",
    "pprint.pprint(list(collection.aggregate(pipeline)))"
   ]
  },
  {
   "cell_type": "markdown",
   "metadata": {},
   "source": [
    "### Check"
   ]
  },
  {
   "cell_type": "code",
   "execution_count": 820,
   "metadata": {},
   "outputs": [
    {
     "name": "stdout",
     "output_type": "stream",
     "text": [
      "157.69509130741474 m\n"
     ]
    }
   ],
   "source": [
    "a1 = [144.9654, -37.8076]\n",
    "a2 = [144.9656988, -37.80619915]\n",
    "\n",
    "distance_finder(a1, a2)"
   ]
  },
  {
   "cell_type": "markdown",
   "metadata": {},
   "source": [
    "## Implement Automation"
   ]
  },
  {
   "cell_type": "code",
   "execution_count": 102,
   "metadata": {},
   "outputs": [
    {
     "data": {
      "text/plain": [
       "[144.96402401414252, -37.8133816331916]"
      ]
     },
     "execution_count": 102,
     "metadata": {},
     "output_type": "execute_result"
    }
   ],
   "source": [
    "click = [144.96402401414252, -37.8133816331916]\n",
    "click = [ round(elem, 14) for elem in click ]\n",
    "click"
   ]
  },
  {
   "cell_type": "code",
   "execution_count": 920,
   "metadata": {},
   "outputs": [],
   "source": [
    "location = [144.965234, -37.8076]"
   ]
  },
  {
   "cell_type": "code",
   "execution_count": 183,
   "metadata": {
    "scrolled": false
   },
   "outputs": [
    {
     "name": "stdout",
     "output_type": "stream",
     "text": [
      "[{'_id': ObjectId('5ccd8bcce39a5cbeb4b1c0f2'),\n",
      "  'dist': {'calculated': 18.504773621888866,\n",
      "           'location': [144.9638295, -37.81344503]},\n",
      "  'features': {'geometry': {'coordinates': [144.9638295, -37.81344503],\n",
      "                            'type': 'Point'},\n",
      "               'properties': {'Number of seats': 54,\n",
      "                              'Street address': '314-336 Bourke Street',\n",
      "                              'Trading name': 'The Salon By Louis Roderer',\n",
      "                              'Type': 'Cafe'},\n",
      "               'type': 'Feature'},\n",
      "  'type': 'FeatureCollection'},\n",
      " {'_id': ObjectId('5ccd8bcce39a5cbeb4b1c0f2'),\n",
      "  'dist': {'calculated': 18.504773621888866,\n",
      "           'location': [144.9638295, -37.81344503]},\n",
      "  'features': {'geometry': {'coordinates': [144.9638295, -37.81344503],\n",
      "                            'type': 'Point'},\n",
      "               'properties': {'Number of seats': 99,\n",
      "                              'Street address': '314-336 Bourke Street',\n",
      "                              'Trading name': 'Brunetti Myer Melbourne',\n",
      "                              'Type': 'Cafe'},\n",
      "               'type': 'Feature'},\n",
      "  'type': 'FeatureCollection'},\n",
      " {'_id': ObjectId('5cbb067ae39a5cbeb4a82260'),\n",
      "  'dist': {'calculated': 100.09442310180268,\n",
      "           'location': [144.9651532, -37.8134944]},\n",
      "  'features': {'geometry': {'coordinates': [144.9651532, -37.8134944],\n",
      "                            'type': 'Point'},\n",
      "               'properties': {'direction_1': 'West',\n",
      "                              'direction_2': 'East',\n",
      "                              'installation_date': '24/03/2009',\n",
      "                              'note': '',\n",
      "                              'sensor_description': 'Bourke Street Mall '\n",
      "                                                    '(North)',\n",
      "                              'sensor_id': 1,\n",
      "                              'sensor_name': 'Bou292_T',\n",
      "                              'status': 'A'},\n",
      "               'type': 'Feature'},\n",
      "  'type': 'FeatureCollection'}]\n"
     ]
    }
   ],
   "source": [
    "pipeline = [\n",
    "        {'$geoNear': {\n",
    "            'near' : { 'type' : \"Point\", 'coordinates' : click },\n",
    "             'distanceField': \"dist.calculated\",\n",
    "             'maxDistance': 500,\n",
    "             'includeLocs': \"dist.location\",\n",
    "              'key': 'features.geometry.coordinates',\n",
    "             'uniqueDocs': False,\n",
    "             'spherical': True}},\n",
    "    { \"$unwind\" : \"$features\" },\n",
    "    { \"$redact\" : {   \n",
    "        \"$cond\" : {\n",
    "            \"if\" : { \"$eq\" : [ { \"$cmp\" : [ \"$features.geometry.coordinates\", \"$dist.location\" ] }, 0 ] },\n",
    "            \"then\" : \"$$KEEP\",\n",
    "            \"else\" : \"$$PRUNE\"\n",
    "        }\n",
    "    }\n",
    "}\n",
    "]\n",
    "\n",
    "pprint.pprint(list(collection.aggregate(pipeline)))"
   ]
  },
  {
   "cell_type": "code",
   "execution_count": 276,
   "metadata": {},
   "outputs": [
    {
     "name": "stdout",
     "output_type": "stream",
     "text": [
      "[{'_id': ObjectId('5ccd8bcce39a5cbeb4b1c0f2'),\n",
      "  'dist': {'calculated': 18.504773621888866,\n",
      "           'location': [144.9638295, -37.81344503]},\n",
      "  'features': {'geometry': {'coordinates': [144.9638295, -37.81344503],\n",
      "                            'type': 'Point'},\n",
      "               'properties': {'Number of seats': 54,\n",
      "                              'Street address': '314-336 Bourke Street',\n",
      "                              'Trading name': 'The Salon By Louis Roderer',\n",
      "                              'Type': 'Cafe'},\n",
      "               'type': 'Feature'},\n",
      "  'type': 'FeatureCollection'},\n",
      " {'_id': ObjectId('5ccd8bcce39a5cbeb4b1c0f2'),\n",
      "  'dist': {'calculated': 18.504773621888866,\n",
      "           'location': [144.9638295, -37.81344503]},\n",
      "  'features': {'geometry': {'coordinates': [144.9638295, -37.81344503],\n",
      "                            'type': 'Point'},\n",
      "               'properties': {'Number of seats': 99,\n",
      "                              'Street address': '314-336 Bourke Street',\n",
      "                              'Trading name': 'Brunetti Myer Melbourne',\n",
      "                              'Type': 'Cafe'},\n",
      "               'type': 'Feature'},\n",
      "  'type': 'FeatureCollection'},\n",
      " {'_id': ObjectId('5cbb067ae39a5cbeb4a82260'),\n",
      "  'dist': {'calculated': 100.09442310180268,\n",
      "           'location': [144.9651532, -37.8134944]},\n",
      "  'features': {'geometry': {'coordinates': [144.9651532, -37.8134944],\n",
      "                            'type': 'Point'},\n",
      "               'properties': {'direction_1': 'West',\n",
      "                              'direction_2': 'East',\n",
      "                              'installation_date': '24/03/2009',\n",
      "                              'note': '',\n",
      "                              'sensor_description': 'Bourke Street Mall '\n",
      "                                                    '(North)',\n",
      "                              'sensor_id': 1,\n",
      "                              'sensor_name': 'Bou292_T',\n",
      "                              'status': 'A'},\n",
      "               'type': 'Feature'},\n",
      "  'type': 'FeatureCollection'}]\n"
     ]
    }
   ],
   "source": [
    "connection = MongoClient(MONGODB_HOST, MONGODB_PORT)\n",
    "collection = connection[DBS_NAME][COLLECTION_NAME]\n",
    "pprint.pprint(list(collection.aggregate(pipeline)))\n",
    "connection.close()"
   ]
  },
  {
   "cell_type": "code",
   "execution_count": null,
   "metadata": {},
   "outputs": [],
   "source": []
  },
  {
   "cell_type": "code",
   "execution_count": null,
   "metadata": {},
   "outputs": [],
   "source": []
  },
  {
   "cell_type": "code",
   "execution_count": null,
   "metadata": {},
   "outputs": [],
   "source": []
  },
  {
   "cell_type": "code",
   "execution_count": null,
   "metadata": {},
   "outputs": [],
   "source": []
  },
  {
   "cell_type": "code",
   "execution_count": null,
   "metadata": {},
   "outputs": [],
   "source": []
  },
  {
   "cell_type": "code",
   "execution_count": null,
   "metadata": {},
   "outputs": [],
   "source": []
  },
  {
   "cell_type": "code",
   "execution_count": null,
   "metadata": {},
   "outputs": [],
   "source": []
  },
  {
   "cell_type": "markdown",
   "metadata": {},
   "source": [
    "## Calling Cafe"
   ]
  },
  {
   "cell_type": "code",
   "execution_count": 278,
   "metadata": {},
   "outputs": [],
   "source": [
    "click = [144.96518348629792, -37.81309237049503]"
   ]
  },
  {
   "cell_type": "code",
   "execution_count": 149,
   "metadata": {},
   "outputs": [],
   "source": [
    "import pandas as pd"
   ]
  },
  {
   "cell_type": "code",
   "execution_count": 279,
   "metadata": {
    "scrolled": false
   },
   "outputs": [
    {
     "name": "stdout",
     "output_type": "stream",
     "text": [
      "[{'_id': ObjectId('5ccd8bcce39a5cbeb4b1c0f2'),\n",
      "  'dist': {'calculated': 16.197999502475984,\n",
      "           'location': [144.9649993, -37.81309229]},\n",
      "  'features': {'geometry': {'coordinates': [144.9649993, -37.81309229],\n",
      "                            'type': 'Point'},\n",
      "               'properties': {'Number of seats': 42,\n",
      "                              'Street address': '191-205 Swanston Street',\n",
      "                              'Trading name': 'Soul Cafe',\n",
      "                              'Type': 'Cafe'},\n",
      "               'type': 'Feature'},\n",
      "  'type': 'FeatureCollection'},\n",
      " {'_id': ObjectId('5ccd8bcce39a5cbeb4b1c0f2'),\n",
      "  'dist': {'calculated': 16.197999502475984,\n",
      "           'location': [144.9649993, -37.81309229]},\n",
      "  'features': {'geometry': {'coordinates': [144.9649993, -37.81309229],\n",
      "                            'type': 'Point'},\n",
      "               'properties': {'Number of seats': 30,\n",
      "                              'Street address': '191-205 Swanston Street',\n",
      "                              'Trading name': 'Soul Cafe',\n",
      "                              'Type': 'Cafe'},\n",
      "               'type': 'Feature'},\n",
      "  'type': 'FeatureCollection'}]\n"
     ]
    }
   ],
   "source": [
    "pipeline_cafe = [\n",
    "        {'$geoNear': {\n",
    "            'near' : { 'type' : \"Point\", 'coordinates' : click },\n",
    "             'distanceField': \"dist.calculated\",\n",
    "             'maxDistance': 3000,\n",
    "             'includeLocs': \"dist.location\",\n",
    "              'key': 'features.geometry.coordinates',\n",
    "             'uniqueDocs': False,\n",
    "             'spherical': True}},\n",
    "    {\"$match\" : {\"features.properties.Type\":\"Cafe\"}},\n",
    "    { \"$unwind\" : \"$features\" },\n",
    "    { \"$redact\" : {   \n",
    "        \"$cond\" : {\n",
    "            \"if\" : { \"$eq\" : [ { \"$cmp\" : [ \"$features.geometry.coordinates\", \"$dist.location\" ] }, 0 ]},\n",
    "            \"then\" : \"$$KEEP\",\n",
    "            \"else\" : \"$$PRUNE\"\n",
    "            }\n",
    "        }\n",
    "    }\n",
    "]\n",
    "\n",
    "pprint.pprint(list(collection.aggregate(pipeline_cafe)))"
   ]
  },
  {
   "cell_type": "code",
   "execution_count": 274,
   "metadata": {
    "scrolled": true
   },
   "outputs": [],
   "source": [
    "a = collection.find(\n",
    "   {\n",
    "     \"features.geometry.coordinates\":\n",
    "       { \"$near\" :\n",
    "          {\n",
    "            \"$geometry\": { 'type': \"Point\", \"coordinates\" : click },\n",
    "            \"$maxDistance\": 1/111.12\n",
    "          }\n",
    "       },\n",
    "        \"features.properties.Type\":\"Cafe\"\n",
    "   }\n",
    ")\n",
    "\n",
    "\n",
    "for i in a:\n",
    "    print(i)\n"
   ]
  },
  {
   "cell_type": "code",
   "execution_count": null,
   "metadata": {},
   "outputs": [],
   "source": []
  },
  {
   "cell_type": "code",
   "execution_count": null,
   "metadata": {},
   "outputs": [],
   "source": []
  },
  {
   "cell_type": "code",
   "execution_count": null,
   "metadata": {},
   "outputs": [],
   "source": []
  }
 ],
 "metadata": {
  "kernelspec": {
   "display_name": "Python 3",
   "language": "python",
   "name": "python3"
  },
  "language_info": {
   "codemirror_mode": {
    "name": "ipython",
    "version": 3
   },
   "file_extension": ".py",
   "mimetype": "text/x-python",
   "name": "python",
   "nbconvert_exporter": "python",
   "pygments_lexer": "ipython3",
   "version": "3.6.8"
  }
 },
 "nbformat": 4,
 "nbformat_minor": 2
}
