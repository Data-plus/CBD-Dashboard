{
 "cells": [
  {
   "cell_type": "code",
   "execution_count": 3,
   "metadata": {},
   "outputs": [],
   "source": [
    "import pandas as pd\n",
    "import geopy\n",
    "from geopy import distance\n",
    "import numpy as np"
   ]
  },
  {
   "cell_type": "code",
   "execution_count": 230,
   "metadata": {},
   "outputs": [],
   "source": [
    "def within_p(df, clicked, radius):\n",
    "    temp = []\n",
    "    for x in range(len(df)):\n",
    "            # Use try-except for error handling\n",
    "            # Find coordinate1,2 calculate distance in km\n",
    "            coords_1 = (df[\"Latitude\"][x], df[\"Longitude\"][x])\n",
    "            coords_2 = (clicked[\"latitude\"][0], clicked[\"longitude\"][0])\n",
    "            dist = geopy.distance.distance(coords_1, coords_2).km\n",
    "\n",
    "            if dist <= radius:\n",
    "                temp.append(df.iloc[x])\n",
    "            else:\n",
    "                pass\n",
    "            \n",
    "    return temp"
   ]
  },
  {
   "cell_type": "code",
   "execution_count": 231,
   "metadata": {},
   "outputs": [],
   "source": [
    "def get_residential(click, population):\n",
    "\n",
    "    clicked = pd.DataFrame([{'Latitude':click[1],'Longitude': click[0]}])\n",
    "    filtered = pd.DataFrame(within(population, clicked, 0.5))\n",
    "    \n",
    "    return filtered['Household'].sum()"
   ]
  },
  {
   "cell_type": "code",
   "execution_count": 232,
   "metadata": {
    "scrolled": true
   },
   "outputs": [],
   "source": [
    "df = pd.read_csv('../data/Residential_dwellings_2017.csv')\n",
    "df = df.rename(columns={'x coordinate': 'Longitude', 'y coordinate': 'Latitude'})\n",
    "df['Household'] = df['Dwelling number'] * 2\n",
    "df = df[np.isfinite(df['Latitude'])]\n",
    "df = df[df['CLUE small area'] =='Melbourne (CBD)']\n",
    "df = df.iloc[:,[8,9,11]]\n",
    "df = df.reset_index(drop=True)\n",
    "population = df\n",
    "population.to_csv('population.csv', index=False)"
   ]
  },
  {
   "cell_type": "code",
   "execution_count": 233,
   "metadata": {},
   "outputs": [
    {
     "data": {
      "text/html": [
       "<div>\n",
       "<style scoped>\n",
       "    .dataframe tbody tr th:only-of-type {\n",
       "        vertical-align: middle;\n",
       "    }\n",
       "\n",
       "    .dataframe tbody tr th {\n",
       "        vertical-align: top;\n",
       "    }\n",
       "\n",
       "    .dataframe thead th {\n",
       "        text-align: right;\n",
       "    }\n",
       "</style>\n",
       "<table border=\"1\" class=\"dataframe\">\n",
       "  <thead>\n",
       "    <tr style=\"text-align: right;\">\n",
       "      <th></th>\n",
       "      <th>Longitude</th>\n",
       "      <th>Latitude</th>\n",
       "      <th>Household</th>\n",
       "    </tr>\n",
       "  </thead>\n",
       "  <tbody>\n",
       "    <tr>\n",
       "      <th>0</th>\n",
       "      <td>144.971315</td>\n",
       "      <td>-37.814606</td>\n",
       "      <td>2</td>\n",
       "    </tr>\n",
       "    <tr>\n",
       "      <th>1</th>\n",
       "      <td>144.958212</td>\n",
       "      <td>-37.810220</td>\n",
       "      <td>356</td>\n",
       "    </tr>\n",
       "  </tbody>\n",
       "</table>\n",
       "</div>"
      ],
      "text/plain": [
       "    Longitude   Latitude  Household\n",
       "0  144.971315 -37.814606          2\n",
       "1  144.958212 -37.810220        356"
      ]
     },
     "execution_count": 233,
     "metadata": {},
     "output_type": "execute_result"
    }
   ],
   "source": [
    "population.head(2)"
   ]
  },
  {
   "cell_type": "code",
   "execution_count": 235,
   "metadata": {},
   "outputs": [],
   "source": [
    "click = [144.9711639215344,-37.8074756286439]"
   ]
  },
  {
   "cell_type": "code",
   "execution_count": 236,
   "metadata": {
    "scrolled": true
   },
   "outputs": [
    {
     "data": {
      "text/plain": [
       "7128.0"
      ]
     },
     "execution_count": 236,
     "metadata": {},
     "output_type": "execute_result"
    }
   ],
   "source": [
    "get_residential(click, population)"
   ]
  },
  {
   "cell_type": "code",
   "execution_count": 257,
   "metadata": {},
   "outputs": [
    {
     "data": {
      "text/plain": [
       "7128.0"
      ]
     },
     "execution_count": 257,
     "metadata": {},
     "output_type": "execute_result"
    }
   ],
   "source": [
    "get_residential(click, population)"
   ]
  },
  {
   "cell_type": "code",
   "execution_count": null,
   "metadata": {},
   "outputs": [],
   "source": []
  },
  {
   "cell_type": "code",
   "execution_count": 8,
   "metadata": {},
   "outputs": [],
   "source": [
    "click = [144.96161353258373, -37.81318879151983]"
   ]
  },
  {
   "cell_type": "code",
   "execution_count": 5,
   "metadata": {},
   "outputs": [],
   "source": [
    "population = pd.read_csv('../static/data/population.csv')"
   ]
  },
  {
   "cell_type": "code",
   "execution_count": 1,
   "metadata": {},
   "outputs": [],
   "source": [
    "def within_p(population, clicked, radius):\n",
    "    temp = []\n",
    "    for x in range(len(population)):\n",
    "        # Use try-except for error handling\n",
    "        # Find coordinate1,2 calculate distance in km\n",
    "        coords_1 = (population[\"Latitude\"][x], population[\"Longitude\"][x])\n",
    "        coords_2 = (clicked[\"latitude\"][0], clicked[\"longitude\"][0])\n",
    "        dist = geopy.distance.distance(coords_1, coords_2).km\n",
    "\n",
    "        if dist <= radius:\n",
    "            temp.append(population.iloc[x])\n",
    "        else:\n",
    "            pass\n",
    "\n",
    "    return temp"
   ]
  },
  {
   "cell_type": "code",
   "execution_count": 10,
   "metadata": {},
   "outputs": [],
   "source": [
    "def get_residential(click, population):\n",
    "    clicked = pd.DataFrame([{'latitude': click[1], 'longitude': click[0]}])\n",
    "    filtered = pd.DataFrame(within_p(population, clicked, 0.5))\n",
    "    household = filtered['Household'].sum()\n",
    "    return household"
   ]
  },
  {
   "cell_type": "code",
   "execution_count": 11,
   "metadata": {},
   "outputs": [
    {
     "data": {
      "text/plain": [
       "'[{\"resident\":14174.0}]'"
      ]
     },
     "execution_count": 11,
     "metadata": {},
     "output_type": "execute_result"
    }
   ],
   "source": [
    "pd.DataFrame([{'resident': get_residential(click, population)}]).to_json(orient='records')"
   ]
  },
  {
   "cell_type": "code",
   "execution_count": null,
   "metadata": {},
   "outputs": [],
   "source": []
  }
 ],
 "metadata": {
  "kernelspec": {
   "display_name": "Python 3",
   "language": "python",
   "name": "python3"
  },
  "language_info": {
   "codemirror_mode": {
    "name": "ipython",
    "version": 3
   },
   "file_extension": ".py",
   "mimetype": "text/x-python",
   "name": "python",
   "nbconvert_exporter": "python",
   "pygments_lexer": "ipython3",
   "version": "3.6.8"
  }
 },
 "nbformat": 4,
 "nbformat_minor": 2
}
