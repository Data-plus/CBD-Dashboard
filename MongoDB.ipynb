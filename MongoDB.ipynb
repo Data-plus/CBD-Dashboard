{
 "cells": [
  {
   "cell_type": "markdown",
   "metadata": {},
   "source": [
    "## Import Libraries"
   ]
  },
  {
   "cell_type": "code",
   "execution_count": 73,
   "metadata": {},
   "outputs": [],
   "source": [
    "from pymongo import MongoClient\n",
    "import json\n",
    "from bson import ObjectId\n",
    "import pandas as pd\n",
    "from bson import json_util, ObjectId"
   ]
  },
  {
   "cell_type": "code",
   "execution_count": 2,
   "metadata": {},
   "outputs": [],
   "source": [
    "import pprint"
   ]
  },
  {
   "cell_type": "code",
   "execution_count": 3,
   "metadata": {},
   "outputs": [],
   "source": [
    "MONGODB_HOST = 'localhost'\n",
    "MONGODB_PORT = 27017\n",
    "DBS_NAME = 'mydb'\n",
    "COLLECTION_NAME = 'projects'\n",
    "FIELDS = \"FeatureCollection\""
   ]
  },
  {
   "cell_type": "code",
   "execution_count": null,
   "metadata": {},
   "outputs": [],
   "source": [
    "def dashboard_projects():\n",
    "    connection = MongoClient(MONGODB_HOST, MONGODB_PORT)\n",
    "    collection = connection[DBS_NAME][COLLECTION_NAME]\n",
    "    projects = collection.find_one({\"type\": \"FeatureCollection\"}, {\"_id\":0})\n",
    "\n",
    "    return projects"
   ]
  },
  {
   "cell_type": "code",
   "execution_count": null,
   "metadata": {
    "scrolled": true
   },
   "outputs": [],
   "source": [
    "dashboard_projects()"
   ]
  },
  {
   "cell_type": "code",
   "execution_count": null,
   "metadata": {},
   "outputs": [],
   "source": [
    "# Call all documents\n",
    "connection = MongoClient(MONGODB_HOST, MONGODB_PORT)\n",
    "collection = connection[DBS_NAME][COLLECTION_NAME]\n",
    "projects2 = collection.find_one({\"type\": \"FeatureCollection\"}, {\"_id\":0})"
   ]
  },
  {
   "cell_type": "code",
   "execution_count": 8,
   "metadata": {},
   "outputs": [],
   "source": [
    "client = MongoClient()\n",
    "db = client.mydb\n",
    "collection = db.projects"
   ]
  },
  {
   "cell_type": "code",
   "execution_count": null,
   "metadata": {},
   "outputs": [],
   "source": [
    "from bson.son import SON\n",
    "from pymongo import MongoClient\n",
    "\n",
    "db = MongoClient()\n",
    "latitude = -37.44609999\n",
    "longitude = 144.96923385414\n",
    "max_distance = 1000 #meters    "
   ]
  },
  {
   "cell_type": "code",
   "execution_count": null,
   "metadata": {},
   "outputs": [],
   "source": [
    "location = [144.965234, -37.8076]"
   ]
  },
  {
   "cell_type": "code",
   "execution_count": null,
   "metadata": {},
   "outputs": [],
   "source": [
    "db.collection.drop_indexes()"
   ]
  },
  {
   "cell_type": "code",
   "execution_count": null,
   "metadata": {},
   "outputs": [],
   "source": [
    "for idx in db.collection.list_indexes():\n",
    "    print (idx)"
   ]
  },
  {
   "cell_type": "code",
   "execution_count": null,
   "metadata": {},
   "outputs": [],
   "source": [
    "db.collection.create_index([( \"features.geometry.coordinates\", \"2dsphere\" )])"
   ]
  },
  {
   "cell_type": "code",
   "execution_count": null,
   "metadata": {
    "scrolled": true
   },
   "outputs": [],
   "source": [
    "## Unwind search\n",
    "\n",
    "pipeline = [{\"$unwind\": \"$features\"},\n",
    "            {\"$match\":{'features.geometry.coordinates':[144.965463853978, -37.8077644149636]}},\n",
    "            {\"$group\": {\"_id\": \"$features\"}}]\n",
    "\n",
    "pprint.pprint(list(collection.aggregate(pipeline)))"
   ]
  },
  {
   "cell_type": "code",
   "execution_count": null,
   "metadata": {
    "scrolled": true
   },
   "outputs": [],
   "source": [
    "pipeline2 = [{\"$unwind\": \"$features\"},\n",
    "            {\"$match\":{'features.properties.Sub Theme' : 'Art Gallery/Museum'}},\n",
    "            {\"$group\": {\"_id\": \"$features\"}}]\n",
    "\n",
    "pprint.pprint(list(collection.aggregate(pipeline2)))"
   ]
  },
  {
   "cell_type": "markdown",
   "metadata": {},
   "source": [
    "## Working code"
   ]
  },
  {
   "cell_type": "code",
   "execution_count": 9,
   "metadata": {
    "scrolled": false
   },
   "outputs": [
    {
     "name": "stdout",
     "output_type": "stream",
     "text": [
      "[{'_id': ObjectId('5ca63a65122b9a6192720138'),\n",
      "  'dist': {'calculated': 27.27001406965783,\n",
      "           'location': [144.965463853978, -37.8077644149636]},\n",
      "  'features': {'geometry': {'coordinates': [144.965463853978,\n",
      "                                            -37.8077644149636],\n",
      "                            'type': 'Point'},\n",
      "               'properties': {'FIELD1': 0,\n",
      "                              'Feature Name': 'Old Melbourne Gaol Crime & '\n",
      "                                              'Justice Experience',\n",
      "                              'Sub Theme': 'Art Gallery/Museum',\n",
      "                              'Theme': 'Place Of Assembly'},\n",
      "               'type': 'Feature'},\n",
      "  'type': 'FeatureCollection'}]\n"
     ]
    }
   ],
   "source": [
    "pipeline = [\n",
    "        {'$geoNear': {\n",
    "            'near' : { 'type' : \"Point\", 'coordinates' : location },\n",
    "             'distanceField': \"dist.calculated\",\n",
    "             'maxDistance': 100,\n",
    "             'includeLocs': \"dist.location\",\n",
    "              'key': 'features.geometry.coordinates',\n",
    "             'uniqueDocs': False,\n",
    "             'spherical': True}},\n",
    "    { \"$unwind\" : \"$features\" },\n",
    "    { \"$redact\" : {   \n",
    "        \"$cond\" : {\n",
    "            \"if\" : { \"$eq\" : [ { \"$cmp\" : [ \"$features.geometry.coordinates\", \"$dist.location\" ] }, 0 ] },\n",
    "            \"then\" : \"$$KEEP\",\n",
    "            \"else\" : \"$$PRUNE\"\n",
    "        }\n",
    "    }\n",
    "}\n",
    "]\n",
    "\n",
    "pprint.pprint(list(collection.aggregate(pipeline)))"
   ]
  },
  {
   "cell_type": "markdown",
   "metadata": {},
   "source": [
    "### Check"
   ]
  },
  {
   "cell_type": "code",
   "execution_count": null,
   "metadata": {},
   "outputs": [],
   "source": [
    "a1 = [144.9654, -37.8076]\n",
    "a2 = [144.9656988, -37.80619915]\n",
    "\n",
    "distance_finder(a1, a2)"
   ]
  },
  {
   "cell_type": "markdown",
   "metadata": {},
   "source": [
    "## Implement Automation"
   ]
  },
  {
   "cell_type": "code",
   "execution_count": 4,
   "metadata": {},
   "outputs": [],
   "source": [
    "click = [144.9607616045045, -37.811441609877804]"
   ]
  },
  {
   "cell_type": "code",
   "execution_count": 5,
   "metadata": {},
   "outputs": [],
   "source": [
    "location = [144.965234, -37.8076]"
   ]
  },
  {
   "cell_type": "code",
   "execution_count": 75,
   "metadata": {},
   "outputs": [
    {
     "data": {
      "text/plain": [
       "[{'_id': ObjectId('5cb0a55fe39a5cbeb4a206d7'),\n",
       "  'type': 'FeatureCollection',\n",
       "  'features': {'type': 'Feature',\n",
       "   'geometry': {'type': 'Point', 'coordinates': [144.9602499, -37.81190077]},\n",
       "   'properties': {'FIELD1': 67,\n",
       "    'Census year': 2015,\n",
       "    'Block ID': 74,\n",
       "    'Property ID': 106018,\n",
       "    'Base property ID': 106018,\n",
       "    'Street address': '395-397 Little Lonsdale Street',\n",
       "    'CLUE small area': 'Melbourne (CBD)',\n",
       "    'Trading name': 'Horse Bazaar',\n",
       "    'Industry (ANZSIC4) code': 4520,\n",
       "    'Industry (ANZSIC4) description': 'Pubs, Taverns and Bars',\n",
       "    'Seating type': 'Seats - Indoor',\n",
       "    'Number of seats': 50}},\n",
       "  'dist': {'calculated': 68.10091452076718,\n",
       "   'location': [144.9602499, -37.81190077]}},\n",
       " {'_id': ObjectId('5cbb067ae39a5cbeb4a82260'),\n",
       "  'type': 'FeatureCollection',\n",
       "  'features': {'type': 'Feature',\n",
       "   'geometry': {'type': 'Point', 'coordinates': [144.9615331, -37.81234775]},\n",
       "   'properties': {'sensor_id': 56,\n",
       "    'sensor_description': 'Lonsdale St - Elizabeth St (North)',\n",
       "    'sensor_name': 'Lon364_T',\n",
       "    'installation_date': '25/07/2018',\n",
       "    'status': 'A',\n",
       "    'note': '',\n",
       "    'direction_1': 'East',\n",
       "    'direction_2': 'West'}},\n",
       "  'dist': {'calculated': 121.56627721390748,\n",
       "   'location': [144.9615331, -37.81234775]}}]"
      ]
     },
     "execution_count": 75,
     "metadata": {},
     "output_type": "execute_result"
    }
   ],
   "source": [
    "pipeline = [\n",
    "        {'$geoNear': {\n",
    "            'near' : { 'type' : \"Point\", 'coordinates' : click },\n",
    "             'distanceField': \"dist.calculated\",\n",
    "             'maxDistance': 500,\n",
    "             'includeLocs': \"dist.location\",\n",
    "              'key': 'features.geometry.coordinates',\n",
    "             'uniqueDocs': False,\n",
    "             'spherical': True}},\n",
    "    { \"$unwind\" : \"$features\" },\n",
    "    { \"$redact\" : {   \n",
    "        \"$cond\" : {\n",
    "            \"if\" : { \"$eq\" : [ { \"$cmp\" : [ \"$features.geometry.coordinates\", \"$dist.location\" ] }, 0 ] },\n",
    "            \"then\" : \"$$KEEP\",\n",
    "            \"else\" : \"$$PRUNE\"\n",
    "        }\n",
    "    }\n",
    "}\n",
    "]\n",
    "\n",
    "list(collection.aggregate(pipeline))"
   ]
  },
  {
   "cell_type": "code",
   "execution_count": null,
   "metadata": {
    "scrolled": true
   },
   "outputs": [],
   "source": [
    "connection = MongoClient(MONGODB_HOST, MONGODB_PORT)\n",
    "collection = connection[DBS_NAME][COLLECTION_NAME]\n",
    "pprint.pprint(list(collection.aggregate(pipeline)))\n",
    "connection.close()"
   ]
  },
  {
   "cell_type": "code",
   "execution_count": null,
   "metadata": {
    "scrolled": true
   },
   "outputs": [],
   "source": [
    "connection = MongoClient(MONGODB_HOST, MONGODB_PORT)\n",
    "collection = connection[DBS_NAME][COLLECTION_NAME]\n",
    "finding = collection.find_one( { \"_id\": ObjectId('5cc683b30e00cbd80dd912ad') })\n",
    "connection.close()\n",
    "finding"
   ]
  },
  {
   "cell_type": "code",
   "execution_count": 54,
   "metadata": {},
   "outputs": [
    {
     "data": {
      "text/plain": [
       "{'_id': ObjectId('5ca63a65122b9a6192720138'),\n",
       " 'type': 'FeatureCollection',\n",
       " 'features': [{'type': 'Feature',\n",
       "   'geometry': {'type': 'Point',\n",
       "    'coordinates': [144.965463853978, -37.8077644149636]},\n",
       "   'properties': {'FIELD1': 0,\n",
       "    'Theme': 'Place Of Assembly',\n",
       "    'Sub Theme': 'Art Gallery/Museum',\n",
       "    'Feature Name': 'Old Melbourne Gaol Crime & Justice Experience'}},\n",
       "  {'type': 'Feature',\n",
       "   'geometry': {'type': 'Point',\n",
       "    'coordinates': [144.953478052064, -37.8242574266145]},\n",
       "   'properties': {'FIELD1': 1,\n",
       "    'Theme': 'Place Of Assembly',\n",
       "    'Sub Theme': 'Art Gallery/Museum',\n",
       "    'Feature Name': 'Polly Woodside'}},\n",
       "  {'type': 'Feature',\n",
       "   'geometry': {'type': 'Point',\n",
       "    'coordinates': [144.967252924593, -37.8266045432686]},\n",
       "   'properties': {'FIELD1': 2,\n",
       "    'Theme': 'Place Of Assembly',\n",
       "    'Sub Theme': 'Art Gallery/Museum',\n",
       "    'Feature Name': 'Australian Centre for Contemporary Art'}},\n",
       "  {'type': 'Feature',\n",
       "   'geometry': {'type': 'Point',\n",
       "    'coordinates': [144.968837288153, -37.8219947335768]},\n",
       "   'properties': {'FIELD1': 3,\n",
       "    'Theme': 'Place Of Assembly',\n",
       "    'Sub Theme': 'Art Gallery/Museum',\n",
       "    'Feature Name': 'Victorian Arts Centre'}},\n",
       "  {'type': 'Feature',\n",
       "   'geometry': {'type': 'Point',\n",
       "    'coordinates': [144.969899048343, -37.8174831423197]},\n",
       "   'properties': {'FIELD1': 4,\n",
       "    'Theme': 'Place Of Assembly',\n",
       "    'Sub Theme': 'Art Gallery/Museum',\n",
       "    'Feature Name': 'The Ian Potter Centre: NGV Australia'}},\n",
       "  {'type': 'Feature',\n",
       "   'geometry': {'type': 'Point',\n",
       "    'coordinates': [144.9839700954, -37.8188662730911]},\n",
       "   'properties': {'FIELD1': 5,\n",
       "    'Theme': 'Place Of Assembly',\n",
       "    'Sub Theme': 'Art Gallery/Museum',\n",
       "    'Feature Name': 'Thoroughbred Racing Gallery'}},\n",
       "  {'type': 'Feature',\n",
       "   'geometry': {'type': 'Point',\n",
       "    'coordinates': [144.948496661709, -37.8213744301481]},\n",
       "   'properties': {'FIELD1': 6,\n",
       "    'Theme': 'Place Of Assembly',\n",
       "    'Sub Theme': 'Art Gallery/Museum',\n",
       "    'Feature Name': 'Fox Classic Car Collection'}},\n",
       "  {'type': 'Feature',\n",
       "   'geometry': {'type': 'Point',\n",
       "    'coordinates': [144.971690718887, -37.8035518129299]},\n",
       "   'properties': {'FIELD1': 7,\n",
       "    'Theme': 'Place Of Assembly',\n",
       "    'Sub Theme': 'Art Gallery/Museum',\n",
       "    'Feature Name': 'Melbourne Museum'}},\n",
       "  {'type': 'Feature',\n",
       "   'geometry': {'type': 'Point',\n",
       "    'coordinates': [144.984669809381, -37.8189544909462]},\n",
       "   'properties': {'FIELD1': 8,\n",
       "    'Theme': 'Place Of Assembly',\n",
       "    'Sub Theme': 'Art Gallery/Museum',\n",
       "    'Feature Name': 'National Sports Museum'}},\n",
       "  {'type': 'Feature',\n",
       "   'geometry': {'type': 'Point',\n",
       "    'coordinates': [144.980554992725, -37.8145407488014]},\n",
       "   'properties': {'FIELD1': 9,\n",
       "    'Theme': 'Place Of Assembly',\n",
       "    'Sub Theme': 'Art Gallery/Museum',\n",
       "    'Feature Name': \"Sinclair's Cottage\"}},\n",
       "  {'type': 'Feature',\n",
       "   'geometry': {'type': 'Point',\n",
       "    'coordinates': [144.954039975197, -37.8222182774409]},\n",
       "   'properties': {'FIELD1': 10,\n",
       "    'Theme': 'Place Of Assembly',\n",
       "    'Sub Theme': 'Art Gallery/Museum',\n",
       "    'Feature Name': 'Victoria Police Museum'}},\n",
       "  {'type': 'Feature',\n",
       "   'geometry': {'type': 'Point',\n",
       "    'coordinates': [144.960426777129, -37.8191798798062]},\n",
       "   'properties': {'FIELD1': 11,\n",
       "    'Theme': 'Place Of Assembly',\n",
       "    'Sub Theme': 'Art Gallery/Museum',\n",
       "    'Feature Name': 'Immigration Museum'}},\n",
       "  {'type': 'Feature',\n",
       "   'geometry': {'type': 'Point',\n",
       "    'coordinates': [144.975373745366, -37.8085761281612]},\n",
       "   'properties': {'FIELD1': 12,\n",
       "    'Theme': 'Place Of Assembly',\n",
       "    'Sub Theme': 'Art Gallery/Museum',\n",
       "    'Feature Name': 'Fire Services Museum Victoria'}},\n",
       "  {'type': 'Feature',\n",
       "   'geometry': {'type': 'Point',\n",
       "    'coordinates': [144.964156669702, -37.7973939595503]},\n",
       "   'properties': {'FIELD1': 13,\n",
       "    'Theme': 'Place Of Assembly',\n",
       "    'Sub Theme': 'Art Gallery/Museum',\n",
       "    'Feature Name': 'The Ian Potter Museum Of Art'}},\n",
       "  {'type': 'Feature',\n",
       "   'geometry': {'type': 'Point',\n",
       "    'coordinates': [144.954027907736, -37.8133854259085]},\n",
       "   'properties': {'FIELD1': 14,\n",
       "    'Theme': 'Place Of Assembly',\n",
       "    'Sub Theme': 'Art Gallery/Museum',\n",
       "    'Feature Name': 'Koorie Heritage Trust Inc'}},\n",
       "  {'type': 'Feature',\n",
       "   'geometry': {'type': 'Point',\n",
       "    'coordinates': [144.979471339826, -37.8144604899837]},\n",
       "   'properties': {'FIELD1': 15,\n",
       "    'Theme': 'Place Of Assembly',\n",
       "    'Sub Theme': 'Art Gallery/Museum',\n",
       "    'Feature Name': \"Cooks' Cottage\"}},\n",
       "  {'type': 'Feature',\n",
       "   'geometry': {'type': 'Point',\n",
       "    'coordinates': [144.971521914952, -37.80460262432]},\n",
       "   'properties': {'FIELD1': 16,\n",
       "    'Theme': 'Place Of Assembly',\n",
       "    'Sub Theme': 'Art Gallery/Museum',\n",
       "    'Feature Name': 'Royal Exhibition Building'}},\n",
       "  {'type': 'Feature',\n",
       "   'geometry': {'type': 'Point',\n",
       "    'coordinates': [144.969070431323, -37.8176107327202]},\n",
       "   'properties': {'FIELD1': 17,\n",
       "    'Theme': 'Place Of Assembly',\n",
       "    'Sub Theme': 'Art Gallery/Museum',\n",
       "    'Feature Name': 'Australian Centre For The Moving Image (ACMI)'}},\n",
       "  {'type': 'Feature',\n",
       "   'geometry': {'type': 'Point',\n",
       "    'coordinates': [144.96923385414, -37.8107686127655]},\n",
       "   'properties': {'FIELD1': 18,\n",
       "    'Theme': 'Place Of Assembly',\n",
       "    'Sub Theme': 'Art Gallery/Museum',\n",
       "    'Feature Name': 'The Museum Of Australian Chinese History'}}]}"
      ]
     },
     "execution_count": 54,
     "metadata": {},
     "output_type": "execute_result"
    }
   ],
   "source": [
    "connection = MongoClient(MONGODB_HOST, MONGODB_PORT)\n",
    "collection = connection[DBS_NAME][COLLECTION_NAME]\n",
    "finding = collection.find_one()\n",
    "connection.close()\n",
    "finding"
   ]
  },
  {
   "cell_type": "code",
   "execution_count": null,
   "metadata": {},
   "outputs": [],
   "source": [
    "from bson import json_util"
   ]
  },
  {
   "cell_type": "code",
   "execution_count": null,
   "metadata": {
    "scrolled": true
   },
   "outputs": [],
   "source": [
    "def prt(pipeline):\n",
    "    json_data = list(collection.aggregate(pipeline))\n",
    "    json_data = json.dumps(json_data, default=json_util.default)\n",
    "    return json_data"
   ]
  },
  {
   "cell_type": "code",
   "execution_count": 11,
   "metadata": {},
   "outputs": [],
   "source": [
    "results = list(collection.aggregate(pipeline))"
   ]
  },
  {
   "cell_type": "code",
   "execution_count": null,
   "metadata": {},
   "outputs": [],
   "source": [
    "lis = []\n",
    "for i in collection.aggregate(pipeline):\n",
    "    lis.append(i)"
   ]
  },
  {
   "cell_type": "code",
   "execution_count": 51,
   "metadata": {},
   "outputs": [
    {
     "data": {
      "text/plain": [
       "[{'_id': ObjectId('5cb0a55fe39a5cbeb4a206d7'),\n",
       "  'type': 'FeatureCollection',\n",
       "  'features': {'type': 'Feature',\n",
       "   'geometry': {'type': 'Point', 'coordinates': [144.9602499, -37.81190077]},\n",
       "   'properties': {'FIELD1': 67,\n",
       "    'Census year': 2015,\n",
       "    'Block ID': 74,\n",
       "    'Property ID': 106018,\n",
       "    'Base property ID': 106018,\n",
       "    'Street address': '395-397 Little Lonsdale Street',\n",
       "    'CLUE small area': 'Melbourne (CBD)',\n",
       "    'Trading name': 'Horse Bazaar',\n",
       "    'Industry (ANZSIC4) code': 4520,\n",
       "    'Industry (ANZSIC4) description': 'Pubs, Taverns and Bars',\n",
       "    'Seating type': 'Seats - Indoor',\n",
       "    'Number of seats': 50}},\n",
       "  'dist': {'calculated': 68.10091452076718,\n",
       "   'location': [144.9602499, -37.81190077]}},\n",
       " {'_id': ObjectId('5cbb067ae39a5cbeb4a82260'),\n",
       "  'type': 'FeatureCollection',\n",
       "  'features': {'type': 'Feature',\n",
       "   'geometry': {'type': 'Point', 'coordinates': [144.9615331, -37.81234775]},\n",
       "   'properties': {'sensor_id': 56,\n",
       "    'sensor_description': 'Lonsdale St - Elizabeth St (North)',\n",
       "    'sensor_name': 'Lon364_T',\n",
       "    'installation_date': '25/07/2018',\n",
       "    'status': 'A',\n",
       "    'note': '',\n",
       "    'direction_1': 'East',\n",
       "    'direction_2': 'West'}},\n",
       "  'dist': {'calculated': 121.56627721390748,\n",
       "   'location': [144.9615331, -37.81234775]}}]"
      ]
     },
     "execution_count": 51,
     "metadata": {},
     "output_type": "execute_result"
    }
   ],
   "source": [
    "results"
   ]
  },
  {
   "cell_type": "code",
   "execution_count": 24,
   "metadata": {
    "scrolled": true
   },
   "outputs": [
    {
     "data": {
      "text/plain": [
       "{'chart_data': '[\\n  {\\n    \"Date\": \"2009-03-31\",\\n    \"High\": 18.79,\\n    \"Low\": 17.78,\\n    \"Close\": 18.37\\n  },\\n  {\\n    \"Date\": \"2009-03-30\",\\n    \"High\": 17.76,\\n    \"Low\": 17.27,\\n    \"Close\": 17.48\\n  },\\n  {\\n    \"Date\": \"2009-03-27\",\\n    \"High\": 18.62,\\n    \"Low\": 18.05,\\n    \"Close\": 18.13\\n  },\\n  {\\n    \"Date\": \"2009-03-26\",\\n    \"High\": 18.88,\\n    \"Low\": 18.12,\\n    \"Close\": 18.83\\n  },\\n  {\\n    \"Date\": \"2009-03-25\",\\n    \"High\": 18.31,\\n    \"Low\": 17.52,\\n    \"Close\": 17.88\\n  },\\n  {\\n    \"Date\": \"2009-03-24\",\\n    \"High\": 18.21,\\n    \"Low\": 17.84,\\n    \"Close\": 17.93\\n  },\\n  {\\n    \"Date\": \"2009-03-23\",\\n    \"High\": 18.59,\\n    \"Low\": 17.31,\\n    \"Close\": 18.33\\n  },\\n  {\\n    \"Date\": \"2009-03-20\",\\n    \"High\": 17.65,\\n    \"Low\": 16.88,\\n    \"Close\": 17.06\\n  },\\n  {\\n    \"Date\": \"2009-03-19\",\\n    \"High\": 17.45,\\n    \"Low\": 16.92,\\n    \"Close\": 17.14\\n  },\\n  {\\n    \"Date\": \"2009-03-18\",\\n    \"High\": 17.22,\\n    \"Low\": 16.6,\\n    \"Close\": 16.96\\n  },\\n  {\\n    \"Date\": \"2009-03-17\",\\n    \"High\": 16.9,\\n    \"Low\": 16.26,\\n    \"Close\": 16.9\\n  },\\n  {\\n    \"Date\": \"2009-03-16\",\\n    \"High\": 16.96,\\n    \"Low\": 16.24,\\n    \"Close\": 16.25\\n  },\\n  {\\n    \"Date\": \"2009-03-13\",\\n    \"High\": 17.05,\\n    \"Low\": 16.18,\\n    \"Close\": 16.65\\n  },\\n  {\\n    \"Date\": \"2009-03-12\",\\n    \"High\": 17.04,\\n    \"Low\": 16.48,\\n    \"Close\": 17.01\\n  },\\n  {\\n    \"Date\": \"2009-03-11\",\\n    \"High\": 17.2,\\n    \"Low\": 16.43,\\n    \"Close\": 17.11\\n  },\\n  {\\n    \"Date\": \"2009-03-10\",\\n    \"High\": 16.62,\\n    \"Low\": 15.25,\\n    \"Close\": 16.48\\n  },\\n  {\\n    \"Date\": \"2009-03-09\",\\n    \"High\": 15.74,\\n    \"Low\": 15.1,\\n    \"Close\": 15.15\\n  },\\n  {\\n    \"Date\": \"2009-03-06\",\\n    \"High\": 15.62,\\n    \"Low\": 14.87,\\n    \"Close\": 15.28\\n  },\\n  {\\n    \"Date\": \"2009-03-05\",\\n    \"High\": 15.88,\\n    \"Low\": 15.27,\\n    \"Close\": 15.27\\n  },\\n  {\\n    \"Date\": \"2009-03-04\",\\n    \"High\": 16.4,\\n    \"Low\": 15.89,\\n    \"Close\": 16.12\\n  },\\n  {\\n    \"Date\": \"2009-03-03\",\\n    \"High\": 16.24,\\n    \"Low\": 15.64,\\n    \"Close\": 15.88\\n  },\\n  {\\n    \"Date\": \"2009-03-02\",\\n    \"High\": 16.25,\\n    \"Low\": 15.72,\\n    \"Close\": 15.79\\n  },\\n  {\\n    \"Date\": \"2009-02-27\",\\n    \"High\": 16.52,\\n    \"Low\": 16.1,\\n    \"Close\": 16.15\\n  },\\n  {\\n    \"Date\": \"2009-02-26\",\\n    \"High\": 17.08,\\n    \"Low\": 16.42,\\n    \"Close\": 16.42\\n  },\\n  {\\n    \"Date\": \"2009-02-25\",\\n    \"High\": 17.24,\\n    \"Low\": 16.46,\\n    \"Close\": 16.96\\n  },\\n  {\\n    \"Date\": \"2009-02-24\",\\n    \"High\": 17.35,\\n    \"Low\": 16.36,\\n    \"Close\": 17.17\\n  },\\n  {\\n    \"Date\": \"2009-02-23\",\\n    \"High\": 18.15,\\n    \"Low\": 17.16,\\n    \"Close\": 17.21\\n  },\\n  {\\n    \"Date\": \"2009-02-20\",\\n    \"High\": 18.19,\\n    \"Low\": 17.66,\\n    \"Close\": 18.0\\n  },\\n  {\\n    \"Date\": \"2009-02-19\",\\n    \"High\": 18.38,\\n    \"Low\": 17.81,\\n    \"Close\": 17.91\\n  },\\n  {\\n    \"Date\": \"2009-02-18\",\\n    \"High\": 18.45,\\n    \"Low\": 18.0,\\n    \"Close\": 18.12\\n  },\\n  {\\n    \"Date\": \"2009-02-17\",\\n    \"High\": 18.5,\\n    \"Low\": 17.89,\\n    \"Close\": 18.09\\n  },\\n  {\\n    \"Date\": \"2009-02-13\",\\n    \"High\": 19.47,\\n    \"Low\": 19.04,\\n    \"Close\": 19.09\\n  },\\n  {\\n    \"Date\": \"2009-02-12\",\\n    \"High\": 19.32,\\n    \"Low\": 18.54,\\n    \"Close\": 19.26\\n  },\\n  {\\n    \"Date\": \"2009-02-11\",\\n    \"High\": 19.49,\\n    \"Low\": 18.92,\\n    \"Close\": 19.21\\n  },\\n  {\\n    \"Date\": \"2009-02-10\",\\n    \"High\": 19.8,\\n    \"Low\": 18.7,\\n    \"Close\": 18.8\\n  },\\n  {\\n    \"Date\": \"2009-02-09\",\\n    \"High\": 19.77,\\n    \"Low\": 19.26,\\n    \"Close\": 19.44\\n  },\\n  {\\n    \"Date\": \"2009-02-06\",\\n    \"High\": 19.93,\\n    \"Low\": 19.06,\\n    \"Close\": 19.66\\n  },\\n  {\\n    \"Date\": \"2009-02-05\",\\n    \"High\": 19.14,\\n    \"Low\": 18.25,\\n    \"Close\": 19.04\\n  },\\n  {\\n    \"Date\": \"2009-02-04\",\\n    \"High\": 19.0,\\n    \"Low\": 18.5,\\n    \"Close\": 18.63\\n  },\\n  {\\n    \"Date\": \"2009-02-03\",\\n    \"High\": 18.61,\\n    \"Low\": 17.6,\\n    \"Close\": 18.5\\n  },\\n  {\\n    \"Date\": \"2009-02-02\",\\n    \"High\": 18.13,\\n    \"Low\": 17.0,\\n    \"Close\": 17.83\\n  },\\n  {\\n    \"Date\": \"2009-01-30\",\\n    \"High\": 17.79,\\n    \"Low\": 17.1,\\n    \"Close\": 17.1\\n  },\\n  {\\n    \"Date\": \"2009-01-29\",\\n    \"High\": 17.96,\\n    \"Low\": 17.56,\\n    \"Close\": 17.59\\n  },\\n  {\\n    \"Date\": \"2009-01-28\",\\n    \"High\": 18.31,\\n    \"Low\": 17.76,\\n    \"Close\": 18.04\\n  },\\n  {\\n    \"Date\": \"2009-01-27\",\\n    \"High\": 17.97,\\n    \"Low\": 17.43,\\n    \"Close\": 17.66\\n  },\\n  {\\n    \"Date\": \"2009-01-26\",\\n    \"High\": 17.81,\\n    \"Low\": 17.23,\\n    \"Close\": 17.63\\n  },\\n  {\\n    \"Date\": \"2009-01-23\",\\n    \"High\": 17.49,\\n    \"Low\": 16.75,\\n    \"Close\": 17.2\\n  },\\n  {\\n    \"Date\": \"2009-01-22\",\\n    \"High\": 18.18,\\n    \"Low\": 17.07,\\n    \"Close\": 17.11\\n  },\\n  {\\n    \"Date\": \"2009-01-21\",\\n    \"High\": 19.45,\\n    \"Low\": 18.46,\\n    \"Close\": 19.38\\n  },\\n  {\\n    \"Date\": \"2009-01-20\",\\n    \"High\": 19.62,\\n    \"Low\": 18.37,\\n    \"Close\": 18.48\\n  },\\n  {\\n    \"Date\": \"2009-01-16\",\\n    \"High\": 19.91,\\n    \"Low\": 19.15,\\n    \"Close\": 19.71\\n  },\\n  {\\n    \"Date\": \"2009-01-15\",\\n    \"High\": 19.3,\\n    \"Low\": 18.52,\\n    \"Close\": 19.24\\n  },\\n  {\\n    \"Date\": \"2009-01-14\",\\n    \"High\": 19.68,\\n    \"Low\": 19.01,\\n    \"Close\": 19.09\\n  },\\n  {\\n    \"Date\": \"2009-01-13\",\\n    \"High\": 19.99,\\n    \"Low\": 19.52,\\n    \"Close\": 19.82\\n  },\\n  {\\n    \"Date\": \"2009-01-12\",\\n    \"High\": 19.79,\\n    \"Low\": 19.3,\\n    \"Close\": 19.47\\n  },\\n  {\\n    \"Date\": \"2009-01-09\",\\n    \"High\": 20.3,\\n    \"Low\": 19.41,\\n    \"Close\": 19.52\\n  },\\n  {\\n    \"Date\": \"2009-01-08\",\\n    \"High\": 20.19,\\n    \"Low\": 19.55,\\n    \"Close\": 20.12\\n  },\\n  {\\n    \"Date\": \"2009-01-07\",\\n    \"High\": 20.29,\\n    \"Low\": 19.48,\\n    \"Close\": 19.51\\n  },\\n  {\\n    \"Date\": \"2009-01-06\",\\n    \"High\": 21.0,\\n    \"Low\": 20.61,\\n    \"Close\": 20.76\\n  },\\n  {\\n    \"Date\": \"2009-01-05\",\\n    \"High\": 20.67,\\n    \"Low\": 20.06,\\n    \"Close\": 20.52\\n  },\\n  {\\n    \"Date\": \"2009-01-02\",\\n    \"High\": 20.4,\\n    \"Low\": 19.37,\\n    \"Close\": 20.33\\n  }\\n]'}"
      ]
     },
     "execution_count": 24,
     "metadata": {},
     "output_type": "execute_result"
    }
   ],
   "source": [
    "df = pd.read_csv('data.csv').drop('Open', axis=1)\n",
    "chart_data = df.to_dict(orient='records')\n",
    "chart_data = json.dumps(chart_data, indent=2)\n",
    "data = {'chart_data': chart_data}\n",
    "data"
   ]
  },
  {
   "cell_type": "code",
   "execution_count": 113,
   "metadata": {},
   "outputs": [
    {
     "data": {
      "text/plain": [
       "{'chart_data': '[{\"_id\": {\"$oid\": \"5cb0a55fe39a5cbeb4a206d7\"}, \"type\": \"FeatureCollection\", \"features\": {\"type\": \"Feature\", \"geometry\": {\"type\": \"Point\", \"coordinates\": [144.9602499, -37.81190077]}, \"properties\": {\"FIELD1\": 67, \"Census year\": 2015, \"Block ID\": 74, \"Property ID\": 106018, \"Base property ID\": 106018, \"Street address\": \"395-397 Little Lonsdale Street\", \"CLUE small area\": \"Melbourne (CBD)\", \"Trading name\": \"Horse Bazaar\", \"Industry (ANZSIC4) code\": 4520, \"Industry (ANZSIC4) description\": \"Pubs, Taverns and Bars\", \"Seating type\": \"Seats - Indoor\", \"Number of seats\": 50}}, \"dist\": {\"calculated\": 68.10091452076718, \"location\": [144.9602499, -37.81190077]}}, {\"_id\": {\"$oid\": \"5cbb067ae39a5cbeb4a82260\"}, \"type\": \"FeatureCollection\", \"features\": {\"type\": \"Feature\", \"geometry\": {\"type\": \"Point\", \"coordinates\": [144.9615331, -37.81234775]}, \"properties\": {\"sensor_id\": 56, \"sensor_description\": \"Lonsdale St - Elizabeth St (North)\", \"sensor_name\": \"Lon364_T\", \"installation_date\": \"25/07/2018\", \"status\": \"A\", \"note\": \"\", \"direction_1\": \"East\", \"direction_2\": \"West\"}}, \"dist\": {\"calculated\": 121.56627721390748, \"location\": [144.9615331, -37.81234775]}}]'}"
      ]
     },
     "execution_count": 113,
     "metadata": {},
     "output_type": "execute_result"
    }
   ],
   "source": [
    "results = {'chart_data': json.loads(json.dumps(json_util.dumps(collection.aggregate(pipeline))))}\n",
    "results"
   ]
  },
  {
   "cell_type": "code",
   "execution_count": 85,
   "metadata": {},
   "outputs": [],
   "source": [
    "from flask import jsonify\n",
    "from random import sample"
   ]
  },
  {
   "cell_type": "code",
   "execution_count": 90,
   "metadata": {},
   "outputs": [
    {
     "data": {
      "text/plain": [
       "{'results': [8, 5, 6, 2, 3]}"
      ]
     },
     "execution_count": 90,
     "metadata": {},
     "output_type": "execute_result"
    }
   ],
   "source": [
    "{'results' : sample(range(1,10), 5)}"
   ]
  },
  {
   "cell_type": "code",
   "execution_count": 89,
   "metadata": {
    "scrolled": true
   },
   "outputs": [
    {
     "ename": "RuntimeError",
     "evalue": "Working outside of application context.\n\nThis typically means that you attempted to use functionality that needed\nto interface with the current application object in some way. To solve\nthis, set up an application context with app.app_context().  See the\ndocumentation for more information.",
     "output_type": "error",
     "traceback": [
      "\u001b[1;31m---------------------------------------------------------------------------\u001b[0m",
      "\u001b[1;31mRuntimeError\u001b[0m                              Traceback (most recent call last)",
      "\u001b[1;32m<ipython-input-89-ec48a10ff70a>\u001b[0m in \u001b[0;36m<module>\u001b[1;34m\u001b[0m\n\u001b[1;32m----> 1\u001b[1;33m \u001b[0mjsonify\u001b[0m\u001b[1;33m(\u001b[0m\u001b[1;33m{\u001b[0m\u001b[1;34m'results'\u001b[0m \u001b[1;33m:\u001b[0m \u001b[0msample\u001b[0m\u001b[1;33m(\u001b[0m\u001b[0mrange\u001b[0m\u001b[1;33m(\u001b[0m\u001b[1;36m1\u001b[0m\u001b[1;33m,\u001b[0m\u001b[1;36m10\u001b[0m\u001b[1;33m)\u001b[0m\u001b[1;33m,\u001b[0m \u001b[1;36m5\u001b[0m\u001b[1;33m)\u001b[0m\u001b[1;33m}\u001b[0m\u001b[1;33m)\u001b[0m\u001b[1;33m\u001b[0m\u001b[1;33m\u001b[0m\u001b[0m\n\u001b[0m",
      "\u001b[1;32mC:\\ProgramData\\Anaconda3\\lib\\site-packages\\flask\\json\\__init__.py\u001b[0m in \u001b[0;36mjsonify\u001b[1;34m(*args, **kwargs)\u001b[0m\n\u001b[0;32m    307\u001b[0m     \u001b[0mseparators\u001b[0m \u001b[1;33m=\u001b[0m \u001b[1;33m(\u001b[0m\u001b[1;34m','\u001b[0m\u001b[1;33m,\u001b[0m \u001b[1;34m':'\u001b[0m\u001b[1;33m)\u001b[0m\u001b[1;33m\u001b[0m\u001b[1;33m\u001b[0m\u001b[0m\n\u001b[0;32m    308\u001b[0m \u001b[1;33m\u001b[0m\u001b[0m\n\u001b[1;32m--> 309\u001b[1;33m     \u001b[1;32mif\u001b[0m \u001b[0mcurrent_app\u001b[0m\u001b[1;33m.\u001b[0m\u001b[0mconfig\u001b[0m\u001b[1;33m[\u001b[0m\u001b[1;34m'JSONIFY_PRETTYPRINT_REGULAR'\u001b[0m\u001b[1;33m]\u001b[0m \u001b[1;32mor\u001b[0m \u001b[0mcurrent_app\u001b[0m\u001b[1;33m.\u001b[0m\u001b[0mdebug\u001b[0m\u001b[1;33m:\u001b[0m\u001b[1;33m\u001b[0m\u001b[1;33m\u001b[0m\u001b[0m\n\u001b[0m\u001b[0;32m    310\u001b[0m         \u001b[0mindent\u001b[0m \u001b[1;33m=\u001b[0m \u001b[1;36m2\u001b[0m\u001b[1;33m\u001b[0m\u001b[1;33m\u001b[0m\u001b[0m\n\u001b[0;32m    311\u001b[0m         \u001b[0mseparators\u001b[0m \u001b[1;33m=\u001b[0m \u001b[1;33m(\u001b[0m\u001b[1;34m', '\u001b[0m\u001b[1;33m,\u001b[0m \u001b[1;34m': '\u001b[0m\u001b[1;33m)\u001b[0m\u001b[1;33m\u001b[0m\u001b[1;33m\u001b[0m\u001b[0m\n",
      "\u001b[1;32mC:\\ProgramData\\Anaconda3\\lib\\site-packages\\werkzeug\\local.py\u001b[0m in \u001b[0;36m__getattr__\u001b[1;34m(self, name)\u001b[0m\n\u001b[0;32m    345\u001b[0m         \u001b[1;32mif\u001b[0m \u001b[0mname\u001b[0m \u001b[1;33m==\u001b[0m \u001b[1;34m'__members__'\u001b[0m\u001b[1;33m:\u001b[0m\u001b[1;33m\u001b[0m\u001b[1;33m\u001b[0m\u001b[0m\n\u001b[0;32m    346\u001b[0m             \u001b[1;32mreturn\u001b[0m \u001b[0mdir\u001b[0m\u001b[1;33m(\u001b[0m\u001b[0mself\u001b[0m\u001b[1;33m.\u001b[0m\u001b[0m_get_current_object\u001b[0m\u001b[1;33m(\u001b[0m\u001b[1;33m)\u001b[0m\u001b[1;33m)\u001b[0m\u001b[1;33m\u001b[0m\u001b[1;33m\u001b[0m\u001b[0m\n\u001b[1;32m--> 347\u001b[1;33m         \u001b[1;32mreturn\u001b[0m \u001b[0mgetattr\u001b[0m\u001b[1;33m(\u001b[0m\u001b[0mself\u001b[0m\u001b[1;33m.\u001b[0m\u001b[0m_get_current_object\u001b[0m\u001b[1;33m(\u001b[0m\u001b[1;33m)\u001b[0m\u001b[1;33m,\u001b[0m \u001b[0mname\u001b[0m\u001b[1;33m)\u001b[0m\u001b[1;33m\u001b[0m\u001b[1;33m\u001b[0m\u001b[0m\n\u001b[0m\u001b[0;32m    348\u001b[0m \u001b[1;33m\u001b[0m\u001b[0m\n\u001b[0;32m    349\u001b[0m     \u001b[1;32mdef\u001b[0m \u001b[0m__setitem__\u001b[0m\u001b[1;33m(\u001b[0m\u001b[0mself\u001b[0m\u001b[1;33m,\u001b[0m \u001b[0mkey\u001b[0m\u001b[1;33m,\u001b[0m \u001b[0mvalue\u001b[0m\u001b[1;33m)\u001b[0m\u001b[1;33m:\u001b[0m\u001b[1;33m\u001b[0m\u001b[1;33m\u001b[0m\u001b[0m\n",
      "\u001b[1;32mC:\\ProgramData\\Anaconda3\\lib\\site-packages\\werkzeug\\local.py\u001b[0m in \u001b[0;36m_get_current_object\u001b[1;34m(self)\u001b[0m\n\u001b[0;32m    304\u001b[0m         \"\"\"\n\u001b[0;32m    305\u001b[0m         \u001b[1;32mif\u001b[0m \u001b[1;32mnot\u001b[0m \u001b[0mhasattr\u001b[0m\u001b[1;33m(\u001b[0m\u001b[0mself\u001b[0m\u001b[1;33m.\u001b[0m\u001b[0m__local\u001b[0m\u001b[1;33m,\u001b[0m \u001b[1;34m'__release_local__'\u001b[0m\u001b[1;33m)\u001b[0m\u001b[1;33m:\u001b[0m\u001b[1;33m\u001b[0m\u001b[1;33m\u001b[0m\u001b[0m\n\u001b[1;32m--> 306\u001b[1;33m             \u001b[1;32mreturn\u001b[0m \u001b[0mself\u001b[0m\u001b[1;33m.\u001b[0m\u001b[0m__local\u001b[0m\u001b[1;33m(\u001b[0m\u001b[1;33m)\u001b[0m\u001b[1;33m\u001b[0m\u001b[1;33m\u001b[0m\u001b[0m\n\u001b[0m\u001b[0;32m    307\u001b[0m         \u001b[1;32mtry\u001b[0m\u001b[1;33m:\u001b[0m\u001b[1;33m\u001b[0m\u001b[1;33m\u001b[0m\u001b[0m\n\u001b[0;32m    308\u001b[0m             \u001b[1;32mreturn\u001b[0m \u001b[0mgetattr\u001b[0m\u001b[1;33m(\u001b[0m\u001b[0mself\u001b[0m\u001b[1;33m.\u001b[0m\u001b[0m__local\u001b[0m\u001b[1;33m,\u001b[0m \u001b[0mself\u001b[0m\u001b[1;33m.\u001b[0m\u001b[0m__name__\u001b[0m\u001b[1;33m)\u001b[0m\u001b[1;33m\u001b[0m\u001b[1;33m\u001b[0m\u001b[0m\n",
      "\u001b[1;32mC:\\ProgramData\\Anaconda3\\lib\\site-packages\\flask\\globals.py\u001b[0m in \u001b[0;36m_find_app\u001b[1;34m()\u001b[0m\n\u001b[0;32m     49\u001b[0m     \u001b[0mtop\u001b[0m \u001b[1;33m=\u001b[0m \u001b[0m_app_ctx_stack\u001b[0m\u001b[1;33m.\u001b[0m\u001b[0mtop\u001b[0m\u001b[1;33m\u001b[0m\u001b[1;33m\u001b[0m\u001b[0m\n\u001b[0;32m     50\u001b[0m     \u001b[1;32mif\u001b[0m \u001b[0mtop\u001b[0m \u001b[1;32mis\u001b[0m \u001b[1;32mNone\u001b[0m\u001b[1;33m:\u001b[0m\u001b[1;33m\u001b[0m\u001b[1;33m\u001b[0m\u001b[0m\n\u001b[1;32m---> 51\u001b[1;33m         \u001b[1;32mraise\u001b[0m \u001b[0mRuntimeError\u001b[0m\u001b[1;33m(\u001b[0m\u001b[0m_app_ctx_err_msg\u001b[0m\u001b[1;33m)\u001b[0m\u001b[1;33m\u001b[0m\u001b[1;33m\u001b[0m\u001b[0m\n\u001b[0m\u001b[0;32m     52\u001b[0m     \u001b[1;32mreturn\u001b[0m \u001b[0mtop\u001b[0m\u001b[1;33m.\u001b[0m\u001b[0mapp\u001b[0m\u001b[1;33m\u001b[0m\u001b[1;33m\u001b[0m\u001b[0m\n\u001b[0;32m     53\u001b[0m \u001b[1;33m\u001b[0m\u001b[0m\n",
      "\u001b[1;31mRuntimeError\u001b[0m: Working outside of application context.\n\nThis typically means that you attempted to use functionality that needed\nto interface with the current application object in some way. To solve\nthis, set up an application context with app.app_context().  See the\ndocumentation for more information."
     ]
    }
   ],
   "source": [
    "jsonify({'results' : sample(range(1,10), 5)})"
   ]
  },
  {
   "cell_type": "code",
   "execution_count": null,
   "metadata": {},
   "outputs": [],
   "source": []
  }
 ],
 "metadata": {
  "kernelspec": {
   "display_name": "Python 3",
   "language": "python",
   "name": "python3"
  },
  "language_info": {
   "codemirror_mode": {
    "name": "ipython",
    "version": 3
   },
   "file_extension": ".py",
   "mimetype": "text/x-python",
   "name": "python",
   "nbconvert_exporter": "python",
   "pygments_lexer": "ipython3",
   "version": "3.6.8"
  }
 },
 "nbformat": 4,
 "nbformat_minor": 2
}
